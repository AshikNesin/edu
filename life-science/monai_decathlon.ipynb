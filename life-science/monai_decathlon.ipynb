{
 "cells": [
  {
   "cell_type": "markdown",
   "id": "33e2ac00-22be-4f7c-9445-5c3220d0f1bf",
   "metadata": {},
   "source": [
    "#  Fetching Brain Tumor Segemntation Dataset\n",
    "\n",
    "In this notebook, we will learn:\n",
    "- how we can use [MONAI Core APIs](https://github.com/Project-MONAI/MONAI) to download the brain tumor segmentation data from the [Medical Segmentation Decathlon](http://medicaldecathlon.com) challenge.\n",
    "- how we can upload the dataset to Weights & Biases and use it as a dataset artifact."
   ]
  },
  {
   "cell_type": "markdown",
   "id": "813a28eb-8d05-412c-b3d4-9e64eb2962dc",
   "metadata": {},
   "source": [
    "## 🌴 Setup and Installation\n",
    "\n",
    "First, let us install the latest version of both MONAI and Weights and Biases."
   ]
  },
  {
   "cell_type": "code",
   "execution_count": 1,
   "id": "6d8a4eaa-6c15-44f0-81f8-b0c2800b1017",
   "metadata": {},
   "outputs": [
    {
     "name": "stdout",
     "output_type": "stream",
     "text": [
      "\u001b[33mDEPRECATION: flatbuffers 1.12.1-git20200711.33e2d80-dfsg1-0.6 has a non-standard version number. pip 24.1 will enforce this behaviour change. A possible replacement is to upgrade to a newer version of flatbuffers or contact the author to suggest that they release a version with a conforming version number. Discussion can be found at https://github.com/pypa/pip/issues/12063\u001b[0m\u001b[33m\n",
      "\u001b[0m\u001b[33mDEPRECATION: flatbuffers 1.12.1-git20200711.33e2d80-dfsg1-0.6 has a non-standard version number. pip 24.1 will enforce this behaviour change. A possible replacement is to upgrade to a newer version of flatbuffers or contact the author to suggest that they release a version with a conforming version number. Discussion can be found at https://github.com/pypa/pip/issues/12063\u001b[0m\u001b[33m\n",
      "\u001b[0m"
     ]
    }
   ],
   "source": [
    "!pip install -q -U \"monai[nibabel, tqdm]\"\n",
    "!pip install -q -U wandb"
   ]
  },
  {
   "cell_type": "code",
   "execution_count": 2,
   "id": "34ccb87f-320b-4a11-b95c-eff70487c6e2",
   "metadata": {},
   "outputs": [
    {
     "name": "stderr",
     "output_type": "stream",
     "text": [
      "/usr/lib/python3/dist-packages/scipy/__init__.py:146: UserWarning: A NumPy version >=1.17.3 and <1.25.0 is required for this version of SciPy (detected version 1.25.2\n",
      "  warnings.warn(f\"A NumPy version >={np_minversion} and <{np_maxversion}\"\n"
     ]
    }
   ],
   "source": [
    "import os\n",
    "import wandb\n",
    "from monai.apps import DecathlonDataset"
   ]
  },
  {
   "cell_type": "markdown",
   "id": "752e1f77-a825-4eb7-afb7-5c2807b29ada",
   "metadata": {},
   "source": [
    "## 🌳 Initialize a W&B Run\n",
    "\n",
    "We will start a new W&B run to start tracking our experiment."
   ]
  },
  {
   "cell_type": "code",
   "execution_count": 3,
   "id": "a2315b79-8c0a-4cfd-aa6d-4fca55d78137",
   "metadata": {},
   "outputs": [
    {
     "name": "stderr",
     "output_type": "stream",
     "text": [
      "\u001b[34m\u001b[1mwandb\u001b[0m: Currently logged in as: \u001b[33mgeekyrakshit\u001b[0m (\u001b[33mlifesciences\u001b[0m). Use \u001b[1m`wandb login --relogin`\u001b[0m to force relogin\n"
     ]
    },
    {
     "data": {
      "text/html": [
       "Tracking run with wandb version 0.16.6"
      ],
      "text/plain": [
       "<IPython.core.display.HTML object>"
      ]
     },
     "metadata": {},
     "output_type": "display_data"
    },
    {
     "data": {
      "text/html": [
       "Run data is saved locally in <code>/home/ubuntu/edu/life-science/wandb/run-20240418_221202-62jrsztu</code>"
      ],
      "text/plain": [
       "<IPython.core.display.HTML object>"
      ]
     },
     "metadata": {},
     "output_type": "display_data"
    },
    {
     "data": {
      "text/html": [
       "Syncing run <strong><a href='https://wandb.ai/lifesciences/brain-tumor-segmentation/runs/62jrsztu' target=\"_blank\">usual-brook-3</a></strong> to <a href='https://wandb.ai/lifesciences/brain-tumor-segmentation' target=\"_blank\">Weights & Biases</a> (<a href='https://wandb.me/run' target=\"_blank\">docs</a>)<br/>"
      ],
      "text/plain": [
       "<IPython.core.display.HTML object>"
      ]
     },
     "metadata": {},
     "output_type": "display_data"
    },
    {
     "data": {
      "text/html": [
       " View project at <a href='https://wandb.ai/lifesciences/brain-tumor-segmentation' target=\"_blank\">https://wandb.ai/lifesciences/brain-tumor-segmentation</a>"
      ],
      "text/plain": [
       "<IPython.core.display.HTML object>"
      ]
     },
     "metadata": {},
     "output_type": "display_data"
    },
    {
     "data": {
      "text/html": [
       " View run at <a href='https://wandb.ai/lifesciences/brain-tumor-segmentation/runs/62jrsztu' target=\"_blank\">https://wandb.ai/lifesciences/brain-tumor-segmentation/runs/62jrsztu</a>"
      ],
      "text/plain": [
       "<IPython.core.display.HTML object>"
      ]
     },
     "metadata": {},
     "output_type": "display_data"
    },
    {
     "data": {
      "text/html": [
       "<button onClick=\"this.nextSibling.style.display='block';this.style.display='none';\">Display W&B run</button><iframe src='https://wandb.ai/lifesciences/brain-tumor-segmentation/runs/62jrsztu?jupyter=true' style='border:none;width:100%;height:420px;display:none;'></iframe>"
      ],
      "text/plain": [
       "<wandb.sdk.wandb_run.Run at 0x7f1216931a20>"
      ]
     },
     "execution_count": 3,
     "metadata": {},
     "output_type": "execute_result"
    }
   ],
   "source": [
    "wandb.init(\n",
    "    project=\"brain-tumor-segmentation\",\n",
    "    entity=\"lifesciences\",\n",
    "    job_type=\"fetch_dataset\"\n",
    ")"
   ]
  },
  {
   "cell_type": "markdown",
   "id": "308bd1ff-0999-4b85-b9a7-2a9d5753e69e",
   "metadata": {},
   "source": [
    "## 🍁 Fetching the Dataset using MONAI\n",
    "\n",
    "The [`monai.apps.DecathlonDataset`](https://docs.monai.io/en/stable/apps.html#monai.apps.DecathlonDataset) lets us automatically download the data of [Medical Segmentation Decathlon challenge](http://medicaldecathlon.com/) and generate items for training, validation, or testing. We will use this API in the later notebooks to load and transform our datasets automatically."
   ]
  },
  {
   "cell_type": "code",
   "execution_count": 4,
   "id": "42189439-2c3d-403b-915a-98f897d049e4",
   "metadata": {},
   "outputs": [
    {
     "name": "stderr",
     "output_type": "stream",
     "text": [
      "Task01_BrainTumour.tar: 7.09GB [05:55, 21.4MB/s]                               "
     ]
    },
    {
     "name": "stdout",
     "output_type": "stream",
     "text": [
      "2024-04-18 22:17:59,197 - INFO - Downloaded: dataset/Task01_BrainTumour.tar\n"
     ]
    },
    {
     "name": "stderr",
     "output_type": "stream",
     "text": [
      "\n"
     ]
    },
    {
     "name": "stdout",
     "output_type": "stream",
     "text": [
      "2024-04-18 22:18:10,984 - INFO - Verified 'Task01_BrainTumour.tar', md5: 240a19d752f0d9e9101544901065d872.\n",
      "2024-04-18 22:18:10,985 - INFO - Writing into directory: dataset.\n"
     ]
    }
   ],
   "source": [
    "# Make the dataset directory\n",
    "os.makedirs(\"./dataset/\", exist_ok=True)\n",
    "\n",
    "# Fetch the training split of the brain tumor segmentation dataset\n",
    "train_dataset = DecathlonDataset(\n",
    "    root_dir=\"./dataset/\",\n",
    "    task=\"Task01_BrainTumour\",\n",
    "    section=\"training\",\n",
    "    download=True,\n",
    "    cache_rate=0.0,\n",
    "    num_workers=4,\n",
    ")\n",
    "\n",
    "# Fetch the validation split of the brain tumor segmentation dataset\n",
    "val_dataset = DecathlonDataset(\n",
    "    root_dir=\"./dataset/\",\n",
    "    task=\"Task01_BrainTumour\",\n",
    "    section=\"validation\",\n",
    "    download=False,\n",
    "    cache_rate=0.0,\n",
    "    num_workers=4,\n",
    ")\n",
    "\n",
    "# Fetch the test split of the brain tumor segmentation dataset\n",
    "test_dataset = DecathlonDataset(\n",
    "    root_dir=\"./dataset/\",\n",
    "    task=\"Task01_BrainTumour\",\n",
    "    section=\"test\",\n",
    "    download=False,\n",
    "    cache_rate=0.0,\n",
    "    num_workers=4,\n",
    ")"
   ]
  },
  {
   "cell_type": "code",
   "execution_count": 5,
   "id": "07461dbc-3056-4f06-bb1a-462246a35791",
   "metadata": {},
   "outputs": [
    {
     "name": "stdout",
     "output_type": "stream",
     "text": [
      "Train Set Size: 388\n",
      "Validation Set Size: 96\n",
      "Test Set Size: 266\n"
     ]
    }
   ],
   "source": [
    "print(\"Train Set Size:\", len(train_dataset))\n",
    "print(\"Validation Set Size:\", len(val_dataset))\n",
    "print(\"Test Set Size:\", len(test_dataset))"
   ]
  },
  {
   "cell_type": "markdown",
   "id": "93e0609f-3009-4bd0-baf9-e8e10084801c",
   "metadata": {},
   "source": [
    "## 💿 Upload the Dataset to W&B as an Artifact\n",
    "\n",
    "[W&B Artifacts](https://docs.wandb.ai/guides/artifacts) can be used to track and version any serialized data as the inputs and outputs of your W&B Runs. For example, a model training run might take in a dataset as input and a trained model as output.\n",
    "\n",
    "Let us now see how we can upload this dataset as a W&B artifact."
   ]
  },
  {
   "cell_type": "code",
   "execution_count": 6,
   "id": "9f1f35e5-927e-4baf-a351-652e7e99fe76",
   "metadata": {},
   "outputs": [
    {
     "name": "stderr",
     "output_type": "stream",
     "text": [
      "\u001b[34m\u001b[1mwandb\u001b[0m: Adding directory to artifact (./dataset)... Done. 24.3s\n"
     ]
    },
    {
     "data": {
      "text/plain": [
       "<Artifact decathlon_brain_tumor>"
      ]
     },
     "execution_count": 6,
     "metadata": {},
     "output_type": "execute_result"
    }
   ],
   "source": [
    "artifact = wandb.Artifact(name=\"decathlon_brain_tumor\", type=\"dataset\")\n",
    "artifact.add_dir(local_path=\"./dataset/\")\n",
    "wandb.log_artifact(artifact)"
   ]
  },
  {
   "cell_type": "markdown",
   "id": "e1cbbe47-f83f-4db3-9c81-879121041881",
   "metadata": {},
   "source": [
    "Now we end the experiment by calling `wandb.finish()`."
   ]
  },
  {
   "cell_type": "code",
   "execution_count": 7,
   "id": "25ea852b-04d7-4e94-97c3-45d972b21886",
   "metadata": {},
   "outputs": [
    {
     "data": {
      "application/vnd.jupyter.widget-view+json": {
       "model_id": "388076d4600649e58671f5681e757f4d",
       "version_major": 2,
       "version_minor": 0
      },
      "text/plain": [
       "VBox(children=(Label(value='14510.691 MB of 14510.691 MB uploaded\\r'), FloatProgress(value=1.0, max=1.0)))"
      ]
     },
     "metadata": {},
     "output_type": "display_data"
    },
    {
     "data": {
      "text/html": [
       " View run <strong style=\"color:#cdcd00\">usual-brook-3</strong> at: <a href='https://wandb.ai/lifesciences/brain-tumor-segmentation/runs/62jrsztu' target=\"_blank\">https://wandb.ai/lifesciences/brain-tumor-segmentation/runs/62jrsztu</a><br/> View project at: <a href='https://wandb.ai/lifesciences/brain-tumor-segmentation' target=\"_blank\">https://wandb.ai/lifesciences/brain-tumor-segmentation</a><br/>Synced 6 W&B file(s), 0 media file(s), 1278 artifact file(s) and 1 other file(s)"
      ],
      "text/plain": [
       "<IPython.core.display.HTML object>"
      ]
     },
     "metadata": {},
     "output_type": "display_data"
    },
    {
     "data": {
      "text/html": [
       "Find logs at: <code>./wandb/run-20240418_221202-62jrsztu/logs</code>"
      ],
      "text/plain": [
       "<IPython.core.display.HTML object>"
      ]
     },
     "metadata": {},
     "output_type": "display_data"
    }
   ],
   "source": [
    "wandb.finish()"
   ]
  }
 ],
 "metadata": {
  "kernelspec": {
   "display_name": "Python 3 (ipykernel)",
   "language": "python",
   "name": "python3"
  },
  "language_info": {
   "codemirror_mode": {
    "name": "ipython",
    "version": 3
   },
   "file_extension": ".py",
   "mimetype": "text/x-python",
   "name": "python",
   "nbconvert_exporter": "python",
   "pygments_lexer": "ipython3",
   "version": "3.10.12"
  }
 },
 "nbformat": 4,
 "nbformat_minor": 5
}
