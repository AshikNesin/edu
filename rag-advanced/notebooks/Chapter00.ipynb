{
  "cells": [
    {
      "cell_type": "markdown",
      "metadata": {
        "id": "AhbNjskBiz8K"
      },
      "source": [
        "## Chapter 0: Setup\n",
        "\n",
        "<a target=\"_blank\" href=\"https://colab.research.google.com/github/wandb/edu/blob/main/rag-advanced/notebooks/Chapter00.ipynb\">\n",
        "  <img src=\"https://colab.research.google.com/assets/colab-badge.svg\" alt=\"Open In Colab\"/>\n",
        "</a>\n",
        "\n",
        "<!--- @wandbcode{rag-course-00} -->\n",
        "\n",
        "Let's install the required packages and check our setup for this course.\n",
        "\n",
        "### 🎉 Free Cohere API key\n",
        "\n",
        "Before you run this colab notebook, head over to this [link to redeem a free Cohere API key](https://docs.google.com/forms/d/e/1FAIpQLSc9x4nV8_nSQvJnaINO1j9NIa2IUbAJqrKeSllNNCCbMFmCxw/viewform?usp=sf_link).\n",
        "\n",
        "Alternatively if you have a Cohere API key feel free to proceed. :)"
      ]
    },
    {
      "cell_type": "code",
      "execution_count": 1,
      "metadata": {
        "id": "iGijEKPshesT"
      },
      "outputs": [],
      "source": [
        "!pip install -qq weave cohere"
      ]
    },
    {
      "cell_type": "markdown",
      "metadata": {
        "id": "FaJZ6oqVjmtn"
      },
      "source": [
        "## 1. Setup Weave\n",
        "\n",
        "\n",
        "The code cell below will prompt you to put in a W&B API key. You can get your API key by heading over to https://wandb.ai/authorize."
      ]
    },
    {
      "cell_type": "code",
      "execution_count": null,
      "metadata": {
        "id": "4tBZWxORipYd"
      },
      "outputs": [],
      "source": [
        "# import weave\n",
        "import weave\n",
        "\n",
        "# initialize weave client\n",
        "weave_client = weave.init(\"rag-course\")"
      ]
    },
    {
      "cell_type": "markdown",
      "metadata": {
        "id": "xNciXxUilcPA"
      },
      "source": [
        "## 2. Setup Cohere\n",
        "\n",
        "The code cell below will prompt you to put in a Cohere API key."
      ]
    },
    {
      "cell_type": "code",
      "execution_count": 3,
      "metadata": {
        "id": "7HRFKWdMlB3V"
      },
      "outputs": [],
      "source": [
        "import cohere\n",
        "import getpass\n",
        "\n",
        "cohere_client = cohere.ClientV2(\n",
        "    api_key=getpass.getpass(\"Please enter your COHERE_API_KEY\")\n",
        ")"
      ]
    },
    {
      "cell_type": "markdown",
      "metadata": {
        "id": "KvC2r8ZEnjbO"
      },
      "source": [
        "## A simple-turn chat with Cohere's command-r-plus"
      ]
    },
    {
      "cell_type": "code",
      "execution_count": null,
      "metadata": {
        "id": "jPlVCfh7nXcH"
      },
      "outputs": [],
      "source": [
        "response = cohere_client.chat(\n",
        "    messages=[\n",
        "        {\"role\": \"user\", \"content\": \"What is retrieval augmented generation (RAG)?\"}\n",
        "    ],\n",
        "    model=\"command-r-plus\",\n",
        "    temperature=0.1,\n",
        "    max_tokens=2000,\n",
        ")"
      ]
    },
    {
      "cell_type": "markdown",
      "metadata": {
        "id": "SbA4GRvzqQNv"
      },
      "source": [
        "Let's head over to the weave URL to check out the generated response."
      ]
    }
  ],
  "metadata": {
    "colab": {
      "provenance": []
    },
    "kernelspec": {
      "display_name": "Python 3",
      "name": "python3"
    },
    "language_info": {
      "codemirror_mode": {
        "name": "ipython",
        "version": 3
      },
      "file_extension": ".py",
      "mimetype": "text/x-python",
      "name": "python",
      "nbconvert_exporter": "python",
      "pygments_lexer": "ipython3",
      "version": "3.10.12"
    }
  },
  "nbformat": 4,
  "nbformat_minor": 0
}
