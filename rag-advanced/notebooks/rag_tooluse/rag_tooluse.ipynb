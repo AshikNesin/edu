{
 "cells": [
  {
   "cell_type": "markdown",
   "metadata": {},
   "source": [
    "# RAG with a Tool Use approach"
   ]
  },
  {
   "cell_type": "markdown",
   "metadata": {},
   "source": [
    "In this notebook, we'll look at how we can implement RAG use cases using a tool use approach.\n",
    "\n",
    "Tool use allows for greater flexibility of accessing data sources, thus unlocking new use cases not possible with a standard RAG approach.\n",
    "\n",
    "In an enterprise setting with diverse data sources with non-homogeneous formats (structured/semi-structured/unstructured), this approach becomes even more useful.\n",
    "\n",
    "We'll look at a few example use cases:\n",
    "- Tool selection\n",
    "- Multi-step searches\n",
    "- Structured queries\n",
    "- Structured data queries\n",
    "- Action - plotting charts"
   ]
  },
  {
   "cell_type": "code",
   "execution_count": 1,
   "metadata": {},
   "outputs": [],
   "source": [
    "import cohere\n",
    "import os\n",
    "co = cohere.Client(os.getenv(\"COHERE_API_KEY\"))\n",
    "\n",
    "from tool_def import tools, search_code_examples, search_developer_docs, search_company_information, analyze_evaluation_results"
   ]
  },
  {
   "cell_type": "code",
   "execution_count": 2,
   "metadata": {},
   "outputs": [],
   "source": [
    "functions_map = {\n",
    "    \"search_code_examples\": search_code_examples,\n",
    "    \"search_developer_docs\": search_developer_docs,\n",
    "    \"search_company_information\": search_company_information,\n",
    "    \"analyze_evaluation_results\": analyze_evaluation_results\n",
    "}"
   ]
  },
  {
   "cell_type": "code",
   "execution_count": 3,
   "metadata": {},
   "outputs": [],
   "source": [
    "preamble=\"\"\"## Task & Context\n",
    "You are an assistant who helps developers use Weights & Biases. The company is also referred to as Wandb or W&B for short. You are equipped with a number of tools that can provide different types of information. If you can't find the information you need from one tool, you should try other tools if there is a possibility that they could provide the information you need.\"\"\""
   ]
  },
  {
   "cell_type": "markdown",
   "metadata": {},
   "source": [
    "# Function to run the assistant over multiple chat turns"
   ]
  },
  {
   "cell_type": "code",
   "execution_count": 4,
   "metadata": {},
   "outputs": [],
   "source": [
    "model = \"command-r-plus\"\n",
    "\n",
    "def run_assistant(message, chat_history=[], show_documents=False):\n",
    "    # Step 1: Get user message\n",
    "    print(f\"Question:\\n{message}\")\n",
    "    print(\"=\"*50)\n",
    "\n",
    "    # Step 2: Generate tool calls (if any)    \n",
    "    response = co.chat(\n",
    "        message=message,\n",
    "        model=model,\n",
    "        preamble=preamble,\n",
    "        tools= tools,\n",
    "        chat_history=chat_history\n",
    "    )\n",
    "\n",
    "    while response.tool_calls:\n",
    "        tool_calls = response.tool_calls\n",
    "        \n",
    "        if response.text:\n",
    "            print(\"Intermediate response:\")\n",
    "            print(response.text,\"\\n\")\n",
    "        print(\"Tool calls:\")\n",
    "        for call in tool_calls:\n",
    "            print(f\"Tool name: {call.name} | Parameters: {call.parameters}\")\n",
    "        print(\"=\"*50)\n",
    "        \n",
    "        # Step 3: Get tool results\n",
    "        tool_results = []\n",
    "        for tc in tool_calls:\n",
    "            tool_call = {\"name\": tc.name, \"parameters\": tc.parameters}\n",
    "            tool_output = functions_map[tc.name](**tc.parameters)\n",
    "            tool_results.append({\"call\": tool_call, \"outputs\": [tool_output]})\n",
    "        \n",
    "        # Step 4: Generate response and citations                \n",
    "        response = co.chat(\n",
    "            message=\"\",\n",
    "            model=model,\n",
    "            preamble=preamble,\n",
    "            tools=tools,\n",
    "            tool_results=tool_results,\n",
    "            chat_history=response.chat_history\n",
    "        )\n",
    "\n",
    "        # Append the current chat turn to the chat history\n",
    "        chat_history = response.chat_history\n",
    "        \n",
    "    # Print final response\n",
    "    print(\"Final response:\")\n",
    "    print(response.text)\n",
    "    print(\"=\"*50)\n",
    "    \n",
    "    # Print citations (if any)\n",
    "    if response.citations:\n",
    "        print(\"Citations:\")\n",
    "        for citation in response.citations:\n",
    "            print(citation)\n",
    "        if show_documents:\n",
    "            print(\"\\nCited Documents:\")\n",
    "            for document in response.documents:\n",
    "                print(document)\n",
    "        print(\"=\"*50)\n",
    "    \n",
    "    return chat_history"
   ]
  },
  {
   "cell_type": "markdown",
   "metadata": {},
   "source": [
    "# Tool selection"
   ]
  },
  {
   "cell_type": "code",
   "execution_count": 5,
   "metadata": {},
   "outputs": [
    {
     "name": "stdout",
     "output_type": "stream",
     "text": [
      "Question:\n",
      "Where can I find the output of a run\n",
      "==================================================\n",
      "Intermediate response:\n",
      "I will search for where the output of a run can be found. \n",
      "\n",
      "Tool calls:\n",
      "Tool name: search_developer_docs | Parameters: {'query': 'where to find output of run'}\n",
      "==================================================\n",
      "Final response:\n",
      "To view the output of a run, navigate to the W&B App UI, select the relevant project, and then choose the run from the 'Runs' table.\n",
      "==================================================\n",
      "Citations:\n",
      "start=29 end=55 text='navigate to the W&B App UI' document_ids=['search_developer_docs:0:2:0']\n",
      "start=57 end=84 text='select the relevant project' document_ids=['search_developer_docs:0:2:0']\n",
      "start=95 end=131 text=\"choose the run from the 'Runs' table\" document_ids=['search_developer_docs:0:2:0']\n",
      "==================================================\n"
     ]
    }
   ],
   "source": [
    "chat_history = run_assistant(\"Where can I find the output of a run\")\n",
    "# Chooses search_developer_docs"
   ]
  },
  {
   "cell_type": "code",
   "execution_count": 6,
   "metadata": {},
   "outputs": [
    {
     "name": "stdout",
     "output_type": "stream",
     "text": [
      "Question:\n",
      "Where are Wandb's offices\n",
      "==================================================\n",
      "Intermediate response:\n",
      "I will search for 'Wandb offices' to find the answer to the user's request. \n",
      "\n",
      "Tool calls:\n",
      "Tool name: search_company_information | Parameters: {'query': 'Wandb offices'}\n",
      "==================================================\n",
      "Final response:\n",
      "Weights & Biases have offices in San Francisco, Berlin, Tokyo, and London.\n",
      "==================================================\n",
      "Citations:\n",
      "start=33 end=73 text='San Francisco, Berlin, Tokyo, and London' document_ids=['search_company_information:0:2:0']\n",
      "==================================================\n"
     ]
    }
   ],
   "source": [
    "chat_history = run_assistant(\"Where are Wandb's offices\")\n",
    "# Chooses search_company_information"
   ]
  },
  {
   "cell_type": "markdown",
   "metadata": {},
   "source": [
    "# Multi-step searches"
   ]
  },
  {
   "cell_type": "code",
   "execution_count": 25,
   "metadata": {},
   "outputs": [
    {
     "name": "stdout",
     "output_type": "stream",
     "text": [
      "Question:\n",
      "What's that feature to automate hyperparameter search? Do you have some code examples?\n",
      "==================================================\n",
      "Intermediate response:\n",
      "I will search for the feature to automate hyperparameter search and then search for code examples for that feature. \n",
      "\n",
      "Tool calls:\n",
      "Tool name: search_developer_docs | Parameters: {'query': 'automate hyperparameter search'}\n",
      "==================================================\n",
      "Intermediate response:\n",
      "I have found that the feature to automate hyperparameter search is called W&B Sweeps. Now I will search for code examples for W&B Sweeps. \n",
      "\n",
      "Tool calls:\n",
      "Tool name: search_code_examples | Parameters: {'language': 'en', 'query': 'W&B Sweeps'}\n",
      "==================================================\n",
      "Final response:\n",
      "The feature to automate hyperparameter search is called W&B Sweeps. Here are some code examples:\n",
      "- Selecting Hyperparameters with Sweeps (Keras)\n",
      "- Create a hyperparameter search with W&B PyTorch integration\n",
      "==================================================\n",
      "Citations:\n",
      "start=56 end=66 text='W&B Sweeps' document_ids=['search_developer_docs:0:2:0']\n",
      "start=99 end=143 text='Selecting Hyperparameters with Sweeps (Keras' document_ids=['search_code_examples:0:4:0']\n",
      "start=147 end=206 text='Create a hyperparameter search with W&B PyTorch integration' document_ids=['search_code_examples:0:4:0']\n",
      "==================================================\n"
     ]
    }
   ],
   "source": [
    "chat_history = run_assistant(\"What's that feature to automate hyperparameter search? Do you have some code examples?\")\n",
    "# Does two steps of tool use\n",
    "# Returns two code examples - Selecting Hyperparameters with Sweeps (Keras) & Create a hyperparameter search with W&B PyTorch integration"
   ]
  },
  {
   "cell_type": "markdown",
   "metadata": {},
   "source": [
    "# Structured queries"
   ]
  },
  {
   "cell_type": "code",
   "execution_count": 7,
   "metadata": {},
   "outputs": [
    {
     "name": "stdout",
     "output_type": "stream",
     "text": [
      "Question:\n",
      "Any jupyter notebook for Data Versioning with Artifacts?\n",
      "==================================================\n",
      "Intermediate response:\n",
      "I will search for Jupyter notebooks for Data Versioning with Artifacts. \n",
      "\n",
      "Tool calls:\n",
      "Tool name: search_code_examples | Parameters: {'file_type': 'ipynb', 'language': {'language': 'en'}, 'query': 'Data Versioning with Artifacts'}\n",
      "==================================================\n",
      "Final response:\n",
      "Sorry, I couldn't find any Jupyter notebooks for Data Versioning with Artifacts.\n",
      "==================================================\n"
     ]
    }
   ],
   "source": [
    "chat_history = run_assistant(\"Any jupyter notebook for Data Versioning with Artifacts?\")\n",
    "# Searches for file_type = ipynb"
   ]
  },
  {
   "cell_type": "code",
   "execution_count": 8,
   "metadata": {},
   "outputs": [
    {
     "name": "stdout",
     "output_type": "stream",
     "text": [
      "Question:\n",
      "Any code examples for data versioning with artifacts?\n",
      "==================================================\n",
      "Intermediate response:\n",
      "I will search for code examples for data versioning with artifacts. \n",
      "\n",
      "Tool calls:\n",
      "Tool name: search_code_examples | Parameters: {'language': 'en', 'query': 'data versioning with artifacts'}\n",
      "==================================================\n",
      "Final response:\n",
      "Yes, there is a code example for data versioning with artifacts in PyTorch.\n",
      "==================================================\n",
      "Citations:\n",
      "start=16 end=74 text='code example for data versioning with artifacts in PyTorch' document_ids=['search_code_examples:0:2:0']\n",
      "==================================================\n"
     ]
    }
   ],
   "source": [
    "chat_history = run_assistant(\"Any code examples for data versioning with artifacts?\")\n",
    "# Doesn't need to specify file_type as it's a generic question"
   ]
  },
  {
   "cell_type": "code",
   "execution_count": 11,
   "metadata": {},
   "outputs": [
    {
     "name": "stdout",
     "output_type": "stream",
     "text": [
      "Question:\n",
      "データセットを視覚化する方法のコード例?\n",
      "==================================================\n",
      "Intermediate response:\n",
      "I will search for code examples in Japanese that visualise datasets. \n",
      "\n",
      "Tool calls:\n",
      "Tool name: search_code_examples | Parameters: {'language': 'ja', 'query': 'データセットの可視化'}\n",
      "==================================================\n",
      "Final response:\n",
      "データセットを視覚化するには、テーブルを使用できます。\n",
      "==================================================\n",
      "Citations:\n",
      "start=15 end=19 text='テーブル' document_ids=['search_code_examples:0:2:0']\n",
      "==================================================\n"
     ]
    }
   ],
   "source": [
    "# English: Code examples on how to visualize datasets\n",
    "chat_history = run_assistant(\"データセットを視覚化する方法のコード例?\")\n",
    "# Searches for language = ja\n",
    "# Returns a code example in Japanese about tables"
   ]
  },
  {
   "cell_type": "markdown",
   "metadata": {},
   "source": [
    "# Structured data queries"
   ]
  },
  {
   "cell_type": "code",
   "execution_count": 13,
   "metadata": {},
   "outputs": [
    {
     "name": "stdout",
     "output_type": "stream",
     "text": [
      "Question:\n",
      "What's the average evaluation score in run A\n",
      "==================================================\n"
     ]
    },
    {
     "name": "stderr",
     "output_type": "stream",
     "text": [
      "Python REPL can execute arbitrary code. Use with caution.\n"
     ]
    },
    {
     "name": "stdout",
     "output_type": "stream",
     "text": [
      "Intermediate response:\n",
      "I will use the analyze_evaluation_results tool to find the average evaluation score in run A. \n",
      "\n",
      "Tool calls:\n",
      "Tool name: analyze_evaluation_results | Parameters: {'code': \"import pandas as pd\\n\\ndf = pd.read_csv('evaluation_results.csv')\\n\\n# Filter the dataframe to only include run A\\ndf_run_a = df[df['run'] == 'A']\\n\\n# Calculate the average score for run A\\naverage_score_run_a = df_run_a['score'].mean()\\n\\nprint(f'The average evaluation score in run A is: {average_score_run_a}')\"}\n",
      "==================================================\n"
     ]
    },
    {
     "name": "stderr",
     "output_type": "stream",
     "text": [
      "/Users/meor/anaconda3/lib/python3.11/site-packages/pandas/core/arrays/masked.py:60: UserWarning: Pandas requires version '1.3.6' or newer of 'bottleneck' (version '1.3.5' currently installed).\n",
      "  from pandas.core import (\n"
     ]
    },
    {
     "name": "stdout",
     "output_type": "stream",
     "text": [
      "Final response:\n",
      "The average evaluation score in run A is **0.63**.\n",
      "==================================================\n",
      "Citations:\n",
      "start=42 end=47 text='*0.63' document_ids=['analyze_evaluation_results:0:2:0']\n",
      "==================================================\n"
     ]
    }
   ],
   "source": [
    "chat_history = run_assistant(\"What's the average evaluation score in run A\")\n",
    "# Answer: 0.63"
   ]
  },
  {
   "cell_type": "code",
   "execution_count": 24,
   "metadata": {},
   "outputs": [
    {
     "name": "stdout",
     "output_type": "stream",
     "text": [
      "Question:\n",
      "What's the latency of the highest-scoring run for the summarize_article use case?\n",
      "==================================================\n",
      "Intermediate response:\n",
      "I will use the analyze_evaluation_results tool to find the highest-scoring run for the summarize_article use case and its latency. \n",
      "\n",
      "Tool calls:\n",
      "Tool name: analyze_evaluation_results | Parameters: {'code': 'import pandas as pd\\n\\ndf = pd.read_csv(\\'evaluation_results.csv\\')\\n\\n# Filter for summarize_article use case\\ndf_use_case = df[df[\\'usecase\\'] == \\'summarize_article\\']\\n\\n# Get the highest-scoring run\\nhighest_scoring_run = df_use_case.loc[df_use_case[\\'score\\'].idxmax()]\\n\\n# Get the latency of the highest-scoring run\\nlatency = highest_scoring_run[\\'latency\\']\\n\\nprint(f\"The latency of the highest-scoring run for the summarize_article use case is {latency} seconds.\")'}\n",
      "==================================================\n",
      "Final response:\n",
      "The latency of the highest-scoring run for the summarize_article use case is 4.8 seconds.\n",
      "==================================================\n",
      "Citations:\n",
      "start=77 end=88 text='4.8 seconds' document_ids=['analyze_evaluation_results:0:2:0']\n",
      "==================================================\n"
     ]
    }
   ],
   "source": [
    "chat_history = run_assistant(\"What's the latency of the highest-scoring run for the summarize_article use case?\")\n",
    "# Answer: 4.8"
   ]
  },
  {
   "cell_type": "code",
   "execution_count": 21,
   "metadata": {},
   "outputs": [
    {
     "name": "stdout",
     "output_type": "stream",
     "text": [
      "Question:\n",
      "Which use case uses the least amount of tokens on average? Show the comparison in a table.\n",
      "==================================================\n",
      "Intermediate response:\n",
      "I will use the 'analyze_evaluation_results' tool to write code that will answer the user's request. \n",
      "\n",
      "Tool calls:\n",
      "Tool name: analyze_evaluation_results | Parameters: {'code': \"import pandas as pd\\n\\ndf = pd.read_csv('evaluation_results.csv')\\n\\n# Group by usecase and calculate average tokens\\navg_tokens_by_usecase = df.groupby('usecase')['tokens'].mean()\\n\\n# Sort the average tokens in ascending order\\navg_tokens_by_usecase_sorted = avg_tokens_by_usecase.sort_values()\\n\\n# Create a table from the sorted values\\nprint(avg_tokens_by_usecase_sorted)\"}\n",
      "==================================================\n",
      "Final response:\n",
      "The 'extract_names' use case uses the least amount of tokens on average. Here is a table showing the comparison:\n",
      "\n",
      "| Use case | Average tokens |\n",
      "| --- | --- |\n",
      "| extract_names | 106.25 |\n",
      "| draft_email | 245.75 |\n",
      "| summarize_article | 355.75 |\n",
      "==================================================\n",
      "Citations:\n",
      "start=4 end=18 text=\"'extract_names\" document_ids=['analyze_evaluation_results:0:2:0']\n",
      "start=160 end=173 text='extract_names' document_ids=['analyze_evaluation_results:0:2:0']\n",
      "start=176 end=182 text='106.25' document_ids=['analyze_evaluation_results:0:2:0']\n",
      "start=187 end=198 text='draft_email' document_ids=['analyze_evaluation_results:0:2:0']\n",
      "start=201 end=207 text='245.75' document_ids=['analyze_evaluation_results:0:2:0']\n",
      "start=212 end=229 text='summarize_article' document_ids=['analyze_evaluation_results:0:2:0']\n",
      "start=232 end=238 text='355.75' document_ids=['analyze_evaluation_results:0:2:0']\n",
      "==================================================\n"
     ]
    }
   ],
   "source": [
    "chat_history = run_assistant(\"Which use case uses the least amount of tokens on average? Show the comparison in a table.\")\n",
    "# Answer: extract_names (106.25), draft_email (245.75), summarize_article (355.75)"
   ]
  },
  {
   "cell_type": "markdown",
   "metadata": {},
   "source": [
    "# Action - plotting charts"
   ]
  },
  {
   "cell_type": "code",
   "execution_count": 15,
   "metadata": {},
   "outputs": [
    {
     "name": "stdout",
     "output_type": "stream",
     "text": [
      "Question:\n",
      "Create a plot of the average evaluation score for each temperature setting for the extract_names use case.\n",
      "==================================================\n",
      "Intermediate response:\n",
      "I will use the 'analyze_evaluation_results' tool to generate code that will create a plot of the average evaluation score for each temperature setting for the extract_names use case. \n",
      "\n",
      "Tool calls:\n",
      "Tool name: analyze_evaluation_results | Parameters: {'code': \"import pandas as pd\\n\\ndf = pd.read_csv('evaluation_results.csv')\\n\\n# Filter the dataframe for the extract_names use case\\ndf_extract_names = df[df['usecase'] == 'extract_names']\\n\\n# Group the data by temperature and calculate the average score\\navg_scores = df_extract_names.groupby('temperature')['score'].mean()\\n\\n# Plot the average scores\\navg_scores.plot(kind='bar', title='Average Evaluation Score by Temperature for extract_names Use Case')\\n\"}\n",
      "==================================================\n",
      "Final response:\n",
      "Unfortunately, I was unable to generate the code to create the plot. Please try again later.\n",
      "==================================================\n"
     ]
    },
    {
     "data": {
      "image/png": "[encoded data removed]",
      "text/plain": [
       "<Figure size 640x480 with 1 Axes>"
      ]
     },
     "metadata": {},
     "output_type": "display_data"
    }
   ],
   "source": [
    "chat_history = run_assistant(\"Create a plot of the average evaluation score for each temperature setting for the extract_names use case.\")\n",
    "# Answer: temp 0.3 (0.46 avg score) vs temp 0.5 (0.7 avg score). And draws a plot"
   ]
  }
 ],
 "metadata": {
  "kernelspec": {
   "display_name": "base",
   "language": "python",
   "name": "base"
  },
  "language_info": {
   "codemirror_mode": {
    "name": "ipython",
    "version": 3
   },
   "file_extension": ".py",
   "mimetype": "text/x-python",
   "name": "python",
   "nbconvert_exporter": "python",
   "pygments_lexer": "ipython3",
   "version": "3.11.4"
  }
 },
 "nbformat": 4,
 "nbformat_minor": 2
}
