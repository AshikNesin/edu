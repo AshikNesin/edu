{
 "cells": [
  {
   "cell_type": "markdown",
   "metadata": {},
   "source": [
    "# RAG with a Tool Use approach\n",
    "\n",
    "<a target=\"_blank\" href=\"https://colab.research.google.com/github/wandb/edu/blob/main/rag-advanced/notebooks/rag_tooluse/rag_tooluse_v1.ipynb\">\n",
    "  <img src=\"https://colab.research.google.com/assets/colab-badge.svg\" alt=\"Open In Colab\"/>\n",
    "</a>\n",
    "\n",
    "<!--- @wandbcode{rag-course-05-cohere} -->\n",
    "\n"
   ]
  },
  {
   "cell_type": "markdown",
   "metadata": {},
   "source": [
    "Tool use allows for greater flexibility in accessing and utilizing data sources, thus unlocking new use cases not possible with a standard RAG approach.\n",
    "\n",
    "In an enterprise setting where data sources are diverse with non-homogeneous formats (structured/semi-structured/unstructured), this approach becomes even more important.\n",
    "\n",
    "In this notebook, we'll look at how we can implement an agentic RAG system using a tool use approach. We'll do this by building a Weights & Biases assistant. The assistant can search for information about how to use the product, retrieve information from the internet, search code examples, and even perform data analysis.\n",
    "\n",
    "Concretely, we'll cover the following use cases:\n",
    "1. Tool routing\n",
    "2. Parallel tool use\n",
    "3. Multi-step tool use\n",
    "4. Self-correction\n",
    "5. Structured queries\n",
    "6. Structured data queries\n",
    "7. Action (plotting charts)\n",
    "\n",
    "We'll give the assistant access to the following tools:\n",
    "- `search_developer_docs`: Searches the Weights & Biases developer documentation\n",
    "- `search_internet`: Searches the internet for general queries\n",
    "- `search_code_examples`: Searches code examples and tutorials on using Weights & Biases\n",
    "- `analyze_evaluation_results`: Analyzes a table containing results from evaluating an LLM application\n",
    "\n",
    "Note that for simplicity, we are not implementing a full-fledge search. Instead, we'll use a mock datasets containing small, pre-defined data for each tool."
   ]
  },
  {
   "cell_type": "markdown",
   "metadata": {},
   "source": [
    "# Setup"
   ]
  },
  {
   "cell_type": "code",
   "execution_count": 2,
   "metadata": {},
   "outputs": [],
   "source": [
    "import cohere\n",
    "co = cohere.Client(\"COHERE_API_KEY\") # Get your free API key: https://dashboard.cohere.com/api-keys\"\n",
    "\n",
    "from tool_def_v1 import (\n",
    "    search_developer_docs,\n",
    "    search_internet,\n",
    "    search_code_examples,\n",
    "    analyze_evaluation_results,\n",
    "    search_tools,\n",
    "    analysis_tool\n",
    ")"
   ]
  },
  {
   "cell_type": "code",
   "execution_count": 3,
   "metadata": {},
   "outputs": [],
   "source": [
    "functions_map = {\n",
    "    \"search_developer_docs\": search_developer_docs,\n",
    "    \"search_internet\": search_internet,\n",
    "    \"search_code_examples\": search_code_examples,\n",
    "    \"analyze_evaluation_results\": analyze_evaluation_results\n",
    "}"
   ]
  },
  {
   "cell_type": "code",
   "execution_count": 4,
   "metadata": {},
   "outputs": [],
   "source": [
    "preamble=\"\"\"## Task and Context\n",
    "You are an assistant who helps developers use Weights & Biases. The company is also referred to as Wandb or W&B for short. You are equipped with a number of tools that can provide different types of information. If you can't find the information you need from one tool, you should try other tools if there is a possibility that they could provide the information you need. Use the internet to search for information not available in the sources provided by Weights & Biases\"\"\""
   ]
  },
  {
   "cell_type": "markdown",
   "metadata": {},
   "source": [
    "# Function to run the agent"
   ]
  },
  {
   "cell_type": "code",
   "execution_count": 5,
   "metadata": {},
   "outputs": [],
   "source": [
    "model = \"command-r-plus-08-2024\"\n",
    "\n",
    "def run_agent(message, tools, chat_history=None):\n",
    "    \n",
    "    if chat_history is None:\n",
    "        chat_history = []\n",
    "\n",
    "    # Step 1: Get user message\n",
    "    print(f\"Question:\\n{message}\")\n",
    "    print(\"=\"*50)\n",
    "\n",
    "    # Step 2: Generate tool calls (if any)    \n",
    "    response = co.chat(\n",
    "        message=message,\n",
    "        model=model,\n",
    "        preamble=preamble,\n",
    "        tools= tools,\n",
    "        chat_history=chat_history,\n",
    "        temperature=0.1\n",
    "    )\n",
    "\n",
    "    while response.tool_calls:\n",
    "        tool_calls = response.tool_calls\n",
    "        \n",
    "        if response.text:\n",
    "            print(\"Tool plan:\")\n",
    "            print(response.text,\"\\n\")\n",
    "        print(\"Tool calls:\")\n",
    "        for call in tool_calls:            \n",
    "            ###############\n",
    "            if call.name == \"analyze_evaluation_results\":\n",
    "                print(f\"Tool name: {call.name}\")\n",
    "                print(f\"Code:\\n\")\n",
    "                tool_call_prettified = print(\"\\n\".join(f\"  {line}\" for line_num, line in enumerate(call.parameters[\"code\"].splitlines())))\n",
    "                print(tool_call_prettified)\n",
    "            else:\n",
    "                print(f\"Tool name: {call.name} | Parameters: {call.parameters}\")\n",
    "            ###############\n",
    "            \n",
    "        print(\"=\"*50)\n",
    "        \n",
    "        # Step 3: Get tool results\n",
    "        tool_results = []\n",
    "        for tc in tool_calls:\n",
    "            tool_call = {\"name\": tc.name, \"parameters\": tc.parameters}\n",
    "            tool_output = functions_map[tc.name](**tc.parameters)\n",
    "            tool_results.append({\"call\": tool_call, \"outputs\": [tool_output]})\n",
    "        \n",
    "        # Step 4: Generate response and citations                \n",
    "        response = co.chat(\n",
    "            message=\"\",\n",
    "            model=model,\n",
    "            preamble=preamble,\n",
    "            tools=tools,\n",
    "            tool_results=tool_results,\n",
    "            chat_history=response.chat_history,\n",
    "            temperature=0.1\n",
    "        )\n",
    "\n",
    "        # Append the current chat turn to the chat history\n",
    "        chat_history = response.chat_history\n",
    "        \n",
    "    # Print final response\n",
    "    print(\"Final response:\")\n",
    "    print(response.text)\n",
    "    print(\"=\"*50)\n",
    "    \n",
    "    # Print citations (if any)\n",
    "    show_documents = False # set this to True to see the documents used for the response\n",
    "    if response.citations:\n",
    "        print(\"Citations:\")\n",
    "        for citation in response.citations:\n",
    "            print(citation)\n",
    "        if show_documents:\n",
    "            print(\"\\nCited Documents:\")\n",
    "            for document in response.documents:\n",
    "                print(document)\n",
    "        print(\"=\"*50)\n",
    "    \n",
    "    return chat_history"
   ]
  },
  {
   "cell_type": "markdown",
   "metadata": {},
   "source": [
    "# 1: Tool routing"
   ]
  },
  {
   "cell_type": "markdown",
   "metadata": {},
   "source": [
    "With tool routing, the agent decides which tool(s) to use based on the user's query."
   ]
  },
  {
   "cell_type": "code",
   "execution_count": 6,
   "metadata": {},
   "outputs": [
    {
     "name": "stdout",
     "output_type": "stream",
     "text": [
      "Question:\n",
      "Where can I find the output of a run\n",
      "==================================================\n",
      "Tool plan:\n",
      "I will search for 'where to find output of a run' in the developer documentation. \n",
      "\n",
      "Tool calls:\n",
      "Tool name: search_developer_docs | Parameters: {'query': 'where to find output of a run'}\n",
      "==================================================\n",
      "Final response:\n",
      "To view a run, navigate to the W&B App UI, select the relevant project, and then choose the run from the 'Runs' table.\n",
      "==================================================\n",
      "Citations:\n",
      "start=15 end=118 text=\"navigate to the W&B App UI, select the relevant project, and then choose the run from the 'Runs' table.\" document_ids=['search_developer_docs:0:2:0']\n",
      "==================================================\n"
     ]
    }
   ],
   "source": [
    "messages = run_agent(\"Where can I find the output of a run\", search_tools)\n",
    "# chooses search_developer_docs"
   ]
  },
  {
   "cell_type": "code",
   "execution_count": 20,
   "metadata": {},
   "outputs": [
    {
     "name": "stdout",
     "output_type": "stream",
     "text": [
      "Question:\n",
      "Who are the co authors of the sentence transformer paper?\n",
      "==================================================\n",
      "Tool plan:\n",
      "I will search for the sentence transformer paper. \n",
      "\n",
      "Tool calls:\n",
      "Tool name: search_internet | Parameters: {'query': 'sentence transformer paper'}\n",
      "==================================================\n",
      "Tool plan:\n",
      "I found a paper called 'Sentence Embeddings using Siamese BERT-Networks'. I will now search for the co-authors of this paper. \n",
      "\n",
      "Tool calls:\n",
      "Tool name: search_internet | Parameters: {'query': 'co-authors of Sentence Embeddings using Siamese BERT-Networks'}\n",
      "==================================================\n",
      "Final response:\n",
      "The co-authors of the paper 'Sentence Embeddings using Siamese BERT-Networks' are Nils Reimers and Iryna Gurevych.\n",
      "==================================================\n",
      "Citations:\n",
      "start=28 end=77 text=\"'Sentence Embeddings using Siamese BERT-Networks'\" document_ids=['search_internet:0:2:0']\n",
      "start=82 end=86 text='Nils' document_ids=['search_internet:0:2:0']\n",
      "start=87 end=94 text='Reimers' document_ids=['search_internet:0:2:0', 'search_internet:0:4:0']\n",
      "start=99 end=104 text='Iryna' document_ids=['search_internet:0:4:0']\n",
      "start=105 end=114 text='Gurevych.' document_ids=['search_internet:0:4:0']\n",
      "==================================================\n"
     ]
    }
   ],
   "source": [
    "messages = run_agent(\"Who are the co authors of the sentence transformer paper?\", search_tools)\n",
    "# chooses search_internet"
   ]
  },
  {
   "cell_type": "markdown",
   "metadata": {},
   "source": [
    "# 2: Parallel tool use"
   ]
  },
  {
   "cell_type": "markdown",
   "metadata": {},
   "source": [
    "The agent can call multiple tools in parallel. In this example, given that the user is asking about two different things in a single message, the agent generates two parallel tool calls."
   ]
  },
  {
   "cell_type": "code",
   "execution_count": 38,
   "metadata": {},
   "outputs": [
    {
     "name": "stdout",
     "output_type": "stream",
     "text": [
      "Question:\n",
      "Explain what is a W&B Run and how do I view a specific run\n",
      "==================================================\n",
      "Tool plan:\n",
      "I will search for 'W&B Run' and 'view a specific run' in the developer documentation. \n",
      "\n",
      "Tool calls:\n",
      "Tool name: search_developer_docs | Parameters: {'query': 'W&B Run'}\n",
      "Tool name: search_developer_docs | Parameters: {'query': 'view a specific run'}\n",
      "==================================================\n",
      "Final response:\n",
      "A W&B Run is a single unit of computation logged by W&B, representing an atomic element of your project.\n",
      "\n",
      "To view a specific run, navigate to the W&B App UI, select the relevant project, and then choose the run from the 'Runs' table.\n",
      "==================================================\n",
      "Citations:\n",
      "start=15 end=104 text='single unit of computation logged by W&B, representing an atomic element of your project.' document_ids=['search_developer_docs:0:2:0', 'search_developer_docs:1:2:0']\n",
      "start=130 end=233 text=\"navigate to the W&B App UI, select the relevant project, and then choose the run from the 'Runs' table.\" document_ids=['search_developer_docs:0:2:0', 'search_developer_docs:1:2:0']\n",
      "==================================================\n"
     ]
    }
   ],
   "source": [
    "messages = run_agent(\"Explain what is a W&B Run and how do I view a specific run\", search_tools)"
   ]
  },
  {
   "cell_type": "markdown",
   "metadata": {},
   "source": [
    "# 3: Multi-step tool use"
   ]
  },
  {
   "cell_type": "markdown",
   "metadata": {},
   "source": [
    "There will be scenarios where tool calling needs to happen in a sequence. For example, when the output of one tool call is needed as input for another tool call.\n",
    "\n",
    "In this example, the agent first searches the developer docs for information about how to view a run. Then, it uses the information to search for a code example."
   ]
  },
  {
   "cell_type": "code",
   "execution_count": 41,
   "metadata": {},
   "outputs": [
    {
     "name": "stdout",
     "output_type": "stream",
     "text": [
      "Question:\n",
      "What's that feature to automate hyperparameter search? Do you have some code tutorials?\n",
      "==================================================\n",
      "Tool plan:\n",
      "I will search for the feature to automate hyperparameter search. Then, I will search for code tutorials for this feature. \n",
      "\n",
      "Tool calls:\n",
      "Tool name: search_developer_docs | Parameters: {'query': 'feature to automate hyperparameter search'}\n",
      "==================================================\n",
      "Tool plan:\n",
      "I have found that the feature to automate hyperparameter search is called W&B Sweeps. I will now search for code tutorials for W&B Sweeps. \n",
      "\n",
      "Tool calls:\n",
      "Tool name: search_code_examples | Parameters: {'file_type': None, 'language': None, 'query': 'W&B Sweeps'}\n",
      "==================================================\n",
      "Final response:\n",
      "The feature to automate hyperparameter search is called W&B Sweeps. You can use W&B Sweeps to automate hyperparameter search and visualise rich, interactive experiment tracking.\n",
      "\n",
      "Here are some code tutorials for W&B Sweeps:\n",
      "- Selecting Hyperparameters with Sweeps (Keras)\n",
      "- Create a hyperparameter search with W&B PyTorch integration\n",
      "==================================================\n",
      "Citations:\n",
      "start=56 end=67 text='W&B Sweeps.' document_ids=['search_developer_docs:0:2:0']\n",
      "start=94 end=177 text='automate hyperparameter search and visualise rich, interactive experiment tracking.' document_ids=['search_developer_docs:0:2:0']\n",
      "start=226 end=271 text='Selecting Hyperparameters with Sweeps (Keras)' document_ids=['search_code_examples:0:4:0']\n",
      "start=274 end=333 text='Create a hyperparameter search with W&B PyTorch integration' document_ids=['search_code_examples:0:4:0']\n",
      "==================================================\n"
     ]
    }
   ],
   "source": [
    "chat_history = run_agent(\"What's that feature to automate hyperparameter search? Do you have some code tutorials?\", search_tools)\n",
    "# Does two steps of tool use in a sequence\n",
    "# Returns code examples"
   ]
  },
  {
   "cell_type": "markdown",
   "metadata": {},
   "source": [
    "# 4: Self-correction"
   ]
  },
  {
   "cell_type": "markdown",
   "metadata": {},
   "source": [
    "The concept of multi-step tool use can be extended to self-correction. Given the output of the current tool call, the agent may decide to change its plan i.e. self-correct. \n",
    "\n",
    "In this example, the agent doesn't find the information it's looking for in the developer docs. Thus, it generates a new tool call to search the internet."
   ]
  },
  {
   "cell_type": "code",
   "execution_count": 44,
   "metadata": {},
   "outputs": [
    {
     "name": "stdout",
     "output_type": "stream",
     "text": [
      "Question:\n",
      "What is Wandb's weave solution?\n",
      "==================================================\n",
      "Tool plan:\n",
      "I will search for 'Wandb's weave solution' to find the answer. \n",
      "\n",
      "Tool calls:\n",
      "Tool name: search_developer_docs | Parameters: {'query': \"Wandb's weave solution\"}\n",
      "==================================================\n",
      "Tool plan:\n",
      "I could not find any information about Wandb's weave solution. I will now search the internet for 'Wandb's weave solution' to find the answer. \n",
      "\n",
      "Tool calls:\n",
      "Tool name: search_internet | Parameters: {'query': \"Wandb's weave solution\"}\n",
      "==================================================\n",
      "Final response:\n",
      "Weights & Biases Weave is a lightweight toolkit for software developers who want to deploy generative AI applications with confidence. It provides software developers with a system of record for the experimental large language model (LLM).\n",
      "\n",
      "Weave automatically captures all input and output data and builds a tree to help you understand how data flows through your application. It is designed with the developer experience in mind, providing capabilities for straightforward evaluation and debugging of GenAI applications.\n",
      "==================================================\n",
      "Citations:\n",
      "start=0 end=134 text='Weights & Biases Weave is a lightweight toolkit for software developers who want to deploy generative AI applications with confidence.' document_ids=['search_internet:0:4:0']\n",
      "start=174 end=238 text='system of record for the experimental large language model (LLM)' document_ids=['search_internet:0:4:0']\n",
      "start=247 end=377 text='automatically captures all input and output data and builds a tree to help you understand how data flows through your application.' document_ids=['search_internet:0:4:0']\n",
      "start=384 end=522 text='designed with the developer experience in mind, providing capabilities for straightforward evaluation and debugging of GenAI applications.' document_ids=['search_internet:0:4:0']\n",
      "==================================================\n"
     ]
    }
   ],
   "source": [
    "messages = run_agent(\"What is Wandb's weave solution?\", search_tools)"
   ]
  },
  {
   "cell_type": "markdown",
   "metadata": {},
   "source": [
    "# 5: Structured queries"
   ]
  },
  {
   "cell_type": "markdown",
   "metadata": {},
   "source": [
    "The tool use setup can be leveraged to perform structured queries. For data sources that contain rich metadata, structured queries can be used to perform highly-specific queries, returning more accurate results.\n",
    "\n",
    "In this example, we can take advantage of metadata available in the code examples dataset such as the file type and language."
   ]
  },
  {
   "cell_type": "code",
   "execution_count": 45,
   "metadata": {},
   "outputs": [
    {
     "name": "stdout",
     "output_type": "stream",
     "text": [
      "Question:\n",
      "Any jupyter notebook for Data Versioning with Artifacts?\n",
      "==================================================\n",
      "Tool plan:\n",
      "I will search for a Jupyter notebook for Data Versioning with Artifacts. \n",
      "\n",
      "Tool calls:\n",
      "Tool name: search_code_examples | Parameters: {'file_type': 'ipynb', 'language': 'en', 'query': 'Data Versioning with Artifacts'}\n",
      "==================================================\n",
      "Final response:\n",
      "Yes, there is a Jupyter notebook for Data Versioning with Artifacts (PyTorch).\n",
      "==================================================\n",
      "Citations:\n",
      "start=16 end=77 text='Jupyter notebook for Data Versioning with Artifacts (PyTorch)' document_ids=['search_code_examples:0:2:0']\n",
      "==================================================\n"
     ]
    }
   ],
   "source": [
    "messages = run_agent(\"Any jupyter notebook for Data Versioning with Artifacts?\", search_tools)\n",
    "# Tool call: Searches search_code_examples with file_type = ipynb\n",
    "# Answer: Returns file - Model/Data Versioning with Artifacts (PyTorch)"
   ]
  },
  {
   "cell_type": "markdown",
   "metadata": {},
   "source": [
    "# 6: Structured data queries"
   ]
  },
  {
   "cell_type": "markdown",
   "metadata": {},
   "source": [
    "The agent can generate queries against structured data sources, such as a CSV file or a database.\n",
    "\n",
    "In this example, we'll use a mock dataset containing LLM application evaluation results for different use cases and settings. Since it's a CSV file, we can create the `analyze_evaluation_results` tool to perform queries on the dataset using the pandas library, executed by a Python interpreter."
   ]
  },
  {
   "cell_type": "code",
   "execution_count": 22,
   "metadata": {},
   "outputs": [
    {
     "name": "stdout",
     "output_type": "stream",
     "text": [
      "Question:\n",
      "What's the average evaluation score in run A\n",
      "==================================================\n",
      "Tool plan:\n",
      "I will use the 'analyze_evaluation_results' tool to find the average evaluation score in run A. \n",
      "\n",
      "Tool calls:\n",
      "Tool name: analyze_evaluation_results\n",
      "Code:\n",
      "\n",
      "  import pandas as pd\n",
      "  \n",
      "  df = pd.read_csv(\"evaluation_results.csv\")\n",
      "  \n",
      "  # Filter the dataframe to only include rows where the 'run' column is 'A'\n",
      "  filtered_df = df[df['run'] == 'A']\n",
      "  \n",
      "  # Calculate the average 'score' for the filtered dataframe\n",
      "  average_score = filtered_df['score'].mean()\n",
      "  \n",
      "  print(f\"Average score in run A: {average_score}\")\n",
      "None\n",
      "==================================================\n",
      "Final response:\n",
      "The average evaluation score in run A is **0.63**.\n",
      "==================================================\n",
      "Citations:\n",
      "start=43 end=47 text='0.63' document_ids=['analyze_evaluation_results:0:2:0']\n",
      "==================================================\n"
     ]
    }
   ],
   "source": [
    "messages = run_agent(\"What's the average evaluation score in run A\", analysis_tool)\n",
    "# Answer: 0.63"
   ]
  },
  {
   "cell_type": "code",
   "execution_count": 25,
   "metadata": {},
   "outputs": [
    {
     "name": "stdout",
     "output_type": "stream",
     "text": [
      "Question:\n",
      "What's the latency of the highest-scoring run for the summarize_article use case?\n",
      "==================================================\n",
      "Tool plan:\n",
      "I will use the analyze_evaluation_results tool to find the latency of the highest-scoring run for the summarize_article use case. \n",
      "\n",
      "Tool calls:\n",
      "Tool name: analyze_evaluation_results\n",
      "Code:\n",
      "\n",
      "  import pandas as pd\n",
      "  \n",
      "  df = pd.read_csv(\"evaluation_results.csv\")\n",
      "  \n",
      "  # Filter for the summarize_article use case\n",
      "  filtered_df = df[df[\"usecase\"] == \"summarize_article\"]\n",
      "  \n",
      "  # Find the highest-scoring run\n",
      "  highest_score_run = filtered_df.loc[filtered_df[\"score\"].idxmax()]\n",
      "  \n",
      "  # Print the latency of the highest-scoring run\n",
      "  print(f\"The latency of the highest-scoring run for the summarize_article use case is {highest_score_run['latency']} seconds.\")\n",
      "None\n",
      "==================================================\n",
      "Final response:\n",
      "The latency of the highest-scoring run for the summarize_article use case is 4.8 seconds.\n",
      "==================================================\n",
      "Citations:\n",
      "start=77 end=89 text='4.8 seconds.' document_ids=['analyze_evaluation_results:0:2:0']\n",
      "==================================================\n"
     ]
    }
   ],
   "source": [
    "messages = run_agent(\"What's the latency of the highest-scoring run for the summarize_article use case?\", analysis_tool)\n",
    "# Answer: 4.8"
   ]
  },
  {
   "cell_type": "code",
   "execution_count": 26,
   "metadata": {},
   "outputs": [
    {
     "name": "stdout",
     "output_type": "stream",
     "text": [
      "Question:\n",
      "Which use case uses the least amount of tokens on average and what's the average token count?\n",
      "==================================================\n",
      "Tool plan:\n",
      "I will use the 'analyze_evaluation_results' tool to find the use case that uses the least amount of tokens on average and the average token count. \n",
      "\n",
      "Tool calls:\n",
      "Tool name: analyze_evaluation_results\n",
      "Code:\n",
      "\n",
      "  import pandas as pd\n",
      "  \n",
      "  df = pd.read_csv(\"evaluation_results.csv\")\n",
      "  \n",
      "  # Calculate the average number of tokens for each use case\n",
      "  average_tokens_per_usecase = df.groupby(\"usecase\")[\"tokens\"].mean()\n",
      "  \n",
      "  # Find the use case with the lowest average token count\n",
      "  min_tokens_usecase = average_tokens_per_usecase.idxmin()\n",
      "  min_tokens_count = average_tokens_per_usecase.min()\n",
      "  \n",
      "  print(f\"Use case with the lowest average token count: {min_tokens_usecase}\")\n",
      "  print(f\"Average token count for this use case: {min_tokens_count}\")\n",
      "None\n",
      "==================================================\n",
      "Final response:\n",
      "The use case with the lowest average token count is `extract_names`, with an average token count of 106.25.\n",
      "==================================================\n",
      "Citations:\n",
      "start=52 end=66 text='`extract_names' document_ids=['analyze_evaluation_results:0:2:0']\n",
      "start=100 end=107 text='106.25.' document_ids=['analyze_evaluation_results:0:2:0']\n",
      "==================================================\n"
     ]
    }
   ],
   "source": [
    "messages = run_agent(\"Which use case uses the least amount of tokens on average and what's the average token count?\", analysis_tool)\n",
    "# Answer: extract_names (106.25)"
   ]
  },
  {
   "cell_type": "markdown",
   "metadata": {},
   "source": [
    "# 7. Action (plotting charts)"
   ]
  },
  {
   "cell_type": "markdown",
   "metadata": {},
   "source": [
    "Since we have access to the Python interpreter, we can also use it to perform other tasks such as plotting charts."
   ]
  },
  {
   "cell_type": "code",
   "execution_count": 34,
   "metadata": {},
   "outputs": [
    {
     "name": "stdout",
     "output_type": "stream",
     "text": [
      "Question:\n",
      "Show a chart of the average evaluation score for each temperature setting for the extract_names use case.\n",
      "==================================================\n",
      "Tool plan:\n",
      "I will write Python code to generate a chart of the average evaluation score for each temperature setting for the extract_names use case. \n",
      "\n",
      "Tool calls:\n",
      "Tool name: analyze_evaluation_results\n",
      "Code:\n",
      "\n",
      "  import pandas as pd\n",
      "  \n",
      "  df = pd.read_csv(\"evaluation_results.csv\")\n",
      "  \n",
      "  # Filter the dataframe to only include rows for the extract_names use case\n",
      "  filtered_df = df[df[\"usecase\"] == \"extract_names\"]\n",
      "  \n",
      "  # Group the dataframe by temperature and calculate the average score\n",
      "  average_scores = filtered_df.groupby(\"temperature\")[\"score\"].mean()\n",
      "  \n",
      "  # Plot the average scores\n",
      "  ax = average_scores.plot(kind=\"bar\")\n",
      "  ax.set_xlabel(\"Temperature\")\n",
      "  ax.set_ylabel(\"Average Score\")\n",
      "  \n",
      "  # Rotate x-axis labels for better readability\n",
      "  ax.set_xticklabels(ax.get_xticklabels(), rotation=45, ha=\"right\")\n",
      "  \n",
      "  # Save the plot as a PNG file\n",
      "  ax.figure.savefig(\"average_scores.png\")\n",
      "None\n",
      "==================================================\n",
      "Final response:\n",
      "Here is a chart of the average evaluation score for each temperature setting for the extract_names use case:\n",
      "\n",
      "![Average Evaluation Scores](\"average_scores.png\")\n",
      "==================================================\n",
      "Citations:\n",
      "start=110 end=160 text='![Average Evaluation Scores](\"average_scores.png\")' document_ids=['analyze_evaluation_results:0:2:0']\n",
      "==================================================\n"
     ]
    },
    {
     "data": {
      "image/png": "[encoded data removed]",
      "text/plain": [
       "<Figure size 640x480 with 1 Axes>"
      ]
     },
     "metadata": {},
     "output_type": "display_data"
    }
   ],
   "source": [
    "messages = run_agent(\"Show a chart of the average evaluation score for each temperature setting for the extract_names use case.\", analysis_tool)\n",
    "# Answer: temp 0.3 (0.46 avg score) vs temp 0.5 (0.7 avg score). And draws a plot"
   ]
  },
  {
   "cell_type": "markdown",
   "metadata": {},
   "source": [
    "# Conclusion\n",
    "\n",
    "This notebook demonstrates how we can implement an agentic RAG system with tool use.\n",
    "\n",
    "We covered the following use cases:\n",
    "1. Tool routing\n",
    "2. Parallel tool use\n",
    "3. Multi-step tool use\n",
    "4. Self-correction\n",
    "5. Structured queries\n",
    "6. Structured data queries\n",
    "7. Action (plotting charts)"
   ]
  }
 ],
 "metadata": {
  "kernelspec": {
   "display_name": "base",
   "language": "python",
   "name": "base"
  },
  "language_info": {
   "codemirror_mode": {
    "name": "ipython",
    "version": 3
   },
   "file_extension": ".py",
   "mimetype": "text/x-python",
   "name": "python",
   "nbconvert_exporter": "python",
   "pygments_lexer": "ipython3",
   "version": "3.11.4"
  }
 },
 "nbformat": 4,
 "nbformat_minor": 2
}
