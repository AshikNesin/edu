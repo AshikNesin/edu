{
 "cells": [
  {
   "cell_type": "code",
   "execution_count": null,
   "metadata": {},
   "outputs": [],
   "source": [
    "# WIP Initial simple RAG example with eval"
   ]
  },
  {
   "cell_type": "code",
   "execution_count": 1,
   "metadata": {},
   "outputs": [],
   "source": [
    "!pip install -qqq -U scikit-learn"
   ]
  },
  {
   "cell_type": "code",
   "execution_count": 2,
   "metadata": {},
   "outputs": [],
   "source": [
    "import json\n",
    "import pathlib\n",
    "from datetime import datetime\n",
    "from typing import List\n",
    "\n",
    "import wandb\n",
    "\n"
   ]
  },
  {
   "cell_type": "code",
   "execution_count": 3,
   "metadata": {},
   "outputs": [
    {
     "name": "stderr",
     "output_type": "stream",
     "text": [
      "Failed to detect the name of this notebook, you can set it manually with the WANDB_NOTEBOOK_NAME environment variable to enable code saving.\n",
      "\u001b[34m\u001b[1mwandb\u001b[0m: Using wandb-core as the SDK backend. Please refer to https://wandb.me/wandb-core for more information.\n",
      "\u001b[34m\u001b[1mwandb\u001b[0m: Currently logged in as: \u001b[33mparambharat\u001b[0m. Use \u001b[1m`wandb login --relogin`\u001b[0m to force relogin\n"
     ]
    },
    {
     "data": {
      "text/html": [
       "Tracking run with wandb version 0.17.3"
      ],
      "text/plain": [
       "<IPython.core.display.HTML object>"
      ]
     },
     "metadata": {},
     "output_type": "display_data"
    },
    {
     "data": {
      "text/html": [
       "Run data is saved locally in <code>/media/mugan/data/wandb/projects/edu/rag-advanced/notebooks/wandb/run-20240628_131643-ub0tl935</code>"
      ],
      "text/plain": [
       "<IPython.core.display.HTML object>"
      ]
     },
     "metadata": {},
     "output_type": "display_data"
    },
    {
     "data": {
      "text/html": [
       "Syncing run <strong><a href='https://wandb.ai/parambharat/advanced_rag/runs/ub0tl935' target=\"_blank\">solar-feather-27</a></strong> to <a href='https://wandb.ai/parambharat/advanced_rag' target=\"_blank\">Weights & Biases</a> (<a href='https://wandb.me/run' target=\"_blank\">docs</a>)<br/>"
      ],
      "text/plain": [
       "<IPython.core.display.HTML object>"
      ]
     },
     "metadata": {},
     "output_type": "display_data"
    },
    {
     "data": {
      "text/html": [
       " View project at <a href='https://wandb.ai/parambharat/advanced_rag' target=\"_blank\">https://wandb.ai/parambharat/advanced_rag</a>"
      ],
      "text/plain": [
       "<IPython.core.display.HTML object>"
      ]
     },
     "metadata": {},
     "output_type": "display_data"
    },
    {
     "data": {
      "text/html": [
       " View run at <a href='https://wandb.ai/parambharat/advanced_rag/runs/ub0tl935' target=\"_blank\">https://wandb.ai/parambharat/advanced_rag/runs/ub0tl935</a>"
      ],
      "text/plain": [
       "<IPython.core.display.HTML object>"
      ]
     },
     "metadata": {},
     "output_type": "display_data"
    }
   ],
   "source": [
    "WANDB_ENTITY = \"parambharat\"\n",
    "WANDB_PROJECT = \"advanced_rag\"\n",
    "\n",
    "wandb.require(\"core\")\n",
    "\n",
    "run = wandb.init(entity=WANDB_ENTITY, project=WANDB_PROJECT, job_type=\"data_ingestion\", group=\"initial_example\")"
   ]
  },
  {
   "cell_type": "markdown",
   "metadata": {},
   "source": [
    "## Data ingestion\n",
    "\n",
    "### Loading the data"
   ]
  },
  {
   "cell_type": "code",
   "execution_count": 4,
   "metadata": {},
   "outputs": [
    {
     "name": "stdout",
     "output_type": "stream",
     "text": [
      "Number of files: 380\n",
      "\n",
      "First 5 files:\n",
      "../data/wandb_docs_06_24/guides/app/features/anon.md\n",
      "../data/wandb_docs_06_24/guides/app/features/custom-charts/intro.md\n",
      "../data/wandb_docs_06_24/guides/app/features/custom-charts/walkthrough.md\n",
      "../data/wandb_docs_06_24/guides/app/features/intro.md\n",
      "../data/wandb_docs_06_24/guides/app/features/notes.md\n"
     ]
    }
   ],
   "source": [
    "docs_dir = pathlib.Path(\"../data/wandb_docs_06_24\")\n",
    "docs_files = sorted(docs_dir.rglob(\"*.md\"))\n",
    "\n",
    "print(f\"Number of files: {len(docs_files)}\\n\")\n",
    "print(\"First 5 files:\\n{files}\".format(files='\\n'.join(map(str, docs_files[:5]))))"
   ]
  },
  {
   "cell_type": "code",
   "execution_count": 5,
   "metadata": {},
   "outputs": [
    {
     "name": "stdout",
     "output_type": "stream",
     "text": [
      "---\n",
      "description: Log and visualize data without a W&B account\n",
      "displayed_sidebar: default\n",
      "---\n",
      "\n",
      "# Anonymous Mode\n",
      "\n",
      "Are you publishing code that you want anyone to be able to run easily? Use Anonymous Mode to let someone run your code, see a W&B dashboard, and visualize results without needing to create a W&B account first.\n",
      "\n",
      "Allow results to be logged in Anonymous Mode with `wandb.init(`**`anonymous=\"allow\"`**`)`\n",
      "\n",
      ":::info\n",
      "**Publishing a paper?** Please [cite W&B](https://docs.wandb.ai/company/academics#bibtex-citation), and if you have questions about how to make your code accessible while using W&B, reach out to us at support@wandb.com.\n",
      ":::\n",
      "\n",
      "### How does someone without an account see results?\n",
      "\n",
      "If someone runs your script and you have to set `anonymous=\"allow\"`:\n",
      "\n",
      "1. **Auto-create temporary account:** W&B checks for an account that's already signed in. If there's no account, we automatically create a new anonymous account and save that API key for the session.\n",
      "2. **Log results quickly:** The user can run and re-run the script, and automatically see results show up in the W&B dashboard UI. These unclaimed anonymous runs will be available for 7 days.\n",
      "3. **Claim data when it's useful**: Once the user finds valuable results in W&B, they can easily click a button in the banner at the top of the page to save their run data to a real account. If they don't claim a run, it will be deleted after 7 days.\n",
      "\n",
      ":::caution\n",
      "**Anonymous run links are sensitive**. These links allow anyone to view and claim the results of an experiment for 7 days, so make sure to only share links with people you trust. If you're trying to share results publicly, but hide the author's identity, please contact us at support@wandb.com to share more about your use case.\n",
      ":::\n",
      "\n",
      "### What happens to users with existing accounts?\n",
      "\n",
      "If you set `anonymous=\"allow\"` in your script, we will check to make sure there's not an existing account first, before creating an anonymous account. This means that if a W&B user finds your script and runs it, their results will be logged correctly to their account, just like a normal run.\n",
      "\n",
      "### What are features that aren't available to anonymous users?\n",
      "\n",
      "*   **No persistent data**: Runs are only saved for 7 days in an anonymous account. Users can claim anonymous run data by saving it to a real account.\n",
      "\n",
      "\n",
      "![](@site/static/images/app_ui/anon_mode_no_data.png)\n",
      "\n",
      "*   **No artifact logging**: Runs will print a warning on the command line that you can't log an artifact to an anonymous run.\n",
      "\n",
      "![](@site/static/images/app_ui/anon_example_warning.png)\n",
      "\n",
      "* **No profile or settings pages**: Certain pages aren't available in the UI, because they're only useful for real accounts.\n",
      "\n",
      "## Example usage\n",
      "\n",
      "[Try the example notebook](http://bit.ly/anon-mode) to see how anonymous mode works.\n",
      "\n",
      "```python\n",
      "import wandb\n",
      "\n",
      "# Start a run allowing anonymous accounts\n",
      "wandb.init(anonymous=\"allow\")\n",
      "\n",
      "# Log results from your training loop\n",
      "wandb.log({\"acc\": 0.91})\n",
      "\n",
      "# Mark the run as finished\n",
      "wandb.finish()\n",
      "```\n",
      "\n"
     ]
    }
   ],
   "source": [
    "from IPython.display import Markdown\n",
    "print(docs_files[0].read_text())"
   ]
  },
  {
   "cell_type": "code",
   "execution_count": 6,
   "metadata": {},
   "outputs": [
    {
     "data": {
      "text/plain": [
       "[{'content': '---\\ndescription: Log and visualize data without a W&B account\\ndisplayed_sidebar: default\\n---\\n\\n# Anonymous Mode\\n\\nAre you publishing code that you want anyone to be able to run easily? Use Anonymous Mode to let someone run your code, see a W&B dashboard, and visualize results without needing to create a W&B account first.\\n\\nAllow results to be logged in Anonymous Mode with `wandb.init(`**`anonymous=\"allow\"`**`)`\\n\\n:::info\\n**Publishing a paper?** Please [cite W&B](https://docs.wandb.ai/company/academics#bibtex-citation), and if you have questions about how to make your code accessible while using W&B, reach out to us at support@wandb.com.\\n:::\\n\\n### How does someone without an account see results?\\n\\nIf someone runs your script and you have to set `anonymous=\"allow\"`:\\n\\n1. **Auto-create temporary account:** W&B checks for an account that\\'s already signed in. If there\\'s no account, we automatically create a new anonymous account and save that API key for the session.\\n2. **Log results quickly:** The user can run and re-run the script, and automatically see results show up in the W&B dashboard UI. These unclaimed anonymous runs will be available for 7 days.\\n3. **Claim data when it\\'s useful**: Once the user finds valuable results in W&B, they can easily click a button in the banner at the top of the page to save their run data to a real account. If they don\\'t claim a run, it will be deleted after 7 days.\\n\\n:::caution\\n**Anonymous run links are sensitive**. These links allow anyone to view and claim the results of an experiment for 7 days, so make sure to only share links with people you trust. If you\\'re trying to share results publicly, but hide the author\\'s identity, please contact us at support@wandb.com to share more about your use case.\\n:::\\n\\n### What happens to users with existing accounts?\\n\\nIf you set `anonymous=\"allow\"` in your script, we will check to make sure there\\'s not an existing account first, before creating an anonymous account. This means that if a W&B user finds your script and runs it, their results will be logged correctly to their account, just like a normal run.\\n\\n### What are features that aren\\'t available to anonymous users?\\n\\n*   **No persistent data**: Runs are only saved for 7 days in an anonymous account. Users can claim anonymous run data by saving it to a real account.\\n\\n\\n![](@site/static/images/app_ui/anon_mode_no_data.png)\\n\\n*   **No artifact logging**: Runs will print a warning on the command line that you can\\'t log an artifact to an anonymous run.\\n\\n![](@site/static/images/app_ui/anon_example_warning.png)\\n\\n* **No profile or settings pages**: Certain pages aren\\'t available in the UI, because they\\'re only useful for real accounts.\\n\\n## Example usage\\n\\n[Try the example notebook](http://bit.ly/anon-mode) to see how anonymous mode works.\\n\\n```python\\nimport wandb\\n\\n# Start a run allowing anonymous accounts\\nwandb.init(anonymous=\"allow\")\\n\\n# Log results from your training loop\\nwandb.log({\"acc\": 0.91})\\n\\n# Mark the run as finished\\nwandb.finish()\\n```\\n',\n",
       "  'metadata': {'source': 'guides/app/features/anon.md', 'raw_tokens': 470}},\n",
       " {'content': '---\\nslug: /guides/app/features/custom-charts\\ndisplayed_sidebar: default\\n---\\n\\nimport Tabs from \\'@theme/Tabs\\';\\nimport TabItem from \\'@theme/TabItem\\';\\n\\n# Custom Charts\\n\\nUse **Custom Charts** to create charts that aren\\'t possible right now in the default UI. Log arbitrary tables of data and visualize them exactly how you want. Control details of fonts, colors, and tooltips with the power of [Vega](https://vega.github.io/vega/).\\n\\n* **What\\'s possible**: Read the[ launch announcement →](https://wandb.ai/wandb/posts/reports/Announcing-the-W-B-Machine-Learning-Visualization-IDE--VmlldzoyNjk3Nzg)\\n* **Code**: Try a live example in a[ hosted notebook →](https://tiny.cc/custom-charts)\\n* **Video**: Watch a quick [walkthrough video →](https://www.youtube.com/watch?v=3-N9OV6bkSM)\\n* **Example**: Quick Keras and Sklearn [demo notebook →](https://colab.research.google.com/drive/1g-gNGokPWM2Qbc8p1Gofud0\\\\_5AoZdoSD?usp=sharing)\\n\\n![Supported charts from vega.github.io/vega](/images/app_ui/supported_charts.png)\\n\\n### How it works\\n\\n1. **Log data**: From your script, log [config](../../../../guides/track/config.md) and summary data as you normally would when running with W&B. To visualize a list of multiple values logged at one specific time, use a custom`wandb.Table`\\n2. **Customize the chart**: Pull in any of this logged data with a [GraphQL](https://graphql.org) query. Visualize the results of your query with [Vega](https://vega.github.io/vega/), a powerful visualization grammar.\\n3. **Log the chart**: Call your own preset from your script with `wandb.plot_table()`.\\n\\n![](/images/app_ui/pr_roc.png)\\n\\n## Log charts from a script\\n\\n### Builtin presets\\n\\nThese presets have builtin `wandb.plot` methods that make it fast to log charts directly from your script and see the exact visualizations you\\'re looking for in the UI.\\n\\n<Tabs\\n  defaultValue=\"line-plot\"\\n  values={[\\n    {label: \\'Line plot\\', value: \\'line-plot\\'},\\n    {label: \\'Scatter plot\\', value: \\'scatter-plot\\'},\\n    {label: \\'Bar chart\\', value: \\'bar-chart\\'},\\n    {label: \\'Histogram\\', value: \\'histogram\\'},\\n    {label: \\'PR curve\\', value: \\'pr-curve\\'},\\n    {label: \\'ROC curve\\', value: \\'roc-curve\\'},\\n  ]}>\\n  <TabItem value=\"line-plot\">\\n\\n`wandb.plot.line()`\\n\\nLog a custom line plot—a list of connected and ordered points (x,y) on arbitrary axes x and y.\\n\\n```python\\ndata = [[x, y] for (x, y) in zip(x_values, y_values)]\\ntable = wandb.Table(data=data, columns=[\"x\", \"y\"])\\nwandb.log(\\n    {\\n        \"my_custom_plot_id\": wandb.plot.line(\\n            table, \"x\", \"y\", title=\"Custom Y vs X Line Plot\"\\n        )\\n    }\\n)\\n```\\n\\nYou can use this to log curves on any two dimensions. Note that if you\\'re plotting two lists of values against each other, the number of values in the lists must match exactly (i.e. each point must have an x and a y).\\n\\n![](/images/app_ui/line_plot.png)\\n\\n[See in the app →](https://wandb.ai/wandb/plots/reports/Custom-Line-Plots--VmlldzoyNjk5NTA)\\n\\n[Run the code →](https://tiny.cc/custom-charts)\\n\\n  </TabItem>\\n  <TabItem value=\"scatter-plot\">\\n\\n`wandb.plot.scatter()`\\n\\nLog a custom scatter plot—a list of points (x, y) on a pair of arbitrary axes x and y.\\n\\n```python\\ndata = [[x, y] for (x, y) in zip(class_x_prediction_scores, class_y_prediction_scores)]\\ntable = wandb.Table(data=data, columns=[\"class_x\", \"class_y\"])\\nwandb.log({\"my_custom_id\": wandb.plot.scatter(table, \"class_x\", \"class_y\")})\\n```\\n\\nYou can use this to log scatter points on any two dimensions. Note that if you\\'re plotting two lists of values against each other, the number of values in the lists must match exactly (i.e. each point must have an x and a y).\\n\\n![](/images/app_ui/demo_scatter_plot.png)\\n\\n[See in the app →](https://wandb.ai/wandb/plots/reports/Custom-Scatter-Plots--VmlldzoyNjk5NDQ)\\n\\n[Run the code →](https://tiny.cc/custom-charts)\\n\\n  </TabItem>\\n  <TabItem value=\"bar-chart\">\\n\\n`wandb.plot.bar()`\\n\\nLog a custom bar chart—a list of labeled values as bars—natively in a few lines:\\n\\n```python\\ndata = [[label, val] for (label, val) in zip(labels, values)]\\ntable = wandb.Table(data=data, columns=[\"label\", \"value\"])\\nwandb.log(\\n    {\\n        \"my_bar_chart_id\": wandb.plot.bar(\\n            table, \"label\", \"value\", title=\"Custom Bar Chart\"\\n        )\\n    }\\n)\\n```\\n\\nYou can use this to log arbitrary bar charts. Note that the number of labels and values in the lists must match exactly (i.e. each data point must have both).\\n\\n![](@site/static/images/app_ui/line_plot_bar_chart.png)\\n\\n[See in the app →](https://wandb.ai/wandb/plots/reports/Custom-Bar-Charts--VmlldzoyNzExNzk)\\n\\n[Run the code →](https://tiny.cc/custom-charts)\\n\\n  </TabItem>\\n  <TabItem value=\"histogram\">\\n\\n`wandb.plot.histogram()`\\n\\nLog a custom histogram—sort list of values into bins by count/frequency of occurrence—natively in a few lines. Let\\'s say I have a list of prediction confidence scores (`scores`) and want to visualize their distribution:\\n\\n```python\\ndata = [[s] for s in scores]\\ntable = wandb.Table(data=data, columns=[\"scores\"])\\nwandb.log({\"my_histogram\": wandb.plot.histogram(table, \"scores\", title=None)})\\n```\\n\\nYou can use this to log arbitrary histograms. Note that `data` is a list of lists, intended to support a 2D array of rows and columns.\\n\\n![](/images/app_ui/demo_custom_chart_histogram.png)\\n\\n[See in the app →](https://wandb.ai/wandb/plots/reports/Custom-Histograms--VmlldzoyNzE0NzM)\\n\\n[Run the code →](https://tiny.cc/custom-charts)\\n\\n  </TabItem>\\n    <TabItem value=\"pr-curve\">\\n\\n`wandb.plot.pr_curve()`\\n\\nCreate a [Precision-Recall curve](https://scikit-learn.org/stable/modules/generated/sklearn.metrics.precision\\\\_recall\\\\_curve.html#sklearn.metrics.precision\\\\_recall\\\\_curve) in one line:\\n\\n```python\\nplot = wandb.plot.pr_curve(ground_truth, predictions, labels=None, classes_to_plot=None)\\n\\nwandb.log({\"pr\": plot})\\n```\\n\\nYou can log this whenever your code has access to:\\n\\n* a model\\'s predicted scores (`predictions`) on a set of examples\\n* the corresponding ground truth labels (`ground_truth`) for those examples\\n* (optionally) a list of the labels/class names (`labels=[\"cat\", \"dog\", \"bird\"...]` if label index 0 means cat, 1 = dog, 2 = bird, etc.)\\n* (optionally) a subset (still in list format) of the labels to visualize in the plot\\n\\n![](/images/app_ui/demo_average_precision_lines.png)\\n\\n\\n[See in the app →](https://wandb.ai/wandb/plots/reports/Plot-Precision-Recall-Curves--VmlldzoyNjk1ODY)\\n\\n[Run the code →](https://colab.research.google.com/drive/1mS8ogA3LcZWOXchfJoMrboW3opY1A8BY?usp=sharing)\\n\\n  </TabItem>\\n  <TabItem value=\"roc-curve\">\\n\\n`wandb.plot.roc_curve()`\\n\\nCreate an [ROC curve](https://scikit-learn.org/stable/modules/generated/sklearn.metrics.roc\\\\_curve.html#sklearn.metrics.roc\\\\_curve) in one line:\\n\\n```python\\nplot = wandb.plot.roc_curve(\\n    ground_truth, predictions, labels=None, classes_to_plot=None\\n)\\n\\nwandb.log({\"roc\": plot})\\n```\\n\\nYou can log this whenever your code has access to:\\n\\n* a model\\'s predicted scores (`predictions`) on a set of examples\\n* the corresponding ground truth labels (`ground_truth`) for those examples\\n* (optionally) a list of the labels/ class names (`labels=[\"cat\", \"dog\", \"bird\"...]` if label index 0 means cat, 1 = dog, 2 = bird, etc.)\\n* (optionally) a subset (still in list format) of these labels to visualize on the plot\\n\\n![](/images/app_ui/demo_custom_chart_roc_curve.png)\\n\\n[See in the app →](https://wandb.ai/wandb/plots/reports/Plot-ROC-Curves--VmlldzoyNjk3MDE)\\n\\n[Run the code →](https://colab.research.google.com/drive/1\\\\_RMppCqsA8XInV\\\\_jhJz32NCZG6Z5t1RO?usp=sharing)\\n\\n  </TabItem>\\n</Tabs>\\n\\n### Custom presets\\n\\nTweak a builtin preset, or create a new preset, then save the chart. Use the chart ID to log data to that custom preset directly from your script.\\n\\n```python\\n# Create a table with the columns to plot\\ntable = wandb.Table(data=data, columns=[\"step\", \"height\"])\\n\\n# Map from the table\\'s columns to the chart\\'s fields\\nfields = {\"x\": \"step\", \"value\": \"height\"}\\n\\n# Use the table to populate the new custom chart preset\\n# To use your own saved chart preset, change the vega_spec_name\\nmy_custom_chart = wandb.plot_table(\\n    vega_spec_name=\"carey/new_chart\",\\n    data_table=table,\\n    fields=fields,\\n)\\n```\\n\\n[Run the code →](https://tiny.cc/custom-charts)\\n\\n![](/images/app_ui/custom_presets.png)\\n\\n## Log data\\n\\nHere are the data types you can log from your script and use in a custom chart:\\n\\n* **Config**: Initial settings of your experiment (your independent variables). This includes any named fields you\\'ve logged as keys to `wandb.config` at the start of your training (e.g. `wandb.config.learning_rate = 0.0001)`\\n* **Summary**: Single values logged during training (your results or dependent variables), e.g. `wandb.log({\"val_acc\" : 0.8})`. If you write to this key multiple times during training via `wandb.log()`, the summary is set to the final value of that key.\\n* **History**: The full time series of the logged scalar is available to the query via the `history` field\\n* **summaryTable**: If you need to log a list of multiple values, use a `wandb.Table()` to save that data, then query it in your custom panel.\\n* **historyTable**: If you need to see the history data, then query `historyTable` in your custom chart panel. Each time you call `wandb.Table()` or log a custom chart, you\\'re creating a new table in history for that step.\\n\\n### How to log a custom table\\n\\nUse `wandb.Table()` to log your data as a 2D array. Typically each row of this table represents one data point, and each column denotes the relevant fields/dimensions for each data point which you\\'d like to plot. As you configure a custom panel, the whole table will be accessible via the named key passed to `wandb.log()`(\"custom\\\\_data\\\\_table\" below), and the individual fields will be accessible via the column names (\"x\", \"y\", and \"z\"). You can log tables at multiple time steps throughout your experiment. The maximum size of each table is 10,000 rows.\\n\\n[Try it in a Google Colab →](https://tiny.cc/custom-charts)\\n\\n```python\\n# Logging a custom table of data\\nmy_custom_data = [[x1, y1, z1], [x2, y2, z2]]\\nwandb.log(\\n    {\"custom_data_table\": wandb.Table(data=my_custom_data, columns=[\"x\", \"y\", \"z\"])}\\n)\\n```\\n\\n## Customize the chart\\n\\nAdd a new custom chart to get started, then edit the query to select data from your visible runs. The query uses [GraphQL](https://graphql.org) to fetch data from the config, summary, and history fields in your runs.\\n\\n![Add a new custom chart, then edit the query](/images/app_ui/customize_chart.gif)\\n\\n### Custom visualizations\\n\\nSelect a **Chart** in the upper right corner to start with a default preset. Next, pick **Chart fields** to map the data you\\'re pulling in from the query to the corresponding fields in your chart. Here\\'s an example of selecting a metric to get from the query, then mapping that into the bar chart fields below.\\n\\n![Creating a custom bar chart showing accuracy across runs in a project](/images/app_ui/demo_make_a_custom_chart_bar_chart.gif)\\n\\n### How to edit Vega\\n\\nClick **Edit** at the top of the panel to go into [Vega](https://vega.github.io/vega/) edit mode. Here you can define a [Vega specification](https://vega.github.io/vega/docs/specification/) that creates an interactive chart in the UI. You can change any aspect of the chart, from the visual style (e.g. change the title, pick a different color scheme, show curves as a series of points instead of as connected lines) to the data itself (use a Vega transform to bin an array of values into a histogram, etc.). The panel preview will update interactively, so you can see the effect of your changes as you edit the Vega spec or query. The [Vega documentation and tutorials ](https://vega.github.io/vega/)are an excellent source of inspiration.\\n\\n**Field references**\\n\\nTo pull data into your chart from W&B, add template strings of the form `\"${field:<field-name>}\"` anywhere in your Vega spec. This will create a dropdown in the **Chart Fields** area on the right side, which users can use to select a query result column to map into Vega.\\n\\nTo set a default value for a field, use this syntax: `\"${field:<field-name>:<placeholder text>}\"`\\n\\n### Saving chart presets\\n\\nApply any changes to a specific visualization panel with the button at the bottom of the modal. Alternatively, you can save the Vega spec to use elsewhere in your project. To save the reusable chart definition, click **Save as** at the top of the Vega editor and give your preset a name.\\n\\n## Articles and guides\\n\\n1. [The W&B Machine Learning Visualization IDE](https://wandb.ai/wandb/posts/reports/The-W-B-Machine-Learning-Visualization-IDE--VmlldzoyNjk3Nzg)\\n2. [Visualizing NLP Attention Based Models](https://wandb.ai/kylegoyette/gradientsandtranslation2/reports/Visualizing-NLP-Attention-Based-Models-Using-Custom-Charts--VmlldzoyNjg2MjM)\\n3. [Visualizing The Effect of Attention on Gradient Flow](https://wandb.ai/kylegoyette/gradientsandtranslation/reports/Visualizing-The-Effect-of-Attention-on-Gradient-Flow-Using-Custom-Charts--VmlldzoyNjg1NDg)\\n4. [Logging arbitrary curves](https://wandb.ai/stacey/presets/reports/Logging-Arbitrary-Curves--VmlldzoyNzQyMzA)\\n\\n## Frequently asked questions\\n\\n### Coming soon\\n\\n* **Polling**: Auto-refresh of data in the chart\\n* **Sampling**: Dynamically adjust the total number of points loaded into the panel for efficiency\\n\\n### Gotchas\\n\\n* Not seeing the data you\\'re expecting in the query as you\\'re editing your chart? It might be because the column you\\'re looking for is not logged in the runs you have selected. Save your chart and go back out to the runs table, and select the runs you\\'d like to visualize with the **eye** icon.\\n\\n### How to show a \"step slider\" in a custom chart?\\n\\nThis can be enabled on the “Other settings” page of the custom chart editor. If you change your query to use a `historyTable` instead of the `summaryTable`, you\\'ll get an option to “Show step selector” in the custom chart editor. This gives you a slider that lets you select the step.\\n\\n<!-- ![Show step slider in a custom chart](/images/app_ui/step_sllider_custon_charts.mov>) -->\\n\\n### How to delete a custom chart preset?\\n\\nYou can do this by going into the custom chart editor. Then click on the currently selected chart type, this will open up a menu with all your presets. Hover the mouse on a preset you want to delete and then click on the Trash icon.\\n\\n![](/images/app_ui/delete_custome_chart_preset.gif)\\n\\n\\n### Common use cases\\n\\n* Customize bar plots with error bars\\n* Show model validation metrics which require custom x-y coordinates (like precision-recall curves)\\n* Overlay data distributions from two different models/experiments as histograms\\n* Show changes in a metric via snapshots at multiple points during training\\n* Create a unique visualization not yet available in W&B (and hopefully share it with the world)\\n',\n",
       "  'metadata': {'source': 'guides/app/features/custom-charts/intro.md',\n",
       "   'raw_tokens': 1904}}]"
      ]
     },
     "execution_count": 6,
     "metadata": {},
     "output_type": "execute_result"
    }
   ],
   "source": [
    "data = []\n",
    "for file in docs_files:\n",
    "    content = file.read_text()\n",
    "    data.append({\n",
    "        \"content\": content,\n",
    "        \"metadata\": {\n",
    "            \"source\": str(file.relative_to(docs_dir)),\n",
    "            \"raw_tokens\": len(content.split())\n",
    "        }})\n",
    "data[:2]"
   ]
  },
  {
   "cell_type": "code",
   "execution_count": 7,
   "metadata": {},
   "outputs": [
    {
     "name": "stdout",
     "output_type": "stream",
     "text": [
      "Total Tokens in dataset: 246998\n"
     ]
    }
   ],
   "source": [
    "total_tokens = sum(map(lambda x: x[\"metadata\"][\"raw_tokens\"], data))\n",
    "print(f\"Total Tokens in dataset: {total_tokens}\")"
   ]
  },
  {
   "cell_type": "markdown",
   "metadata": {},
   "source": [
    "### Chunking the data"
   ]
  },
  {
   "cell_type": "code",
   "execution_count": 8,
   "metadata": {},
   "outputs": [],
   "source": [
    "from typing import List\n",
    "\n",
    "CHUNK_SIZE = 500\n",
    "CHUNK_OVERLAP = 0\n",
    "\n",
    "def split_into_chunks(text: str, chunk_size: int = CHUNK_SIZE, chunk_overlap: int = CHUNK_OVERLAP) -> List[str]:\n",
    "    \"\"\"Function to split the text into chunks of a maximum number of tokens\n",
    "    ensure that the chunks are of size CHUNK_SIZE and overlap by chunk_overlap tokens\n",
    "    use the `tokenizer.encode` method to tokenize the text\n",
    "    \"\"\"\n",
    "    tokens = text.split()\n",
    "    chunks = []\n",
    "    start = 0\n",
    "    while start < len(tokens):\n",
    "        end = start + chunk_size\n",
    "        chunk = tokens[start:end]\n",
    "        chunks.append(\" \".join(chunk))\n",
    "        start = end - chunk_overlap\n",
    "    return chunks\n"
   ]
  },
  {
   "cell_type": "code",
   "execution_count": 9,
   "metadata": {},
   "outputs": [
    {
     "name": "stderr",
     "output_type": "stream",
     "text": [
      "2024/06/28 13:16:48 [DEBUG] GET https://storage.googleapis.com/wandb-production.appspot.com/parambharat/advanced_rag/aaaobcp1/artifact/930835866/wandb_manifest.json?Expires=1719564408&GoogleAccessId=gorilla-files-url-signer-man%40wandb-production.iam.gserviceaccount.com&Signature=t7uZxuIuFA5wUgnQxn2nFv6i4YD5RIZliKUw0tGIZbso4XqB0DzL7w1bn7Leue%2BRyDrpGOpbo6ZuSEZv%2BWkxaJRDYN%2Bjw0eqR4XVRzpM7Rh16SwGhOBX0T0lHcp1qQi%2BiIYdj3Nv6uI3cvgWb6r6oKAkMl6Z02NLev3d6%2FQsggKxp0%2FWqokWD0N1w7TINkOsnOPeT70nMebATbWpoawO9ScF7yfwAw%2BHXFtjIC21ZqdBx6tWPX9Xg3CXvpRV%2BK3y5XjP%2Bz4wXhSw8ilFHpoPlgcPHMKNGPgFkm%2BQvdY1Ww8ICJIwcBJ7JEjOOp6l0AIQwG%2FSO4tr%2BJXlKIubWupx0A%3D%3D\n"
     ]
    },
    {
     "data": {
      "text/plain": [
       "[{'content': '---\\ndescription: Log and visualize data without a W&B account\\ndisplayed_sidebar: default\\n---\\n\\n# Anonymous Mode\\n\\nAre you publishing code that you want anyone to be able to run easily? Use Anonymous Mode to let someone run your code, see a W&B dashboard, and visualize results without needing to create a W&B account first.\\n\\nAllow results to be logged in Anonymous Mode with `wandb.init(`**`anonymous=\"allow\"`**`)`\\n\\n:::info\\n**Publishing a paper?** Please [cite W&B](https://docs.wandb.ai/company/academics#bibtex-citation), and if you have questions about how to make your code accessible while using W&B, reach out to us at support@wandb.com.\\n:::\\n\\n### How does someone without an account see results?\\n\\nIf someone runs your script and you have to set `anonymous=\"allow\"`:\\n\\n1. **Auto-create temporary account:** W&B checks for an account that\\'s already signed in. If there\\'s no account, we automatically create a new anonymous account and save that API key for the session.\\n2. **Log results quickly:** The user can run and re-run the script, and automatically see results show up in the W&B dashboard UI. These unclaimed anonymous runs will be available for 7 days.\\n3. **Claim data when it\\'s useful**: Once the user finds valuable results in W&B, they can easily click a button in the banner at the top of the page to save their run data to a real account. If they don\\'t claim a run, it will be deleted after 7 days.\\n\\n:::caution\\n**Anonymous run links are sensitive**. These links allow anyone to view and claim the results of an experiment for 7 days, so make sure to only share links with people you trust. If you\\'re trying to share results publicly, but hide the author\\'s identity, please contact us at support@wandb.com to share more about your use case.\\n:::\\n\\n### What happens to users with existing accounts?\\n\\nIf you set `anonymous=\"allow\"` in your script, we will check to make sure there\\'s not an existing account first, before creating an anonymous account. This means that if a W&B user finds your script and runs it, their results will be logged correctly to their account, just like a normal run.\\n\\n### What are features that aren\\'t available to anonymous users?\\n\\n*   **No persistent data**: Runs are only saved for 7 days in an anonymous account. Users can claim anonymous run data by saving it to a real account.\\n\\n\\n![](@site/static/images/app_ui/anon_mode_no_data.png)\\n\\n*   **No artifact logging**: Runs will print a warning on the command line that you can\\'t log an artifact to an anonymous run.\\n\\n![](@site/static/images/app_ui/anon_example_warning.png)\\n\\n* **No profile or settings pages**: Certain pages aren\\'t available in the UI, because they\\'re only useful for real accounts.\\n\\n## Example usage\\n\\n[Try the example notebook](http://bit.ly/anon-mode) to see how anonymous mode works.\\n\\n```python\\nimport wandb\\n\\n# Start a run allowing anonymous accounts\\nwandb.init(anonymous=\"allow\")\\n\\n# Log results from your training loop\\nwandb.log({\"acc\": 0.91})\\n\\n# Mark the run as finished\\nwandb.finish()\\n```\\n',\n",
       "  'metadata': {'source': 'guides/app/features/anon.md', 'raw_tokens': 688}},\n",
       " {'content': '---\\nslug: /guides/app/features/custom-charts\\ndisplayed_sidebar: default\\n---\\n\\nimport Tabs from \\'@theme/Tabs\\';\\nimport TabItem from \\'@theme/TabItem\\';\\n\\n# Custom Charts\\n\\nUse **Custom Charts** to create charts that aren\\'t possible right now in the default UI. Log arbitrary tables of data and visualize them exactly how you want. Control details of fonts, colors, and tooltips with the power of [Vega](https://vega.github.io/vega/).\\n\\n* **What\\'s possible**: Read the[ launch announcement →](https://wandb.ai/wandb/posts/reports/Announcing-the-W-B-Machine-Learning-Visualization-IDE--VmlldzoyNjk3Nzg)\\n* **Code**: Try a live example in a[ hosted notebook →](https://tiny.cc/custom-charts)\\n* **Video**: Watch a quick [walkthrough video →](https://www.youtube.com/watch?v=3-N9OV6bkSM)\\n* **Example**: Quick Keras and Sklearn [demo notebook →](https://colab.research.google.com/drive/1g-gNGokPWM2Qbc8p1Gofud0\\\\_5AoZdoSD?usp=sharing)\\n\\n![Supported charts from vega.github.io/vega](/images/app_ui/supported_charts.png)\\n\\n### How it works\\n\\n1. **Log data**: From your script, log [config](../../../../guides/track/config.md) and summary data as you normally would when running with W&B. To visualize a list of multiple values logged at one specific time, use a custom`wandb.Table`\\n2. **Customize the chart**: Pull in any of this logged data with a [GraphQL](https://graphql.org) query. Visualize the results of your query with [Vega](https://vega.github.io/vega/), a powerful visualization grammar.\\n3. **Log the chart**: Call your own preset from your script with `wandb.plot_table()`.\\n\\n![](/images/app_ui/pr_roc.png)\\n\\n## Log charts from a script\\n\\n### Builtin presets\\n\\nThese presets have builtin `wandb.plot` methods that make it fast to log charts directly from your script and see the exact visualizations you\\'re looking for in the UI.\\n\\n<Tabs\\n  defaultValue=\"line-plot\"\\n  values={[\\n    {label: \\'Line plot\\', value: \\'line-plot\\'},\\n    {label: \\'Scatter plot\\', value: \\'scatter-plot\\'},\\n    {label: \\'Bar chart\\', value: \\'bar-chart\\'},\\n    {label: \\'Histogram\\', value: \\'histogram\\'},\\n    {label: \\'PR curve\\', value: \\'pr-curve\\'},\\n    {label: \\'ROC curve\\', value: \\'roc-curve\\'},\\n  ]}>\\n  <TabItem value=\"line-plot\">\\n\\n`wandb.plot.line()`\\n\\nLog a custom line plot—a list of connected and ordered points (x,y) on arbitrary axes x and y.\\n\\n```python\\ndata = [[x, y] for (x, y) in zip(x_values, y_values)]\\ntable = wandb.Table(data=data, columns=[\"x\", \"y\"])\\nwandb.log(\\n    {\\n        \"my_custom_plot_id\": wandb.plot.line(\\n            table, \"x\", \"y\", title=\"Custom Y vs X Line Plot\"\\n        )\\n    }\\n)\\n```\\n\\nYou can use this to log curves on any two dimensions. Note that if you\\'re plotting two lists of values against each other, the number of values in the lists must match exactly (i.e. each point must have an x and a y).\\n\\n![](/images/app_ui/line_plot.png)\\n\\n[See in the app →](https://wandb.ai/wandb/plots/reports/Custom-Line-Plots--VmlldzoyNjk5NTA)\\n\\n[Run the code →](https://tiny.cc/custom-charts)\\n\\n  </TabItem>\\n  <TabItem value=\"scatter-plot\">\\n\\n`wandb.plot.scatter()`\\n\\nLog a custom scatter plot—a list of points (x, y) on a pair of arbitrary axes x and y.\\n\\n```python\\ndata = [[x, y] for (x, y) in zip(class_x_prediction_scores, class_y_prediction_scores)]\\ntable = wandb.Table(data=data, columns=[\"class_x\", \"class_y\"])\\nwandb.log({\"my_custom_id\": wandb.plot.scatter(table, \"class_x\", \"class_y\")})\\n```\\n\\nYou can use this to log scatter points on any two dimensions. Note that if you\\'re plotting two lists of values against each other, the number of values in the lists must match exactly (i.e. each point must have an x and a y).\\n\\n![](/images/app_ui/demo_scatter_plot.png)\\n\\n[See in the app →](https://wandb.ai/wandb/plots/reports/Custom-Scatter-Plots--VmlldzoyNjk5NDQ)\\n\\n[Run the code →](https://tiny.cc/custom-charts)\\n\\n  </TabItem>\\n  <TabItem value=\"bar-chart\">\\n\\n`wandb.plot.bar()`\\n\\nLog a custom bar chart—a list of labeled values as bars—natively in a few lines:\\n\\n```python\\ndata = [[label, val] for (label, val) in zip(labels, values)]\\ntable = wandb.Table(data=data, columns=[\"label\", \"value\"])\\nwandb.log(\\n    {\\n        \"my_bar_chart_id\": wandb.plot.bar(\\n            table, \"label\", \"value\", title=\"Custom Bar Chart\"\\n        )\\n    }\\n)\\n```\\n\\nYou can use this to log arbitrary bar charts. Note that the number of labels and values in the lists must match exactly (i.e. each data point must have both).\\n\\n![](@site/static/images/app_ui/line_plot_bar_chart.png)\\n\\n[See in the app →](https://wandb.ai/wandb/plots/reports/Custom-Bar-Charts--VmlldzoyNzExNzk)\\n\\n[Run the code →](https://tiny.cc/custom-charts)\\n\\n  </TabItem>\\n  <TabItem value=\"histogram\">\\n\\n`wandb.plot.histogram()`\\n\\nLog a custom histogram—sort list of values into bins by count/frequency of occurrence—natively in a few lines. Let\\'s say I have a list of prediction confidence scores (`scores`) and want to visualize their distribution:\\n\\n```python\\ndata = [[s] for s in scores]\\ntable = wandb.Table(data=data, columns=[\"scores\"])\\nwandb.log({\"my_histogram\": wandb.plot.histogram(table, \"scores\", title=None)})\\n```\\n\\nYou can use this to log arbitrary histograms. Note that `data` is a list of lists, intended to support a 2D array of rows and columns.\\n\\n![](/images/app_ui/demo_custom_chart_histogram.png)\\n\\n[See in the app →](https://wandb.ai/wandb/plots/reports/Custom-Histograms--VmlldzoyNzE0NzM)\\n\\n[Run the code →](https://tiny.cc/custom-charts)\\n\\n  </TabItem>\\n    <TabItem value=\"pr-curve\">\\n\\n`wandb.plot.pr_curve()`\\n\\nCreate a [Precision-Recall curve](https://scikit-learn.org/stable/modules/generated/sklearn.metrics.precision\\\\_recall\\\\_curve.html#sklearn.metrics.precision\\\\_recall\\\\_curve) in one line:\\n\\n```python\\nplot = wandb.plot.pr_curve(ground_truth, predictions, labels=None, classes_to_plot=None)\\n\\nwandb.log({\"pr\": plot})\\n```\\n\\nYou can log this whenever your code has access to:\\n\\n* a model\\'s predicted scores (`predictions`) on a set of examples\\n* the corresponding ground truth labels (`ground_truth`) for those examples\\n* (optionally) a list of the labels/class names (`labels=[\"cat\", \"dog\", \"bird\"...]` if label index 0 means cat, 1 = dog, 2 = bird, etc.)\\n* (optionally) a subset (still in list format) of the labels to visualize in the plot\\n\\n![](/images/app_ui/demo_average_precision_lines.png)\\n\\n\\n[See in the app →](https://wandb.ai/wandb/plots/reports/Plot-Precision-Recall-Curves--VmlldzoyNjk1ODY)\\n\\n[Run the code →](https://colab.research.google.com/drive/1mS8ogA3LcZWOXchfJoMrboW3opY1A8BY?usp=sharing)\\n\\n  </TabItem>\\n  <TabItem value=\"roc-curve\">\\n\\n`wandb.plot.roc_curve()`\\n\\nCreate an [ROC curve](https://scikit-learn.org/stable/modules/generated/sklearn.metrics.roc\\\\_curve.html#sklearn.metrics.roc\\\\_curve) in one line:\\n\\n```python\\nplot = wandb.plot.roc_curve(\\n    ground_truth, predictions, labels=None, classes_to_plot=None\\n)\\n\\nwandb.log({\"roc\": plot})\\n```\\n\\nYou can log this whenever your code has access to:\\n\\n* a model\\'s predicted scores (`predictions`) on a set of examples\\n* the corresponding ground truth labels (`ground_truth`) for those examples\\n* (optionally) a list of the labels/ class names (`labels=[\"cat\", \"dog\", \"bird\"...]` if label index 0 means cat, 1 = dog, 2 = bird, etc.)\\n* (optionally) a subset (still in list format) of these labels to visualize on the plot\\n\\n![](/images/app_ui/demo_custom_chart_roc_curve.png)\\n\\n[See in the app →](https://wandb.ai/wandb/plots/reports/Plot-ROC-Curves--VmlldzoyNjk3MDE)\\n\\n[Run the code →](https://colab.research.google.com/drive/1\\\\_RMppCqsA8XInV\\\\_jhJz32NCZG6Z5t1RO?usp=sharing)\\n\\n  </TabItem>\\n</Tabs>\\n\\n### Custom presets\\n\\nTweak a builtin preset, or create a new preset, then save the chart. Use the chart ID to log data to that custom preset directly from your script.\\n\\n```python\\n# Create a table with the columns to plot\\ntable = wandb.Table(data=data, columns=[\"step\", \"height\"])\\n\\n# Map from the table\\'s columns to the chart\\'s fields\\nfields = {\"x\": \"step\", \"value\": \"height\"}\\n\\n# Use the table to populate the new custom chart preset\\n# To use your own saved chart preset, change the vega_spec_name\\nmy_custom_chart = wandb.plot_table(\\n    vega_spec_name=\"carey/new_chart\",\\n    data_table=table,\\n    fields=fields,\\n)\\n```\\n\\n[Run the code →](https://tiny.cc/custom-charts)\\n\\n![](/images/app_ui/custom_presets.png)\\n\\n## Log data\\n\\nHere are the data types you can log from your script and use in a custom chart:\\n\\n* **Config**: Initial settings of your experiment (your independent variables). This includes any named fields you\\'ve logged as keys to `wandb.config` at the start of your training (e.g. `wandb.config.learning_rate = 0.0001)`\\n* **Summary**: Single values logged during training (your results or dependent variables), e.g. `wandb.log({\"val_acc\" : 0.8})`. If you write to this key multiple times during training via `wandb.log()`, the summary is set to the final value of that key.\\n* **History**: The full time series of the logged scalar is available to the query via the `history` field\\n* **summaryTable**: If you need to log a list of multiple values, use a `wandb.Table()` to save that data, then query it in your custom panel.\\n* **historyTable**: If you need to see the history data, then query `historyTable` in your custom chart panel. Each time you call `wandb.Table()` or log a custom chart, you\\'re creating a new table in history for that step.\\n\\n### How to log a custom table\\n\\nUse `wandb.Table()` to log your data as a 2D array. Typically each row of this table represents one data point, and each column denotes the relevant fields/dimensions for each data point which you\\'d like to plot. As you configure a custom panel, the whole table will be accessible via the named key passed to `wandb.log()`(\"custom\\\\_data\\\\_table\" below), and the individual fields will be accessible via the column names (\"x\", \"y\", and \"z\"). You can log tables at multiple time steps throughout your experiment. The maximum size of each table is 10,000 rows.\\n\\n[Try it in a Google Colab →](https://tiny.cc/custom-charts)\\n\\n```python\\n# Logging a custom table of data\\nmy_custom_data = [[x1, y1, z1], [x2, y2, z2]]\\nwandb.log(\\n    {\"custom_data_table\": wandb.Table(data=my_custom_data, columns=[\"x\", \"y\", \"z\"])}\\n)\\n```\\n\\n## Customize the chart\\n\\nAdd a new custom chart to get started, then edit the query to select data from your visible runs. The query uses [GraphQL](https://graphql.org) to fetch data from the config, summary, and history fields in your runs.\\n\\n![Add a new custom chart, then edit the query](/images/app_ui/customize_chart.gif)\\n\\n### Custom visualizations\\n\\nSelect a **Chart** in the upper right corner to start with a default preset. Next, pick **Chart fields** to map the data you\\'re pulling in from the query to the corresponding fields in your chart. Here\\'s an example of selecting a metric to get from the query, then mapping that into the bar chart fields below.\\n\\n![Creating a custom bar chart showing accuracy across runs in a project](/images/app_ui/demo_make_a_custom_chart_bar_chart.gif)\\n\\n### How to edit Vega\\n\\nClick **Edit** at the top of the panel to go into [Vega](https://vega.github.io/vega/) edit mode. Here you can define a [Vega specification](https://vega.github.io/vega/docs/specification/) that creates an interactive chart in the UI. You can change any aspect of the chart, from the visual style (e.g. change the title, pick a different color scheme, show curves as a series of points instead of as connected lines) to the data itself (use a Vega transform to bin an array of values into a histogram, etc.). The panel preview will update interactively, so you can see the effect of your changes as you edit the Vega spec or query. The [Vega documentation and tutorials ](https://vega.github.io/vega/)are an excellent source of inspiration.\\n\\n**Field references**\\n\\nTo pull data into your chart from W&B, add template strings of the form `\"${field:<field-name>}\"` anywhere in your Vega spec. This will create a dropdown in the **Chart Fields** area on the right side, which users can use to select a query result column to map into Vega.\\n\\nTo set a default value for a field, use this syntax: `\"${field:<field-name>:<placeholder text>}\"`\\n\\n### Saving chart presets\\n\\nApply any changes to a specific visualization panel with the button at the bottom of the modal. Alternatively, you can save the Vega spec to use elsewhere in your project. To save the reusable chart definition, click **Save as** at the top of the Vega editor and give your preset a name.\\n\\n## Articles and guides\\n\\n1. [The W&B Machine Learning Visualization IDE](https://wandb.ai/wandb/posts/reports/The-W-B-Machine-Learning-Visualization-IDE--VmlldzoyNjk3Nzg)\\n2. [Visualizing NLP Attention Based Models](https://wandb.ai/kylegoyette/gradientsandtranslation2/reports/Visualizing-NLP-Attention-Based-Models-Using-Custom-Charts--VmlldzoyNjg2MjM)\\n3. [Visualizing The Effect of Attention on Gradient Flow](https://wandb.ai/kylegoyette/gradientsandtranslation/reports/Visualizing-The-Effect-of-Attention-on-Gradient-Flow-Using-Custom-Charts--VmlldzoyNjg1NDg)\\n4. [Logging arbitrary curves](https://wandb.ai/stacey/presets/reports/Logging-Arbitrary-Curves--VmlldzoyNzQyMzA)\\n\\n## Frequently asked questions\\n\\n### Coming soon\\n\\n* **Polling**: Auto-refresh of data in the chart\\n* **Sampling**: Dynamically adjust the total number of points loaded into the panel for efficiency\\n\\n### Gotchas\\n\\n* Not seeing the data you\\'re expecting in the query as you\\'re editing your chart? It might be because the column you\\'re looking for is not logged in the runs you have selected. Save your chart and go back out to the runs table, and select the runs you\\'d like to visualize with the **eye** icon.\\n\\n### How to show a \"step slider\" in a custom chart?\\n\\nThis can be enabled on the “Other settings” page of the custom chart editor. If you change your query to use a `historyTable` instead of the `summaryTable`, you\\'ll get an option to “Show step selector” in the custom chart editor. This gives you a slider that lets you select the step.\\n\\n<!-- ![Show step slider in a custom chart](/images/app_ui/step_sllider_custon_charts.mov>) -->\\n\\n### How to delete a custom chart preset?\\n\\nYou can do this by going into the custom chart editor. Then click on the currently selected chart type, this will open up a menu with all your presets. Hover the mouse on a preset you want to delete and then click on the Trash icon.\\n\\n![](/images/app_ui/delete_custome_chart_preset.gif)\\n\\n\\n### Common use cases\\n\\n* Customize bar plots with error bars\\n* Show model validation metrics which require custom x-y coordinates (like precision-recall curves)\\n* Overlay data distributions from two different models/experiments as histograms\\n* Show changes in a metric via snapshots at multiple points during training\\n* Create a unique visualization not yet available in W&B (and hopefully share it with the world)\\n',\n",
       "  'metadata': {'source': 'guides/app/features/custom-charts/intro.md',\n",
       "   'raw_tokens': 3835}}]"
      ]
     },
     "execution_count": 9,
     "metadata": {},
     "output_type": "execute_result"
    }
   ],
   "source": [
    "raw_artifact = run.use_artifact(f'{WANDB_ENTITY}/{WANDB_PROJECT}/raw_data:latest', type='dataset')\n",
    "artifact_dir = raw_artifact.download()\n",
    "raw_data_file = pathlib.Path(f\"{artifact_dir}/documents.jsonl\")\n",
    "raw_data = list(map(json.loads, raw_data_file.read_text().splitlines()))\n",
    "raw_data[:2]"
   ]
  },
  {
   "cell_type": "code",
   "execution_count": 10,
   "metadata": {},
   "outputs": [],
   "source": [
    "chunked_data = []\n",
    "for doc in raw_data:\n",
    "    chunks = split_into_chunks(doc[\"content\"])\n",
    "    for chunk in chunks:\n",
    "        chunked_data.append(\n",
    "            {\n",
    "                \"content\" : chunk,\n",
    "                \"metadata\": {\n",
    "                    \"source\": doc[\"metadata\"][\"source\"],\n",
    "                    \"raw_tokens\": len(chunk.split())\n",
    "            }})"
   ]
  },
  {
   "cell_type": "markdown",
   "metadata": {},
   "source": [
    "### Cleaning the data"
   ]
  },
  {
   "cell_type": "code",
   "execution_count": 11,
   "metadata": {},
   "outputs": [],
   "source": [
    "def make_text_tokenization_safe(content: str) -> str:\n",
    "    \n",
    "    special_tokens_set = {'<|endofprompt|>', '<|endoftext|>', '<|fim_middle|>', '<|fim_prefix|>', '<|fim_suffix|>'}\n",
    "\n",
    "    def remove_special_tokens(text: str) -> str:\n",
    "        \"\"\"Removes special tokens from the given text.\n",
    "\n",
    "        Args:\n",
    "            text: A string representing the text.\n",
    "\n",
    "        Returns:\n",
    "            The text with special tokens removed.\n",
    "        \"\"\"\n",
    "        for token in special_tokens_set:\n",
    "            text = text.replace(token, \"\")\n",
    "        return text\n",
    "\n",
    "    cleaned_content = remove_special_tokens(content)\n",
    "    return cleaned_content"
   ]
  },
  {
   "cell_type": "code",
   "execution_count": 13,
   "metadata": {},
   "outputs": [
    {
     "data": {
      "text/plain": [
       "[{'content': '--- description: Log and visualize data without a W&B account displayed_sidebar: default --- # Anonymous Mode Are you publishing code that you want anyone to be able to run easily? Use Anonymous Mode to let someone run your code, see a W&B dashboard, and visualize results without needing to create a W&B account first. Allow results to be logged in Anonymous Mode with `wandb.init(`**`anonymous=\"allow\"`**`)` :::info **Publishing a paper?** Please [cite W&B](https://docs.wandb.ai/company/academics#bibtex-citation), and if you have questions about how to make your code accessible while using W&B, reach out to us at support@wandb.com. ::: ### How does someone without an account see results? If someone runs your script and you have to set `anonymous=\"allow\"`: 1. **Auto-create temporary account:** W&B checks for an account that\\'s already signed in. If there\\'s no account, we automatically create a new anonymous account and save that API key for the session. 2. **Log results quickly:** The user can run and re-run the script, and automatically see results show up in the W&B dashboard UI. These unclaimed anonymous runs will be available for 7 days. 3. **Claim data when it\\'s useful**: Once the user finds valuable results in W&B, they can easily click a button in the banner at the top of the page to save their run data to a real account. If they don\\'t claim a run, it will be deleted after 7 days. :::caution **Anonymous run links are sensitive**. These links allow anyone to view and claim the results of an experiment for 7 days, so make sure to only share links with people you trust. If you\\'re trying to share results publicly, but hide the author\\'s identity, please contact us at support@wandb.com to share more about your use case. ::: ### What happens to users with existing accounts? If you set `anonymous=\"allow\"` in your script, we will check to make sure there\\'s not an existing account first, before creating an anonymous account. This means that if a W&B user finds your script and runs it, their results will be logged correctly to their account, just like a normal run. ### What are features that aren\\'t available to anonymous users? * **No persistent data**: Runs are only saved for 7 days in an anonymous account. Users can claim anonymous run data by saving it to a real account. ![](@site/static/images/app_ui/anon_mode_no_data.png) * **No artifact logging**: Runs will print a warning on the command line that you can\\'t log an artifact to an anonymous run. ![](@site/static/images/app_ui/anon_example_warning.png) * **No profile or settings pages**: Certain pages aren\\'t available in the UI, because they\\'re only useful for real accounts. ## Example usage [Try the example notebook](http://bit.ly/anon-mode) to see how anonymous mode works. ```python import wandb # Start a run allowing anonymous accounts wandb.init(anonymous=\"allow\") # Log results from your training loop wandb.log({\"acc\": 0.91}) # Mark the run as finished wandb.finish() ```',\n",
       "  'metadata': {'source': 'guides/app/features/anon.md',\n",
       "   'raw_tokens': 470,\n",
       "   'cleaned_tokens': 470},\n",
       "  'cleaned_content': '--- description: Log and visualize data without a W&B account displayed_sidebar: default --- # Anonymous Mode Are you publishing code that you want anyone to be able to run easily? Use Anonymous Mode to let someone run your code, see a W&B dashboard, and visualize results without needing to create a W&B account first. Allow results to be logged in Anonymous Mode with `wandb.init(`**`anonymous=\"allow\"`**`)` :::info **Publishing a paper?** Please [cite W&B](https://docs.wandb.ai/company/academics#bibtex-citation), and if you have questions about how to make your code accessible while using W&B, reach out to us at support@wandb.com. ::: ### How does someone without an account see results? If someone runs your script and you have to set `anonymous=\"allow\"`: 1. **Auto-create temporary account:** W&B checks for an account that\\'s already signed in. If there\\'s no account, we automatically create a new anonymous account and save that API key for the session. 2. **Log results quickly:** The user can run and re-run the script, and automatically see results show up in the W&B dashboard UI. These unclaimed anonymous runs will be available for 7 days. 3. **Claim data when it\\'s useful**: Once the user finds valuable results in W&B, they can easily click a button in the banner at the top of the page to save their run data to a real account. If they don\\'t claim a run, it will be deleted after 7 days. :::caution **Anonymous run links are sensitive**. These links allow anyone to view and claim the results of an experiment for 7 days, so make sure to only share links with people you trust. If you\\'re trying to share results publicly, but hide the author\\'s identity, please contact us at support@wandb.com to share more about your use case. ::: ### What happens to users with existing accounts? If you set `anonymous=\"allow\"` in your script, we will check to make sure there\\'s not an existing account first, before creating an anonymous account. This means that if a W&B user finds your script and runs it, their results will be logged correctly to their account, just like a normal run. ### What are features that aren\\'t available to anonymous users? * **No persistent data**: Runs are only saved for 7 days in an anonymous account. Users can claim anonymous run data by saving it to a real account. ![](@site/static/images/app_ui/anon_mode_no_data.png) * **No artifact logging**: Runs will print a warning on the command line that you can\\'t log an artifact to an anonymous run. ![](@site/static/images/app_ui/anon_example_warning.png) * **No profile or settings pages**: Certain pages aren\\'t available in the UI, because they\\'re only useful for real accounts. ## Example usage [Try the example notebook](http://bit.ly/anon-mode) to see how anonymous mode works. ```python import wandb # Start a run allowing anonymous accounts wandb.init(anonymous=\"allow\") # Log results from your training loop wandb.log({\"acc\": 0.91}) # Mark the run as finished wandb.finish() ```'},\n",
       " {'content': '--- slug: /guides/app/features/custom-charts displayed_sidebar: default --- import Tabs from \\'@theme/Tabs\\'; import TabItem from \\'@theme/TabItem\\'; # Custom Charts Use **Custom Charts** to create charts that aren\\'t possible right now in the default UI. Log arbitrary tables of data and visualize them exactly how you want. Control details of fonts, colors, and tooltips with the power of [Vega](https://vega.github.io/vega/). * **What\\'s possible**: Read the[ launch announcement →](https://wandb.ai/wandb/posts/reports/Announcing-the-W-B-Machine-Learning-Visualization-IDE--VmlldzoyNjk3Nzg) * **Code**: Try a live example in a[ hosted notebook →](https://tiny.cc/custom-charts) * **Video**: Watch a quick [walkthrough video →](https://www.youtube.com/watch?v=3-N9OV6bkSM) * **Example**: Quick Keras and Sklearn [demo notebook →](https://colab.research.google.com/drive/1g-gNGokPWM2Qbc8p1Gofud0\\\\_5AoZdoSD?usp=sharing) ![Supported charts from vega.github.io/vega](/images/app_ui/supported_charts.png) ### How it works 1. **Log data**: From your script, log [config](../../../../guides/track/config.md) and summary data as you normally would when running with W&B. To visualize a list of multiple values logged at one specific time, use a custom`wandb.Table` 2. **Customize the chart**: Pull in any of this logged data with a [GraphQL](https://graphql.org) query. Visualize the results of your query with [Vega](https://vega.github.io/vega/), a powerful visualization grammar. 3. **Log the chart**: Call your own preset from your script with `wandb.plot_table()`. ![](/images/app_ui/pr_roc.png) ## Log charts from a script ### Builtin presets These presets have builtin `wandb.plot` methods that make it fast to log charts directly from your script and see the exact visualizations you\\'re looking for in the UI. <Tabs defaultValue=\"line-plot\" values={[ {label: \\'Line plot\\', value: \\'line-plot\\'}, {label: \\'Scatter plot\\', value: \\'scatter-plot\\'}, {label: \\'Bar chart\\', value: \\'bar-chart\\'}, {label: \\'Histogram\\', value: \\'histogram\\'}, {label: \\'PR curve\\', value: \\'pr-curve\\'}, {label: \\'ROC curve\\', value: \\'roc-curve\\'}, ]}> <TabItem value=\"line-plot\"> `wandb.plot.line()` Log a custom line plot—a list of connected and ordered points (x,y) on arbitrary axes x and y. ```python data = [[x, y] for (x, y) in zip(x_values, y_values)] table = wandb.Table(data=data, columns=[\"x\", \"y\"]) wandb.log( { \"my_custom_plot_id\": wandb.plot.line( table, \"x\", \"y\", title=\"Custom Y vs X Line Plot\" ) } ) ``` You can use this to log curves on any two dimensions. Note that if you\\'re plotting two lists of values against each other, the number of values in the lists must match exactly (i.e. each point must have an x and a y). ![](/images/app_ui/line_plot.png) [See in the app →](https://wandb.ai/wandb/plots/reports/Custom-Line-Plots--VmlldzoyNjk5NTA) [Run the code →](https://tiny.cc/custom-charts) </TabItem> <TabItem value=\"scatter-plot\"> `wandb.plot.scatter()` Log a custom scatter plot—a list of points (x, y) on a pair of arbitrary axes x and y. ```python data = [[x, y] for (x, y) in zip(class_x_prediction_scores, class_y_prediction_scores)] table = wandb.Table(data=data, columns=[\"class_x\", \"class_y\"]) wandb.log({\"my_custom_id\": wandb.plot.scatter(table, \"class_x\", \"class_y\")}) ``` You can use this to log scatter points on any two dimensions. Note that if you\\'re plotting two lists of values against each other, the number of values in the lists must match exactly (i.e. each point must have an x and a y). ![](/images/app_ui/demo_scatter_plot.png) [See in the app →](https://wandb.ai/wandb/plots/reports/Custom-Scatter-Plots--VmlldzoyNjk5NDQ) [Run the code →](https://tiny.cc/custom-charts) </TabItem> <TabItem value=\"bar-chart\"> `wandb.plot.bar()` Log a custom bar chart—a list of labeled values as bars—natively in a few lines: ```python data = [[label, val] for (label, val) in zip(labels, values)] table = wandb.Table(data=data, columns=[\"label\", \"value\"]) wandb.log( { \"my_bar_chart_id\": wandb.plot.bar( table, \"label\", \"value\", title=\"Custom Bar Chart\" ) } ) ``` You',\n",
       "  'metadata': {'source': 'guides/app/features/custom-charts/intro.md',\n",
       "   'raw_tokens': 500,\n",
       "   'cleaned_tokens': 500},\n",
       "  'cleaned_content': '--- slug: /guides/app/features/custom-charts displayed_sidebar: default --- import Tabs from \\'@theme/Tabs\\'; import TabItem from \\'@theme/TabItem\\'; # Custom Charts Use **Custom Charts** to create charts that aren\\'t possible right now in the default UI. Log arbitrary tables of data and visualize them exactly how you want. Control details of fonts, colors, and tooltips with the power of [Vega](https://vega.github.io/vega/). * **What\\'s possible**: Read the[ launch announcement →](https://wandb.ai/wandb/posts/reports/Announcing-the-W-B-Machine-Learning-Visualization-IDE--VmlldzoyNjk3Nzg) * **Code**: Try a live example in a[ hosted notebook →](https://tiny.cc/custom-charts) * **Video**: Watch a quick [walkthrough video →](https://www.youtube.com/watch?v=3-N9OV6bkSM) * **Example**: Quick Keras and Sklearn [demo notebook →](https://colab.research.google.com/drive/1g-gNGokPWM2Qbc8p1Gofud0\\\\_5AoZdoSD?usp=sharing) ![Supported charts from vega.github.io/vega](/images/app_ui/supported_charts.png) ### How it works 1. **Log data**: From your script, log [config](../../../../guides/track/config.md) and summary data as you normally would when running with W&B. To visualize a list of multiple values logged at one specific time, use a custom`wandb.Table` 2. **Customize the chart**: Pull in any of this logged data with a [GraphQL](https://graphql.org) query. Visualize the results of your query with [Vega](https://vega.github.io/vega/), a powerful visualization grammar. 3. **Log the chart**: Call your own preset from your script with `wandb.plot_table()`. ![](/images/app_ui/pr_roc.png) ## Log charts from a script ### Builtin presets These presets have builtin `wandb.plot` methods that make it fast to log charts directly from your script and see the exact visualizations you\\'re looking for in the UI. <Tabs defaultValue=\"line-plot\" values={[ {label: \\'Line plot\\', value: \\'line-plot\\'}, {label: \\'Scatter plot\\', value: \\'scatter-plot\\'}, {label: \\'Bar chart\\', value: \\'bar-chart\\'}, {label: \\'Histogram\\', value: \\'histogram\\'}, {label: \\'PR curve\\', value: \\'pr-curve\\'}, {label: \\'ROC curve\\', value: \\'roc-curve\\'}, ]}> <TabItem value=\"line-plot\"> `wandb.plot.line()` Log a custom line plot—a list of connected and ordered points (x,y) on arbitrary axes x and y. ```python data = [[x, y] for (x, y) in zip(x_values, y_values)] table = wandb.Table(data=data, columns=[\"x\", \"y\"]) wandb.log( { \"my_custom_plot_id\": wandb.plot.line( table, \"x\", \"y\", title=\"Custom Y vs X Line Plot\" ) } ) ``` You can use this to log curves on any two dimensions. Note that if you\\'re plotting two lists of values against each other, the number of values in the lists must match exactly (i.e. each point must have an x and a y). ![](/images/app_ui/line_plot.png) [See in the app →](https://wandb.ai/wandb/plots/reports/Custom-Line-Plots--VmlldzoyNjk5NTA) [Run the code →](https://tiny.cc/custom-charts) </TabItem> <TabItem value=\"scatter-plot\"> `wandb.plot.scatter()` Log a custom scatter plot—a list of points (x, y) on a pair of arbitrary axes x and y. ```python data = [[x, y] for (x, y) in zip(class_x_prediction_scores, class_y_prediction_scores)] table = wandb.Table(data=data, columns=[\"class_x\", \"class_y\"]) wandb.log({\"my_custom_id\": wandb.plot.scatter(table, \"class_x\", \"class_y\")}) ``` You can use this to log scatter points on any two dimensions. Note that if you\\'re plotting two lists of values against each other, the number of values in the lists must match exactly (i.e. each point must have an x and a y). ![](/images/app_ui/demo_scatter_plot.png) [See in the app →](https://wandb.ai/wandb/plots/reports/Custom-Scatter-Plots--VmlldzoyNjk5NDQ) [Run the code →](https://tiny.cc/custom-charts) </TabItem> <TabItem value=\"bar-chart\"> `wandb.plot.bar()` Log a custom bar chart—a list of labeled values as bars—natively in a few lines: ```python data = [[label, val] for (label, val) in zip(labels, values)] table = wandb.Table(data=data, columns=[\"label\", \"value\"]) wandb.log( { \"my_bar_chart_id\": wandb.plot.bar( table, \"label\", \"value\", title=\"Custom Bar Chart\" ) } ) ``` You'}]"
      ]
     },
     "execution_count": 13,
     "metadata": {},
     "output_type": "execute_result"
    }
   ],
   "source": [
    "cleaned_data=[]\n",
    "for doc in chunked_data:\n",
    "    cleaned_doc = doc.copy()\n",
    "    cleaned_doc[\"cleaned_content\"] = make_text_tokenization_safe(doc[\"content\"])\n",
    "    cleaned_doc[\"metadata\"][\"cleaned_tokens\"] = len(cleaned_doc[\"cleaned_content\"].split())\n",
    "    cleaned_data.append(cleaned_doc)\n",
    "cleaned_data[:2]"
   ]
  },
  {
   "cell_type": "code",
   "execution_count": 14,
   "metadata": {},
   "outputs": [
    {
     "data": {
      "text/plain": [
       "<Artifact chunked_data>"
      ]
     },
     "execution_count": 14,
     "metadata": {},
     "output_type": "execute_result"
    }
   ],
   "source": [
    "total_raw_tokens = sum(map(lambda x: x[\"metadata\"][\"raw_tokens\"], cleaned_data))\n",
    "total_cleaned_tokens = sum(map(lambda x: x[\"metadata\"][\"cleaned_tokens\"], cleaned_data))\n",
    "\n",
    "chunked_artifact = wandb.Artifact(name=\"chunked_data\", type=\"dataset\",\n",
    "description=\"Chunked wandb documentation\", metadata={\n",
    "    \"total_files\": len(cleaned_data),\n",
    "    \"date_processed\": datetime.now().strftime(\"%Y-%m-%d\"),\n",
    "    \"total_raw_tokens\": total_raw_tokens,\n",
    "    \"total_cleaned_tokens\": total_cleaned_tokens, \n",
    "    \"chunk_size\": CHUNK_SIZE,\n",
    "    \"chunk_overlap\": CHUNK_OVERLAP\n",
    "    }\n",
    ")\n",
    "with chunked_artifact.new_file(\"documents.jsonl\", mode=\"w\") as f:\n",
    "    for item in cleaned_data:\n",
    "        f.write(json.dumps(item) + \"\\n\")\n",
    "run.log_artifact(chunked_artifact)"
   ]
  },
  {
   "cell_type": "markdown",
   "metadata": {},
   "source": [
    "## Vectorizing the data"
   ]
  },
  {
   "cell_type": "code",
   "execution_count": 16,
   "metadata": {},
   "outputs": [
    {
     "name": "stderr",
     "output_type": "stream",
     "text": [
      "2024/06/28 13:18:00 [DEBUG] GET https://storage.googleapis.com/wandb-production.appspot.com/parambharat/advanced_rag/ub0tl935/artifact/932078705/wandb_manifest.json?Expires=1719564480&GoogleAccessId=gorilla-files-url-signer-man%40wandb-production.iam.gserviceaccount.com&Signature=J4HDCN%2F5ZdrPdPyfE7MjxZBm%2BC0rXFKLVVforWIjKsbEgrETsVXSI91CyPUpf1fzO9QKiC2h1xuX3GPe9%2Fx5oT3bpwzNt04aCRzNE7nfy1nxZtCwRm6TL86G%2FIGVLGIrLaj4NzOqC4Py8ILCtSgV586%2F%2FrW%2BsVrtdqLMUl8c8sWJcY%2BGUvHeN4LQw7qfHi4eAeITjzqKlXghOZoreqDo%2FNtdqXSTlgW9r853crjtlEhbXcClB7BTqR%2B3%2Fg0NaGNKUmcAkCP6%2F7QxxDKYRLA86pR8b6kdI9Cn3MKQrPXkEZfrlDxwLVewl9K1ld1AI3O4KZT6IAE%2FLODhGznXzXyt3w%3D%3D\n"
     ]
    },
    {
     "data": {
      "text/plain": [
       "[{'content': '--- description: Log and visualize data without a W&B account displayed_sidebar: default --- # Anonymous Mode Are you publishing code that you want anyone to be able to run easily? Use Anonymous Mode to let someone run your code, see a W&B dashboard, and visualize results without needing to create a W&B account first. Allow results to be logged in Anonymous Mode with `wandb.init(`**`anonymous=\"allow\"`**`)` :::info **Publishing a paper?** Please [cite W&B](https://docs.wandb.ai/company/academics#bibtex-citation), and if you have questions about how to make your code accessible while using W&B, reach out to us at support@wandb.com. ::: ### How does someone without an account see results? If someone runs your script and you have to set `anonymous=\"allow\"`: 1. **Auto-create temporary account:** W&B checks for an account that\\'s already signed in. If there\\'s no account, we automatically create a new anonymous account and save that API key for the session. 2. **Log results quickly:** The user can run and re-run the script, and automatically see results show up in the W&B dashboard UI. These unclaimed anonymous runs will be available for 7 days. 3. **Claim data when it\\'s useful**: Once the user finds valuable results in W&B, they can easily click a button in the banner at the top of the page to save their run data to a real account. If they don\\'t claim a run, it will be deleted after 7 days. :::caution **Anonymous run links are sensitive**. These links allow anyone to view and claim the results of an experiment for 7 days, so make sure to only share links with people you trust. If you\\'re trying to share results publicly, but hide the author\\'s identity, please contact us at support@wandb.com to share more about your use case. ::: ### What happens to users with existing accounts? If you set `anonymous=\"allow\"` in your script, we will check to make sure there\\'s not an existing account first, before creating an anonymous account. This means that if a W&B user finds your script and runs it, their results will be logged correctly to their account, just like a normal run. ### What are features that aren\\'t available to anonymous users? * **No persistent data**: Runs are only saved for 7 days in an anonymous account. Users can claim anonymous run data by saving it to a real account. ![](@site/static/images/app_ui/anon_mode_no_data.png) * **No artifact logging**: Runs will print a warning on the command line that you can\\'t log an artifact to an anonymous run. ![](@site/static/images/app_ui/anon_example_warning.png) * **No profile or settings pages**: Certain pages aren\\'t available in the UI, because they\\'re only useful for real accounts. ## Example usage [Try the example notebook](http://bit.ly/anon-mode) to see how anonymous mode works. ```python import wandb # Start a run allowing anonymous accounts wandb.init(anonymous=\"allow\") # Log results from your training loop wandb.log({\"acc\": 0.91}) # Mark the run as finished wandb.finish() ```',\n",
       "  'metadata': {'source': 'guides/app/features/anon.md',\n",
       "   'raw_tokens': 470,\n",
       "   'cleaned_tokens': 470},\n",
       "  'cleaned_content': '--- description: Log and visualize data without a W&B account displayed_sidebar: default --- # Anonymous Mode Are you publishing code that you want anyone to be able to run easily? Use Anonymous Mode to let someone run your code, see a W&B dashboard, and visualize results without needing to create a W&B account first. Allow results to be logged in Anonymous Mode with `wandb.init(`**`anonymous=\"allow\"`**`)` :::info **Publishing a paper?** Please [cite W&B](https://docs.wandb.ai/company/academics#bibtex-citation), and if you have questions about how to make your code accessible while using W&B, reach out to us at support@wandb.com. ::: ### How does someone without an account see results? If someone runs your script and you have to set `anonymous=\"allow\"`: 1. **Auto-create temporary account:** W&B checks for an account that\\'s already signed in. If there\\'s no account, we automatically create a new anonymous account and save that API key for the session. 2. **Log results quickly:** The user can run and re-run the script, and automatically see results show up in the W&B dashboard UI. These unclaimed anonymous runs will be available for 7 days. 3. **Claim data when it\\'s useful**: Once the user finds valuable results in W&B, they can easily click a button in the banner at the top of the page to save their run data to a real account. If they don\\'t claim a run, it will be deleted after 7 days. :::caution **Anonymous run links are sensitive**. These links allow anyone to view and claim the results of an experiment for 7 days, so make sure to only share links with people you trust. If you\\'re trying to share results publicly, but hide the author\\'s identity, please contact us at support@wandb.com to share more about your use case. ::: ### What happens to users with existing accounts? If you set `anonymous=\"allow\"` in your script, we will check to make sure there\\'s not an existing account first, before creating an anonymous account. This means that if a W&B user finds your script and runs it, their results will be logged correctly to their account, just like a normal run. ### What are features that aren\\'t available to anonymous users? * **No persistent data**: Runs are only saved for 7 days in an anonymous account. Users can claim anonymous run data by saving it to a real account. ![](@site/static/images/app_ui/anon_mode_no_data.png) * **No artifact logging**: Runs will print a warning on the command line that you can\\'t log an artifact to an anonymous run. ![](@site/static/images/app_ui/anon_example_warning.png) * **No profile or settings pages**: Certain pages aren\\'t available in the UI, because they\\'re only useful for real accounts. ## Example usage [Try the example notebook](http://bit.ly/anon-mode) to see how anonymous mode works. ```python import wandb # Start a run allowing anonymous accounts wandb.init(anonymous=\"allow\") # Log results from your training loop wandb.log({\"acc\": 0.91}) # Mark the run as finished wandb.finish() ```'},\n",
       " {'content': '--- slug: /guides/app/features/custom-charts displayed_sidebar: default --- import Tabs from \\'@theme/Tabs\\'; import TabItem from \\'@theme/TabItem\\'; # Custom Charts Use **Custom Charts** to create charts that aren\\'t possible right now in the default UI. Log arbitrary tables of data and visualize them exactly how you want. Control details of fonts, colors, and tooltips with the power of [Vega](https://vega.github.io/vega/). * **What\\'s possible**: Read the[ launch announcement →](https://wandb.ai/wandb/posts/reports/Announcing-the-W-B-Machine-Learning-Visualization-IDE--VmlldzoyNjk3Nzg) * **Code**: Try a live example in a[ hosted notebook →](https://tiny.cc/custom-charts) * **Video**: Watch a quick [walkthrough video →](https://www.youtube.com/watch?v=3-N9OV6bkSM) * **Example**: Quick Keras and Sklearn [demo notebook →](https://colab.research.google.com/drive/1g-gNGokPWM2Qbc8p1Gofud0\\\\_5AoZdoSD?usp=sharing) ![Supported charts from vega.github.io/vega](/images/app_ui/supported_charts.png) ### How it works 1. **Log data**: From your script, log [config](../../../../guides/track/config.md) and summary data as you normally would when running with W&B. To visualize a list of multiple values logged at one specific time, use a custom`wandb.Table` 2. **Customize the chart**: Pull in any of this logged data with a [GraphQL](https://graphql.org) query. Visualize the results of your query with [Vega](https://vega.github.io/vega/), a powerful visualization grammar. 3. **Log the chart**: Call your own preset from your script with `wandb.plot_table()`. ![](/images/app_ui/pr_roc.png) ## Log charts from a script ### Builtin presets These presets have builtin `wandb.plot` methods that make it fast to log charts directly from your script and see the exact visualizations you\\'re looking for in the UI. <Tabs defaultValue=\"line-plot\" values={[ {label: \\'Line plot\\', value: \\'line-plot\\'}, {label: \\'Scatter plot\\', value: \\'scatter-plot\\'}, {label: \\'Bar chart\\', value: \\'bar-chart\\'}, {label: \\'Histogram\\', value: \\'histogram\\'}, {label: \\'PR curve\\', value: \\'pr-curve\\'}, {label: \\'ROC curve\\', value: \\'roc-curve\\'}, ]}> <TabItem value=\"line-plot\"> `wandb.plot.line()` Log a custom line plot—a list of connected and ordered points (x,y) on arbitrary axes x and y. ```python data = [[x, y] for (x, y) in zip(x_values, y_values)] table = wandb.Table(data=data, columns=[\"x\", \"y\"]) wandb.log( { \"my_custom_plot_id\": wandb.plot.line( table, \"x\", \"y\", title=\"Custom Y vs X Line Plot\" ) } ) ``` You can use this to log curves on any two dimensions. Note that if you\\'re plotting two lists of values against each other, the number of values in the lists must match exactly (i.e. each point must have an x and a y). ![](/images/app_ui/line_plot.png) [See in the app →](https://wandb.ai/wandb/plots/reports/Custom-Line-Plots--VmlldzoyNjk5NTA) [Run the code →](https://tiny.cc/custom-charts) </TabItem> <TabItem value=\"scatter-plot\"> `wandb.plot.scatter()` Log a custom scatter plot—a list of points (x, y) on a pair of arbitrary axes x and y. ```python data = [[x, y] for (x, y) in zip(class_x_prediction_scores, class_y_prediction_scores)] table = wandb.Table(data=data, columns=[\"class_x\", \"class_y\"]) wandb.log({\"my_custom_id\": wandb.plot.scatter(table, \"class_x\", \"class_y\")}) ``` You can use this to log scatter points on any two dimensions. Note that if you\\'re plotting two lists of values against each other, the number of values in the lists must match exactly (i.e. each point must have an x and a y). ![](/images/app_ui/demo_scatter_plot.png) [See in the app →](https://wandb.ai/wandb/plots/reports/Custom-Scatter-Plots--VmlldzoyNjk5NDQ) [Run the code →](https://tiny.cc/custom-charts) </TabItem> <TabItem value=\"bar-chart\"> `wandb.plot.bar()` Log a custom bar chart—a list of labeled values as bars—natively in a few lines: ```python data = [[label, val] for (label, val) in zip(labels, values)] table = wandb.Table(data=data, columns=[\"label\", \"value\"]) wandb.log( { \"my_bar_chart_id\": wandb.plot.bar( table, \"label\", \"value\", title=\"Custom Bar Chart\" ) } ) ``` You',\n",
       "  'metadata': {'source': 'guides/app/features/custom-charts/intro.md',\n",
       "   'raw_tokens': 500,\n",
       "   'cleaned_tokens': 500},\n",
       "  'cleaned_content': '--- slug: /guides/app/features/custom-charts displayed_sidebar: default --- import Tabs from \\'@theme/Tabs\\'; import TabItem from \\'@theme/TabItem\\'; # Custom Charts Use **Custom Charts** to create charts that aren\\'t possible right now in the default UI. Log arbitrary tables of data and visualize them exactly how you want. Control details of fonts, colors, and tooltips with the power of [Vega](https://vega.github.io/vega/). * **What\\'s possible**: Read the[ launch announcement →](https://wandb.ai/wandb/posts/reports/Announcing-the-W-B-Machine-Learning-Visualization-IDE--VmlldzoyNjk3Nzg) * **Code**: Try a live example in a[ hosted notebook →](https://tiny.cc/custom-charts) * **Video**: Watch a quick [walkthrough video →](https://www.youtube.com/watch?v=3-N9OV6bkSM) * **Example**: Quick Keras and Sklearn [demo notebook →](https://colab.research.google.com/drive/1g-gNGokPWM2Qbc8p1Gofud0\\\\_5AoZdoSD?usp=sharing) ![Supported charts from vega.github.io/vega](/images/app_ui/supported_charts.png) ### How it works 1. **Log data**: From your script, log [config](../../../../guides/track/config.md) and summary data as you normally would when running with W&B. To visualize a list of multiple values logged at one specific time, use a custom`wandb.Table` 2. **Customize the chart**: Pull in any of this logged data with a [GraphQL](https://graphql.org) query. Visualize the results of your query with [Vega](https://vega.github.io/vega/), a powerful visualization grammar. 3. **Log the chart**: Call your own preset from your script with `wandb.plot_table()`. ![](/images/app_ui/pr_roc.png) ## Log charts from a script ### Builtin presets These presets have builtin `wandb.plot` methods that make it fast to log charts directly from your script and see the exact visualizations you\\'re looking for in the UI. <Tabs defaultValue=\"line-plot\" values={[ {label: \\'Line plot\\', value: \\'line-plot\\'}, {label: \\'Scatter plot\\', value: \\'scatter-plot\\'}, {label: \\'Bar chart\\', value: \\'bar-chart\\'}, {label: \\'Histogram\\', value: \\'histogram\\'}, {label: \\'PR curve\\', value: \\'pr-curve\\'}, {label: \\'ROC curve\\', value: \\'roc-curve\\'}, ]}> <TabItem value=\"line-plot\"> `wandb.plot.line()` Log a custom line plot—a list of connected and ordered points (x,y) on arbitrary axes x and y. ```python data = [[x, y] for (x, y) in zip(x_values, y_values)] table = wandb.Table(data=data, columns=[\"x\", \"y\"]) wandb.log( { \"my_custom_plot_id\": wandb.plot.line( table, \"x\", \"y\", title=\"Custom Y vs X Line Plot\" ) } ) ``` You can use this to log curves on any two dimensions. Note that if you\\'re plotting two lists of values against each other, the number of values in the lists must match exactly (i.e. each point must have an x and a y). ![](/images/app_ui/line_plot.png) [See in the app →](https://wandb.ai/wandb/plots/reports/Custom-Line-Plots--VmlldzoyNjk5NTA) [Run the code →](https://tiny.cc/custom-charts) </TabItem> <TabItem value=\"scatter-plot\"> `wandb.plot.scatter()` Log a custom scatter plot—a list of points (x, y) on a pair of arbitrary axes x and y. ```python data = [[x, y] for (x, y) in zip(class_x_prediction_scores, class_y_prediction_scores)] table = wandb.Table(data=data, columns=[\"class_x\", \"class_y\"]) wandb.log({\"my_custom_id\": wandb.plot.scatter(table, \"class_x\", \"class_y\")}) ``` You can use this to log scatter points on any two dimensions. Note that if you\\'re plotting two lists of values against each other, the number of values in the lists must match exactly (i.e. each point must have an x and a y). ![](/images/app_ui/demo_scatter_plot.png) [See in the app →](https://wandb.ai/wandb/plots/reports/Custom-Scatter-Plots--VmlldzoyNjk5NDQ) [Run the code →](https://tiny.cc/custom-charts) </TabItem> <TabItem value=\"bar-chart\"> `wandb.plot.bar()` Log a custom bar chart—a list of labeled values as bars—natively in a few lines: ```python data = [[label, val] for (label, val) in zip(labels, values)] table = wandb.Table(data=data, columns=[\"label\", \"value\"]) wandb.log( { \"my_bar_chart_id\": wandb.plot.bar( table, \"label\", \"value\", title=\"Custom Bar Chart\" ) } ) ``` You'}]"
      ]
     },
     "execution_count": 16,
     "metadata": {},
     "output_type": "execute_result"
    }
   ],
   "source": [
    "chunked_artifact = run.use_artifact(f'{WANDB_ENTITY}/{WANDB_PROJECT}/chunked_data:latest', type='dataset')\n",
    "artifact_dir = chunked_artifact.download()\n",
    "chunked_data_file = pathlib.Path(f\"{artifact_dir}/documents.jsonl\")\n",
    "chunked_data = list(map(json.loads, chunked_data_file.read_text().splitlines()))\n",
    "chunked_data[:2]"
   ]
  },
  {
   "cell_type": "code",
   "execution_count": 77,
   "metadata": {},
   "outputs": [],
   "source": [
    "from scipy.spatial.distance import cdist\n",
    "from sklearn.feature_extraction.text import TfidfVectorizer\n",
    "\n",
    "class Retriever:\n",
    "    def __init__(self):\n",
    "        self.vectorizer = TfidfVectorizer(stop_words=\"english\", analyzer=\"char_wb\", ngram_range=(1, 2))\n",
    "        self.index = None\n",
    "        self.data = None\n",
    "\n",
    "    def index_data(self, data):\n",
    "        self.data = data\n",
    "        docs = [doc['cleaned_content'] for doc in data]\n",
    "        self.index = self.vectorizer.fit_transform(docs)\n",
    "\n",
    "    # @weave.op()\n",
    "    def search(self, query, k=5):\n",
    "        query_vec = self.vectorizer.transform([query])\n",
    "        cosine_distances = cdist(query_vec.todense(), self.index.todense(), metric=\"cosine\")[0]\n",
    "        top_k_indices = cosine_distances.argsort()[:k]\n",
    "        output = []\n",
    "        for idx in top_k_indices:\n",
    "            output.append({\n",
    "                \"source\": self.data[idx][\"metadata\"][\"source\"],\n",
    "                \"text\": self.data[idx][\"cleaned_content\"],\n",
    "                \"score\": 1 - cosine_distances[idx]\n",
    "            })\n",
    "        return output\n"
   ]
  },
  {
   "cell_type": "code",
   "execution_count": 95,
   "metadata": {},
   "outputs": [
    {
     "data": {
      "text/plain": [
       "[{'source': 'guides/prompts/quickstart.md',\n",
       "  'text': 'link generated in the previous step. This will redirect you to your Project workspace in the W&B App. Select a run you created to view the trace table, trace timeline and the model architecture of your LLM. ![](/images/prompts/trace_timeline_detailed.png) ### 6. LangChain Context Manager Depending on your use case, you might instead prefer to use a context manager to manage your logging to W&B: ```python from langchain.callbacks import wandb_tracing_enabled # unset the environment variable and use a context manager instead if \"LANGCHAIN_WANDB_TRACING\" in os.environ: del os.environ[\"LANGCHAIN_WANDB_TRACING\"] # enable tracing using a context manager with wandb_tracing_enabled(): math_agent.run(\"What is 5 raised to .123243 power?\") # this should be traced math_agent.run(\"What is 2 raised to .123243 power?\") # this should not be traced ``` Please report any issues with this LangChain integration to the [wandb repo](https://github.com/wandb/wandb/issues) with the tag `langchain` ## Use W&B Trace with Any LLM Pipeline or Plug-In :::info **Versions** Please use `wandb >= 0.15.4` ::: A W&B Trace is created by logging 1 or more \"spans\". A root span is expected, which can accept nested child spans, which can in turn accept their own child spans. Spans can be of type `AGENT`, `CHAIN`, `TOOL` or `LLM`. When logging with Trace, a single W&B run can have multiple calls to a LLM, Tool, Chain or Agent logged to it, there is no need to start a new W&B run after each generation from your model or pipeline, instead each call will be appended to the Trace Table. In this quickstart, we will how to log a single call to an OpenAI model to W&B Trace as a single span. Then we will show how to log a more complex series of nested spans. ### 1. Import Trace and start a Weights & Biases run Call `wandb.init` to start a W&B run. Here you can pass a W&B project name as well as an entity name (if logging to a W&B Team), as well as a config and more. See [`wandb.init`](../../ref/python/init.md) for the full list of arguments. Once your start a W&B run you will be asked to log in with your Weights & Biases **[API key](https:wwww.wandb.ai/authorize)**. ```python import wandb # start a wandb run to log to wandb.init(project=\"trace-example\") ``` You can also set the `entity` argument in `wandb.init` if logging to a W&B Team. ### 2. Log to a Trace Now we will query OpenAI times and log the results to a W&B Trace. We will log the inputs and outputs, start and end times, whether the OpenAI call was successful, the token usage, and additional metadata. You can see the full description of the arguments to the Trace class [here](https://github.com/wandb/wandb/blob/653015a014281f45770aaf43627f64d9c4f04a32/wandb/sdk/data_types/trace_tree.py#L166). ```python import openai import datetime from wandb.sdk.data_types.trace_tree import Trace openai.api_key = \"<YOUR_OPENAI_API_KEY>\" # define your conifg model_name = \"gpt-3.5-turbo\" temperature = 0.7 system_message = \"You are a helpful assistant that always replies in 3 concise bullet points using markdown.\" queries_ls = [ \"What is the capital of France?\", \"How do I boil an egg?\" * 10000, # deliberately trigger an openai',\n",
       "  'score': 0.8454086030688148},\n",
       " {'source': 'guides/technical-faq/general.md',\n",
       "  'text': \"your models, whether on your local machine, your lab cluster, or spot instances in the cloud, we give you the same centralized dashboard. You don't need to spend your time copying and organizing TensorBoard files from different machines. 5. **Powerful table**: Search, filter, sort, and group results from different models. It's easy to look over thousands of model versions and find the best-performing models for different tasks. TensorBoard isn't built to work well on large projects. 6. **Tools for collaboration**: Use W&B to organize complex machine learning projects. It's easy to share a link to W&B, and you can use private teams to have everyone send results to a shared project. We also support collaboration via reports— add interactive visualizations and describe your work in markdown. This is a great way to keep a work log, share findings with your supervisor, or present findings to your lab. Get started with a [free account](http://app.wandb.ai) ### How does wandb stream logs and writes to disk? W&B queues in memory but also [write the events to disk](https://github.com/wandb/wandb/blob/7cc4dd311f3cdba8a740be0dc8903075250a914e/wandb/sdk/internal/datastore.py) asynchronously to handle failures and for the `WANDB_MODE=offline` case where you can sync the data after it's been logged. In your terminal, you can see a path to the local run directory. This directory will contain a `.wandb` file that is the datastore above. If you're also logging images, we write them to `media/images` in that directory before uploading them to cloud storage. ### How to get multiple charts with different selected runs? With wandb reports the procedure is as follows: * Have multiple panel grids. * Add filters to filter the run sets of each panel grid. This will help in selecting the runs that you want to portray in the respective panels. * Create the charts you want in the panel grids. ### How is access to the API controlled? For simplicity, W&B uses API keys for authorization when accessing the API. You can find your API keys in your [settings](https://app.wandb.ai/settings). Your API key should be stored securely and never checked into version control. In addition to personal API keys, you can add Service Account users to your team. ### Does W&B support SSO for Multi-tenant? Yes, W&B supports setting up Single Sign-On (SSO) for the Multi-tenant offering via Auth0. W&B support SSO integration with any OIDC compliant identity provider(ex: Okta, AzureAD etc.). If you have an OIDC provider, please follow the steps below: * Create a `Single Page Application (SPA)` on your Identity Provider. * Set `grant_type` to `implicit` flow. * Set the callback URI to `https://wandb.auth0.com/login/callback`. **What W&B needs?** Once you have the above setup, contact your customer success manager(CSM) and let us know the `Client ID` and `Issuer URL` associated with the application. We'll then set up an Auth0 connection with the above details and enable SSO. ### What is a service account, and why is it useful? A service account (Enterprise-only feature) is an API key that has permissions to write to your team, but is not associated with a\",\n",
       "  'score': 0.845132002513239},\n",
       " {'source': 'guides/track/save-restore.md',\n",
       "  'text': 'Use the `restore` command of our [command line tool](../../ref/cli/README.md) to return to the state of your code when you ran a given run. ```shell # creates a branch and restores the code to the state # it was in when run $RUN_ID was executed wandb restore $RUN_ID ``` ### How does `wandb` capture the state of the code? When `wandb.init` is called from your script, a link is saved to the last git commit if the code is in a git repository. A diff patch is also created in case there are uncommitted changes or changes that are out of sync with your remote.',\n",
       "  'score': 0.844390030098505},\n",
       " {'source': 'guides/launch/launch-faqs.md',\n",
       "  'text': \"--- description: Answers to frequently asked question about W&B Launch. displayed_sidebar: default --- import Tabs from '@theme/Tabs'; import TabItem from '@theme/TabItem'; # Launch FAQs <head> <title>Frequently Asked Questions About Launch</title> </head> ## Getting Started ### I do not want W&B to build a container for me, can I still use Launch? Yes. Run the following to launch a pre-built docker image. Replace the items in the `<>` with your information: ```bash wandb launch -d <docker-image-uri> -q <queue-name> -E <entrypoint> ``` This will build a job when you create a run. Or you can make a job from an image: ```bash wandb job create image <image-name> -p <project> -e <entity> ``` ### Are there best practices for using Launch effectively? 1. Create your queue before you start your agent, so that you can set your agent to point to it easily. If you don’t do this, your agent will give errors and not work until you add a queue. 2. Create a W&B service account to start up the agent, so that it's not tied to an individual user account. 3. Use `wandb.config` to read and write your hyperparameters, so that they can be overwritten when re-running a job. Check out [this guide](https://docs.wandb.ai/guides/launch/create-launch-job#making-your-code-job-friendly) if you use argsparse. ### I do not like clicking- can I use Launch without going through the UI? Yes. The standard `wandb` CLI includes a `launch` subcommand that you can use to launch your jobs. For more info, try running ```bash wandb launch --help ``` ### Can Launch automatically provision (and spin down) compute resources for me in the target environment? This depends on the environment, we are able to provision resources in SageMaker, and Vertex. In Kubernetes, autoscalers can be used to automatically spin up and spin down resources when required. The Solution Architects at W&B are happy to work with you to configure your underlying Kubernetes infrastructure to facilitate retries, autoscaling, and use of spot instance node pools. Reach out to support@wandb.com or your shared Slack channel. ### Is `wandb launch -d` or `wandb job create image` uploading a whole docker artifact and not pulling from a registry? No. The `wandb launch -d` command will not upload to a registry for you. You need to upload your image to a registry yourself. Here are the general steps: 1. Build an image. 2. Push the image to a registry. The workflow looks like: ```bash docker build -t <repo-url>:<tag> . docker push <repo-url>:<tag> wandb launch -d <repo-url>:<tag> ``` From there, the launch agent will spin up a job pointing to that container. See [Advanced agent setup](./setup-agent-advanced.md#agent-configuration) for examples of how to give the agent access to pull an image from a container registry. For Kubernetes, the Kubernetes cluster pods will need access to the registry you are pushing to. ### Can I specify a Dockerfile and let W&B build a Docker image for me? Yes. This is particularly useful if you have a lot of requirements that do not change often, but you have a codebase that\",\n",
       "  'score': 0.8432119171767762},\n",
       " {'source': 'guides/track/log/distributed-training.md',\n",
       "  'text': 'Method 2: Many processes In this method, we track each process in the job, calling `wandb.init()` and `wandb.log()` from each process separately. We suggest you call `wandb.finish()` at the end of training, to mark that the run has completed so that all processes exit properly. This method makes more information accessible for logging. However, note that multiple W&B Runs are reported in the W&B App UI. It might be difficult to keep track of W&B Runs across multiple experiments. To mitigate this, provide a value to the group parameter when you initialize W&B to keep track of which W&B Run belongs to a given experiment. For more information about how to keep track of training and evaluation W&B Runs in experiments, see [Group Runs](../../runs/grouping.md). :::info **Use this method if you want to track metrics from individual processes**. Typical examples include the data and predictions on each node (for debugging data distribution) and metrics on individual batches outside of the main node. This method is not necessary to get system metrics from all nodes nor to get summary statistics available on the main node. ::: The following Python code snippet demonstrates how to set the group parameter when you initialize W&B: ```python if __name__ == \"__main__\": # Get args args = parse_args() # Initialize run run = wandb.init( entity=args.entity, project=args.project, group=\"DDP\", # all runs for the experiment in one group ) # Train model with DDP train(args, run) ``` Explore the W&B App UI to view an [example dashboard](https://wandb.ai/ayush-thakur/DDP?workspace=user-noahluna) of metrics tracked from multiple processes. Note that there are two W&B Runs grouped together in the left sidebar. Click on a group to view the dedicated group page for the experiment. The dedicated group page displays metrics from each process separately. ![](/images/experiments/dashboard_grouped_runs.png) The preceding image demonstrates the W&B App UI dashboard. On the sidebar we see two experiments. One labeled \\'null\\' and a second (bound by a yellow box) called \\'DPP\\'. If you expand the group (select the Group dropdown) you will see the W&B Runs that are associated to that experiment. ### Use W&B Service to avoid common distributed training issues. There are two common issues you might encounter when using W&B and distributed training: 1. **Hanging at the beginning of training** - A `wandb` process can hang if the `wandb` multiprocessing interferes with the multiprocessing from distributed training. 2. **Hanging at the end of training** - A training job might hang if the `wandb` process does not know when it needs to exit. Call the `wandb.finish()` API at the end of your Python script to tell W&B that the Run finished. The wandb.finish() API will finish uploading data and will cause W&B to exit. We recommend using the `wandb service` to improve the reliability of your distributed jobs. Both of the preceding training issues are commonly found in versions of the W&B SDK where wandb service is unavailable. ### Enable W&B Service Depending on your version of the W&B SDK, you might already have W&B Service enabled by default.',\n",
       "  'score': 0.8427245355013769}]"
      ]
     },
     "execution_count": 95,
     "metadata": {},
     "output_type": "execute_result"
    }
   ],
   "source": [
    "retriever = Retriever()\n",
    "retriever.index_data(chunked_data)\n",
    "retriever.search(\"How do I get get started with wandb?\")"
   ]
  },
  {
   "cell_type": "markdown",
   "metadata": {},
   "source": [
    "## Generating a response"
   ]
  },
  {
   "cell_type": "code",
   "execution_count": 96,
   "metadata": {},
   "outputs": [],
   "source": [
    "import nest_asyncio\n",
    "nest_asyncio.apply()\n",
    "import asyncio\n",
    "import dotenv\n",
    "dotenv.load_dotenv()\n",
    "\n",
    "import os\n",
    "\n",
    "from openai import AsyncOpenAI\n",
    "\n",
    "client = AsyncOpenAI(api_key=os.environ[\"OPENAI_API_KEY\"])\n",
    "\n",
    "\n",
    "# @weave.op()\n",
    "async def generate_response(query):\n",
    "    context = retriever.search(query)\n",
    "    context_text = \"\\n\".join([f\"Source: {item['source']}\\nText: {item['text']}\\n\\n\" for item in context])\n",
    "\n",
    "\n",
    "    system_message = {\n",
    "        \"role\": \"system\",\n",
    "        \"content\": \"You are a helpful customer support assistant that can answer questions about W&B\\n\\n\"\n",
    "        \"Your answers must be based only on the provided context.\\n\\n\"\n",
    "        f\"<context>\\n{context_text}\\n</context>\"\n",
    "    }\n",
    "\n",
    "    user_message = {\n",
    "        \"role\": \"user\",\n",
    "        \"content\": f\"Question: {query}\\n\\nAnswer:\"\n",
    "    }\n",
    "\n",
    "\n",
    "    response = await client.chat.completions.create(\n",
    "        model=\"gpt-3.5-turbo\",\n",
    "        messages=[system_message, user_message]\n",
    "    )\n",
    "\n",
    "    return response.choices[0].message.content\n"
   ]
  },
  {
   "cell_type": "code",
   "execution_count": 98,
   "metadata": {},
   "outputs": [
    {
     "name": "stdout",
     "output_type": "stream",
     "text": [
      "To get started with W&B, you can follow these steps:\n",
      "\n",
      "1. Import Trace and start a Weights & Biases run using `wandb.init`.\n",
      "2. Log data to a Trace by querying and logging the results.\n",
      "3. Use the W&B App to view the trace table, trace timeline, and model architecture of your Language Model (LLM).\n",
      "\n",
      "Remember to install the necessary version of `wandb` (>= 0.15.4) and log in with your Weights & Biases API key when prompted.\n"
     ]
    }
   ],
   "source": [
    "response = asyncio.run(generate_response(\"How do I get get started with wandb?\"))\n",
    "print(response)"
   ]
  },
  {
   "cell_type": "markdown",
   "metadata": {},
   "source": [
    "## Evaluating the RAG system\n",
    "\n",
    "Get from data from the docs website [FAQs](https://docs.wandb.ai/guides/technical-faq) to test the system."
   ]
  },
  {
   "cell_type": "code",
   "execution_count": 136,
   "metadata": {},
   "outputs": [],
   "source": [
    "# !pip install -U -qqq ranx"
   ]
  },
  {
   "cell_type": "markdown",
   "metadata": {},
   "source": [
    "### Collecting Some data for Evals"
   ]
  },
  {
   "cell_type": "code",
   "execution_count": 105,
   "metadata": {},
   "outputs": [
    {
     "name": "stdout",
     "output_type": "stream",
     "text": [
      "20\n"
     ]
    }
   ],
   "source": [
    "eval_samples = [\n",
    "    {\"query\": \"What is the difference between .log() and .summary?\", \"source\": \"guides/technical-faq/general.md\", },\n",
    "    {\"query\": \"How do I switch between accounts on the same machine?\", \"source\": \"guides/technical-faq/general.md\"},\n",
    "    {\"query\": \"How is W&B different from TensorBoard?\", \"source\": \"guides/technical-faq/general.md\"},\n",
    "    {\"query\": \"What is the difference between team and organization?\", \"source\": \"guides/technical-faq/admin.md\"},\n",
    "    {\"query\": \"What is the difference between team and entity? As a user - what does entity mean for me?\", \"source\": \"guides/technical-faq/admin.md\"},\n",
    "    {\"query\": \"Can I just log metrics, no code or dataset examples?\", \"source\": \"guides/technical-faq/metrics-and-performance.md\"},\n",
    "    {\"query\": \"How can I log a metric that doesn't change over time such as a final evaluation accuracy?\", \"source\": \"guides/technical-faq/metrics-and-performance.md\"},\n",
    "    {\"query\": \"How many runs to create per project?\", \"source\": \"guides/technical-faq/metrics-and-performance\"},\n",
    "    {\"query\": \"Can I run wandb offline?\", \"source\": \"guides/technical-faq/setup.md\"},\n",
    "    {\"query\": \"How do I deal with network issues?\", \"source\": \"guides/technical-faq/troubleshooting.md\"},\n",
    "    {\"query\": \"What happens if internet connection is lost while I'm training a model?\", \"source\": \"guides/technical-faq/troubleshooting.md\"},\n",
    "    {\"query\": \"Where do I find my API key?\", \"source\": \"quickstart.md\"},\n",
    "    {\"query\": \"How to create a W&B Experiment\", \"source\": \"guides/track/launch.md\"},\n",
    "    {\"query\": \"Log an artifact to W&B\", \"source\": \"guides/track/launch.md\"},\n",
    "    {\"query\": \"Log a table to a run\", \"source\": \"track/log/log-tables.md\"},\n",
    "    {\"query\": \"How do I log a list of values?\", \"source\": \"track/log/logging-faqs.md\"},\n",
    "    {\"query\": \"Is there a way to add extra values to a sweep, or do I need to start a new one?\", \"source\": \"guides/sweep/faqs.md\"},\n",
    "    {\"query\": \"Can we flag boolean variables as hyperparameters?\", \"source\": \"guides/sweep/faqs.md\"},\n",
    "    {\"query\": \"How do I programmatically access the human-readable run name?\", \"source\": \"guides/track/tracking-faq.md\"},\n",
    "    {\"query\": \"How can I save the git commit associated with my run?\", \"source\": \"guides/track/tracking-faq.md\"}\n",
    "]\n",
    "print(len(eval_samples))"
   ]
  },
  {
   "cell_type": "markdown",
   "metadata": {},
   "source": [
    "### Evaluating the Retriever"
   ]
  },
  {
   "cell_type": "code",
   "execution_count": 107,
   "metadata": {},
   "outputs": [
    {
     "data": {
      "text/html": [
       "<div>\n",
       "<style scoped>\n",
       "    .dataframe tbody tr th:only-of-type {\n",
       "        vertical-align: middle;\n",
       "    }\n",
       "\n",
       "    .dataframe tbody tr th {\n",
       "        vertical-align: top;\n",
       "    }\n",
       "\n",
       "    .dataframe thead th {\n",
       "        text-align: right;\n",
       "    }\n",
       "</style>\n",
       "<table border=\"1\" class=\"dataframe\">\n",
       "  <thead>\n",
       "    <tr style=\"text-align: right;\">\n",
       "      <th></th>\n",
       "      <th>Query</th>\n",
       "      <th>Expected Source</th>\n",
       "      <th>MRR Score</th>\n",
       "    </tr>\n",
       "  </thead>\n",
       "  <tbody>\n",
       "    <tr>\n",
       "      <th>0</th>\n",
       "      <td>What is the difference between .log() and .sum...</td>\n",
       "      <td>guides/technical-faq/general.md</td>\n",
       "      <td>0.500000</td>\n",
       "    </tr>\n",
       "    <tr>\n",
       "      <th>1</th>\n",
       "      <td>How do I switch between accounts on the same m...</td>\n",
       "      <td>guides/technical-faq/general.md</td>\n",
       "      <td>1.000000</td>\n",
       "    </tr>\n",
       "    <tr>\n",
       "      <th>2</th>\n",
       "      <td>How is W&amp;B different from TensorBoard?</td>\n",
       "      <td>guides/technical-faq/general.md</td>\n",
       "      <td>0.333333</td>\n",
       "    </tr>\n",
       "    <tr>\n",
       "      <th>3</th>\n",
       "      <td>What is the difference between team and organi...</td>\n",
       "      <td>guides/technical-faq/admin.md</td>\n",
       "      <td>1.000000</td>\n",
       "    </tr>\n",
       "    <tr>\n",
       "      <th>4</th>\n",
       "      <td>What is the difference between team and entity...</td>\n",
       "      <td>guides/technical-faq/admin.md</td>\n",
       "      <td>1.000000</td>\n",
       "    </tr>\n",
       "    <tr>\n",
       "      <th>5</th>\n",
       "      <td>Can I just log metrics, no code or dataset exa...</td>\n",
       "      <td>guides/technical-faq/metrics-and-performance.md</td>\n",
       "      <td>1.000000</td>\n",
       "    </tr>\n",
       "    <tr>\n",
       "      <th>6</th>\n",
       "      <td>How can I log a metric that doesn't change ove...</td>\n",
       "      <td>guides/technical-faq/metrics-and-performance.md</td>\n",
       "      <td>1.000000</td>\n",
       "    </tr>\n",
       "    <tr>\n",
       "      <th>7</th>\n",
       "      <td>How many runs to create per project?</td>\n",
       "      <td>guides/technical-faq/metrics-and-performance</td>\n",
       "      <td>0.000000</td>\n",
       "    </tr>\n",
       "    <tr>\n",
       "      <th>8</th>\n",
       "      <td>Can I run wandb offline?</td>\n",
       "      <td>guides/technical-faq/setup.md</td>\n",
       "      <td>1.000000</td>\n",
       "    </tr>\n",
       "    <tr>\n",
       "      <th>9</th>\n",
       "      <td>How do I deal with network issues?</td>\n",
       "      <td>guides/technical-faq/troubleshooting.md</td>\n",
       "      <td>0.500000</td>\n",
       "    </tr>\n",
       "    <tr>\n",
       "      <th>10</th>\n",
       "      <td>What happens if internet connection is lost wh...</td>\n",
       "      <td>guides/technical-faq/troubleshooting.md</td>\n",
       "      <td>1.000000</td>\n",
       "    </tr>\n",
       "    <tr>\n",
       "      <th>11</th>\n",
       "      <td>Where do I find my API key?</td>\n",
       "      <td>quickstart.md</td>\n",
       "      <td>0.000000</td>\n",
       "    </tr>\n",
       "    <tr>\n",
       "      <th>12</th>\n",
       "      <td>How to create a W&amp;B Experiment</td>\n",
       "      <td>guides/track/launch.md</td>\n",
       "      <td>1.000000</td>\n",
       "    </tr>\n",
       "    <tr>\n",
       "      <th>13</th>\n",
       "      <td>Log an artifact to W&amp;B</td>\n",
       "      <td>guides/track/launch.md</td>\n",
       "      <td>0.000000</td>\n",
       "    </tr>\n",
       "    <tr>\n",
       "      <th>14</th>\n",
       "      <td>Log a table to a run</td>\n",
       "      <td>track/log/log-tables.md</td>\n",
       "      <td>0.000000</td>\n",
       "    </tr>\n",
       "    <tr>\n",
       "      <th>15</th>\n",
       "      <td>How do I log a list of values?</td>\n",
       "      <td>track/log/logging-faqs.md</td>\n",
       "      <td>0.000000</td>\n",
       "    </tr>\n",
       "    <tr>\n",
       "      <th>16</th>\n",
       "      <td>Is there a way to add extra values to a sweep,...</td>\n",
       "      <td>guides/sweep/faqs.md</td>\n",
       "      <td>0.000000</td>\n",
       "    </tr>\n",
       "    <tr>\n",
       "      <th>17</th>\n",
       "      <td>Can we flag boolean variables as hyperparameters?</td>\n",
       "      <td>guides/sweep/faqs.md</td>\n",
       "      <td>0.000000</td>\n",
       "    </tr>\n",
       "    <tr>\n",
       "      <th>18</th>\n",
       "      <td>How do I programmatically access the human-rea...</td>\n",
       "      <td>guides/track/tracking-faq.md</td>\n",
       "      <td>0.000000</td>\n",
       "    </tr>\n",
       "    <tr>\n",
       "      <th>19</th>\n",
       "      <td>How can I save the git commit associated with ...</td>\n",
       "      <td>guides/track/tracking-faq.md</td>\n",
       "      <td>0.000000</td>\n",
       "    </tr>\n",
       "  </tbody>\n",
       "</table>\n",
       "</div>"
      ],
      "text/plain": [
       "                                                Query  \\\n",
       "0   What is the difference between .log() and .sum...   \n",
       "1   How do I switch between accounts on the same m...   \n",
       "2              How is W&B different from TensorBoard?   \n",
       "3   What is the difference between team and organi...   \n",
       "4   What is the difference between team and entity...   \n",
       "5   Can I just log metrics, no code or dataset exa...   \n",
       "6   How can I log a metric that doesn't change ove...   \n",
       "7                How many runs to create per project?   \n",
       "8                            Can I run wandb offline?   \n",
       "9                  How do I deal with network issues?   \n",
       "10  What happens if internet connection is lost wh...   \n",
       "11                        Where do I find my API key?   \n",
       "12                     How to create a W&B Experiment   \n",
       "13                             Log an artifact to W&B   \n",
       "14                               Log a table to a run   \n",
       "15                     How do I log a list of values?   \n",
       "16  Is there a way to add extra values to a sweep,...   \n",
       "17  Can we flag boolean variables as hyperparameters?   \n",
       "18  How do I programmatically access the human-rea...   \n",
       "19  How can I save the git commit associated with ...   \n",
       "\n",
       "                                    Expected Source  MRR Score  \n",
       "0                   guides/technical-faq/general.md   0.500000  \n",
       "1                   guides/technical-faq/general.md   1.000000  \n",
       "2                   guides/technical-faq/general.md   0.333333  \n",
       "3                     guides/technical-faq/admin.md   1.000000  \n",
       "4                     guides/technical-faq/admin.md   1.000000  \n",
       "5   guides/technical-faq/metrics-and-performance.md   1.000000  \n",
       "6   guides/technical-faq/metrics-and-performance.md   1.000000  \n",
       "7      guides/technical-faq/metrics-and-performance   0.000000  \n",
       "8                     guides/technical-faq/setup.md   1.000000  \n",
       "9           guides/technical-faq/troubleshooting.md   0.500000  \n",
       "10          guides/technical-faq/troubleshooting.md   1.000000  \n",
       "11                                    quickstart.md   0.000000  \n",
       "12                           guides/track/launch.md   1.000000  \n",
       "13                           guides/track/launch.md   0.000000  \n",
       "14                          track/log/log-tables.md   0.000000  \n",
       "15                        track/log/logging-faqs.md   0.000000  \n",
       "16                             guides/sweep/faqs.md   0.000000  \n",
       "17                             guides/sweep/faqs.md   0.000000  \n",
       "18                     guides/track/tracking-faq.md   0.000000  \n",
       "19                     guides/track/tracking-faq.md   0.000000  "
      ]
     },
     "metadata": {},
     "output_type": "display_data"
    }
   ],
   "source": [
    "import numpy as np\n",
    "import pandas as pd\n",
    "\n",
    "def calculate_mrr(retriever, eval_samples, k=5):\n",
    "    results = []\n",
    "    for sample in eval_samples:\n",
    "        query = sample['query']\n",
    "        expected_source = sample['source']\n",
    "        \n",
    "        search_results = retriever.search(query, k=k)\n",
    "        \n",
    "        # the rank of the expected source\n",
    "        for rank, result in enumerate(search_results, 1):\n",
    "            if result['source'] == expected_source:\n",
    "                mrr_score = 1 / rank\n",
    "                break\n",
    "        else:\n",
    "            # expected source not found in top k results\n",
    "            mrr_score = 0\n",
    "        \n",
    "        results.append({\n",
    "            'Query': query,\n",
    "            'Expected Source': expected_source,\n",
    "            'MRR Score': mrr_score\n",
    "        })\n",
    "    \n",
    "    df = pd.DataFrame(results)\n",
    "    df['MRR Score'] = df['MRR Score'].astype(float)  # Ensure MRR Score is float\n",
    "    \n",
    "    return df\n",
    "\n",
    "# Evaluate\n",
    "results_df = calculate_mrr(retriever, eval_samples)\n",
    "display(results_df)"
   ]
  },
  {
   "cell_type": "code",
   "execution_count": 110,
   "metadata": {},
   "outputs": [
    {
     "name": "stdout",
     "output_type": "stream",
     "text": [
      "Overall MRR Score: 0.4667\n"
     ]
    },
    {
     "data": {
      "text/html": [
       "<div>\n",
       "<style scoped>\n",
       "    .dataframe tbody tr th:only-of-type {\n",
       "        vertical-align: middle;\n",
       "    }\n",
       "\n",
       "    .dataframe tbody tr th {\n",
       "        vertical-align: top;\n",
       "    }\n",
       "\n",
       "    .dataframe thead th {\n",
       "        text-align: right;\n",
       "    }\n",
       "</style>\n",
       "<table border=\"1\" class=\"dataframe\">\n",
       "  <thead>\n",
       "    <tr style=\"text-align: right;\">\n",
       "      <th></th>\n",
       "      <th>count</th>\n",
       "      <th>mean</th>\n",
       "      <th>std</th>\n",
       "      <th>min</th>\n",
       "      <th>25%</th>\n",
       "      <th>50%</th>\n",
       "      <th>75%</th>\n",
       "      <th>max</th>\n",
       "    </tr>\n",
       "  </thead>\n",
       "  <tbody>\n",
       "    <tr>\n",
       "      <th>MRR Score</th>\n",
       "      <td>20.0</td>\n",
       "      <td>0.466667</td>\n",
       "      <td>0.473262</td>\n",
       "      <td>0.0</td>\n",
       "      <td>0.0</td>\n",
       "      <td>0.416667</td>\n",
       "      <td>1.0</td>\n",
       "      <td>1.0</td>\n",
       "    </tr>\n",
       "  </tbody>\n",
       "</table>\n",
       "</div>"
      ],
      "text/plain": [
       "           count      mean       std  min  25%       50%  75%  max\n",
       "MRR Score   20.0  0.466667  0.473262  0.0  0.0  0.416667  1.0  1.0"
      ]
     },
     "metadata": {},
     "output_type": "display_data"
    }
   ],
   "source": [
    "overall_mrr = results_df['MRR Score'].mean()\n",
    "print(f\"Mean MRR Score: {overall_mrr:.4f}\")\n",
    "\n",
    "# Calculate and print overall MRR score\n",
    "display(pd.DataFrame(results_df['MRR Score'].describe()).T)"
   ]
  },
  {
   "cell_type": "markdown",
   "metadata": {},
   "source": [
    "#### Evaluating on other metrics"
   ]
  },
  {
   "cell_type": "code",
   "execution_count": 137,
   "metadata": {},
   "outputs": [],
   "source": [
    "from ranx import Qrels, Run, evaluate\n",
    "import pandas as pd\n",
    "\n",
    "METRICS = [\"ndcg@5\", \"map@5\", \"mrr\", \"hit_rate\", \"precision\", \"recall\", \"f1\"]\n",
    "def evaluate_retriever(retriever, eval_samples, k=5, metrics=METRICS):\n",
    "    # Prepare qrels_dict\n",
    "    qrels_dict = {}\n",
    "    for i, sample in enumerate(eval_samples):\n",
    "        qrels_dict[f\"q_{i}\"] = {sample['source']: 1}  # Assuming relevance of 1 for the correct source\n",
    "\n",
    "    # Prepare run_dict\n",
    "    run_dict = {}\n",
    "    for i, sample in enumerate(eval_samples):\n",
    "        query = sample['query']\n",
    "        results = retriever.search(query, k=k)\n",
    "        run_dict[f\"q_{i}\"] = {result['source']: result['score'] for result in results}\n",
    "\n",
    "    # Create Qrels and Run objects\n",
    "    qrels = Qrels(qrels_dict)\n",
    "    run = Run(run_dict)\n",
    "\n",
    "    # Compute metrics\n",
    "    score_dict = evaluate(qrels, run, metrics, return_mean=False)\n",
    "\n",
    "    # Combine eval_samples and scores into a DataFrame\n",
    "    results_df = pd.concat([pd.DataFrame(eval_samples), pd.DataFrame(score_dict)], axis=1)\n",
    "    \n",
    "    return results_df"
   ]
  },
  {
   "cell_type": "code",
   "execution_count": 138,
   "metadata": {},
   "outputs": [
    {
     "data": {
      "text/html": [
       "<div>\n",
       "<style scoped>\n",
       "    .dataframe tbody tr th:only-of-type {\n",
       "        vertical-align: middle;\n",
       "    }\n",
       "\n",
       "    .dataframe tbody tr th {\n",
       "        vertical-align: top;\n",
       "    }\n",
       "\n",
       "    .dataframe thead th {\n",
       "        text-align: right;\n",
       "    }\n",
       "</style>\n",
       "<table border=\"1\" class=\"dataframe\">\n",
       "  <thead>\n",
       "    <tr style=\"text-align: right;\">\n",
       "      <th></th>\n",
       "      <th>query</th>\n",
       "      <th>source</th>\n",
       "      <th>ndcg@5</th>\n",
       "      <th>map@5</th>\n",
       "      <th>mrr</th>\n",
       "      <th>hit_rate</th>\n",
       "      <th>precision</th>\n",
       "      <th>recall</th>\n",
       "      <th>f1</th>\n",
       "    </tr>\n",
       "  </thead>\n",
       "  <tbody>\n",
       "    <tr>\n",
       "      <th>0</th>\n",
       "      <td>What is the difference between .log() and .sum...</td>\n",
       "      <td>guides/technical-faq/general.md</td>\n",
       "      <td>0.630930</td>\n",
       "      <td>0.50</td>\n",
       "      <td>0.50</td>\n",
       "      <td>1.0</td>\n",
       "      <td>0.20</td>\n",
       "      <td>1.0</td>\n",
       "      <td>0.333333</td>\n",
       "    </tr>\n",
       "    <tr>\n",
       "      <th>1</th>\n",
       "      <td>How do I switch between accounts on the same m...</td>\n",
       "      <td>guides/technical-faq/general.md</td>\n",
       "      <td>1.000000</td>\n",
       "      <td>1.00</td>\n",
       "      <td>1.00</td>\n",
       "      <td>1.0</td>\n",
       "      <td>0.20</td>\n",
       "      <td>1.0</td>\n",
       "      <td>0.333333</td>\n",
       "    </tr>\n",
       "    <tr>\n",
       "      <th>2</th>\n",
       "      <td>How is W&amp;B different from TensorBoard?</td>\n",
       "      <td>guides/technical-faq/general.md</td>\n",
       "      <td>1.000000</td>\n",
       "      <td>1.00</td>\n",
       "      <td>1.00</td>\n",
       "      <td>1.0</td>\n",
       "      <td>0.20</td>\n",
       "      <td>1.0</td>\n",
       "      <td>0.333333</td>\n",
       "    </tr>\n",
       "    <tr>\n",
       "      <th>3</th>\n",
       "      <td>What is the difference between team and organi...</td>\n",
       "      <td>guides/technical-faq/admin.md</td>\n",
       "      <td>0.000000</td>\n",
       "      <td>0.00</td>\n",
       "      <td>0.00</td>\n",
       "      <td>0.0</td>\n",
       "      <td>0.00</td>\n",
       "      <td>0.0</td>\n",
       "      <td>0.000000</td>\n",
       "    </tr>\n",
       "    <tr>\n",
       "      <th>4</th>\n",
       "      <td>What is the difference between team and entity...</td>\n",
       "      <td>guides/technical-faq/admin.md</td>\n",
       "      <td>1.000000</td>\n",
       "      <td>1.00</td>\n",
       "      <td>1.00</td>\n",
       "      <td>1.0</td>\n",
       "      <td>0.20</td>\n",
       "      <td>1.0</td>\n",
       "      <td>0.333333</td>\n",
       "    </tr>\n",
       "    <tr>\n",
       "      <th>5</th>\n",
       "      <td>Can I just log metrics, no code or dataset exa...</td>\n",
       "      <td>guides/technical-faq/metrics-and-performance.md</td>\n",
       "      <td>0.000000</td>\n",
       "      <td>0.00</td>\n",
       "      <td>0.00</td>\n",
       "      <td>0.0</td>\n",
       "      <td>0.00</td>\n",
       "      <td>0.0</td>\n",
       "      <td>0.000000</td>\n",
       "    </tr>\n",
       "    <tr>\n",
       "      <th>6</th>\n",
       "      <td>How can I log a metric that doesn't change ove...</td>\n",
       "      <td>guides/technical-faq/metrics-and-performance.md</td>\n",
       "      <td>0.000000</td>\n",
       "      <td>0.00</td>\n",
       "      <td>0.00</td>\n",
       "      <td>0.0</td>\n",
       "      <td>0.00</td>\n",
       "      <td>0.0</td>\n",
       "      <td>0.000000</td>\n",
       "    </tr>\n",
       "    <tr>\n",
       "      <th>7</th>\n",
       "      <td>How many runs to create per project?</td>\n",
       "      <td>guides/technical-faq/metrics-and-performance</td>\n",
       "      <td>0.000000</td>\n",
       "      <td>0.00</td>\n",
       "      <td>0.00</td>\n",
       "      <td>0.0</td>\n",
       "      <td>0.00</td>\n",
       "      <td>0.0</td>\n",
       "      <td>0.000000</td>\n",
       "    </tr>\n",
       "    <tr>\n",
       "      <th>8</th>\n",
       "      <td>Can I run wandb offline?</td>\n",
       "      <td>guides/technical-faq/setup.md</td>\n",
       "      <td>0.000000</td>\n",
       "      <td>0.00</td>\n",
       "      <td>0.00</td>\n",
       "      <td>0.0</td>\n",
       "      <td>0.00</td>\n",
       "      <td>0.0</td>\n",
       "      <td>0.000000</td>\n",
       "    </tr>\n",
       "    <tr>\n",
       "      <th>9</th>\n",
       "      <td>How do I deal with network issues?</td>\n",
       "      <td>guides/technical-faq/troubleshooting.md</td>\n",
       "      <td>0.000000</td>\n",
       "      <td>0.00</td>\n",
       "      <td>0.00</td>\n",
       "      <td>0.0</td>\n",
       "      <td>0.00</td>\n",
       "      <td>0.0</td>\n",
       "      <td>0.000000</td>\n",
       "    </tr>\n",
       "    <tr>\n",
       "      <th>10</th>\n",
       "      <td>What happens if internet connection is lost wh...</td>\n",
       "      <td>guides/technical-faq/troubleshooting.md</td>\n",
       "      <td>0.000000</td>\n",
       "      <td>0.00</td>\n",
       "      <td>0.00</td>\n",
       "      <td>0.0</td>\n",
       "      <td>0.00</td>\n",
       "      <td>0.0</td>\n",
       "      <td>0.000000</td>\n",
       "    </tr>\n",
       "    <tr>\n",
       "      <th>11</th>\n",
       "      <td>Where do I find my API key?</td>\n",
       "      <td>quickstart.md</td>\n",
       "      <td>0.000000</td>\n",
       "      <td>0.00</td>\n",
       "      <td>0.00</td>\n",
       "      <td>0.0</td>\n",
       "      <td>0.00</td>\n",
       "      <td>0.0</td>\n",
       "      <td>0.000000</td>\n",
       "    </tr>\n",
       "    <tr>\n",
       "      <th>12</th>\n",
       "      <td>How to create a W&amp;B Experiment</td>\n",
       "      <td>guides/track/launch.md</td>\n",
       "      <td>0.430677</td>\n",
       "      <td>0.25</td>\n",
       "      <td>0.25</td>\n",
       "      <td>1.0</td>\n",
       "      <td>0.25</td>\n",
       "      <td>1.0</td>\n",
       "      <td>0.400000</td>\n",
       "    </tr>\n",
       "    <tr>\n",
       "      <th>13</th>\n",
       "      <td>Log an artifact to W&amp;B</td>\n",
       "      <td>guides/track/launch.md</td>\n",
       "      <td>1.000000</td>\n",
       "      <td>1.00</td>\n",
       "      <td>1.00</td>\n",
       "      <td>1.0</td>\n",
       "      <td>0.20</td>\n",
       "      <td>1.0</td>\n",
       "      <td>0.333333</td>\n",
       "    </tr>\n",
       "    <tr>\n",
       "      <th>14</th>\n",
       "      <td>Log a table to a run</td>\n",
       "      <td>track/log/log-tables.md</td>\n",
       "      <td>1.000000</td>\n",
       "      <td>1.00</td>\n",
       "      <td>1.00</td>\n",
       "      <td>1.0</td>\n",
       "      <td>0.20</td>\n",
       "      <td>1.0</td>\n",
       "      <td>0.333333</td>\n",
       "    </tr>\n",
       "    <tr>\n",
       "      <th>15</th>\n",
       "      <td>How do I log a list of values?</td>\n",
       "      <td>track/log/logging-faqs.md</td>\n",
       "      <td>1.000000</td>\n",
       "      <td>1.00</td>\n",
       "      <td>1.00</td>\n",
       "      <td>1.0</td>\n",
       "      <td>0.25</td>\n",
       "      <td>1.0</td>\n",
       "      <td>0.400000</td>\n",
       "    </tr>\n",
       "    <tr>\n",
       "      <th>16</th>\n",
       "      <td>Is there a way to add extra values to a sweep,...</td>\n",
       "      <td>guides/sweep/faqs.md</td>\n",
       "      <td>1.000000</td>\n",
       "      <td>1.00</td>\n",
       "      <td>1.00</td>\n",
       "      <td>1.0</td>\n",
       "      <td>0.20</td>\n",
       "      <td>1.0</td>\n",
       "      <td>0.333333</td>\n",
       "    </tr>\n",
       "    <tr>\n",
       "      <th>17</th>\n",
       "      <td>Can we flag boolean variables as hyperparameters?</td>\n",
       "      <td>guides/sweep/faqs.md</td>\n",
       "      <td>0.000000</td>\n",
       "      <td>0.00</td>\n",
       "      <td>0.00</td>\n",
       "      <td>0.0</td>\n",
       "      <td>0.00</td>\n",
       "      <td>0.0</td>\n",
       "      <td>0.000000</td>\n",
       "    </tr>\n",
       "    <tr>\n",
       "      <th>18</th>\n",
       "      <td>How do I programmatically access the human-rea...</td>\n",
       "      <td>guides/track/tracking-faq.md</td>\n",
       "      <td>1.000000</td>\n",
       "      <td>1.00</td>\n",
       "      <td>1.00</td>\n",
       "      <td>1.0</td>\n",
       "      <td>0.20</td>\n",
       "      <td>1.0</td>\n",
       "      <td>0.333333</td>\n",
       "    </tr>\n",
       "    <tr>\n",
       "      <th>19</th>\n",
       "      <td>How can I save the git commit associated with ...</td>\n",
       "      <td>guides/track/tracking-faq.md</td>\n",
       "      <td>0.630930</td>\n",
       "      <td>0.50</td>\n",
       "      <td>0.50</td>\n",
       "      <td>1.0</td>\n",
       "      <td>0.20</td>\n",
       "      <td>1.0</td>\n",
       "      <td>0.333333</td>\n",
       "    </tr>\n",
       "  </tbody>\n",
       "</table>\n",
       "</div>"
      ],
      "text/plain": [
       "                                                query  \\\n",
       "0   What is the difference between .log() and .sum...   \n",
       "1   How do I switch between accounts on the same m...   \n",
       "2              How is W&B different from TensorBoard?   \n",
       "3   What is the difference between team and organi...   \n",
       "4   What is the difference between team and entity...   \n",
       "5   Can I just log metrics, no code or dataset exa...   \n",
       "6   How can I log a metric that doesn't change ove...   \n",
       "7                How many runs to create per project?   \n",
       "8                            Can I run wandb offline?   \n",
       "9                  How do I deal with network issues?   \n",
       "10  What happens if internet connection is lost wh...   \n",
       "11                        Where do I find my API key?   \n",
       "12                     How to create a W&B Experiment   \n",
       "13                             Log an artifact to W&B   \n",
       "14                               Log a table to a run   \n",
       "15                     How do I log a list of values?   \n",
       "16  Is there a way to add extra values to a sweep,...   \n",
       "17  Can we flag boolean variables as hyperparameters?   \n",
       "18  How do I programmatically access the human-rea...   \n",
       "19  How can I save the git commit associated with ...   \n",
       "\n",
       "                                             source    ndcg@5  map@5   mrr  \\\n",
       "0                   guides/technical-faq/general.md  0.630930   0.50  0.50   \n",
       "1                   guides/technical-faq/general.md  1.000000   1.00  1.00   \n",
       "2                   guides/technical-faq/general.md  1.000000   1.00  1.00   \n",
       "3                     guides/technical-faq/admin.md  0.000000   0.00  0.00   \n",
       "4                     guides/technical-faq/admin.md  1.000000   1.00  1.00   \n",
       "5   guides/technical-faq/metrics-and-performance.md  0.000000   0.00  0.00   \n",
       "6   guides/technical-faq/metrics-and-performance.md  0.000000   0.00  0.00   \n",
       "7      guides/technical-faq/metrics-and-performance  0.000000   0.00  0.00   \n",
       "8                     guides/technical-faq/setup.md  0.000000   0.00  0.00   \n",
       "9           guides/technical-faq/troubleshooting.md  0.000000   0.00  0.00   \n",
       "10          guides/technical-faq/troubleshooting.md  0.000000   0.00  0.00   \n",
       "11                                    quickstart.md  0.000000   0.00  0.00   \n",
       "12                           guides/track/launch.md  0.430677   0.25  0.25   \n",
       "13                           guides/track/launch.md  1.000000   1.00  1.00   \n",
       "14                          track/log/log-tables.md  1.000000   1.00  1.00   \n",
       "15                        track/log/logging-faqs.md  1.000000   1.00  1.00   \n",
       "16                             guides/sweep/faqs.md  1.000000   1.00  1.00   \n",
       "17                             guides/sweep/faqs.md  0.000000   0.00  0.00   \n",
       "18                     guides/track/tracking-faq.md  1.000000   1.00  1.00   \n",
       "19                     guides/track/tracking-faq.md  0.630930   0.50  0.50   \n",
       "\n",
       "    hit_rate  precision  recall        f1  \n",
       "0        1.0       0.20     1.0  0.333333  \n",
       "1        1.0       0.20     1.0  0.333333  \n",
       "2        1.0       0.20     1.0  0.333333  \n",
       "3        0.0       0.00     0.0  0.000000  \n",
       "4        1.0       0.20     1.0  0.333333  \n",
       "5        0.0       0.00     0.0  0.000000  \n",
       "6        0.0       0.00     0.0  0.000000  \n",
       "7        0.0       0.00     0.0  0.000000  \n",
       "8        0.0       0.00     0.0  0.000000  \n",
       "9        0.0       0.00     0.0  0.000000  \n",
       "10       0.0       0.00     0.0  0.000000  \n",
       "11       0.0       0.00     0.0  0.000000  \n",
       "12       1.0       0.25     1.0  0.400000  \n",
       "13       1.0       0.20     1.0  0.333333  \n",
       "14       1.0       0.20     1.0  0.333333  \n",
       "15       1.0       0.25     1.0  0.400000  \n",
       "16       1.0       0.20     1.0  0.333333  \n",
       "17       0.0       0.00     0.0  0.000000  \n",
       "18       1.0       0.20     1.0  0.333333  \n",
       "19       1.0       0.20     1.0  0.333333  "
      ]
     },
     "metadata": {},
     "output_type": "display_data"
    },
    {
     "name": "stdout",
     "output_type": "stream",
     "text": [
      "\n",
      "Mean Overall Scores:\n"
     ]
    },
    {
     "data": {
      "text/html": [
       "<div>\n",
       "<style scoped>\n",
       "    .dataframe tbody tr th:only-of-type {\n",
       "        vertical-align: middle;\n",
       "    }\n",
       "\n",
       "    .dataframe tbody tr th {\n",
       "        vertical-align: top;\n",
       "    }\n",
       "\n",
       "    .dataframe thead th {\n",
       "        text-align: right;\n",
       "    }\n",
       "</style>\n",
       "<table border=\"1\" class=\"dataframe\">\n",
       "  <thead>\n",
       "    <tr style=\"text-align: right;\">\n",
       "      <th></th>\n",
       "      <th>ndcg@5</th>\n",
       "      <th>map@5</th>\n",
       "      <th>mrr</th>\n",
       "      <th>hit_rate</th>\n",
       "      <th>precision</th>\n",
       "      <th>recall</th>\n",
       "      <th>f1</th>\n",
       "    </tr>\n",
       "  </thead>\n",
       "  <tbody>\n",
       "    <tr>\n",
       "      <th>0</th>\n",
       "      <td>0.484627</td>\n",
       "      <td>0.4625</td>\n",
       "      <td>0.4625</td>\n",
       "      <td>0.55</td>\n",
       "      <td>0.115</td>\n",
       "      <td>0.55</td>\n",
       "      <td>0.19</td>\n",
       "    </tr>\n",
       "  </tbody>\n",
       "</table>\n",
       "</div>"
      ],
      "text/plain": [
       "     ndcg@5   map@5     mrr  hit_rate  precision  recall    f1\n",
       "0  0.484627  0.4625  0.4625      0.55      0.115    0.55  0.19"
      ]
     },
     "metadata": {},
     "output_type": "display_data"
    },
    {
     "name": "stdout",
     "output_type": "stream",
     "text": [
      "\n",
      "Overall Score Statistics:\n"
     ]
    },
    {
     "data": {
      "text/html": [
       "<div>\n",
       "<style scoped>\n",
       "    .dataframe tbody tr th:only-of-type {\n",
       "        vertical-align: middle;\n",
       "    }\n",
       "\n",
       "    .dataframe tbody tr th {\n",
       "        vertical-align: top;\n",
       "    }\n",
       "\n",
       "    .dataframe thead th {\n",
       "        text-align: right;\n",
       "    }\n",
       "</style>\n",
       "<table border=\"1\" class=\"dataframe\">\n",
       "  <thead>\n",
       "    <tr style=\"text-align: right;\">\n",
       "      <th></th>\n",
       "      <th>count</th>\n",
       "      <th>mean</th>\n",
       "      <th>std</th>\n",
       "      <th>min</th>\n",
       "      <th>25%</th>\n",
       "      <th>50%</th>\n",
       "      <th>75%</th>\n",
       "      <th>max</th>\n",
       "    </tr>\n",
       "  </thead>\n",
       "  <tbody>\n",
       "    <tr>\n",
       "      <th>ndcg@5</th>\n",
       "      <td>20.0</td>\n",
       "      <td>0.484627</td>\n",
       "      <td>0.474861</td>\n",
       "      <td>0.0</td>\n",
       "      <td>0.0</td>\n",
       "      <td>0.530803</td>\n",
       "      <td>1.000000</td>\n",
       "      <td>1.00</td>\n",
       "    </tr>\n",
       "    <tr>\n",
       "      <th>map@5</th>\n",
       "      <td>20.0</td>\n",
       "      <td>0.462500</td>\n",
       "      <td>0.474861</td>\n",
       "      <td>0.0</td>\n",
       "      <td>0.0</td>\n",
       "      <td>0.375000</td>\n",
       "      <td>1.000000</td>\n",
       "      <td>1.00</td>\n",
       "    </tr>\n",
       "    <tr>\n",
       "      <th>mrr</th>\n",
       "      <td>20.0</td>\n",
       "      <td>0.462500</td>\n",
       "      <td>0.474861</td>\n",
       "      <td>0.0</td>\n",
       "      <td>0.0</td>\n",
       "      <td>0.375000</td>\n",
       "      <td>1.000000</td>\n",
       "      <td>1.00</td>\n",
       "    </tr>\n",
       "    <tr>\n",
       "      <th>hit_rate</th>\n",
       "      <td>20.0</td>\n",
       "      <td>0.550000</td>\n",
       "      <td>0.510418</td>\n",
       "      <td>0.0</td>\n",
       "      <td>0.0</td>\n",
       "      <td>1.000000</td>\n",
       "      <td>1.000000</td>\n",
       "      <td>1.00</td>\n",
       "    </tr>\n",
       "    <tr>\n",
       "      <th>precision</th>\n",
       "      <td>20.0</td>\n",
       "      <td>0.115000</td>\n",
       "      <td>0.107728</td>\n",
       "      <td>0.0</td>\n",
       "      <td>0.0</td>\n",
       "      <td>0.200000</td>\n",
       "      <td>0.200000</td>\n",
       "      <td>0.25</td>\n",
       "    </tr>\n",
       "    <tr>\n",
       "      <th>recall</th>\n",
       "      <td>20.0</td>\n",
       "      <td>0.550000</td>\n",
       "      <td>0.510418</td>\n",
       "      <td>0.0</td>\n",
       "      <td>0.0</td>\n",
       "      <td>1.000000</td>\n",
       "      <td>1.000000</td>\n",
       "      <td>1.00</td>\n",
       "    </tr>\n",
       "    <tr>\n",
       "      <th>f1</th>\n",
       "      <td>20.0</td>\n",
       "      <td>0.190000</td>\n",
       "      <td>0.177408</td>\n",
       "      <td>0.0</td>\n",
       "      <td>0.0</td>\n",
       "      <td>0.333333</td>\n",
       "      <td>0.333333</td>\n",
       "      <td>0.40</td>\n",
       "    </tr>\n",
       "  </tbody>\n",
       "</table>\n",
       "</div>"
      ],
      "text/plain": [
       "           count      mean       std  min  25%       50%       75%   max\n",
       "ndcg@5      20.0  0.484627  0.474861  0.0  0.0  0.530803  1.000000  1.00\n",
       "map@5       20.0  0.462500  0.474861  0.0  0.0  0.375000  1.000000  1.00\n",
       "mrr         20.0  0.462500  0.474861  0.0  0.0  0.375000  1.000000  1.00\n",
       "hit_rate    20.0  0.550000  0.510418  0.0  0.0  1.000000  1.000000  1.00\n",
       "precision   20.0  0.115000  0.107728  0.0  0.0  0.200000  0.200000  0.25\n",
       "recall      20.0  0.550000  0.510418  0.0  0.0  1.000000  1.000000  1.00\n",
       "f1          20.0  0.190000  0.177408  0.0  0.0  0.333333  0.333333  0.40"
      ]
     },
     "metadata": {},
     "output_type": "display_data"
    }
   ],
   "source": [
    "# Usage\n",
    "results_df = evaluate_retriever(retriever, eval_samples)\n",
    "display(results_df)\n",
    "\n",
    "print(\"\\nMean Overall Scores:\")\n",
    "display(pd.DataFrame(results_df[METRICS].mean()).T)\n",
    "\n",
    "print(\"\\nOverall Score Statistics:\")\n",
    "display(pd.DataFrame(results_df[METRICS].describe()).T)"
   ]
  },
  {
   "cell_type": "markdown",
   "metadata": {},
   "source": [
    "### Evaluating the Response"
   ]
  },
  {
   "cell_type": "markdown",
   "metadata": {},
   "source": []
  }
 ],
 "metadata": {
  "kernelspec": {
   "display_name": "rag-edu",
   "language": "python",
   "name": "python3"
  },
  "language_info": {
   "codemirror_mode": {
    "name": "ipython",
    "version": 3
   },
   "file_extension": ".py",
   "mimetype": "text/x-python",
   "name": "python",
   "nbconvert_exporter": "python",
   "pygments_lexer": "ipython3",
   "version": "3.10.14"
  }
 },
 "nbformat": 4,
 "nbformat_minor": 2
}
