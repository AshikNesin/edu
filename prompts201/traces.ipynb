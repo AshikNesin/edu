{
 "cells": [
  {
   "attachments": {},
   "cell_type": "markdown",
   "metadata": {},
   "source": [
    "\n",
    "# Debugging LLM Chains: A Practical Guide\n",
    "\n",
    "When working with large language models (LLMs) like GPT-4 and beyond, engineers often face the challenge of understanding the data flow and decision paths taken by the model. One critical tool in this endeavor is the tracing of LLM chains, akin to debugging in traditional software development. By tracing these chains, we can isolate specific points in the model's operations where things might go awry, or simply gain deeper insights into its behavior. In this article, we'll break down the nuts and bolts of this process, offering practical steps and tools for efficient and effective tracing. Let's dive in."
   ]
  },
  {
   "attachments": {},
   "cell_type": "markdown",
   "metadata": {},
   "source": [
    "\n",
    "## Introducing Our Coding Exercise LLM Chain\n",
    "\n",
    "We're engineering an LLM chain designed to serve up coding exercises tailored to student needs. Here's the workflow: \n",
    "1. First, we interpret the student's query. \n",
    "2. Next, we pull existing user data. \n",
    "3. We use LLM to combine existing user data with the new query to keep track of user's progress\n",
    "4. This data is fed into our LLM to formulate a customized coding assignment. \n",
    "\n",
    "With multiple steps in the mix, things can occasionally go sideways. Tracing becomes paramount, not just for pinpointing where a potential breakdown might occur, but also for ensuring that each step seamlessly leads to the next. In this article, we'll walk through how to implement a robust tracing mechanism to keep this workflow smooth and efficient."
   ]
  },
  {
   "attachments": {},
   "cell_type": "markdown",
   "metadata": {},
   "source": [
    "## OpenAI Login\n",
    "We'll use OpenAI API in this tutorial, so we need to set the `OPENAI_API_KEY' environment variable first. "
   ]
  },
  {
   "cell_type": "code",
   "execution_count": 1,
   "metadata": {},
   "outputs": [
    {
     "name": "stdout",
     "output_type": "stream",
     "text": [
      "OpenAI API key configured\n"
     ]
    }
   ],
   "source": [
    "from getpass import getpass\n",
    "import openai\n",
    "import os\n",
    "\n",
    "if os.getenv(\"OPENAI_API_KEY\") is None:\n",
    "  if any(['VSCODE' in x for x in os.environ.keys()]):\n",
    "    print('Please enter password in the VS Code prompt at the top of your VS Code window!')\n",
    "  os.environ[\"OPENAI_API_KEY\"] = getpass(\"Paste your OpenAI key from: https://platform.openai.com/account/api-keys\\n\")\n",
    "  openai.api_key = os.getenv(\"OPENAI_API_KEY\", \"\")\n",
    "\n",
    "assert os.getenv(\"OPENAI_API_KEY\", \"\").startswith(\"sk-\"), \"This doesn't look like a valid OpenAI API key\"\n",
    "print(\"OpenAI API key configured\")"
   ]
  },
  {
   "attachments": {},
   "cell_type": "markdown",
   "metadata": {},
   "source": [
    "## Store user data\n",
    "We need to persist the status of our users, so that we can serve them customized assignments. Here, we'll go for a simplistic solution and simply store it in a text file. "
   ]
  },
  {
   "cell_type": "code",
   "execution_count": 2,
   "metadata": {},
   "outputs": [
    {
     "name": "stdout",
     "output_type": "stream",
     "text": [
      "The user found the previous assignment too challenging and is requesting help. They are given a step-by-step breakdown of the problem and code implementation. The user is advised to test the function with different inputs and is encouraged to ask for further assistance if needed.\n"
     ]
    }
   ],
   "source": [
    "def retrieve_user_data(user_id: str, directory_path: str = 'user_data/') -> dict:\n",
    "    \"\"\"\n",
    "    Fetch user data from a text file based on user_id.\n",
    "    If no data is found for a user, return a default string.\n",
    "    \"\"\"\n",
    "    file_path = os.path.join(directory_path, f\"{user_id}.txt\")\n",
    "    \n",
    "    # If the file exists for the user, read and return the content.\n",
    "    if os.path.exists(file_path):\n",
    "        with open(file_path, 'r') as file:\n",
    "            user_status_summary = file.read().strip()\n",
    "        return user_status_summary\n",
    "    # If no file/data is found for the user, return a default value.\n",
    "    else:\n",
    "        return 'No previous data found.'\n",
    "\n",
    "# Usage example:\n",
    "print(retrieve_user_data(\"user123\"))"
   ]
  },
  {
   "attachments": {},
   "cell_type": "markdown",
   "metadata": {},
   "source": [
    "## LLM API\n",
    "We'll use a simple wrapper on top of the `openai.ChatCompletion` API, and decorate it to handle rate limits gracefully. "
   ]
  },
  {
   "cell_type": "code",
   "execution_count": 3,
   "metadata": {},
   "outputs": [
    {
     "name": "stdout",
     "output_type": "stream",
     "text": [
      "Sure! Here's a challenging Python exercise for you:\n",
      "\n",
      "Write a function called `common_elements` that takes two lists as input and returns a new list containing the elements that are common between the two input lists. The order of the elements in the output list doesn't matter.\n",
      "\n",
      "For example, if the input lists are `[1, 2, 3, 4]` and `[3, 4, 5, 6]`, the output should be `[3, 4]`.\n",
      "\n",
      "You are not allowed to use any built-in Python functions or libraries that directly solve this problem. You must implement the solution yourself.\n",
      "\n",
      "Try to come up with an efficient solution with a time complexity better than O(n^2), if possible.\n"
     ]
    }
   ],
   "source": [
    "from tenacity import (\n",
    "    retry,\n",
    "    stop_after_attempt,\n",
    "    wait_random_exponential, # for exponential backoff\n",
    ")  \n",
    "\n",
    "MODEL_NAME = \"gpt-3.5-turbo\"\n",
    "\n",
    "system_prompt = \"You are an AI tutor helping students prepare for machine learning coding interviews.\"\n",
    "\n",
    "@retry(wait=wait_random_exponential(min=1, max=60), stop=stop_after_attempt(6))\n",
    "def completion_with_backoff(**kwargs):\n",
    "    return openai.ChatCompletion.create(**kwargs)\n",
    "\n",
    "def llm(system_prompt, user_prompt, n=1):\n",
    "    messages=[\n",
    "            {\"role\": \"system\", \"content\": system_prompt},\n",
    "            {\"role\": \"user\", \"content\": user_prompt},\n",
    "        ]\n",
    "    responses = completion_with_backoff(\n",
    "        model=MODEL_NAME,\n",
    "        messages=messages,\n",
    "        n = n,\n",
    "        )\n",
    "    return responses.choices[0].message.content\n",
    "\n",
    "user_prompt = \"I want a challenging Python exercise.\"\n",
    "print(llm(system_prompt, user_prompt))"
   ]
  },
  {
   "attachments": {},
   "cell_type": "markdown",
   "metadata": {},
   "source": [
    "## Generating Assignments\n",
    "We can now put together the user summary we retrieved from our storage, combine it with user query, and use LLM to generate an assignment. "
   ]
  },
  {
   "cell_type": "code",
   "execution_count": 4,
   "metadata": {},
   "outputs": [
    {
     "name": "stdout",
     "output_type": "stream",
     "text": [
      "Sure! How about trying to solve the following problem:\n",
      "\n",
      "Write a Python function called \"unique_characters\" that takes in a string as input and returns True if all the characters in the string are unique (i.e., no character appears more than once), and False otherwise. The function should be case-sensitive.\n",
      "\n",
      "For example:\n",
      "- unique_characters(\"abcde\") should return True\n",
      "- unique_characters(\"aabbcc\") should return False\n",
      "- unique_characters(\"Hello\") should return True\n",
      "- unique_characters(\"Python\") should return False\n",
      "\n",
      "To solve this problem, you can follow these steps:\n",
      "1. Initialize an empty set called \"char_set\" to store the unique characters.\n",
      "2. Iterate over each character \"ch\" in the input string.\n",
      "3. Inside the loop, check if the character \"ch\" is already in the \"char_set\". If it is, return False because it means the character is repeated.\n",
      "4. If the character \"ch\" is not in the \"char_set\", add it to the set.\n",
      "5. After the loop, if all the characters have been processed without any repeats, return True.\n",
      "\n",
      "Here's an implementation of the function:\n",
      "\n",
      "```\n",
      "def unique_characters(s):\n",
      "    char_set = set()\n",
      "    for ch in s:\n",
      "        if ch in char_set:\n",
      "            return False\n",
      "        char_set.add(ch)\n",
      "    return True\n",
      "```\n",
      "\n",
      "I encourage you to test the function with different inputs to verify its correctness. If you have any questions or need further assistance, feel free to ask!\n"
     ]
    }
   ],
   "source": [
    "def generate_assignment(user_summary: str, user_query: str) -> str:\n",
    "    \"\"\"\n",
    "    Based on user's summary and query, use LLM to generate a coding assignment.\n",
    "    \"\"\"\n",
    "    combined_prompt = f\"This is the information we know about the user: {user_summary}\\nThis is the user query: {user_query}\"\n",
    "    return llm(system_prompt, combined_prompt)\n",
    "\n",
    "# Usage example:\n",
    "user_data = retrieve_user_data(\"user123\")\n",
    "user_query = \"I want a challenging Python exercise.\"\n",
    "print(generate_assignment(user_data, user_query))"
   ]
  },
  {
   "attachments": {},
   "cell_type": "markdown",
   "metadata": {},
   "source": [
    "## Update user state\n",
    "We have more information about the user now - the query we got from them, and the assignment we proposed. We need to update the our user data with this new information. "
   ]
  },
  {
   "cell_type": "code",
   "execution_count": 6,
   "metadata": {},
   "outputs": [
    {
     "name": "stdout",
     "output_type": "stream",
     "text": [
      "The user requested a challenging Python exercise. An assignment was generated that involves finding all unique triplets in a given list of integers that sum up to zero. The function `find_triplets` needs to be implemented to solve this problem. The generated exercise includes an example, a note, and a step-by-step breakdown of how to implement the solution. The user is encouraged to test the function with different inputs and ask for further assistance if needed.\n"
     ]
    }
   ],
   "source": [
    "def summarize_data(user_id: str, previous_summary: str, user_query: str, generated_assignment: str, directory_path: str = 'user_data/') -> str:\n",
    "    \"\"\"\n",
    "    Request a new summary using LLM based on the previous summary, user query, and generated assignment.\n",
    "    Save the new summary to the user's file, overwriting its previous contents.\n",
    "    \"\"\"\n",
    "    system_prompt = \"You are responsible for accurately and concisely summarizing user information that can be used later on to generate appropriate coding assignments for students, track progress etc.\"\n",
    "    # Combine inputs to form the prompt for LLM\n",
    "    combined_prompt = f\"Previous Summary: {previous_summary}\\nUser Query: {user_query}\\nGenerated Assignment: {generated_assignment}\\nPlease summarize this information.\"\n",
    "    \n",
    "    # Request a new summary using the llm function\n",
    "    new_summary = llm(system_prompt, combined_prompt)\n",
    "\n",
    "    # Save the new summary to the user's file\n",
    "    file_path = os.path.join(directory_path, f\"{user_id}.txt\")\n",
    "    with open(file_path, 'w') as file:\n",
    "        file.write(new_summary)\n",
    "\n",
    "    return new_summary\n",
    "\n",
    "# Usage example:\n",
    "user_data = retrieve_user_data(\"user123\")\n",
    "user_query = \"I want a challenging Python exercise.\"\n",
    "generated_assignment = generate_assignment(user_data, user_query)\n",
    "new_summary = summarize_data(\"user123\", user_data, user_query, generated_assignment)\n",
    "print(new_summary)"
   ]
  },
  {
   "attachments": {},
   "cell_type": "markdown",
   "metadata": {},
   "source": [
    "## Putting things together\n",
    "We have all the building blocks now to get an assignment based on a user query. Let's see what we get!"
   ]
  },
  {
   "cell_type": "code",
   "execution_count": 8,
   "metadata": {},
   "outputs": [
    {
     "name": "stdout",
     "output_type": "stream",
     "text": [
      "No worries! I'm here to help. Let's start by breaking down the problem into smaller steps. Remember, practice makes perfect, so even if it feels challenging, it's a great opportunity to learn.\n",
      "\n",
      "To solve this problem, we need to find all unique triplets in a given list of integers that sum up to zero. Here's the step-by-step breakdown:\n",
      "\n",
      "1. Sort the input list in ascending order.\n",
      "   - This will help us in identifying unique triplets efficiently.\n",
      "\n",
      "2. Initialize an empty result list to store the triplets.\n",
      "\n",
      "3. Iterate through the input list, considering each element as the first element of the triplet.\n",
      "\n",
      "4. For each first element, use a two-pointer approach to find the remaining two elements that sum up to the negative of the first element.\n",
      "   - Let's say the current element is `num`. We need to find two elements in the remaining part of the list that sum up to `-num`.\n",
      "\n",
      "5. Determine the left and right pointers. The left pointer should start from the next element after `num`, and the right pointer should start from the end of the list.\n",
      "\n",
      "6. While the left pointer is less than the right pointer, do the following:\n",
      "   - Calculate the sum of the elements at the left and right pointers: `curr_sum = nums[i] + nums[left] + nums[right]`.\n",
      "\n",
      "   - If `curr_sum` is equal to zero, we found a triplet. Append it to the result list.\n",
      "\n",
      "   - If `curr_sum` is less than zero, increment the left pointer.\n",
      "     - Since the array is sorted, moving the left pointer to the right will increase the sum.\n",
      "\n",
      "   - If `curr_sum` is greater than zero, decrement the right pointer.\n",
      "     - Since the array is sorted, moving the right pointer to the left will decrease the sum.\n",
      "\n",
      "7. Repeat steps 4-6 for each element in the input list.\n",
      "\n",
      "8. Remove any duplicate triplets from the result list.\n",
      "\n",
      "9. Return the result list.\n",
      "\n",
      "It's totally fine if you find it difficult initially. Let's start implementing the `find_triplets` function together. Feel free to ask any questions along the way!\n"
     ]
    }
   ],
   "source": [
    "def get_assignment(user_id: str, user_query: str, directory_path: str = 'user_data/') -> str:\n",
    "    \"\"\"\n",
    "    Central function to interpret the user query, fetch user data, generate assignment, and summarize the data.\n",
    "    \"\"\"\n",
    "    # Retrieve the user's previous data\n",
    "    previous_summary = retrieve_user_data(user_id, directory_path)\n",
    "\n",
    "    # Generate a coding assignment based on the user's previous summary and query\n",
    "    generated_assignment = generate_assignment(previous_summary, user_query)\n",
    "    \n",
    "    # Summarize the data and save the new summary for the user\n",
    "    summarize_data(user_id, previous_summary, user_query, generated_assignment, directory_path)\n",
    "    \n",
    "    return generated_assignment\n",
    "\n",
    "# Usage example:\n",
    "resulting_assignment = get_assignment(\"user123\", \"That was too hard for me.\")\n",
    "print(resulting_assignment)\n"
   ]
  },
  {
   "attachments": {},
   "cell_type": "markdown",
   "metadata": {},
   "source": [
    "## Why Tracing Matters\n",
    "\n",
    "By now, you've probably noticed how we've integrated W&B Traces into the code. This straightforward addition holds immense value for software engineers. It effectively saves all essential data—computation inputs, outputs, timing, and metadata—in a structured `StreamTable`. This practical functionality enables you to easily monitor, debug, and analytically dissect your code's behavior during both development and production. No complex steps required—just click the link to weave.wandb.ai. There, you can conveniently create a default Trace Debug Board using the right-hand panel and explore your Traces visually or craft your own custom charts. It's a practical, hands-on approach to enhancing your code analysis and debugging process."
   ]
  },
  {
   "attachments": {},
   "cell_type": "markdown",
   "metadata": {},
   "source": []
  }
 ],
 "metadata": {
  "kernelspec": {
   "display_name": "Python 3 (ipykernel)",
   "language": "python",
   "name": "python3"
  },
  "language_info": {
   "codemirror_mode": {
    "name": "ipython",
    "version": 3
   },
   "file_extension": ".py",
   "mimetype": "text/x-python",
   "name": "python",
   "nbconvert_exporter": "python",
   "pygments_lexer": "ipython3",
   "version": "3.9.7"
  },
  "orig_nbformat": 4
 },
 "nbformat": 4,
 "nbformat_minor": 2
}
