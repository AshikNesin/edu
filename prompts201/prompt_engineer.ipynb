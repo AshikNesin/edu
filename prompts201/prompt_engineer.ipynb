{
 "cells": [
  {
   "attachments": {},
   "cell_type": "markdown",
   "metadata": {},
   "source": [
    "# The Art and Science of Prompt Engineering\n",
    "\n",
    "Welcome to a journey into the world of prompt engineering. This is where creativity meets technology. We'll learn how to craft prompts using APIs, shape them with templates and parameters, and track our progress using a tool called Weights & Biases (W&B). This knowledge will empower you to generate diverse and engaging content, a skill that's invaluable in many fields, especially in AI and machine learning.\n"
   ]
  },
  {
   "cell_type": "code",
   "execution_count": 1,
   "metadata": {},
   "outputs": [
    {
     "name": "stdout",
     "output_type": "stream",
     "text": [
      "Please enter password in the VS Code prompt at the top of your VS Code window!\n",
      "OpenAI API key configured\n"
     ]
    }
   ],
   "source": [
    "from getpass import getpass\n",
    "import os\n",
    "import openai\n",
    "\n",
    "if os.getenv(\"OPENAI_API_KEY\") is None:\n",
    "  if any(['VSCODE' in x for x in os.environ.keys()]):\n",
    "    print('Please enter password in the VS Code prompt at the top of your VS Code window!')\n",
    "  os.environ[\"OPENAI_API_KEY\"] = getpass(\"Paste your OpenAI key from: https://platform.openai.com/account/api-keys\\n\")\n",
    "  openai.api_key = os.getenv(\"OPENAI_API_KEY\", \"\")\n",
    "\n",
    "assert os.getenv(\"OPENAI_API_KEY\", \"\").startswith(\"sk-\"), \"This doesn't look like a valid OpenAI API key\"\n",
    "print(\"OpenAI API key configured\")"
   ]
  },
  {
   "cell_type": "code",
   "execution_count": 9,
   "metadata": {},
   "outputs": [],
   "source": [
    "# Import necessary libraries\n",
    "import openai\n",
    "from tenacity import (\n",
    "    retry,\n",
    "    stop_after_attempt,\n",
    "    wait_random_exponential, # for exponential backoff\n",
    ")  \n",
    "from rich.markdown import Markdown\n",
    "import wandb\n",
    "import time\n",
    "import datetime"
   ]
  },
  {
   "cell_type": "code",
   "execution_count": 3,
   "metadata": {},
   "outputs": [],
   "source": [
    "MODEL_NAME = \"gpt-3.5-turbo\"\n",
    "\n",
    "system_prompt = \"You are an AI tutor helping students prepare for machine learning coding interviews.\"\n",
    "user_prompt = \"Hi, can you give me an assignment? I'm just getting started.\""
   ]
  },
  {
   "attachments": {},
   "cell_type": "markdown",
   "metadata": {},
   "source": [
    "# Prompt Templates\n",
    "\n",
    "Prompt templates are a powerful tool for generating diverse and interesting prompts. Let's define a function to fill out these templates using parameters."
   ]
  },
  {
   "cell_type": "code",
   "execution_count": 15,
   "metadata": {},
   "outputs": [
    {
     "data": {
      "text/html": [
       "wandb version 0.15.10 is available!  To upgrade, please run:\n",
       " $ pip install wandb --upgrade"
      ],
      "text/plain": [
       "<IPython.core.display.HTML object>"
      ]
     },
     "metadata": {},
     "output_type": "display_data"
    },
    {
     "data": {
      "text/html": [
       "Tracking run with wandb version 0.15.7"
      ],
      "text/plain": [
       "<IPython.core.display.HTML object>"
      ]
     },
     "metadata": {},
     "output_type": "display_data"
    },
    {
     "data": {
      "text/html": [
       "Run data is saved locally in <code>/Users/darek/Projects/prompts-tutorial/wandb/run-20230908_102724-xqyuuwuf</code>"
      ],
      "text/plain": [
       "<IPython.core.display.HTML object>"
      ]
     },
     "metadata": {},
     "output_type": "display_data"
    },
    {
     "data": {
      "text/html": [
       "Syncing run <strong><a href='https://wandb.ai/darek-kleczek/llmapps/runs/xqyuuwuf' target=\"_blank\">hopeful-deluge-2</a></strong> to <a href='https://wandb.ai/darek-kleczek/llmapps' target=\"_blank\">Weights & Biases</a> (<a href='https://wandb.me/run' target=\"_blank\">docs</a>)<br/>"
      ],
      "text/plain": [
       "<IPython.core.display.HTML object>"
      ]
     },
     "metadata": {},
     "output_type": "display_data"
    },
    {
     "data": {
      "text/html": [
       " View project at <a href='https://wandb.ai/darek-kleczek/llmapps' target=\"_blank\">https://wandb.ai/darek-kleczek/llmapps</a>"
      ],
      "text/plain": [
       "<IPython.core.display.HTML object>"
      ]
     },
     "metadata": {},
     "output_type": "display_data"
    },
    {
     "data": {
      "text/html": [
       " View run at <a href='https://wandb.ai/darek-kleczek/llmapps/runs/xqyuuwuf' target=\"_blank\">https://wandb.ai/darek-kleczek/llmapps/runs/xqyuuwuf</a>"
      ],
      "text/plain": [
       "<IPython.core.display.HTML object>"
      ]
     },
     "metadata": {},
     "output_type": "display_data"
    }
   ],
   "source": [
    "# Start a W&B run to track our experiments\n",
    "wandb.init(project=\"llmapps\")\n",
    "\n",
    "# Define W&B Table to store generations\n",
    "columns = [\"system_prompt\", \"user_prompt\", \"generations\", \"elapsed_time\", \"timestamp\",\\\n",
    "            \"model\", \"prompt_tokens\", \"completion_tokens\", \"total_tokens\"]\n",
    "table = wandb.Table(columns=columns)"
   ]
  },
  {
   "cell_type": "code",
   "execution_count": 16,
   "metadata": {},
   "outputs": [],
   "source": [
    "\n",
    "@retry(wait=wait_random_exponential(min=1, max=60), stop=stop_after_attempt(6))\n",
    "def completion_with_backoff(**kwargs):\n",
    "    return openai.ChatCompletion.create(**kwargs)\n",
    "\n",
    "def generate_and_print(system_prompt, user_prompt, table, n=1):\n",
    "    messages=[\n",
    "            {\"role\": \"system\", \"content\": system_prompt},\n",
    "            {\"role\": \"user\", \"content\": user_prompt},\n",
    "        ]\n",
    "    start_time = time.time()\n",
    "    responses = completion_with_backoff(\n",
    "        model=MODEL_NAME,\n",
    "        messages=messages,\n",
    "        n = n,\n",
    "        )\n",
    "    elapsed_time = time.time() - start_time\n",
    "    for response in responses.choices:\n",
    "        generation = response.message.content\n",
    "        print(generation)\n",
    "    table.add_data(system_prompt,\n",
    "                user_prompt,\n",
    "                [response.message.content for response in responses.choices],\n",
    "                elapsed_time,\n",
    "                datetime.datetime.fromtimestamp(responses.created),\n",
    "                responses.model,\n",
    "                responses.usage.prompt_tokens,\n",
    "                responses.usage.completion_tokens,\n",
    "                responses.usage.total_tokens\n",
    "                )"
   ]
  },
  {
   "cell_type": "code",
   "execution_count": 17,
   "metadata": {},
   "outputs": [
    {
     "name": "stdout",
     "output_type": "stream",
     "text": [
      "Of course! I can give you a simple coding assignment to begin with. Here's your task:\n",
      "\n",
      "Write a Python function that checks if a given number is prime or not. The function should take an integer as input and return a boolean value indicating whether the number is prime or not.\n",
      "\n",
      "Remember, a prime number is a number greater than 1 that has no positive divisors other than 1 and itself.\n",
      "\n",
      "Take your time to work on this task, and let me know when you're ready to discuss your solution or have any questions.\n"
     ]
    }
   ],
   "source": [
    "generate_and_print(system_prompt, user_prompt, table)"
   ]
  },
  {
   "cell_type": "code",
   "execution_count": 22,
   "metadata": {},
   "outputs": [],
   "source": [
    "system_prompt = \"\"\"You are an AI tutor helping students prepare for machine learning coding interviews.\n",
    "Your goal is to come up with learning assignments that will help students pass interviews. Specifically:\n",
    "- Prompt students to solve a task that involves a simple machine learning concept and a coding exercise\n",
    "- The task should be possible to solve in 30 minutes using a simple algorithm in Python\n",
    "- The instruction should be minimal. Don't provide hints at this stage. \n",
    "- The task should be solvable by a student who has taken a machine learning course and has some coding experience\n",
    "- The task should be interesting and fun to solve\n",
    "- The task should advance the student's knowledge of machine learning\n",
    "Start by summarizing what you're trying to achieve and your goals. Explain your reasoning behind the task and the way you present it. Then present the task concisely. \n",
    "Use this format:\n",
    "REASONING: max 3 sentences  \n",
    "TASK: max 3 sentences, no detailed instructions\n",
    "\"\"\"\n",
    "user_prompt = \"Hi, can you give me an assignment? I'm just getting started.\""
   ]
  },
  {
   "cell_type": "code",
   "execution_count": 23,
   "metadata": {},
   "outputs": [
    {
     "name": "stdout",
     "output_type": "stream",
     "text": [
      "REASONING: As a beginner, it's important to start with a simple task that covers a fundamental concept in machine learning. This will help you build a strong foundation and gain confidence in your abilities. \n",
      "\n",
      "TASK: Build a program that predicts whether a given email is spam or not spam, based on a set of pre-labeled emails. Use a binary classification algorithm of your choice to train a model using the provided dataset, and then use the trained model to predict the labels for a test set of emails. Finally, evaluate the accuracy of your model by comparing the predicted labels with the true labels.\n"
     ]
    }
   ],
   "source": [
    "generate_and_print(system_prompt, user_prompt, table)"
   ]
  },
  {
   "cell_type": "code",
   "execution_count": 24,
   "metadata": {},
   "outputs": [],
   "source": [
    "system_prompt = \"\"\"You are an AI tutor helping students prepare for machine learning coding interviews.\n",
    "Your goal is to come up with learning assignments that will help students pass interviews. Specifically:\n",
    "- Prompt students to solve a task that involves a simple machine learning concept and a coding exercise\n",
    "- The task should be possible to solve in 30 minutes using a simple algorithm in Python\n",
    "- The instruction should be minimal. Don't provide hints at this stage. \n",
    "- The task should be solvable by a student who has taken a machine learning course and has some coding experience\n",
    "- The task should be interesting and fun to solve\n",
    "- The task should advance the student's knowledge of machine learning\n",
    "Example tasks by level:\n",
    "- Beginner: calculate probability of 3 heads in 5 coin flips, count the number of times a word appears in a text\n",
    "- Intermediate: implement a single neuron in Python, implement a simple decision tree in Python\n",
    "- Advanced: implement backpropagation of a simple MLP in Python, implement a simple CNN in Python\n",
    "Start by summarizing what you're trying to achieve and your goals. Explain your reasoning behind the task and the way you present it. Then present the task concisely. \n",
    "Use this format:\n",
    "REASONING: max 3 sentences  \n",
    "TASK: max 3 sentences, no detailed instructions\n",
    "\"\"\"\n",
    "user_prompt = \"Hi, can you give me an assignment? I'm just getting started.\""
   ]
  },
  {
   "cell_type": "code",
   "execution_count": 25,
   "metadata": {},
   "outputs": [
    {
     "name": "stdout",
     "output_type": "stream",
     "text": [
      "REASONING: As a beginner, it's important to start with simple and foundational concepts in machine learning. This will build a strong understanding of the basics before diving into more complex topics. By starting with a task like calculating the probability of coin flips, students will learn about probability and basic statistical concepts, while also gaining experience in coding.\n",
      "\n",
      "TASK: Write a Python function that takes the number of coin flips `n` as input and calculates the probability of getting exactly `k` heads in `n` coin flips. The function should return the probability as a decimal value. For example, given `n=5` and `k=3`, the function should return `0.3125`. Use the formula for calculating the probability of a specific outcome in a binomial distribution.\n"
     ]
    }
   ],
   "source": [
    "generate_and_print(system_prompt, user_prompt, table)"
   ]
  },
  {
   "cell_type": "code",
   "execution_count": 26,
   "metadata": {},
   "outputs": [],
   "source": [
    "system_prompt = \"\"\"You are an AI tutor helping students prepare for machine learning coding interviews.\n",
    "Your goal is to come up with learning assignments that will help students pass interviews. Specifically:\n",
    "- Prompt students to solve a task that involves a simple machine learning concept and a coding exercise\n",
    "- The task should be possible to solve in 30 minutes using a simple algorithm in Python\n",
    "- The instruction should be minimal. Don't provide hints at this stage. \n",
    "- The task should be solvable by a student who has taken a machine learning course and has some coding experience\n",
    "- The task should be interesting and fun to solve\n",
    "- The task should advance the student's knowledge of machine learning\n",
    "Example tasks by level:\n",
    "- Beginner: calculate probability of 3 heads in 5 coin flips, count the number of times a word appears in a text\n",
    "- Intermediate: implement a single neuron in Python, implement a simple decision tree in Python\n",
    "- Advanced: implement backpropagation of a simple MLP in Python, implement a simple CNN in Python\n",
    "You'll be evaluated on:\n",
    "- conciseness of the task description\n",
    "- clarity of the task description\n",
    "- creativity of the task\n",
    "- matching the task to the student's level\n",
    "- learning value of the task\n",
    "Start by summarizing what you're trying to achieve and your goals. Explain your reasoning behind the task and the way you present it. Then present the task concisely. \n",
    "Use this format:\n",
    "REASONING: max 1 sentence\n",
    "TASK: max 5 short bullet points, no detailed instructions.\n",
    "\"\"\"\n",
    "user_prompt = \"Hi, can you give me an assignment? I'm just getting started.\""
   ]
  },
  {
   "cell_type": "code",
   "execution_count": 27,
   "metadata": {},
   "outputs": [
    {
     "name": "stdout",
     "output_type": "stream",
     "text": [
      "REASONING: A beginner-level assignment should be simple and cover a basic concept in machine learning.\n",
      "\n",
      "TASK:\n",
      "- Write a function in Python called \"mean_squared_error\" that takes in two lists of numbers, `y_true` and `y_pred`, and calculates the mean squared error between them.\n",
      "- Calculate the mean squared error between the following two lists: [1, 2, 3, 4, 5] and [2, 4, 6, 8, 10].\n",
      "- Implement a function called \"linear_regression\" that takes in two lists of numbers, `X` and `y`, and performs simple linear regression (fitting a line of the form `y = mx + b`) using the least squares method.\n",
      "- Use the \"linear_regression\" function to find the best-fitting line for the following data points:\n",
      "    X: [1, 2, 3, 4, 5]\n",
      "    y: [2, 3, 4, 5, 6]\n",
      "- Print the equation of the line (in the form `y = mx + b`) that best fits the given data points.\n"
     ]
    }
   ],
   "source": [
    "generate_and_print(system_prompt, user_prompt, table)"
   ]
  },
  {
   "cell_type": "code",
   "execution_count": 28,
   "metadata": {},
   "outputs": [
    {
     "data": {
      "text/html": [
       "Waiting for W&B process to finish... <strong style=\"color:green\">(success).</strong>"
      ],
      "text/plain": [
       "<IPython.core.display.HTML object>"
      ]
     },
     "metadata": {},
     "output_type": "display_data"
    },
    {
     "data": {
      "text/html": [
       " View run <strong style=\"color:#cdcd00\">hopeful-deluge-2</strong> at: <a href='https://wandb.ai/darek-kleczek/llmapps/runs/xqyuuwuf' target=\"_blank\">https://wandb.ai/darek-kleczek/llmapps/runs/xqyuuwuf</a><br/>Synced 6 W&B file(s), 1 media file(s), 1 artifact file(s) and 1 other file(s)"
      ],
      "text/plain": [
       "<IPython.core.display.HTML object>"
      ]
     },
     "metadata": {},
     "output_type": "display_data"
    },
    {
     "data": {
      "text/html": [
       "Find logs at: <code>./wandb/run-20230908_102724-xqyuuwuf/logs</code>"
      ],
      "text/plain": [
       "<IPython.core.display.HTML object>"
      ]
     },
     "metadata": {},
     "output_type": "display_data"
    }
   ],
   "source": [
    "wandb.log({\"simple_generations\": table})\n",
    "wandb.finish()"
   ]
  },
  {
   "attachments": {},
   "cell_type": "markdown",
   "metadata": {},
   "source": [
    "# APIs\n",
    "\n",
    "We can use various APIs to fetch data and generate prompts. Let's see how this works."
   ]
  },
  {
   "cell_type": "code",
   "execution_count": null,
   "metadata": {},
   "outputs": [],
   "source": [
    "# Code to fetch data from APIs and generate prompts goes here\n"
   ]
  },
  {
   "attachments": {},
   "cell_type": "markdown",
   "metadata": {},
   "source": [
    "# Logging Results\n",
    "\n",
    "We will log our results to a W&B Table. This will allow us to track our experiments and analyze the results."
   ]
  },
  {
   "cell_type": "code",
   "execution_count": null,
   "metadata": {},
   "outputs": [],
   "source": [
    "run = wandb.init(project=\"prompt-engineering\")\n",
    "table = wandb.Table(columns=[\"Prompt\", \"Response\"])\n",
    "\n",
    "# Generate prompts and responses here...\n",
    "\n",
    "table.add_data(prompt, response)\n",
    "run.log({\"results\": table})"
   ]
  },
  {
   "attachments": {},
   "cell_type": "markdown",
   "metadata": {},
   "source": [
    "# Experiments\n",
    "\n",
    "Now we will run experiments using different prompt templates and parameters. We will log the results to our W&B Table."
   ]
  },
  {
   "cell_type": "code",
   "execution_count": null,
   "metadata": {},
   "outputs": [],
   "source": [
    "# Code to run experiments and log results goes here"
   ]
  },
  {
   "attachments": {},
   "cell_type": "markdown",
   "metadata": {},
   "source": [
    "# Conclusion\n",
    "\n",
    "In this notebook, we explored the concept of prompt engineering. We used various APIs to generate prompts, filled them out using templates and parameters, and logged the results to a W&B Table. This approach has many potential applications in natural language processing and machine learning."
   ]
  },
  {
   "attachments": {},
   "cell_type": "markdown",
   "metadata": {},
   "source": []
  }
 ],
 "metadata": {
  "kernelspec": {
   "display_name": "local",
   "language": "python",
   "name": "python3"
  },
  "language_info": {
   "codemirror_mode": {
    "name": "ipython",
    "version": 3
   },
   "file_extension": ".py",
   "mimetype": "text/x-python",
   "name": "python",
   "nbconvert_exporter": "python",
   "pygments_lexer": "ipython3",
   "version": "3.8.13"
  },
  "orig_nbformat": 4
 },
 "nbformat": 4,
 "nbformat_minor": 2
}
