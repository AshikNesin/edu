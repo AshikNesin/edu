{
 "cells": [
  {
   "cell_type": "code",
   "execution_count": 1,
   "metadata": {},
   "outputs": [],
   "source": [
    "import weave\n",
    "from set_env import set_env\n",
    "import nest_asyncio"
   ]
  },
  {
   "cell_type": "code",
   "execution_count": 2,
   "metadata": {},
   "outputs": [
    {
     "name": "stdout",
     "output_type": "stream",
     "text": [
      "Env set\n"
     ]
    }
   ],
   "source": [
    "set_env(\"GOOGLE_API_KEY\")\n",
    "set_env(\"WANDB_API_KEY\")\n",
    "print(\"Env set\")"
   ]
  },
  {
   "cell_type": "code",
   "execution_count": 3,
   "metadata": {},
   "outputs": [],
   "source": [
    "try:\n",
    "    import IPython\n",
    "    in_jupyter = True\n",
    "except ImportError:\n",
    "    in_jupyter = False\n",
    "if in_jupyter:\n",
    "    nest_asyncio.apply()"
   ]
  },
  {
   "cell_type": "code",
   "execution_count": 4,
   "metadata": {},
   "outputs": [],
   "source": [
    "from utils.config import WEAVE_PROJECT, ENTITY"
   ]
  },
  {
   "cell_type": "code",
   "execution_count": 5,
   "metadata": {},
   "outputs": [
    {
     "name": "stderr",
     "output_type": "stream",
     "text": [
      "/Users/anishshah/Documents/Manual Library/GitHub/edu/llm-evaluators/.venv/lib/python3.10/site-packages/tqdm/auto.py:21: TqdmWarning: IProgress not found. Please update jupyter and ipywidgets. See https://ipywidgets.readthedocs.io/en/stable/user_install.html\n",
      "  from .autonotebook import tqdm as notebook_tqdm\n"
     ]
    },
    {
     "name": "stdout",
     "output_type": "stream",
     "text": [
      "Logged in as Weights & Biases user: a-sh0ts.\n",
      "View Weave data at https://wandb.ai/eval-course/eval_course_ch1_dev/weave\n"
     ]
    }
   ],
   "source": [
    "weave_client = weave.init(f\"{ENTITY}/{WEAVE_PROJECT}\")"
   ]
  },
  {
   "cell_type": "markdown",
   "metadata": {},
   "source": [
    "## Why Evaluate LLMs?\n",
    "\n",
    "### Traditional Software vs LLM Testing\n",
    "Unlike traditional software where outputs are deterministic and can be unit tested, LLMs produce:\n",
    "- Non-deterministic outputs that vary between runs\n",
    "- Complex, open-ended responses for tasks like summarization and dialogue\n",
    "- Outputs that require nuanced evaluation of quality, accuracy, and safety\n",
    "\n",
    "### Key Reasons for LLM Evaluation:\n",
    "\n",
    "1. Quality Assurance\n",
    "- Conventional metrics (n-grams, semantic similarity) are insufficient for complex LLM tasks\n",
    "- Need to assess multiple dimensions like factuality, coherence, and relevance\n",
    "- Important to catch potential hallucinations and factual inconsistencies\n",
    "\n",
    "2. Safety & Alignment \n",
    "- Ensure outputs are safe and non-toxic\n",
    "- Verify adherence to ethical guidelines and business policies\n",
    "- Maintain alignment with intended use cases and user expectations\n",
    "\n",
    "3. Performance Monitoring\n",
    "- Track model performance across different tasks and domains\n",
    "- Identify areas needing improvement or fine-tuning\n",
    "- Compare different model versions or configurations\n",
    "\n",
    "4. Business Goals\n",
    "- Validate that outputs meet specific business requirements\n",
    "- Ensure cost-effective deployment of LLM solutions\n",
    "- Maintain quality standards for production systems"
   ]
  },
  {
   "cell_type": "markdown",
   "metadata": {},
   "source": [
    "![](./media/traditional_llm_eval.png)"
   ]
  },
  {
   "cell_type": "code",
   "execution_count": 6,
   "metadata": {},
   "outputs": [],
   "source": [
    "from utils.prompts import medical_task, medical_system_prompt \n",
    "from utils.render import display_prompt"
   ]
  },
  {
   "cell_type": "code",
   "execution_count": 7,
   "metadata": {},
   "outputs": [
    {
     "data": {
      "text/html": [
       "<pre style=\"white-space:pre;overflow-x:auto;line-height:normal;font-family:Menlo,'DejaVu Sans Mono',consolas,'Courier New',monospace\">You are a medical data extraction AI assistant. Your task is to accurately extract and summarize key medical       \n",
       "information from patient records, adhering strictly to privacy guidelines and formatting instructions provided in  \n",
       "the user's prompt. Focus on relevance and conciseness while ensuring all required fields are addressed.            \n",
       "</pre>\n"
      ],
      "text/plain": [
       "You are a medical data extraction AI assistant. Your task is to accurately extract and summarize key medical       \n",
       "information from patient records, adhering strictly to privacy guidelines and formatting instructions provided in  \n",
       "the user's prompt. Focus on relevance and conciseness while ensuring all required fields are addressed.            \n"
      ]
     },
     "metadata": {},
     "output_type": "display_data"
    },
    {
     "data": {
      "text/html": [
       "<pre style=\"white-space:pre;overflow-x:auto;line-height:normal;font-family:Menlo,'DejaVu Sans Mono',consolas,'Courier New',monospace\">You are extracting insights from medical records containing notes and doctor-patient dialogue.                     \n",
       "\n",
       "\n",
       "                                                  <span style=\"font-weight: bold; text-decoration: underline\">Required Fields</span>                                                  \n",
       "\n",
       "Extract the following information:                                                                                 \n",
       "\n",
       "• <span style=\"font-weight: bold\">Chief complaint</span>                                                                                                  \n",
       "\n",
       "• <span style=\"font-weight: bold\">History of present illness</span>                                                                                       \n",
       "\n",
       "• <span style=\"font-weight: bold\">Physical examination</span>                                                                                             \n",
       "\n",
       "• <span style=\"font-weight: bold\">Symptoms</span> experienced by the patient                                                                              \n",
       "\n",
       "• <span style=\"font-weight: bold\">New medications</span> prescribed or changed, including dosages (N/A if not provided)                                   \n",
       "\n",
       "• <span style=\"font-weight: bold\">Follow-up instructions</span> (N/A if not provided)                                                                     \n",
       "\n",
       "\n",
       "                                                   <span style=\"font-weight: bold; text-decoration: underline\">Requirements</span>                                                    \n",
       "\n",
       "• Do not include any personal identifiable information (PII)                                                       \n",
       "\n",
       "• Use \"the patient\" instead of names                                                                               \n",
       "\n",
       "• Format as bullet points: •field: value                                                                           \n",
       "\n",
       "• Use N/A for missing values                                                                                       \n",
       "\n",
       "• Keep response around 150 words                                                                                   \n",
       "\n",
       "{transcript}                                                                                                       \n",
       "</pre>\n"
      ],
      "text/plain": [
       "You are extracting insights from medical records containing notes and doctor-patient dialogue.                     \n",
       "\n",
       "\n",
       "                                                  \u001b[1;4mRequired Fields\u001b[0m                                                  \n",
       "\n",
       "Extract the following information:                                                                                 \n",
       "\n",
       "• \u001b[1mChief complaint\u001b[0m                                                                                                  \n",
       "\n",
       "• \u001b[1mHistory of present illness\u001b[0m                                                                                       \n",
       "\n",
       "• \u001b[1mPhysical examination\u001b[0m                                                                                             \n",
       "\n",
       "• \u001b[1mSymptoms\u001b[0m experienced by the patient                                                                              \n",
       "\n",
       "• \u001b[1mNew medications\u001b[0m prescribed or changed, including dosages (N/A if not provided)                                   \n",
       "\n",
       "• \u001b[1mFollow-up instructions\u001b[0m (N/A if not provided)                                                                     \n",
       "\n",
       "\n",
       "                                                   \u001b[1;4mRequirements\u001b[0m                                                    \n",
       "\n",
       "• Do not include any personal identifiable information (PII)                                                       \n",
       "\n",
       "• Use \"the patient\" instead of names                                                                               \n",
       "\n",
       "• Format as bullet points: •field: value                                                                           \n",
       "\n",
       "• Use N/A for missing values                                                                                       \n",
       "\n",
       "• Keep response around 150 words                                                                                   \n",
       "\n",
       "{transcript}                                                                                                       \n"
      ]
     },
     "metadata": {},
     "output_type": "display_data"
    }
   ],
   "source": [
    "display_prompt(medical_system_prompt)\n",
    "display_prompt(medical_task)"
   ]
  },
  {
   "cell_type": "code",
   "execution_count": 8,
   "metadata": {},
   "outputs": [],
   "source": [
    "annotated_medical_data = weave.ref(f\"weave:///{ENTITY}/{WEAVE_PROJECT}/object/medical_data_annotations:latest\").get()\n",
    "# annotated_medical_data = weave.ref(\"weave:///a-sh0ts/eval_course_ch1_dev/object/medical_data_annotations:At9gri9UasftpPe5VNzT3EuIXQWAo5MYX8aMf2cuE8A\").get()"
   ]
  },
  {
   "cell_type": "markdown",
   "metadata": {},
   "source": [
    "\n",
    "\n",
    "# Understanding Medical Data Extraction Evaluation\n",
    "\n",
    "## The Task: What Are We Trying to Do?\n",
    "\n",
    "### Raw Data Format\n",
    "Medical conversations are messy and unstructured. Looking at our example data:\n",
    "\n",
    "1. **Dialogue Format**:\n",
    "- Back-and-forth conversation between doctor and patient\n",
    "- Contains personal details, small talk, and medical information mixed together\n",
    "- Informal language (\"hey\", \"mm-hmm\", \"yeah\")\n",
    "- Important details scattered throughout\n",
    "\n",
    "2. **Medical Notes**:\n",
    "- More structured but still in prose\n",
    "- Contains standardized sections (CHIEF COMPLAINT, HISTORY, etc.)\n",
    "- Includes sensitive information (names, ages)\n",
    "- Medical terminology and abbreviations\n",
    "\n",
    "### Extraction Goals\n",
    "The LLM needs to:\n",
    "1. Find relevant information\n",
    "2. Ignore irrelevant details\n",
    "3. Standardize the format\n",
    "4. Protect patient privacy\n",
    "5. Maintain medical accuracy"
   ]
  },
  {
   "cell_type": "markdown",
   "metadata": {},
   "source": [
    "![](./media/medical_chatbot.png)"
   ]
  },
  {
   "cell_type": "code",
   "execution_count": 9,
   "metadata": {},
   "outputs": [],
   "source": [
    "from utils.render import print_dialogue_data"
   ]
  },
  {
   "cell_type": "code",
   "execution_count": 10,
   "metadata": {},
   "outputs": [
    {
     "data": {
      "text/html": [
       "<pre style=\"white-space:pre;overflow-x:auto;line-height:normal;font-family:Menlo,'DejaVu Sans Mono',consolas,'Courier New',monospace\"><span style=\"color: #000080; text-decoration-color: #000080\">╭────────────────────────────────────────────────────</span><span style=\"color: #008080; text-decoration-color: #008080; font-weight: bold\">  Input  </span><span style=\"color: #000080; text-decoration-color: #000080\">────────────────────────────────────────────────────╮</span>\n",
       "<span style=\"color: #000080; text-decoration-color: #000080\">│</span>                                                                                                                 <span style=\"color: #000080; text-decoration-color: #000080\">│</span>\n",
       "<span style=\"color: #000080; text-decoration-color: #000080\">│</span>  input: Dialogue:  hey dylan what's going on so i lift quite a bit of weights i try to stay in shape as much    <span style=\"color: #000080; text-decoration-color: #000080\">│</span>\n",
       "<span style=\"color: #000080; text-decoration-color: #000080\">│</span>  as i can i'm not like normal people i lift heavy weights and my elbow is extremely sore which elbow is it      <span style=\"color: #000080; text-decoration-color: #000080\">│</span>\n",
       "<span style=\"color: #000080; text-decoration-color: #000080\">│</span>  actually it's both my elbows but my right elbow is hurting me the most  okay and you said you lift a lot of    <span style=\"color: #000080; text-decoration-color: #000080\">│</span>\n",
       "<span style=\"color: #000080; text-decoration-color: #000080\">│</span>  weights  mm-hmm  did you play any sports when you were younger  no anything you can think of primarily it was  <span style=\"color: #000080; text-decoration-color: #000080\">│</span>\n",
       "<span style=\"color: #000080; text-decoration-color: #000080\">│</span>  basketball baseball and football  okay and did your elbows hurt at that time or is this a a new injury  it's   <span style=\"color: #000080; text-decoration-color: #000080\">│</span>\n",
       "<span style=\"color: #000080; text-decoration-color: #000080\">│</span>  new  when did it start  probably year and a half ago  okay on both elbows about a year and a half ago  yeah    <span style=\"color: #000080; text-decoration-color: #000080\">│</span>\n",
       "<span style=\"color: #000080; text-decoration-color: #000080\">│</span>  okay have you taken anything for the pain  ibuprofen eight hundred milligrams three times a day  okay and      <span style=\"color: #000080; text-decoration-color: #000080\">│</span>\n",
       "<span style=\"color: #000080; text-decoration-color: #000080\">│</span>  does anything make it better or worse  the more i use my hands or my arms the more it hurts  okay have you     <span style=\"color: #000080; text-decoration-color: #000080\">│</span>\n",
       "<span style=\"color: #000080; text-decoration-color: #000080\">│</span>  tried icing  yes  does that give you any relief  no  alright is it the inside or outside of your elbows        <span style=\"color: #000080; text-decoration-color: #000080\">│</span>\n",
       "<span style=\"color: #000080; text-decoration-color: #000080\">│</span>  inside  inside okay let's just do a quick physical exam here i'll take a look at your right elbow first        <span style=\"color: #000080; text-decoration-color: #000080\">│</span>\n",
       "<span style=\"color: #000080; text-decoration-color: #000080\">│</span>  mm-hmm  if i bend it this way up does it hurt it's your left does that hurt  yes  how about this  yes  okay    <span style=\"color: #000080; text-decoration-color: #000080\">│</span>\n",
       "<span style=\"color: #000080; text-decoration-color: #000080\">│</span>  so pain with both flexion and extension  mm-hmm  looks like you have little bit of limited range of motion on  <span style=\"color: #000080; text-decoration-color: #000080\">│</span>\n",
       "<span style=\"color: #000080; text-decoration-color: #000080\">│</span>  extension not on flexion though you said it hurts right here on the inside of your elbow  yes  okay so pain    <span style=\"color: #000080; text-decoration-color: #000080\">│</span>\n",
       "<span style=\"color: #000080; text-decoration-color: #000080\">│</span>  on the medial side with palpation  yes  alright how about the outside  no  no pain with palpation outside of   <span style=\"color: #000080; text-decoration-color: #000080\">│</span>\n",
       "<span style=\"color: #000080; text-decoration-color: #000080\">│</span>  the elbow you have do you have normal sensation in your fingers  i think so  yeah  yeah  okay great  good to   <span style=\"color: #000080; text-decoration-color: #000080\">│</span>\n",
       "<span style=\"color: #000080; text-decoration-color: #000080\">│</span>  go  sensation is normal to the touch  yes  pulses equal in all extremities how about the left elbow same       <span style=\"color: #000080; text-decoration-color: #000080\">│</span>\n",
       "<span style=\"color: #000080; text-decoration-color: #000080\">│</span>  thing if i bend it this way does that hurt  not as much  how about this way  not as much  alright so little    <span style=\"color: #000080; text-decoration-color: #000080\">│</span>\n",
       "<span style=\"color: #000080; text-decoration-color: #000080\">│</span>  bit of pain on flexion and extension little bit of limited range of motion on extension of the arm how about   <span style=\"color: #000080; text-decoration-color: #000080\">│</span>\n",
       "<span style=\"color: #000080; text-decoration-color: #000080\">│</span>  if you twist like you're opening a door  yes  okay so some pain with torsion and twisting supination what      <span style=\"color: #000080; text-decoration-color: #000080\">│</span>\n",
       "<span style=\"color: #000080; text-decoration-color: #000080\">│</span>  about pronation  no  no pain with pronation on the right side  mm-hmm  same thing on the left  yes  pain with  <span style=\"color: #000080; text-decoration-color: #000080\">│</span>\n",
       "<span style=\"color: #000080; text-decoration-color: #000080\">│</span>  supination no pain with pronation  correct  alright so dylan it took some x-rays coming in looks like you do   <span style=\"color: #000080; text-decoration-color: #000080\">│</span>\n",
       "<span style=\"color: #000080; text-decoration-color: #000080\">│</span>  n't have any any fractures or any bony misalignment which i expect with this kind of injury i do think that    <span style=\"color: #000080; text-decoration-color: #000080\">│</span>\n",
       "<span style=\"color: #000080; text-decoration-color: #000080\">│</span>  what you have is medial epicondylitis which is  is that golfer's elbow  yes same thing have you been golfing   <span style=\"color: #000080; text-decoration-color: #000080\">│</span>\n",
       "<span style=\"color: #000080; text-decoration-color: #000080\">│</span>  a lot  well not in the past year and a half i've had this for a long time  okay also known as pictures elbow   <span style=\"color: #000080; text-decoration-color: #000080\">│</span>\n",
       "<span style=\"color: #000080; text-decoration-color: #000080\">│</span>  well i have n't been pitching either  hmmm well in any case what i'm gon na have to do is i'm gon na send you  <span style=\"color: #000080; text-decoration-color: #000080\">│</span>\n",
       "<span style=\"color: #000080; text-decoration-color: #000080\">│</span>  up for mri to take another look at this  mm-hmm  that will be our next step so we'll get you scheduled for     <span style=\"color: #000080; text-decoration-color: #000080\">│</span>\n",
       "<span style=\"color: #000080; text-decoration-color: #000080\">│</span>  the mri probably get you in pretty quick here since we're a private practice  thank god  yeah and once you     <span style=\"color: #000080; text-decoration-color: #000080\">│</span>\n",
       "<span style=\"color: #000080; text-decoration-color: #000080\">│</span>  get the mri i'll know a little bit more what i'd like to do is something called a whole blood transfusion      <span style=\"color: #000080; text-decoration-color: #000080\">│</span>\n",
       "<span style=\"color: #000080; text-decoration-color: #000080\">│</span>  have you heard of that before  no please tell me remind me  yeah it should help with the healing of your       <span style=\"color: #000080; text-decoration-color: #000080\">│</span>\n",
       "<span style=\"color: #000080; text-decoration-color: #000080\">│</span>  elbow it's just a procedure we'll stick a needle in your elbow  you do a stick needle in my elbow  mm-hmm and  <span style=\"color: #000080; text-decoration-color: #000080\">│</span>\n",
       "<span style=\"color: #000080; text-decoration-color: #000080\">│</span>  help with some of the healing of your elbow  so it's kinda like dry needling then  no  not at all  what is it  <span style=\"color: #000080; text-decoration-color: #000080\">│</span>\n",
       "<span style=\"color: #000080; text-decoration-color: #000080\">│</span>  is it is that that thing where like you take the blood out of like say my my thigh  mm-hmm  and then you       <span style=\"color: #000080; text-decoration-color: #000080\">│</span>\n",
       "<span style=\"color: #000080; text-decoration-color: #000080\">│</span>  literally inject it into my tendon  yes  that it activates the healing  yeah that's exactly what it is         <span style=\"color: #000080; text-decoration-color: #000080\">│</span>\n",
       "<span style=\"color: #000080; text-decoration-color: #000080\">│</span>  interesting cool  yeah  maybe i have heard about that  we've we've had some really good responses from other   <span style=\"color: #000080; text-decoration-color: #000080\">│</span>\n",
       "<span style=\"color: #000080; text-decoration-color: #000080\">│</span>  patients on it so hopefully i mean that should be a good solution for you since you've been having issues      <span style=\"color: #000080; text-decoration-color: #000080\">│</span>\n",
       "<span style=\"color: #000080; text-decoration-color: #000080\">│</span>  with this  i'm excited  yeah and we can hopefully get you scheduled for that in the next couple of weeks it's  <span style=\"color: #000080; text-decoration-color: #000080\">│</span>\n",
       "<span style=\"color: #000080; text-decoration-color: #000080\">│</span>  not not a major procedure and you should heal in the next two weeks so that wo n't be a problem especially     <span style=\"color: #000080; text-decoration-color: #000080\">│</span>\n",
       "<span style=\"color: #000080; text-decoration-color: #000080\">│</span>  considering that you're expecting a newborn soon we want to make sure you're all healed for that  wow i did    <span style=\"color: #000080; text-decoration-color: #000080\">│</span>\n",
       "<span style=\"color: #000080; text-decoration-color: #000080\">│</span>  n't even say that  i read it in your chart  man you doctors are good  yeah anything else going on today  just  <span style=\"color: #000080; text-decoration-color: #000080\">│</span>\n",
       "<span style=\"color: #000080; text-decoration-color: #000080\">│</span>  trying to figure out how you're doing  very good thank you  you're welcome  nice to see you  you have a good   <span style=\"color: #000080; text-decoration-color: #000080\">│</span>\n",
       "<span style=\"color: #000080; text-decoration-color: #000080\">│</span>  day                                                                                                            <span style=\"color: #000080; text-decoration-color: #000080\">│</span>\n",
       "<span style=\"color: #000080; text-decoration-color: #000080\">│</span>                                                                                                                 <span style=\"color: #000080; text-decoration-color: #000080\">│</span>\n",
       "<span style=\"color: #000080; text-decoration-color: #000080\">│</span>  Medical Note: CHIEF COMPLAINT  Bilateral elbow pain, right worse than left.  HISTORY OF PRESENT ILLNESS        <span style=\"color: #000080; text-decoration-color: #000080\">│</span>\n",
       "<span style=\"color: #000080; text-decoration-color: #000080\">│</span>  Dylan Bennett is a pleasant 53-year-old male who presents to the clinic today for the evaluation of bilateral  <span style=\"color: #000080; text-decoration-color: #000080\">│</span>\n",
       "<span style=\"color: #000080; text-decoration-color: #000080\">│</span>  elbow pain, right worse than left.  The patient has been experiencing bilateral elbow pain, right worse than   <span style=\"color: #000080; text-decoration-color: #000080\">│</span>\n",
       "<span style=\"color: #000080; text-decoration-color: #000080\">│</span>  left, for approximately 1.5 years. His pain is localized to the medial aspect of his elbows and is described   <span style=\"color: #000080; text-decoration-color: #000080\">│</span>\n",
       "<span style=\"color: #000080; text-decoration-color: #000080\">│</span>  as being extremely sore, worse with increased use of his upper extremities. Of note, he utilizes heavy         <span style=\"color: #000080; text-decoration-color: #000080\">│</span>\n",
       "<span style=\"color: #000080; text-decoration-color: #000080\">│</span>  weights for strength training and was very active in sports when he was younger, primarily playing             <span style=\"color: #000080; text-decoration-color: #000080\">│</span>\n",
       "<span style=\"color: #000080; text-decoration-color: #000080\">│</span>  basketball, baseball, and football, but he denies having any pain at that time. Applying ice to the area has   <span style=\"color: #000080; text-decoration-color: #000080\">│</span>\n",
       "<span style=\"color: #000080; text-decoration-color: #000080\">│</span>  not been helpful, but he does use ibuprofen 800 mg 3 times daily.  SOCIAL HISTORY  The patient reports that    <span style=\"color: #000080; text-decoration-color: #000080\">│</span>\n",
       "<span style=\"color: #000080; text-decoration-color: #000080\">│</span>  utilizes heavy weights for strength training. He was also very active in sports when he was younger,           <span style=\"color: #000080; text-decoration-color: #000080\">│</span>\n",
       "<span style=\"color: #000080; text-decoration-color: #000080\">│</span>  primarily playing basketball, baseball, and football.  He is expecting a newborn baby in the near future.      <span style=\"color: #000080; text-decoration-color: #000080\">│</span>\n",
       "<span style=\"color: #000080; text-decoration-color: #000080\">│</span>  MEDICATIONS  The patient reports that he has been taking ibuprofen 800 mg 3 times daily.  REVIEW OF SYSTEMS    <span style=\"color: #000080; text-decoration-color: #000080\">│</span>\n",
       "<span style=\"color: #000080; text-decoration-color: #000080\">│</span>  Musculoskeletal: Reports bilateral elbow pain, right worse than left.  PHYSICAL EXAM  CV: Pulses are equal in  <span style=\"color: #000080; text-decoration-color: #000080\">│</span>\n",
       "<span style=\"color: #000080; text-decoration-color: #000080\">│</span>  all extremities. NEURO: Sensation is normal to light touch distally. MSK:  Examination of the right elbow:     <span style=\"color: #000080; text-decoration-color: #000080\">│</span>\n",
       "<span style=\"color: #000080; text-decoration-color: #000080\">│</span>  Limited range of motion with extension with pain. Full range of motion with flexion with pain. Pain to         <span style=\"color: #000080; text-decoration-color: #000080\">│</span>\n",
       "<span style=\"color: #000080; text-decoration-color: #000080\">│</span>  palpation along the medial aspect. No pain to palpation on the lateral aspect of the elbow. Pain with          <span style=\"color: #000080; text-decoration-color: #000080\">│</span>\n",
       "<span style=\"color: #000080; text-decoration-color: #000080\">│</span>  supination. No pain with pronation. Examination of the left elbow: minimal pain with flexion and extension     <span style=\"color: #000080; text-decoration-color: #000080\">│</span>\n",
       "<span style=\"color: #000080; text-decoration-color: #000080\">│</span>  Slight Limited ROM on extension of the arm. Pain with supination. No pain with pronation.  RESULTS  X-ray      <span style=\"color: #000080; text-decoration-color: #000080\">│</span>\n",
       "<span style=\"color: #000080; text-decoration-color: #000080\">│</span>  images of the bilateral elbows were obtained and review in office today. These reveal no evidence of fracture  <span style=\"color: #000080; text-decoration-color: #000080\">│</span>\n",
       "<span style=\"color: #000080; text-decoration-color: #000080\">│</span>  or bony misalignment.  ASSESSMENT  Bilateral medial epicondylitis.  PLAN  After reviewing the patient's        <span style=\"color: #000080; text-decoration-color: #000080\">│</span>\n",
       "<span style=\"color: #000080; text-decoration-color: #000080\">│</span>  examination and radiographic findings today, we had a lengthy discussion in regards to his current symptoms.   <span style=\"color: #000080; text-decoration-color: #000080\">│</span>\n",
       "<span style=\"color: #000080; text-decoration-color: #000080\">│</span>  I want to get an MRI of the bilateral elbows for further evaluation. We discussed the possibility of           <span style=\"color: #000080; text-decoration-color: #000080\">│</span>\n",
       "<span style=\"color: #000080; text-decoration-color: #000080\">│</span>  performing a whole blood transfusion to encourage healing, and the patient is already familiar with this       <span style=\"color: #000080; text-decoration-color: #000080\">│</span>\n",
       "<span style=\"color: #000080; text-decoration-color: #000080\">│</span>  procedure.                                                                                                     <span style=\"color: #000080; text-decoration-color: #000080\">│</span>\n",
       "<span style=\"color: #000080; text-decoration-color: #000080\">│</span>                                                                                                                 <span style=\"color: #000080; text-decoration-color: #000080\">│</span>\n",
       "<span style=\"color: #000080; text-decoration-color: #000080\">╰─────────────────────────────────────────────────────────────────────────────────────────────────────────────────╯</span>\n",
       "</pre>\n"
      ],
      "text/plain": [
       "\u001b[34m╭─\u001b[0m\u001b[34m───────────────────────────────────────────────────\u001b[0m\u001b[1;36m  Input  \u001b[0m\u001b[34m───────────────────────────────────────────────────\u001b[0m\u001b[34m─╮\u001b[0m\n",
       "\u001b[34m│\u001b[0m                                                                                                                 \u001b[34m│\u001b[0m\n",
       "\u001b[34m│\u001b[0m  input: Dialogue:  hey dylan what's going on so i lift quite a bit of weights i try to stay in shape as much    \u001b[34m│\u001b[0m\n",
       "\u001b[34m│\u001b[0m  as i can i'm not like normal people i lift heavy weights and my elbow is extremely sore which elbow is it      \u001b[34m│\u001b[0m\n",
       "\u001b[34m│\u001b[0m  actually it's both my elbows but my right elbow is hurting me the most  okay and you said you lift a lot of    \u001b[34m│\u001b[0m\n",
       "\u001b[34m│\u001b[0m  weights  mm-hmm  did you play any sports when you were younger  no anything you can think of primarily it was  \u001b[34m│\u001b[0m\n",
       "\u001b[34m│\u001b[0m  basketball baseball and football  okay and did your elbows hurt at that time or is this a a new injury  it's   \u001b[34m│\u001b[0m\n",
       "\u001b[34m│\u001b[0m  new  when did it start  probably year and a half ago  okay on both elbows about a year and a half ago  yeah    \u001b[34m│\u001b[0m\n",
       "\u001b[34m│\u001b[0m  okay have you taken anything for the pain  ibuprofen eight hundred milligrams three times a day  okay and      \u001b[34m│\u001b[0m\n",
       "\u001b[34m│\u001b[0m  does anything make it better or worse  the more i use my hands or my arms the more it hurts  okay have you     \u001b[34m│\u001b[0m\n",
       "\u001b[34m│\u001b[0m  tried icing  yes  does that give you any relief  no  alright is it the inside or outside of your elbows        \u001b[34m│\u001b[0m\n",
       "\u001b[34m│\u001b[0m  inside  inside okay let's just do a quick physical exam here i'll take a look at your right elbow first        \u001b[34m│\u001b[0m\n",
       "\u001b[34m│\u001b[0m  mm-hmm  if i bend it this way up does it hurt it's your left does that hurt  yes  how about this  yes  okay    \u001b[34m│\u001b[0m\n",
       "\u001b[34m│\u001b[0m  so pain with both flexion and extension  mm-hmm  looks like you have little bit of limited range of motion on  \u001b[34m│\u001b[0m\n",
       "\u001b[34m│\u001b[0m  extension not on flexion though you said it hurts right here on the inside of your elbow  yes  okay so pain    \u001b[34m│\u001b[0m\n",
       "\u001b[34m│\u001b[0m  on the medial side with palpation  yes  alright how about the outside  no  no pain with palpation outside of   \u001b[34m│\u001b[0m\n",
       "\u001b[34m│\u001b[0m  the elbow you have do you have normal sensation in your fingers  i think so  yeah  yeah  okay great  good to   \u001b[34m│\u001b[0m\n",
       "\u001b[34m│\u001b[0m  go  sensation is normal to the touch  yes  pulses equal in all extremities how about the left elbow same       \u001b[34m│\u001b[0m\n",
       "\u001b[34m│\u001b[0m  thing if i bend it this way does that hurt  not as much  how about this way  not as much  alright so little    \u001b[34m│\u001b[0m\n",
       "\u001b[34m│\u001b[0m  bit of pain on flexion and extension little bit of limited range of motion on extension of the arm how about   \u001b[34m│\u001b[0m\n",
       "\u001b[34m│\u001b[0m  if you twist like you're opening a door  yes  okay so some pain with torsion and twisting supination what      \u001b[34m│\u001b[0m\n",
       "\u001b[34m│\u001b[0m  about pronation  no  no pain with pronation on the right side  mm-hmm  same thing on the left  yes  pain with  \u001b[34m│\u001b[0m\n",
       "\u001b[34m│\u001b[0m  supination no pain with pronation  correct  alright so dylan it took some x-rays coming in looks like you do   \u001b[34m│\u001b[0m\n",
       "\u001b[34m│\u001b[0m  n't have any any fractures or any bony misalignment which i expect with this kind of injury i do think that    \u001b[34m│\u001b[0m\n",
       "\u001b[34m│\u001b[0m  what you have is medial epicondylitis which is  is that golfer's elbow  yes same thing have you been golfing   \u001b[34m│\u001b[0m\n",
       "\u001b[34m│\u001b[0m  a lot  well not in the past year and a half i've had this for a long time  okay also known as pictures elbow   \u001b[34m│\u001b[0m\n",
       "\u001b[34m│\u001b[0m  well i have n't been pitching either  hmmm well in any case what i'm gon na have to do is i'm gon na send you  \u001b[34m│\u001b[0m\n",
       "\u001b[34m│\u001b[0m  up for mri to take another look at this  mm-hmm  that will be our next step so we'll get you scheduled for     \u001b[34m│\u001b[0m\n",
       "\u001b[34m│\u001b[0m  the mri probably get you in pretty quick here since we're a private practice  thank god  yeah and once you     \u001b[34m│\u001b[0m\n",
       "\u001b[34m│\u001b[0m  get the mri i'll know a little bit more what i'd like to do is something called a whole blood transfusion      \u001b[34m│\u001b[0m\n",
       "\u001b[34m│\u001b[0m  have you heard of that before  no please tell me remind me  yeah it should help with the healing of your       \u001b[34m│\u001b[0m\n",
       "\u001b[34m│\u001b[0m  elbow it's just a procedure we'll stick a needle in your elbow  you do a stick needle in my elbow  mm-hmm and  \u001b[34m│\u001b[0m\n",
       "\u001b[34m│\u001b[0m  help with some of the healing of your elbow  so it's kinda like dry needling then  no  not at all  what is it  \u001b[34m│\u001b[0m\n",
       "\u001b[34m│\u001b[0m  is it is that that thing where like you take the blood out of like say my my thigh  mm-hmm  and then you       \u001b[34m│\u001b[0m\n",
       "\u001b[34m│\u001b[0m  literally inject it into my tendon  yes  that it activates the healing  yeah that's exactly what it is         \u001b[34m│\u001b[0m\n",
       "\u001b[34m│\u001b[0m  interesting cool  yeah  maybe i have heard about that  we've we've had some really good responses from other   \u001b[34m│\u001b[0m\n",
       "\u001b[34m│\u001b[0m  patients on it so hopefully i mean that should be a good solution for you since you've been having issues      \u001b[34m│\u001b[0m\n",
       "\u001b[34m│\u001b[0m  with this  i'm excited  yeah and we can hopefully get you scheduled for that in the next couple of weeks it's  \u001b[34m│\u001b[0m\n",
       "\u001b[34m│\u001b[0m  not not a major procedure and you should heal in the next two weeks so that wo n't be a problem especially     \u001b[34m│\u001b[0m\n",
       "\u001b[34m│\u001b[0m  considering that you're expecting a newborn soon we want to make sure you're all healed for that  wow i did    \u001b[34m│\u001b[0m\n",
       "\u001b[34m│\u001b[0m  n't even say that  i read it in your chart  man you doctors are good  yeah anything else going on today  just  \u001b[34m│\u001b[0m\n",
       "\u001b[34m│\u001b[0m  trying to figure out how you're doing  very good thank you  you're welcome  nice to see you  you have a good   \u001b[34m│\u001b[0m\n",
       "\u001b[34m│\u001b[0m  day                                                                                                            \u001b[34m│\u001b[0m\n",
       "\u001b[34m│\u001b[0m                                                                                                                 \u001b[34m│\u001b[0m\n",
       "\u001b[34m│\u001b[0m  Medical Note: CHIEF COMPLAINT  Bilateral elbow pain, right worse than left.  HISTORY OF PRESENT ILLNESS        \u001b[34m│\u001b[0m\n",
       "\u001b[34m│\u001b[0m  Dylan Bennett is a pleasant 53-year-old male who presents to the clinic today for the evaluation of bilateral  \u001b[34m│\u001b[0m\n",
       "\u001b[34m│\u001b[0m  elbow pain, right worse than left.  The patient has been experiencing bilateral elbow pain, right worse than   \u001b[34m│\u001b[0m\n",
       "\u001b[34m│\u001b[0m  left, for approximately 1.5 years. His pain is localized to the medial aspect of his elbows and is described   \u001b[34m│\u001b[0m\n",
       "\u001b[34m│\u001b[0m  as being extremely sore, worse with increased use of his upper extremities. Of note, he utilizes heavy         \u001b[34m│\u001b[0m\n",
       "\u001b[34m│\u001b[0m  weights for strength training and was very active in sports when he was younger, primarily playing             \u001b[34m│\u001b[0m\n",
       "\u001b[34m│\u001b[0m  basketball, baseball, and football, but he denies having any pain at that time. Applying ice to the area has   \u001b[34m│\u001b[0m\n",
       "\u001b[34m│\u001b[0m  not been helpful, but he does use ibuprofen 800 mg 3 times daily.  SOCIAL HISTORY  The patient reports that    \u001b[34m│\u001b[0m\n",
       "\u001b[34m│\u001b[0m  utilizes heavy weights for strength training. He was also very active in sports when he was younger,           \u001b[34m│\u001b[0m\n",
       "\u001b[34m│\u001b[0m  primarily playing basketball, baseball, and football.  He is expecting a newborn baby in the near future.      \u001b[34m│\u001b[0m\n",
       "\u001b[34m│\u001b[0m  MEDICATIONS  The patient reports that he has been taking ibuprofen 800 mg 3 times daily.  REVIEW OF SYSTEMS    \u001b[34m│\u001b[0m\n",
       "\u001b[34m│\u001b[0m  Musculoskeletal: Reports bilateral elbow pain, right worse than left.  PHYSICAL EXAM  CV: Pulses are equal in  \u001b[34m│\u001b[0m\n",
       "\u001b[34m│\u001b[0m  all extremities. NEURO: Sensation is normal to light touch distally. MSK:  Examination of the right elbow:     \u001b[34m│\u001b[0m\n",
       "\u001b[34m│\u001b[0m  Limited range of motion with extension with pain. Full range of motion with flexion with pain. Pain to         \u001b[34m│\u001b[0m\n",
       "\u001b[34m│\u001b[0m  palpation along the medial aspect. No pain to palpation on the lateral aspect of the elbow. Pain with          \u001b[34m│\u001b[0m\n",
       "\u001b[34m│\u001b[0m  supination. No pain with pronation. Examination of the left elbow: minimal pain with flexion and extension     \u001b[34m│\u001b[0m\n",
       "\u001b[34m│\u001b[0m  Slight Limited ROM on extension of the arm. Pain with supination. No pain with pronation.  RESULTS  X-ray      \u001b[34m│\u001b[0m\n",
       "\u001b[34m│\u001b[0m  images of the bilateral elbows were obtained and review in office today. These reveal no evidence of fracture  \u001b[34m│\u001b[0m\n",
       "\u001b[34m│\u001b[0m  or bony misalignment.  ASSESSMENT  Bilateral medial epicondylitis.  PLAN  After reviewing the patient's        \u001b[34m│\u001b[0m\n",
       "\u001b[34m│\u001b[0m  examination and radiographic findings today, we had a lengthy discussion in regards to his current symptoms.   \u001b[34m│\u001b[0m\n",
       "\u001b[34m│\u001b[0m  I want to get an MRI of the bilateral elbows for further evaluation. We discussed the possibility of           \u001b[34m│\u001b[0m\n",
       "\u001b[34m│\u001b[0m  performing a whole blood transfusion to encourage healing, and the patient is already familiar with this       \u001b[34m│\u001b[0m\n",
       "\u001b[34m│\u001b[0m  procedure.                                                                                                     \u001b[34m│\u001b[0m\n",
       "\u001b[34m│\u001b[0m                                                                                                                 \u001b[34m│\u001b[0m\n",
       "\u001b[34m╰─────────────────────────────────────────────────────────────────────────────────────────────────────────────────╯\u001b[0m\n"
      ]
     },
     "metadata": {},
     "output_type": "display_data"
    },
    {
     "data": {
      "text/html": [
       "<pre style=\"white-space:pre;overflow-x:auto;line-height:normal;font-family:Menlo,'DejaVu Sans Mono',consolas,'Courier New',monospace\">\n",
       "</pre>\n"
      ],
      "text/plain": [
       "\n"
      ]
     },
     "metadata": {},
     "output_type": "display_data"
    }
   ],
   "source": [
    "print_dialogue_data(annotated_medical_data, indexes_to_show=[0])"
   ]
  },
  {
   "cell_type": "markdown",
   "metadata": {},
   "source": [
    "### Behind the scenes you can imagine the LLM is doing the following:"
   ]
  },
  {
   "cell_type": "code",
   "execution_count": 11,
   "metadata": {},
   "outputs": [],
   "source": [
    "from utils.llm_client import LLMClient\n",
    "from utils.config import GEMINI_MODEL"
   ]
  },
  {
   "cell_type": "code",
   "execution_count": 12,
   "metadata": {},
   "outputs": [
    {
     "name": "stdout",
     "output_type": "stream",
     "text": [
      "🍩 https://wandb.ai/eval-course/eval_course_ch1_dev/r/call/0192d9f9-feb4-72d0-b0ce-aefbe11daee7\n"
     ]
    },
    {
     "data": {
      "text/plain": [
       "'• **Chief complaint:** Bilateral elbow pain, right worse than left.\\n\\n• **History of present illness:**  The patient has experienced bilateral elbow pain for 1.5 years, worse on the right side. Pain is located on the medial aspect of both elbows, increases with upper extremity use, and is not relieved by ice.  The patient uses ibuprofen 800mg three times daily.  The patient is a weightlifter and played various sports in youth without elbow pain.\\n\\n• **Physical examination:** Pulses equal in all extremities; sensation normal.  Right elbow: limited range of motion with extension, pain with flexion, medial aspect pain on palpation, pain with supination, no pain with pronation. Left elbow: minimal pain with flexion and extension, slight limited ROM on extension, pain with supination, no pain with pronation. X-rays showed no fractures or bony misalignment.\\n\\n• **Symptoms:** Bilateral elbow pain (medial aspect), worse with use, unrelieved by ice.\\n\\n• **New medications:**  Whole blood transfusion (to be scheduled)\\n\\n• **Follow-up instructions:** MRI of bilateral elbows scheduled; follow-up after MRI results to schedule the whole blood transfusion.\\n'"
      ]
     },
     "execution_count": 12,
     "metadata": {},
     "output_type": "execute_result"
    }
   ],
   "source": [
    "llm = LLMClient(model_name=GEMINI_MODEL, client_type=\"gemini\")\n",
    "llm.predict(user_prompt=medical_task.format(transcript=annotated_medical_data[0][0][\"input\"]), system_prompt=medical_system_prompt)\n"
   ]
  },
  {
   "cell_type": "markdown",
   "metadata": {},
   "source": [
    "### Assuming we run this over a curated dataset, we can collect all the outputs from the LLM and annotate them."
   ]
  },
  {
   "cell_type": "code",
   "execution_count": 13,
   "metadata": {},
   "outputs": [
    {
     "data": {
      "text/html": [
       "<pre style=\"white-space:pre;overflow-x:auto;line-height:normal;font-family:Menlo,'DejaVu Sans Mono',consolas,'Courier New',monospace\"><span style=\"color: #000080; text-decoration-color: #000080\">╭───────────────────────────────────────────────────</span><span style=\"color: #008080; text-decoration-color: #008080; font-weight: bold\">  Output  </span><span style=\"color: #000080; text-decoration-color: #000080\">────────────────────────────────────────────────────╮</span>\n",
       "<span style=\"color: #000080; text-decoration-color: #000080\">│</span>                                                                                                                 <span style=\"color: #000080; text-decoration-color: #000080\">│</span>\n",
       "<span style=\"color: #000080; text-decoration-color: #000080\">│</span>  output: • Chief complaint:                                                                                     <span style=\"color: #000080; text-decoration-color: #000080\">│</span>\n",
       "<span style=\"color: #000080; text-decoration-color: #000080\">│</span>    - Bilateral elbow pain, right worse than left.                                                               <span style=\"color: #000080; text-decoration-color: #000080\">│</span>\n",
       "<span style=\"color: #000080; text-decoration-color: #000080\">│</span>                                                                                                                 <span style=\"color: #000080; text-decoration-color: #000080\">│</span>\n",
       "<span style=\"color: #000080; text-decoration-color: #000080\">│</span>  • History of present illness:                                                                                  <span style=\"color: #000080; text-decoration-color: #000080\">│</span>\n",
       "<span style=\"color: #000080; text-decoration-color: #000080\">│</span>    - The patient, a 53-year-old male, presents with bilateral elbow pain for about 1.5 years, worse on the      <span style=\"color: #000080; text-decoration-color: #000080\">│</span>\n",
       "<span style=\"color: #000080; text-decoration-color: #000080\">│</span>  right side. Pain is localized to the medial aspect, exacerbated by upper extremity use. Uses heavy weights     <span style=\"color: #000080; text-decoration-color: #000080\">│</span>\n",
       "<span style=\"color: #000080; text-decoration-color: #000080\">│</span>  for strength training and played basketball, baseball, and football without previous pain. Takes ibuprofen     <span style=\"color: #000080; text-decoration-color: #000080\">│</span>\n",
       "<span style=\"color: #000080; text-decoration-color: #000080\">│</span>  800 mg 3 times daily.                                                                                          <span style=\"color: #000080; text-decoration-color: #000080\">│</span>\n",
       "<span style=\"color: #000080; text-decoration-color: #000080\">│</span>                                                                                                                 <span style=\"color: #000080; text-decoration-color: #000080\">│</span>\n",
       "<span style=\"color: #000080; text-decoration-color: #000080\">│</span>  • Physical examination:                                                                                        <span style=\"color: #000080; text-decoration-color: #000080\">│</span>\n",
       "<span style=\"color: #000080; text-decoration-color: #000080\">│</span>    - Right elbow: Limited extension ROM with pain, full flexion ROM with pain, tenderness on medial aspect, no  <span style=\"color: #000080; text-decoration-color: #000080\">│</span>\n",
       "<span style=\"color: #000080; text-decoration-color: #000080\">│</span>  tenderness on lateral aspect, pain with supination but not with pronation.                                     <span style=\"color: #000080; text-decoration-color: #000080\">│</span>\n",
       "<span style=\"color: #000080; text-decoration-color: #000080\">│</span>    - Left elbow: Minimal pain on flexion and extension, slight limited extension ROM, pain with supination but  <span style=\"color: #000080; text-decoration-color: #000080\">│</span>\n",
       "<span style=\"color: #000080; text-decoration-color: #000080\">│</span>  not with pronation.                                                                                            <span style=\"color: #000080; text-decoration-color: #000080\">│</span>\n",
       "<span style=\"color: #000080; text-decoration-color: #000080\">│</span>                                                                                                                 <span style=\"color: #000080; text-decoration-color: #000080\">│</span>\n",
       "<span style=\"color: #000080; text-decoration-color: #000080\">│</span>  • Symptoms experienced by the patient:                                                                         <span style=\"color: #000080; text-decoration-color: #000080\">│</span>\n",
       "<span style=\"color: #000080; text-decoration-color: #000080\">│</span>    - Bilateral elbow pain, worse on the right side, pain on medial aspect.                                      <span style=\"color: #000080; text-decoration-color: #000080\">│</span>\n",
       "<span style=\"color: #000080; text-decoration-color: #000080\">│</span>                                                                                                                 <span style=\"color: #000080; text-decoration-color: #000080\">│</span>\n",
       "<span style=\"color: #000080; text-decoration-color: #000080\">│</span>  • New medications:                                                                                             <span style=\"color: #000080; text-decoration-color: #000080\">│</span>\n",
       "<span style=\"color: #000080; text-decoration-color: #000080\">│</span>    - N/A                                                                                                        <span style=\"color: #000080; text-decoration-color: #000080\">│</span>\n",
       "<span style=\"color: #000080; text-decoration-color: #000080\">│</span>                                                                                                                 <span style=\"color: #000080; text-decoration-color: #000080\">│</span>\n",
       "<span style=\"color: #000080; text-decoration-color: #000080\">│</span>  • Follow-up instructions:                                                                                      <span style=\"color: #000080; text-decoration-color: #000080\">│</span>\n",
       "<span style=\"color: #000080; text-decoration-color: #000080\">│</span>    - MRI scheduled for bilateral elbows. Discussion about a whole blood transfusion for healing.                <span style=\"color: #000080; text-decoration-color: #000080\">│</span>\n",
       "<span style=\"color: #000080; text-decoration-color: #000080\">│</span>                                                                                                                 <span style=\"color: #000080; text-decoration-color: #000080\">│</span>\n",
       "<span style=\"color: #000080; text-decoration-color: #000080\">╰─────────────────────────────────────────────────────────────────────────────────────────────────────────────────╯</span>\n",
       "</pre>\n"
      ],
      "text/plain": [
       "\u001b[34m╭─\u001b[0m\u001b[34m──────────────────────────────────────────────────\u001b[0m\u001b[1;36m  Output  \u001b[0m\u001b[34m───────────────────────────────────────────────────\u001b[0m\u001b[34m─╮\u001b[0m\n",
       "\u001b[34m│\u001b[0m                                                                                                                 \u001b[34m│\u001b[0m\n",
       "\u001b[34m│\u001b[0m  output: • Chief complaint:                                                                                     \u001b[34m│\u001b[0m\n",
       "\u001b[34m│\u001b[0m    - Bilateral elbow pain, right worse than left.                                                               \u001b[34m│\u001b[0m\n",
       "\u001b[34m│\u001b[0m                                                                                                                 \u001b[34m│\u001b[0m\n",
       "\u001b[34m│\u001b[0m  • History of present illness:                                                                                  \u001b[34m│\u001b[0m\n",
       "\u001b[34m│\u001b[0m    - The patient, a 53-year-old male, presents with bilateral elbow pain for about 1.5 years, worse on the      \u001b[34m│\u001b[0m\n",
       "\u001b[34m│\u001b[0m  right side. Pain is localized to the medial aspect, exacerbated by upper extremity use. Uses heavy weights     \u001b[34m│\u001b[0m\n",
       "\u001b[34m│\u001b[0m  for strength training and played basketball, baseball, and football without previous pain. Takes ibuprofen     \u001b[34m│\u001b[0m\n",
       "\u001b[34m│\u001b[0m  800 mg 3 times daily.                                                                                          \u001b[34m│\u001b[0m\n",
       "\u001b[34m│\u001b[0m                                                                                                                 \u001b[34m│\u001b[0m\n",
       "\u001b[34m│\u001b[0m  • Physical examination:                                                                                        \u001b[34m│\u001b[0m\n",
       "\u001b[34m│\u001b[0m    - Right elbow: Limited extension ROM with pain, full flexion ROM with pain, tenderness on medial aspect, no  \u001b[34m│\u001b[0m\n",
       "\u001b[34m│\u001b[0m  tenderness on lateral aspect, pain with supination but not with pronation.                                     \u001b[34m│\u001b[0m\n",
       "\u001b[34m│\u001b[0m    - Left elbow: Minimal pain on flexion and extension, slight limited extension ROM, pain with supination but  \u001b[34m│\u001b[0m\n",
       "\u001b[34m│\u001b[0m  not with pronation.                                                                                            \u001b[34m│\u001b[0m\n",
       "\u001b[34m│\u001b[0m                                                                                                                 \u001b[34m│\u001b[0m\n",
       "\u001b[34m│\u001b[0m  • Symptoms experienced by the patient:                                                                         \u001b[34m│\u001b[0m\n",
       "\u001b[34m│\u001b[0m    - Bilateral elbow pain, worse on the right side, pain on medial aspect.                                      \u001b[34m│\u001b[0m\n",
       "\u001b[34m│\u001b[0m                                                                                                                 \u001b[34m│\u001b[0m\n",
       "\u001b[34m│\u001b[0m  • New medications:                                                                                             \u001b[34m│\u001b[0m\n",
       "\u001b[34m│\u001b[0m    - N/A                                                                                                        \u001b[34m│\u001b[0m\n",
       "\u001b[34m│\u001b[0m                                                                                                                 \u001b[34m│\u001b[0m\n",
       "\u001b[34m│\u001b[0m  • Follow-up instructions:                                                                                      \u001b[34m│\u001b[0m\n",
       "\u001b[34m│\u001b[0m    - MRI scheduled for bilateral elbows. Discussion about a whole blood transfusion for healing.                \u001b[34m│\u001b[0m\n",
       "\u001b[34m│\u001b[0m                                                                                                                 \u001b[34m│\u001b[0m\n",
       "\u001b[34m╰─────────────────────────────────────────────────────────────────────────────────────────────────────────────────╯\u001b[0m\n"
      ]
     },
     "metadata": {},
     "output_type": "display_data"
    },
    {
     "data": {
      "text/html": [
       "<pre style=\"white-space:pre;overflow-x:auto;line-height:normal;font-family:Menlo,'DejaVu Sans Mono',consolas,'Courier New',monospace\">\n",
       "</pre>\n"
      ],
      "text/plain": [
       "\n"
      ]
     },
     "metadata": {},
     "output_type": "display_data"
    }
   ],
   "source": [
    "print_dialogue_data(annotated_medical_data, indexes_to_show=[1])\n"
   ]
  },
  {
   "cell_type": "markdown",
   "metadata": {},
   "source": [
    "## Annotation: Building Quality Training Data\n",
    "\n",
    "### Why Annotate?\n",
    "Raw LLM outputs aren't enough - we need expert validation to:\n",
    "1. Establish ground truth\n",
    "2. Identify edge cases\n",
    "3. Understand failure modes\n",
    "4. Create evaluation standards\n",
    "\n",
    "### Annotation Process\n",
    "Medical experts should:\n",
    "\n",
    "1. **Review the Full Context**:\n",
    "   - Read entire conversation\n",
    "   - Review medical notes\n",
    "   - Understand complete patient story\n",
    "\n",
    "2. **Evaluate LLM Output**:\n",
    "   - Check factual accuracy\n",
    "   - Verify completeness\n",
    "   - Ensure privacy protection\n",
    "   - Validate formatting\n",
    "\n",
    "3. **Provide Structured Feedback**:\n",
    "   - Binary score (pass/fail)\n",
    "   - Written explanation\n",
    "   - Specific issue identification"
   ]
  },
  {
   "cell_type": "markdown",
   "metadata": {},
   "source": [
    "![](./media/annotation_ui.png)"
   ]
  },
  {
   "cell_type": "code",
   "execution_count": 14,
   "metadata": {},
   "outputs": [
    {
     "data": {
      "text/html": [
       "<pre style=\"white-space:pre;overflow-x:auto;line-height:normal;font-family:Menlo,'DejaVu Sans Mono',consolas,'Courier New',monospace\"><span style=\"color: #000080; text-decoration-color: #000080\">╭─────────────────────────────────────────────────</span><span style=\"color: #008080; text-decoration-color: #008080; font-weight: bold\">  Annotation  </span><span style=\"color: #000080; text-decoration-color: #000080\">──────────────────────────────────────────────────╮</span>\n",
       "<span style=\"color: #000080; text-decoration-color: #000080\">│</span>                                                                                                                 <span style=\"color: #000080; text-decoration-color: #000080\">│</span>\n",
       "<span style=\"color: #000080; text-decoration-color: #000080\">│</span>  0                                                                                                              <span style=\"color: #000080; text-decoration-color: #000080\">│</span>\n",
       "<span style=\"color: #000080; text-decoration-color: #000080\">│</span>                                                                                                                 <span style=\"color: #000080; text-decoration-color: #000080\">│</span>\n",
       "<span style=\"color: #000080; text-decoration-color: #000080\">╰─────────────────────────────────────────────────────────────────────────────────────────────────────────────────╯</span>\n",
       "</pre>\n"
      ],
      "text/plain": [
       "\u001b[34m╭─\u001b[0m\u001b[34m────────────────────────────────────────────────\u001b[0m\u001b[1;36m  Annotation  \u001b[0m\u001b[34m─────────────────────────────────────────────────\u001b[0m\u001b[34m─╮\u001b[0m\n",
       "\u001b[34m│\u001b[0m                                                                                                                 \u001b[34m│\u001b[0m\n",
       "\u001b[34m│\u001b[0m  0                                                                                                              \u001b[34m│\u001b[0m\n",
       "\u001b[34m│\u001b[0m                                                                                                                 \u001b[34m│\u001b[0m\n",
       "\u001b[34m╰─────────────────────────────────────────────────────────────────────────────────────────────────────────────────╯\u001b[0m\n"
      ]
     },
     "metadata": {},
     "output_type": "display_data"
    },
    {
     "data": {
      "text/html": [
       "<pre style=\"white-space:pre;overflow-x:auto;line-height:normal;font-family:Menlo,'DejaVu Sans Mono',consolas,'Courier New',monospace\">\n",
       "</pre>\n"
      ],
      "text/plain": [
       "\n"
      ]
     },
     "metadata": {},
     "output_type": "display_data"
    },
    {
     "data": {
      "text/html": [
       "<pre style=\"white-space:pre;overflow-x:auto;line-height:normal;font-family:Menlo,'DejaVu Sans Mono',consolas,'Courier New',monospace\"><span style=\"color: #000080; text-decoration-color: #000080\">╭─────────────────────────────────────────────</span><span style=\"color: #008080; text-decoration-color: #008080; font-weight: bold\">  Criteria Annotation  </span><span style=\"color: #000080; text-decoration-color: #000080\">─────────────────────────────────────────────╮</span>\n",
       "<span style=\"color: #000080; text-decoration-color: #000080\">│</span>                                                                                                                 <span style=\"color: #000080; text-decoration-color: #000080\">│</span>\n",
       "<span style=\"color: #000080; text-decoration-color: #000080\">│</span>  word_count: 1                                                                                                  <span style=\"color: #000080; text-decoration-color: #000080\">│</span>\n",
       "<span style=\"color: #000080; text-decoration-color: #000080\">│</span>  presence_of_keys: 1                                                                                            <span style=\"color: #000080; text-decoration-color: #000080\">│</span>\n",
       "<span style=\"color: #000080; text-decoration-color: #000080\">│</span>  absence_of_PII: 0                                                                                              <span style=\"color: #000080; text-decoration-color: #000080\">│</span>\n",
       "<span style=\"color: #000080; text-decoration-color: #000080\">│</span>                                                                                                                 <span style=\"color: #000080; text-decoration-color: #000080\">│</span>\n",
       "<span style=\"color: #000080; text-decoration-color: #000080\">╰─────────────────────────────────────────────────────────────────────────────────────────────────────────────────╯</span>\n",
       "</pre>\n"
      ],
      "text/plain": [
       "\u001b[34m╭─\u001b[0m\u001b[34m────────────────────────────────────────────\u001b[0m\u001b[1;36m  Criteria Annotation  \u001b[0m\u001b[34m────────────────────────────────────────────\u001b[0m\u001b[34m─╮\u001b[0m\n",
       "\u001b[34m│\u001b[0m                                                                                                                 \u001b[34m│\u001b[0m\n",
       "\u001b[34m│\u001b[0m  word_count: 1                                                                                                  \u001b[34m│\u001b[0m\n",
       "\u001b[34m│\u001b[0m  presence_of_keys: 1                                                                                            \u001b[34m│\u001b[0m\n",
       "\u001b[34m│\u001b[0m  absence_of_PII: 0                                                                                              \u001b[34m│\u001b[0m\n",
       "\u001b[34m│\u001b[0m                                                                                                                 \u001b[34m│\u001b[0m\n",
       "\u001b[34m╰─────────────────────────────────────────────────────────────────────────────────────────────────────────────────╯\u001b[0m\n"
      ]
     },
     "metadata": {},
     "output_type": "display_data"
    },
    {
     "data": {
      "text/html": [
       "<pre style=\"white-space:pre;overflow-x:auto;line-height:normal;font-family:Menlo,'DejaVu Sans Mono',consolas,'Courier New',monospace\">\n",
       "</pre>\n"
      ],
      "text/plain": [
       "\n"
      ]
     },
     "metadata": {},
     "output_type": "display_data"
    },
    {
     "data": {
      "text/html": [
       "<pre style=\"white-space:pre;overflow-x:auto;line-height:normal;font-family:Menlo,'DejaVu Sans Mono',consolas,'Courier New',monospace\"><span style=\"color: #000080; text-decoration-color: #000080\">╭────────────────────────────────────────────────────</span><span style=\"color: #008080; text-decoration-color: #008080; font-weight: bold\">  Note  </span><span style=\"color: #000080; text-decoration-color: #000080\">─────────────────────────────────────────────────────╮</span>\n",
       "<span style=\"color: #000080; text-decoration-color: #000080\">│</span>                                                                                                                 <span style=\"color: #000080; text-decoration-color: #000080\">│</span>\n",
       "<span style=\"color: #000080; text-decoration-color: #000080\">│</span>  The extraction fails on privacy criteria as it includes the patient's age, which is considered personal        <span style=\"color: #000080; text-decoration-color: #000080\">│</span>\n",
       "<span style=\"color: #000080; text-decoration-color: #000080\">│</span>  identifiable information (PII). While the format, completeness, conciseness, and use of 'N/A' are all          <span style=\"color: #000080; text-decoration-color: #000080\">│</span>\n",
       "<span style=\"color: #000080; text-decoration-color: #000080\">│</span>  satisfactory, the presence of this PII results in a failure to meet all criteria.                              <span style=\"color: #000080; text-decoration-color: #000080\">│</span>\n",
       "<span style=\"color: #000080; text-decoration-color: #000080\">│</span>                                                                                                                 <span style=\"color: #000080; text-decoration-color: #000080\">│</span>\n",
       "<span style=\"color: #000080; text-decoration-color: #000080\">╰─────────────────────────────────────────────────────────────────────────────────────────────────────────────────╯</span>\n",
       "</pre>\n"
      ],
      "text/plain": [
       "\u001b[34m╭─\u001b[0m\u001b[34m───────────────────────────────────────────────────\u001b[0m\u001b[1;36m  Note  \u001b[0m\u001b[34m────────────────────────────────────────────────────\u001b[0m\u001b[34m─╮\u001b[0m\n",
       "\u001b[34m│\u001b[0m                                                                                                                 \u001b[34m│\u001b[0m\n",
       "\u001b[34m│\u001b[0m  The extraction fails on privacy criteria as it includes the patient's age, which is considered personal        \u001b[34m│\u001b[0m\n",
       "\u001b[34m│\u001b[0m  identifiable information (PII). While the format, completeness, conciseness, and use of 'N/A' are all          \u001b[34m│\u001b[0m\n",
       "\u001b[34m│\u001b[0m  satisfactory, the presence of this PII results in a failure to meet all criteria.                              \u001b[34m│\u001b[0m\n",
       "\u001b[34m│\u001b[0m                                                                                                                 \u001b[34m│\u001b[0m\n",
       "\u001b[34m╰─────────────────────────────────────────────────────────────────────────────────────────────────────────────────╯\u001b[0m\n"
      ]
     },
     "metadata": {},
     "output_type": "display_data"
    },
    {
     "data": {
      "text/html": [
       "<pre style=\"white-space:pre;overflow-x:auto;line-height:normal;font-family:Menlo,'DejaVu Sans Mono',consolas,'Courier New',monospace\">\n",
       "</pre>\n"
      ],
      "text/plain": [
       "\n"
      ]
     },
     "metadata": {},
     "output_type": "display_data"
    }
   ],
   "source": [
    "print_dialogue_data(annotated_medical_data, indexes_to_show=[2, 3, 4])"
   ]
  },
  {
   "cell_type": "markdown",
   "metadata": {},
   "source": [
    "\n",
    "## Evaluation: Measuring Performance\n",
    "\n",
    "### Direct vs Pairwise\n",
    "For medical extraction:\n",
    "- Use direct scoring (not A/B comparison)\n",
    "- Task has objective right/wrong answers\n",
    "- Need to catch critical errors\n",
    "\n",
    "### Key Evaluation Dimensions\n",
    "\n",
    "1. **Factual Accuracy**:\n",
    "   - Are extracted details correct?\n",
    "   - Do they match the source?\n",
    "   - Is medical terminology accurate?\n",
    "\n",
    "2. **Completeness**:\n",
    "   - All required fields present?\n",
    "   - Important details included?\n",
    "   - Appropriate use of N/A?\n",
    "\n",
    "3. **Privacy Protection**:\n",
    "   - PII properly removed?\n",
    "   - Patient identity protected?\n",
    "   - Sensitive details handled appropriately?\n",
    "\n",
    "4. **Format Compliance**:\n",
    "   - Bullet point structure followed?\n",
    "   - Within word limit?\n",
    "   - Clear and readable?\n",
    "\n",
    "### Using Evaluation Results\n",
    "\n",
    "Results help us:\n",
    "1. Improve prompts\n",
    "2. Identify system limitations\n",
    "3. Set quality standards\n",
    "4. Monitor performance\n",
    "5. Train better models"
   ]
  },
  {
   "cell_type": "markdown",
   "metadata": {},
   "source": [
    "![](./media/eval_task_flowchart.png)"
   ]
  },
  {
   "cell_type": "markdown",
   "metadata": {},
   "source": [
    "### Using our domain knowledge, we can write evaluation functions after investigating the task and annotations"
   ]
  },
  {
   "cell_type": "code",
   "execution_count": 15,
   "metadata": {},
   "outputs": [],
   "source": [
    "test_output = annotated_medical_data[0][1][\"output\"]"
   ]
  },
  {
   "cell_type": "code",
   "execution_count": 16,
   "metadata": {},
   "outputs": [],
   "source": [
    "from utils.prompts import medical_privacy_judge_prompt, MedicalPrivacyJudgement, medical_task_score_prompt, MedicalTaskScoreJudgement, medical_task_score_system_prompt, medical_privacy_system_prompt\n",
    "import json"
   ]
  },
  {
   "cell_type": "code",
   "execution_count": 17,
   "metadata": {},
   "outputs": [],
   "source": [
    "@weave.op()\n",
    "def test_adheres_to_required_keys(model_output: str):\n",
    "    # Required medical keys\n",
    "    required_keys = [\n",
    "        \"Chief complaint\",\n",
    "        \"History of present illness\",\n",
    "        \"Physical examination\",\n",
    "        \"Symptoms\",\n",
    "        \"New medications with dosages\",\n",
    "        \"Follow-up instructions\"\n",
    "    ]\n",
    "    \n",
    "    # Convert to lowercase for case-insensitive matching\n",
    "    model_output_lower = model_output.lower()\n",
    "    \n",
    "    # Check if all required keys are present\n",
    "    for key in required_keys:\n",
    "        if key.lower() not in model_output_lower:\n",
    "            return int(False)\n",
    "            \n",
    "    return int(True)"
   ]
  },
  {
   "cell_type": "code",
   "execution_count": 18,
   "metadata": {},
   "outputs": [
    {
     "name": "stdout",
     "output_type": "stream",
     "text": [
      "🍩 https://wandb.ai/eval-course/eval_course_ch1_dev/r/call/0192d9fa-065e-7471-9a67-e7f46062fb6d\n"
     ]
    },
    {
     "data": {
      "text/plain": [
       "0"
      ]
     },
     "execution_count": 18,
     "metadata": {},
     "output_type": "execute_result"
    }
   ],
   "source": [
    "test_adheres_to_required_keys(test_output)"
   ]
  },
  {
   "cell_type": "code",
   "execution_count": 19,
   "metadata": {},
   "outputs": [],
   "source": [
    "@weave.op()\n",
    "def test_adheres_to_word_limit(model_output: str):\n",
    "    return int(len(model_output.split()) <= 150)"
   ]
  },
  {
   "cell_type": "code",
   "execution_count": 20,
   "metadata": {},
   "outputs": [
    {
     "name": "stdout",
     "output_type": "stream",
     "text": [
      "🍩 https://wandb.ai/eval-course/eval_course_ch1_dev/r/call/0192d9fa-0669-74e2-a261-5912f24d93ff\n"
     ]
    },
    {
     "data": {
      "text/plain": [
       "0"
      ]
     },
     "execution_count": 20,
     "metadata": {},
     "output_type": "execute_result"
    }
   ],
   "source": [
    "test_adheres_to_word_limit(test_output)"
   ]
  },
  {
   "cell_type": "code",
   "execution_count": 21,
   "metadata": {},
   "outputs": [
    {
     "data": {
      "text/html": [
       "<pre style=\"white-space:pre;overflow-x:auto;line-height:normal;font-family:Menlo,'DejaVu Sans Mono',consolas,'Courier New',monospace\">You are a privacy compliance auditor specialized in medical records. Your task is to evaluate if any Personal      \n",
       "Identifiable Information (PII) is present in the text.                                                             \n",
       "</pre>\n"
      ],
      "text/plain": [
       "You are a privacy compliance auditor specialized in medical records. Your task is to evaluate if any Personal      \n",
       "Identifiable Information (PII) is present in the text.                                                             \n"
      ]
     },
     "metadata": {},
     "output_type": "display_data"
    },
    {
     "data": {
      "text/html": [
       "<pre style=\"white-space:pre;overflow-x:auto;line-height:normal;font-family:Menlo,'DejaVu Sans Mono',consolas,'Courier New',monospace\">Check for the following PII elements:                                                                              \n",
       "\n",
       "• Names (patient, doctor, family members)                                                                          \n",
       "\n",
       "• Dates of birth                                                                                                   \n",
       "\n",
       "• Ages (if specific)                                                                                               \n",
       "\n",
       "• Addresses                                                                                                        \n",
       "\n",
       "• Phone numbers                                                                                                    \n",
       "\n",
       "• Email addresses                                                                                                  \n",
       "\n",
       "• Social Security numbers                                                                                          \n",
       "\n",
       "• Medical record numbers                                                                                           \n",
       "\n",
       "• Insurance information                                                                                            \n",
       "\n",
       "• Specific dates of visits/procedures                                                                              \n",
       "\n",
       "• Unique identifying characteristics                                                                               \n",
       "\n",
       "• Geographic identifiers smaller than a state                                                                      \n",
       "\n",
       "Return only two fields matching the following structure:                                                           \n",
       "\n",
       "<span style=\"background-color: #272822\">                                                                                                                   </span>\n",
       "<span style=\"background-color: #272822\"> </span><span style=\"color: #f8f8f2; text-decoration-color: #f8f8f2; background-color: #272822\">{{</span><span style=\"background-color: #272822\">                                                                                                                </span>\n",
       "<span style=\"background-color: #272822\"> </span><span style=\"color: #f8f8f2; text-decoration-color: #f8f8f2; background-color: #272822\">    </span><span style=\"color: #ff4689; text-decoration-color: #ff4689; background-color: #272822\">\"contains_pii\"</span><span style=\"color: #f8f8f2; text-decoration-color: #f8f8f2; background-color: #272822\">: </span><span style=\"color: #ed007e; text-decoration-color: #ed007e; background-color: #1e0010\">True/False</span><span style=\"color: #f8f8f2; text-decoration-color: #f8f8f2; background-color: #272822\">,</span><span style=\"background-color: #272822\">                                                                                   </span>\n",
       "<span style=\"background-color: #272822\"> </span><span style=\"color: #f8f8f2; text-decoration-color: #f8f8f2; background-color: #272822\">    </span><span style=\"color: #ff4689; text-decoration-color: #ff4689; background-color: #272822\">\"reason\"</span><span style=\"color: #f8f8f2; text-decoration-color: #f8f8f2; background-color: #272822\">: </span><span style=\"color: #e6db74; text-decoration-color: #e6db74; background-color: #272822\">\"Brief explanation of why PII was found or confirmation of privacy compliance\"</span><span style=\"background-color: #272822\">                      </span>\n",
       "<span style=\"background-color: #272822\"> </span><span style=\"color: #f8f8f2; text-decoration-color: #f8f8f2; background-color: #272822\">}}</span><span style=\"background-color: #272822\">                                                                                                                </span>\n",
       "<span style=\"background-color: #272822\">                                                                                                                   </span>\n",
       "\n",
       "Analyze this text for PII: {text}                                                                                  \n",
       "</pre>\n"
      ],
      "text/plain": [
       "Check for the following PII elements:                                                                              \n",
       "\n",
       "• Names (patient, doctor, family members)                                                                          \n",
       "\n",
       "• Dates of birth                                                                                                   \n",
       "\n",
       "• Ages (if specific)                                                                                               \n",
       "\n",
       "• Addresses                                                                                                        \n",
       "\n",
       "• Phone numbers                                                                                                    \n",
       "\n",
       "• Email addresses                                                                                                  \n",
       "\n",
       "• Social Security numbers                                                                                          \n",
       "\n",
       "• Medical record numbers                                                                                           \n",
       "\n",
       "• Insurance information                                                                                            \n",
       "\n",
       "• Specific dates of visits/procedures                                                                              \n",
       "\n",
       "• Unique identifying characteristics                                                                               \n",
       "\n",
       "• Geographic identifiers smaller than a state                                                                      \n",
       "\n",
       "Return only two fields matching the following structure:                                                           \n",
       "\n",
       "\u001b[48;2;39;40;34m                                                                                                                   \u001b[0m\n",
       "\u001b[48;2;39;40;34m \u001b[0m\u001b[38;2;248;248;242;48;2;39;40;34m{{\u001b[0m\u001b[48;2;39;40;34m                                                                                                               \u001b[0m\u001b[48;2;39;40;34m \u001b[0m\n",
       "\u001b[48;2;39;40;34m \u001b[0m\u001b[38;2;248;248;242;48;2;39;40;34m    \u001b[0m\u001b[38;2;255;70;137;48;2;39;40;34m\"contains_pii\"\u001b[0m\u001b[38;2;248;248;242;48;2;39;40;34m:\u001b[0m\u001b[38;2;248;248;242;48;2;39;40;34m \u001b[0m\u001b[38;2;237;0;126;48;2;30;0;16mT\u001b[0m\u001b[38;2;237;0;126;48;2;30;0;16mr\u001b[0m\u001b[38;2;237;0;126;48;2;30;0;16mu\u001b[0m\u001b[38;2;237;0;126;48;2;30;0;16me\u001b[0m\u001b[38;2;237;0;126;48;2;30;0;16m/\u001b[0m\u001b[38;2;237;0;126;48;2;30;0;16mF\u001b[0m\u001b[38;2;237;0;126;48;2;30;0;16ma\u001b[0m\u001b[38;2;237;0;126;48;2;30;0;16ml\u001b[0m\u001b[38;2;237;0;126;48;2;30;0;16ms\u001b[0m\u001b[38;2;237;0;126;48;2;30;0;16me\u001b[0m\u001b[38;2;248;248;242;48;2;39;40;34m,\u001b[0m\u001b[48;2;39;40;34m                                                                                  \u001b[0m\u001b[48;2;39;40;34m \u001b[0m\n",
       "\u001b[48;2;39;40;34m \u001b[0m\u001b[38;2;248;248;242;48;2;39;40;34m    \u001b[0m\u001b[38;2;255;70;137;48;2;39;40;34m\"reason\"\u001b[0m\u001b[38;2;248;248;242;48;2;39;40;34m:\u001b[0m\u001b[38;2;248;248;242;48;2;39;40;34m \u001b[0m\u001b[38;2;230;219;116;48;2;39;40;34m\"Brief explanation of why PII was found or confirmation of privacy compliance\"\u001b[0m\u001b[48;2;39;40;34m                     \u001b[0m\u001b[48;2;39;40;34m \u001b[0m\n",
       "\u001b[48;2;39;40;34m \u001b[0m\u001b[38;2;248;248;242;48;2;39;40;34m}}\u001b[0m\u001b[48;2;39;40;34m                                                                                                               \u001b[0m\u001b[48;2;39;40;34m \u001b[0m\n",
       "\u001b[48;2;39;40;34m                                                                                                                   \u001b[0m\n",
       "\n",
       "Analyze this text for PII: {text}                                                                                  \n"
      ]
     },
     "metadata": {},
     "output_type": "display_data"
    }
   ],
   "source": [
    "display_prompt(medical_privacy_system_prompt)\n",
    "display_prompt(medical_privacy_judge_prompt)"
   ]
  },
  {
   "cell_type": "code",
   "execution_count": 22,
   "metadata": {},
   "outputs": [],
   "source": [
    "@weave.op()\n",
    "def judge_adheres_to_privacy_guidelines(model_output: str):\n",
    "    llm = LLMClient(model_name=GEMINI_MODEL, client_type=\"gemini\")\n",
    "    response = llm.predict(user_prompt=medical_privacy_judge_prompt.format(text=model_output), system_prompt=medical_privacy_system_prompt, schema=MedicalPrivacyJudgement)\n",
    "    try:\n",
    "        result = json.loads(response.text.strip(\"\\n\"))\n",
    "        return int(not result[0][\"contains_pii\"])\n",
    "    except:\n",
    "        return int(True) #TODO: Add json parsing as failure reason"
   ]
  },
  {
   "cell_type": "code",
   "execution_count": 23,
   "metadata": {},
   "outputs": [
    {
     "name": "stdout",
     "output_type": "stream",
     "text": [
      "🍩 https://wandb.ai/eval-course/eval_course_ch1_dev/r/call/0192d9fa-067e-7993-a72f-7754243181ba\n"
     ]
    },
    {
     "data": {
      "text/plain": [
       "0"
      ]
     },
     "execution_count": 23,
     "metadata": {},
     "output_type": "execute_result"
    }
   ],
   "source": [
    "judge_adheres_to_privacy_guidelines(test_output)"
   ]
  },
  {
   "cell_type": "code",
   "execution_count": 24,
   "metadata": {},
   "outputs": [
    {
     "data": {
      "text/html": [
       "<pre style=\"white-space:pre;overflow-x:auto;line-height:normal;font-family:Menlo,'DejaVu Sans Mono',consolas,'Courier New',monospace\">You are a medical documentation quality assessor specialized in evaluating information extraction from medical     \n",
       "records. Your task is to provide a single comprehensive score that is either 0 or 1 for the extracted information. \n",
       "</pre>\n"
      ],
      "text/plain": [
       "You are a medical documentation quality assessor specialized in evaluating information extraction from medical     \n",
       "records. Your task is to provide a single comprehensive score that is either 0 or 1 for the extracted information. \n"
      ]
     },
     "metadata": {},
     "output_type": "display_data"
    },
    {
     "data": {
      "text/html": [
       "<pre style=\"white-space:pre;overflow-x:auto;line-height:normal;font-family:Menlo,'DejaVu Sans Mono',consolas,'Courier New',monospace\">Scoring Criteria:                                                                                                  \n",
       "\n",
       "<span style=\"color: #808000; text-decoration-color: #808000; font-weight: bold\"> 1 </span>Required Fields (Critical)                                                                                      \n",
       "<span style=\"color: #808000; text-decoration-color: #808000; font-weight: bold\">   </span>• All specified fields are present (chief complaint, history, examination, symptoms, medications, follow-up)    \n",
       "<span style=\"color: #808000; text-decoration-color: #808000; font-weight: bold\">   </span>• Information is relevant and properly categorized                                                              \n",
       "<span style=\"color: #808000; text-decoration-color: #808000; font-weight: bold\">   </span>• N/A is used appropriately for missing information                                                             \n",
       "<span style=\"color: #808000; text-decoration-color: #808000; font-weight: bold\"> 2 </span>Accuracy &amp; Clarity                                                                                              \n",
       "<span style=\"color: #808000; text-decoration-color: #808000; font-weight: bold\">   </span>• Information accurately reflects the source material                                                           \n",
       "<span style=\"color: #808000; text-decoration-color: #808000; font-weight: bold\">   </span>• Medical terminology is used correctly                                                                         \n",
       "<span style=\"color: #808000; text-decoration-color: #808000; font-weight: bold\">   </span>• Summaries are clear and unambiguous                                                                           \n",
       "<span style=\"color: #808000; text-decoration-color: #808000; font-weight: bold\">   </span>• Key medical details are preserved                                                                             \n",
       "<span style=\"color: #808000; text-decoration-color: #808000; font-weight: bold\"> 3 </span>Privacy &amp; Formatting                                                                                            \n",
       "<span style=\"color: #808000; text-decoration-color: #808000; font-weight: bold\">   </span>• No personal identifiable information (PII) is included                                                        \n",
       "<span style=\"color: #808000; text-decoration-color: #808000; font-weight: bold\">   </span>• \"The patient\" is used instead of names                                                                        \n",
       "<span style=\"color: #808000; text-decoration-color: #808000; font-weight: bold\">   </span>• Bullet point format is followed correctly                                                                     \n",
       "<span style=\"color: #808000; text-decoration-color: #808000; font-weight: bold\">   </span>• Response length is appropriate (~150 words)                                                                   \n",
       "<span style=\"color: #808000; text-decoration-color: #808000; font-weight: bold\">   </span>• Information is well-organized and readable                                                                    \n",
       "\n",
       "Return only two fields matching the following structure where the score MUST be either 0 or 1:                     \n",
       "\n",
       "<span style=\"background-color: #272822\">                                                                                                                   </span>\n",
       "<span style=\"background-color: #272822\"> </span><span style=\"color: #f8f8f2; text-decoration-color: #f8f8f2; background-color: #272822\">{{</span><span style=\"background-color: #272822\">                                                                                                                </span>\n",
       "<span style=\"background-color: #272822\"> </span><span style=\"color: #f8f8f2; text-decoration-color: #f8f8f2; background-color: #272822\">    </span><span style=\"color: #ff4689; text-decoration-color: #ff4689; background-color: #272822\">\"score\"</span><span style=\"color: #f8f8f2; text-decoration-color: #f8f8f2; background-color: #272822\">: </span><span style=\"color: #ed007e; text-decoration-color: #ed007e; background-color: #1e0010\">i</span><span style=\"color: #66d9ef; text-decoration-color: #66d9ef; background-color: #272822\">nt</span><span style=\"color: #f8f8f2; text-decoration-color: #f8f8f2; background-color: #272822\">,  </span><span style=\"color: #ed007e; text-decoration-color: #ed007e; background-color: #1e0010\">#</span><span style=\"color: #f8f8f2; text-decoration-color: #f8f8f2; background-color: #272822\"> </span><span style=\"color: #ed007e; text-decoration-color: #ed007e; background-color: #1e0010\">Score</span><span style=\"color: #f8f8f2; text-decoration-color: #f8f8f2; background-color: #272822\"> </span><span style=\"color: #66d9ef; text-decoration-color: #66d9ef; background-color: #272822\">t</span><span style=\"color: #ed007e; text-decoration-color: #ed007e; background-color: #1e0010\">ha</span><span style=\"color: #66d9ef; text-decoration-color: #66d9ef; background-color: #272822\">t</span><span style=\"color: #f8f8f2; text-decoration-color: #f8f8f2; background-color: #272822\"> </span><span style=\"color: #ed007e; text-decoration-color: #ed007e; background-color: #1e0010\">is</span><span style=\"color: #f8f8f2; text-decoration-color: #f8f8f2; background-color: #272822\"> </span><span style=\"color: #ed007e; text-decoration-color: #ed007e; background-color: #1e0010\">ei</span><span style=\"color: #66d9ef; text-decoration-color: #66d9ef; background-color: #272822\">t</span><span style=\"color: #ed007e; text-decoration-color: #ed007e; background-color: #1e0010\">her</span><span style=\"color: #f8f8f2; text-decoration-color: #f8f8f2; background-color: #272822\"> </span><span style=\"color: #ae81ff; text-decoration-color: #ae81ff; background-color: #272822\">0</span><span style=\"color: #f8f8f2; text-decoration-color: #f8f8f2; background-color: #272822\"> </span><span style=\"color: #ed007e; text-decoration-color: #ed007e; background-color: #1e0010\">or</span><span style=\"color: #f8f8f2; text-decoration-color: #f8f8f2; background-color: #272822\"> </span><span style=\"color: #ae81ff; text-decoration-color: #ae81ff; background-color: #272822\">1</span><span style=\"background-color: #272822\">                                                                  </span>\n",
       "<span style=\"background-color: #272822\"> </span><span style=\"color: #f8f8f2; text-decoration-color: #f8f8f2; background-color: #272822\">    </span><span style=\"color: #ff4689; text-decoration-color: #ff4689; background-color: #272822\">\"reason\"</span><span style=\"color: #f8f8f2; text-decoration-color: #f8f8f2; background-color: #272822\">: </span><span style=\"color: #e6db74; text-decoration-color: #e6db74; background-color: #272822\">\"Detailed explanation of why this score was given, referencing specific strengths and weaknesses\"</span><span style=\"background-color: #272822\">   </span>\n",
       "<span style=\"background-color: #272822\"> </span><span style=\"color: #f8f8f2; text-decoration-color: #f8f8f2; background-color: #272822\">}}</span><span style=\"background-color: #272822\">                                                                                                                </span>\n",
       "<span style=\"background-color: #272822\">                                                                                                                   </span>\n",
       "\n",
       "Evaluate this extraction: {text}                                                                                   \n",
       "</pre>\n"
      ],
      "text/plain": [
       "Scoring Criteria:                                                                                                  \n",
       "\n",
       "\u001b[1;33m 1 \u001b[0mRequired Fields (Critical)                                                                                      \n",
       "\u001b[1;33m   \u001b[0m• All specified fields are present (chief complaint, history, examination, symptoms, medications, follow-up)    \n",
       "\u001b[1;33m   \u001b[0m• Information is relevant and properly categorized                                                              \n",
       "\u001b[1;33m   \u001b[0m• N/A is used appropriately for missing information                                                             \n",
       "\u001b[1;33m 2 \u001b[0mAccuracy & Clarity                                                                                              \n",
       "\u001b[1;33m   \u001b[0m• Information accurately reflects the source material                                                           \n",
       "\u001b[1;33m   \u001b[0m• Medical terminology is used correctly                                                                         \n",
       "\u001b[1;33m   \u001b[0m• Summaries are clear and unambiguous                                                                           \n",
       "\u001b[1;33m   \u001b[0m• Key medical details are preserved                                                                             \n",
       "\u001b[1;33m 3 \u001b[0mPrivacy & Formatting                                                                                            \n",
       "\u001b[1;33m   \u001b[0m• No personal identifiable information (PII) is included                                                        \n",
       "\u001b[1;33m   \u001b[0m• \"The patient\" is used instead of names                                                                        \n",
       "\u001b[1;33m   \u001b[0m• Bullet point format is followed correctly                                                                     \n",
       "\u001b[1;33m   \u001b[0m• Response length is appropriate (~150 words)                                                                   \n",
       "\u001b[1;33m   \u001b[0m• Information is well-organized and readable                                                                    \n",
       "\n",
       "Return only two fields matching the following structure where the score MUST be either 0 or 1:                     \n",
       "\n",
       "\u001b[48;2;39;40;34m                                                                                                                   \u001b[0m\n",
       "\u001b[48;2;39;40;34m \u001b[0m\u001b[38;2;248;248;242;48;2;39;40;34m{{\u001b[0m\u001b[48;2;39;40;34m                                                                                                               \u001b[0m\u001b[48;2;39;40;34m \u001b[0m\n",
       "\u001b[48;2;39;40;34m \u001b[0m\u001b[38;2;248;248;242;48;2;39;40;34m    \u001b[0m\u001b[38;2;255;70;137;48;2;39;40;34m\"score\"\u001b[0m\u001b[38;2;248;248;242;48;2;39;40;34m:\u001b[0m\u001b[38;2;248;248;242;48;2;39;40;34m \u001b[0m\u001b[38;2;237;0;126;48;2;30;0;16mi\u001b[0m\u001b[38;2;102;217;239;48;2;39;40;34mnt\u001b[0m\u001b[38;2;248;248;242;48;2;39;40;34m,\u001b[0m\u001b[38;2;248;248;242;48;2;39;40;34m  \u001b[0m\u001b[38;2;237;0;126;48;2;30;0;16m#\u001b[0m\u001b[38;2;248;248;242;48;2;39;40;34m \u001b[0m\u001b[38;2;237;0;126;48;2;30;0;16mS\u001b[0m\u001b[38;2;237;0;126;48;2;30;0;16mc\u001b[0m\u001b[38;2;237;0;126;48;2;30;0;16mo\u001b[0m\u001b[38;2;237;0;126;48;2;30;0;16mr\u001b[0m\u001b[38;2;237;0;126;48;2;30;0;16me\u001b[0m\u001b[38;2;248;248;242;48;2;39;40;34m \u001b[0m\u001b[38;2;102;217;239;48;2;39;40;34mt\u001b[0m\u001b[38;2;237;0;126;48;2;30;0;16mh\u001b[0m\u001b[38;2;237;0;126;48;2;30;0;16ma\u001b[0m\u001b[38;2;102;217;239;48;2;39;40;34mt\u001b[0m\u001b[38;2;248;248;242;48;2;39;40;34m \u001b[0m\u001b[38;2;237;0;126;48;2;30;0;16mi\u001b[0m\u001b[38;2;237;0;126;48;2;30;0;16ms\u001b[0m\u001b[38;2;248;248;242;48;2;39;40;34m \u001b[0m\u001b[38;2;237;0;126;48;2;30;0;16me\u001b[0m\u001b[38;2;237;0;126;48;2;30;0;16mi\u001b[0m\u001b[38;2;102;217;239;48;2;39;40;34mt\u001b[0m\u001b[38;2;237;0;126;48;2;30;0;16mh\u001b[0m\u001b[38;2;237;0;126;48;2;30;0;16me\u001b[0m\u001b[38;2;237;0;126;48;2;30;0;16mr\u001b[0m\u001b[38;2;248;248;242;48;2;39;40;34m \u001b[0m\u001b[38;2;174;129;255;48;2;39;40;34m0\u001b[0m\u001b[38;2;248;248;242;48;2;39;40;34m \u001b[0m\u001b[38;2;237;0;126;48;2;30;0;16mo\u001b[0m\u001b[38;2;237;0;126;48;2;30;0;16mr\u001b[0m\u001b[38;2;248;248;242;48;2;39;40;34m \u001b[0m\u001b[38;2;174;129;255;48;2;39;40;34m1\u001b[0m\u001b[48;2;39;40;34m                                                                 \u001b[0m\u001b[48;2;39;40;34m \u001b[0m\n",
       "\u001b[48;2;39;40;34m \u001b[0m\u001b[38;2;248;248;242;48;2;39;40;34m    \u001b[0m\u001b[38;2;255;70;137;48;2;39;40;34m\"reason\"\u001b[0m\u001b[38;2;248;248;242;48;2;39;40;34m:\u001b[0m\u001b[38;2;248;248;242;48;2;39;40;34m \u001b[0m\u001b[38;2;230;219;116;48;2;39;40;34m\"Detailed explanation of why this score was given, referencing specific strengths and weaknesses\"\u001b[0m\u001b[48;2;39;40;34m  \u001b[0m\u001b[48;2;39;40;34m \u001b[0m\n",
       "\u001b[48;2;39;40;34m \u001b[0m\u001b[38;2;248;248;242;48;2;39;40;34m}}\u001b[0m\u001b[48;2;39;40;34m                                                                                                               \u001b[0m\u001b[48;2;39;40;34m \u001b[0m\n",
       "\u001b[48;2;39;40;34m                                                                                                                   \u001b[0m\n",
       "\n",
       "Evaluate this extraction: {text}                                                                                   \n"
      ]
     },
     "metadata": {},
     "output_type": "display_data"
    }
   ],
   "source": [
    "display_prompt(medical_task_score_system_prompt)\n",
    "display_prompt(medical_task_score_prompt)"
   ]
  },
  {
   "cell_type": "code",
   "execution_count": 25,
   "metadata": {},
   "outputs": [],
   "source": [
    "@weave.op()\n",
    "def judge_overall_score(model_output: str):\n",
    "    llm = LLMClient(model_name=GEMINI_MODEL, client_type=\"gemini\")\n",
    "    response = llm.predict(user_prompt=medical_task_score_prompt.format(text=model_output), system_prompt=medical_task_score_system_prompt, schema=MedicalTaskScoreJudgement)\n",
    "    try:\n",
    "        result = json.loads(response.text.strip(\"\\n\"))\n",
    "        return result[0][\"score\"]\n",
    "    except:\n",
    "        return 0 #TODO: Add json parsing as failure reason\n"
   ]
  },
  {
   "cell_type": "code",
   "execution_count": 26,
   "metadata": {},
   "outputs": [
    {
     "name": "stdout",
     "output_type": "stream",
     "text": [
      "🍩 https://wandb.ai/eval-course/eval_course_ch1_dev/r/call/0192d9fa-0991-7990-a884-7f39a79ad025\n"
     ]
    },
    {
     "data": {
      "text/plain": [
       "0"
      ]
     },
     "execution_count": 26,
     "metadata": {},
     "output_type": "execute_result"
    }
   ],
   "source": [
    "judge_overall_score(test_output)"
   ]
  },
  {
   "cell_type": "markdown",
   "metadata": {},
   "source": [
    "### We already have a dataset of annotated medical data. We can use this to test our evaluation functions."
   ]
  },
  {
   "cell_type": "code",
   "execution_count": 27,
   "metadata": {},
   "outputs": [],
   "source": [
    "@weave.op()\n",
    "def annotated_data_passthrough(input, output):\n",
    "    return output"
   ]
  },
  {
   "cell_type": "code",
   "execution_count": 28,
   "metadata": {},
   "outputs": [
    {
     "data": {
      "text/plain": [
       "0"
      ]
     },
     "execution_count": 28,
     "metadata": {},
     "output_type": "execute_result"
    }
   ],
   "source": [
    "annotated_medical_data[0][2]"
   ]
  },
  {
   "cell_type": "code",
   "execution_count": 29,
   "metadata": {},
   "outputs": [],
   "source": [
    "evaluation_data = [\n",
    "    {\"input\": annotated_row[0][\"input\"], \"output\": annotated_row[1][\"output\"], \"scores\": {\"human_required_keys\": annotated_row[3][\"presence_of_keys\"], \"human_word_limit\": annotated_row[3][\"word_count\"], \"human_absence_of_PII\": annotated_row[3][\"absence_of_PII\"], \"human_overall_score\": annotated_row[2]}}\n",
    "    for annotated_row in annotated_medical_data\n",
    "][0:5]"
   ]
  },
  {
   "cell_type": "code",
   "execution_count": 30,
   "metadata": {},
   "outputs": [],
   "source": [
    "import asyncio"
   ]
  },
  {
   "cell_type": "code",
   "execution_count": 31,
   "metadata": {},
   "outputs": [
    {
     "data": {
      "text/html": [
       "<pre style=\"white-space:pre;overflow-x:auto;line-height:normal;font-family:Menlo,'DejaVu Sans Mono',consolas,'Courier New',monospace\">Evaluated <span style=\"color: #008080; text-decoration-color: #008080; font-weight: bold\">1</span> of <span style=\"color: #008080; text-decoration-color: #008080; font-weight: bold\">5</span> examples\n",
       "</pre>\n"
      ],
      "text/plain": [
       "Evaluated \u001b[1;36m1\u001b[0m of \u001b[1;36m5\u001b[0m examples\n"
      ]
     },
     "metadata": {},
     "output_type": "display_data"
    },
    {
     "data": {
      "text/html": [
       "<pre style=\"white-space:pre;overflow-x:auto;line-height:normal;font-family:Menlo,'DejaVu Sans Mono',consolas,'Courier New',monospace\">Evaluated <span style=\"color: #008080; text-decoration-color: #008080; font-weight: bold\">2</span> of <span style=\"color: #008080; text-decoration-color: #008080; font-weight: bold\">5</span> examples\n",
       "</pre>\n"
      ],
      "text/plain": [
       "Evaluated \u001b[1;36m2\u001b[0m of \u001b[1;36m5\u001b[0m examples\n"
      ]
     },
     "metadata": {},
     "output_type": "display_data"
    },
    {
     "data": {
      "text/html": [
       "<pre style=\"white-space:pre;overflow-x:auto;line-height:normal;font-family:Menlo,'DejaVu Sans Mono',consolas,'Courier New',monospace\">Evaluated <span style=\"color: #008080; text-decoration-color: #008080; font-weight: bold\">3</span> of <span style=\"color: #008080; text-decoration-color: #008080; font-weight: bold\">5</span> examples\n",
       "</pre>\n"
      ],
      "text/plain": [
       "Evaluated \u001b[1;36m3\u001b[0m of \u001b[1;36m5\u001b[0m examples\n"
      ]
     },
     "metadata": {},
     "output_type": "display_data"
    },
    {
     "data": {
      "text/html": [
       "<pre style=\"white-space:pre;overflow-x:auto;line-height:normal;font-family:Menlo,'DejaVu Sans Mono',consolas,'Courier New',monospace\">Evaluated <span style=\"color: #008080; text-decoration-color: #008080; font-weight: bold\">4</span> of <span style=\"color: #008080; text-decoration-color: #008080; font-weight: bold\">5</span> examples\n",
       "</pre>\n"
      ],
      "text/plain": [
       "Evaluated \u001b[1;36m4\u001b[0m of \u001b[1;36m5\u001b[0m examples\n"
      ]
     },
     "metadata": {},
     "output_type": "display_data"
    },
    {
     "data": {
      "text/html": [
       "<pre style=\"white-space:pre;overflow-x:auto;line-height:normal;font-family:Menlo,'DejaVu Sans Mono',consolas,'Courier New',monospace\">Evaluated <span style=\"color: #008080; text-decoration-color: #008080; font-weight: bold\">5</span> of <span style=\"color: #008080; text-decoration-color: #008080; font-weight: bold\">5</span> examples\n",
       "</pre>\n"
      ],
      "text/plain": [
       "Evaluated \u001b[1;36m5\u001b[0m of \u001b[1;36m5\u001b[0m examples\n"
      ]
     },
     "metadata": {},
     "output_type": "display_data"
    },
    {
     "data": {
      "text/html": [
       "<pre style=\"white-space:pre;overflow-x:auto;line-height:normal;font-family:Menlo,'DejaVu Sans Mono',consolas,'Courier New',monospace\">Evaluation summary\n",
       "<span style=\"font-weight: bold\">{</span>\n",
       "    <span style=\"color: #008000; text-decoration-color: #008000\">'test_adheres_to_required_keys'</span>: <span style=\"font-weight: bold\">{</span><span style=\"color: #008000; text-decoration-color: #008000\">'mean'</span>: <span style=\"color: #008080; text-decoration-color: #008080; font-weight: bold\">0.0</span><span style=\"font-weight: bold\">}</span>,\n",
       "    <span style=\"color: #008000; text-decoration-color: #008000\">'test_adheres_to_word_limit'</span>: <span style=\"font-weight: bold\">{</span><span style=\"color: #008000; text-decoration-color: #008000\">'mean'</span>: <span style=\"color: #008080; text-decoration-color: #008080; font-weight: bold\">0.8</span><span style=\"font-weight: bold\">}</span>,\n",
       "    <span style=\"color: #008000; text-decoration-color: #008000\">'judge_adheres_to_privacy_guidelines'</span>: <span style=\"font-weight: bold\">{</span><span style=\"color: #008000; text-decoration-color: #008000\">'mean'</span>: <span style=\"color: #008080; text-decoration-color: #008080; font-weight: bold\">0.4</span><span style=\"font-weight: bold\">}</span>,\n",
       "    <span style=\"color: #008000; text-decoration-color: #008000\">'judge_overall_score'</span>: <span style=\"font-weight: bold\">{</span><span style=\"color: #008000; text-decoration-color: #008000\">'mean'</span>: <span style=\"color: #008080; text-decoration-color: #008080; font-weight: bold\">0.2</span><span style=\"font-weight: bold\">}</span>,\n",
       "    <span style=\"color: #008000; text-decoration-color: #008000\">'model_latency'</span>: <span style=\"font-weight: bold\">{</span><span style=\"color: #008000; text-decoration-color: #008000\">'mean'</span>: <span style=\"color: #008080; text-decoration-color: #008080; font-weight: bold\">0.007454061508178711</span><span style=\"font-weight: bold\">}</span>\n",
       "<span style=\"font-weight: bold\">}</span>\n",
       "</pre>\n"
      ],
      "text/plain": [
       "Evaluation summary\n",
       "\u001b[1m{\u001b[0m\n",
       "    \u001b[32m'test_adheres_to_required_keys'\u001b[0m: \u001b[1m{\u001b[0m\u001b[32m'mean'\u001b[0m: \u001b[1;36m0.0\u001b[0m\u001b[1m}\u001b[0m,\n",
       "    \u001b[32m'test_adheres_to_word_limit'\u001b[0m: \u001b[1m{\u001b[0m\u001b[32m'mean'\u001b[0m: \u001b[1;36m0.8\u001b[0m\u001b[1m}\u001b[0m,\n",
       "    \u001b[32m'judge_adheres_to_privacy_guidelines'\u001b[0m: \u001b[1m{\u001b[0m\u001b[32m'mean'\u001b[0m: \u001b[1;36m0.4\u001b[0m\u001b[1m}\u001b[0m,\n",
       "    \u001b[32m'judge_overall_score'\u001b[0m: \u001b[1m{\u001b[0m\u001b[32m'mean'\u001b[0m: \u001b[1;36m0.2\u001b[0m\u001b[1m}\u001b[0m,\n",
       "    \u001b[32m'model_latency'\u001b[0m: \u001b[1m{\u001b[0m\u001b[32m'mean'\u001b[0m: \u001b[1;36m0.007454061508178711\u001b[0m\u001b[1m}\u001b[0m\n",
       "\u001b[1m}\u001b[0m\n"
      ]
     },
     "metadata": {},
     "output_type": "display_data"
    },
    {
     "name": "stdout",
     "output_type": "stream",
     "text": [
      "🍩 https://wandb.ai/eval-course/eval_course_ch1_dev/r/call/0192d9fa-0c35-7593-b1c4-09b9307a6adb\n"
     ]
    }
   ],
   "source": [
    "# Create evaluation\n",
    "evaluation = weave.Evaluation(\n",
    "    dataset=evaluation_data,\n",
    "    scorers=[test_adheres_to_required_keys, test_adheres_to_word_limit, judge_adheres_to_privacy_guidelines, judge_overall_score]\n",
    ")\n",
    "\n",
    "# Run evaluation\n",
    "evals = asyncio.run(evaluation.evaluate(annotated_data_passthrough))"
   ]
  },
  {
   "cell_type": "markdown",
   "metadata": {},
   "source": [
    "### But do our test outputs adhere to the annotation expectations?"
   ]
  },
  {
   "cell_type": "code",
   "execution_count": 39,
   "metadata": {},
   "outputs": [],
   "source": [
    "from utils.evals import get_evaluation_predictions\n"
   ]
  },
  {
   "cell_type": "code",
   "execution_count": 40,
   "metadata": {},
   "outputs": [],
   "source": [
    "eval_call_id = \"0192d9fa-0c35-7593-b1c4-09b9307a6adb\""
   ]
  },
  {
   "cell_type": "code",
   "execution_count": 41,
   "metadata": {},
   "outputs": [],
   "source": [
    "import pandas as pd\n",
    "from sklearn.metrics import cohen_kappa_score"
   ]
  },
  {
   "cell_type": "code",
   "execution_count": 42,
   "metadata": {},
   "outputs": [],
   "source": [
    "def get_evaluation_predictions(eval_call_id):\n",
    "    \"\"\"\n",
    "    Extract and format evaluation predictions from a Weave evaluation call ID.\n",
    "    \n",
    "    Args:\n",
    "        eval_call_id (str): ID of the Weave evaluation call to analyze\n",
    "        \n",
    "    Returns:\n",
    "        pd.DataFrame: DataFrame containing paired human and model scores for each metric\n",
    "    \"\"\"\n",
    "    eval_calls = weave_client.get_call(eval_call_id)\n",
    "    predictions = []\n",
    "    \n",
    "    for eval_call in eval_calls.children():\n",
    "        if eval_call.op_name.split(\"/\")[-1].split(\":\")[0] == \"Evaluation.predict_and_score\":\n",
    "            _eval_call = weave_client.get_call(eval_call.id)\n",
    "            \n",
    "            # Extract data\n",
    "            input_text = _eval_call.inputs[\"example\"][\"input\"]\n",
    "            human_scores = _eval_call.inputs[\"example\"][\"scores\"]\n",
    "            model_scores = _eval_call.output[\"scores\"]\n",
    "            \n",
    "            # Create paired scores\n",
    "            scores = {\n",
    "                'input': input_text,\n",
    "                'required_keys': (human_scores['human_required_keys'], model_scores['test_adheres_to_required_keys']),\n",
    "                'word_limit': (human_scores['human_word_limit'], model_scores['test_adheres_to_word_limit']),\n",
    "                'privacy': (human_scores['human_absence_of_PII'], model_scores['judge_adheres_to_privacy_guidelines']),\n",
    "                'overall': (human_scores['human_overall_score'], model_scores['judge_overall_score'])\n",
    "            }\n",
    "            predictions.append(scores)\n",
    "\n",
    "    return pd.DataFrame(predictions)"
   ]
  },
  {
   "cell_type": "code",
   "execution_count": 43,
   "metadata": {},
   "outputs": [
    {
     "data": {
      "text/html": [
       "<div>\n",
       "<style scoped>\n",
       "    .dataframe tbody tr th:only-of-type {\n",
       "        vertical-align: middle;\n",
       "    }\n",
       "\n",
       "    .dataframe tbody tr th {\n",
       "        vertical-align: top;\n",
       "    }\n",
       "\n",
       "    .dataframe thead th {\n",
       "        text-align: right;\n",
       "    }\n",
       "</style>\n",
       "<table border=\"1\" class=\"dataframe\">\n",
       "  <thead>\n",
       "    <tr style=\"text-align: right;\">\n",
       "      <th></th>\n",
       "      <th>input</th>\n",
       "      <th>required_keys</th>\n",
       "      <th>word_limit</th>\n",
       "      <th>privacy</th>\n",
       "      <th>overall</th>\n",
       "    </tr>\n",
       "  </thead>\n",
       "  <tbody>\n",
       "    <tr>\n",
       "      <th>0</th>\n",
       "      <td>Dialogue: [doctor] hey dylan what's going on s...</td>\n",
       "      <td>(1, 0)</td>\n",
       "      <td>(1, 0)</td>\n",
       "      <td>(0, 0)</td>\n",
       "      <td>(0, 0)</td>\n",
       "    </tr>\n",
       "    <tr>\n",
       "      <th>1</th>\n",
       "      <td>Dialogue: [doctor] hello , mrs . peterson . [p...</td>\n",
       "      <td>(1, 0)</td>\n",
       "      <td>(1, 1)</td>\n",
       "      <td>(1, 1)</td>\n",
       "      <td>(1, 0)</td>\n",
       "    </tr>\n",
       "    <tr>\n",
       "      <th>2</th>\n",
       "      <td>Dialogue: [doctor] hey , ms. hill . nice to se...</td>\n",
       "      <td>(0, 0)</td>\n",
       "      <td>(1, 1)</td>\n",
       "      <td>(1, 0)</td>\n",
       "      <td>(0, 1)</td>\n",
       "    </tr>\n",
       "    <tr>\n",
       "      <th>3</th>\n",
       "      <td>Dialogue: [doctor] okay so we are recording ok...</td>\n",
       "      <td>(0, 0)</td>\n",
       "      <td>(1, 1)</td>\n",
       "      <td>(1, 1)</td>\n",
       "      <td>(0, 0)</td>\n",
       "    </tr>\n",
       "    <tr>\n",
       "      <th>4</th>\n",
       "      <td>Dialogue: [doctor] hi keith , how are you ? [p...</td>\n",
       "      <td>(1, 0)</td>\n",
       "      <td>(1, 1)</td>\n",
       "      <td>(0, 0)</td>\n",
       "      <td>(0, 0)</td>\n",
       "    </tr>\n",
       "  </tbody>\n",
       "</table>\n",
       "</div>"
      ],
      "text/plain": [
       "                                               input required_keys word_limit  \\\n",
       "0  Dialogue: [doctor] hey dylan what's going on s...        (1, 0)     (1, 0)   \n",
       "1  Dialogue: [doctor] hello , mrs . peterson . [p...        (1, 0)     (1, 1)   \n",
       "2  Dialogue: [doctor] hey , ms. hill . nice to se...        (0, 0)     (1, 1)   \n",
       "3  Dialogue: [doctor] okay so we are recording ok...        (0, 0)     (1, 1)   \n",
       "4  Dialogue: [doctor] hi keith , how are you ? [p...        (1, 0)     (1, 1)   \n",
       "\n",
       "  privacy overall  \n",
       "0  (0, 0)  (0, 0)  \n",
       "1  (1, 1)  (1, 0)  \n",
       "2  (1, 0)  (0, 1)  \n",
       "3  (1, 1)  (0, 0)  \n",
       "4  (0, 0)  (0, 0)  "
      ]
     },
     "execution_count": 43,
     "metadata": {},
     "output_type": "execute_result"
    }
   ],
   "source": [
    "df = get_evaluation_predictions(eval_call_id)\n",
    "df"
   ]
  },
  {
   "cell_type": "code",
   "execution_count": 44,
   "metadata": {},
   "outputs": [
    {
     "name": "stdout",
     "output_type": "stream",
     "text": [
      "required_keys: 0.000\n",
      "word_limit: 0.000\n",
      "privacy: 0.615\n",
      "overall: -0.250\n"
     ]
    }
   ],
   "source": [
    "def calculate_kappa_scores(df, tuple_columns=['required_keys', 'word_limit', 'privacy', 'overall']):\n",
    "    \"\"\"\n",
    "    Calculate Cohen's Kappa scores for human vs model predictions across multiple metrics.\n",
    "    \n",
    "    Args:\n",
    "        df (pd.DataFrame): DataFrame containing paired scores as tuples (human_score, model_score)\n",
    "        tuple_columns (list): List of column names containing the score tuples\n",
    "        \n",
    "    Returns:\n",
    "        dict: Dictionary of kappa scores for each metric\n",
    "    \"\"\"\n",
    "    labels = [0, 1]  # Binary classification labels\n",
    "    kappa_scores = {}\n",
    "    \n",
    "    for col in tuple_columns:\n",
    "        human_scores = df[col].apply(lambda x: x[0])\n",
    "        pred_scores = df[col].apply(lambda x: x[1])\n",
    "        \n",
    "        kappa_scores[col] = cohen_kappa_score(\n",
    "            human_scores,\n",
    "            pred_scores,\n",
    "            labels=labels,\n",
    "            weights='linear'\n",
    "        )\n",
    "    \n",
    "    return kappa_scores\n",
    "\n",
    "# Example usage:\n",
    "kappa_scores = calculate_kappa_scores(df)\n",
    "for metric, score in kappa_scores.items():\n",
    "    print(f\"{metric}: {score:.3f}\")"
   ]
  },
  {
   "cell_type": "code",
   "execution_count": 45,
   "metadata": {},
   "outputs": [
    {
     "name": "stdout",
     "output_type": "stream",
     "text": [
      "\n",
      "Weighted Aggregate Alignment Score: 0.135\n",
      "Privacy-Focused Alignment Score: 0.270\n"
     ]
    }
   ],
   "source": [
    "def calculate_weighted_alignment(kappa_scores, weights=None):\n",
    "    \"\"\"\n",
    "    Calculate weighted alignment score across all metrics.\n",
    "    \n",
    "    Args:\n",
    "        kappa_scores (dict): Dictionary of kappa scores for each metric\n",
    "        weights (dict): Optional dictionary of weights for each metric. \n",
    "                       If None, uses equal weights.\n",
    "    \n",
    "    Returns:\n",
    "        float: Weighted average kappa score\n",
    "    \"\"\"\n",
    "    # Default to equal weights if none provided\n",
    "    if weights is None:\n",
    "        weights = {metric: 1/len(kappa_scores) for metric in kappa_scores.keys()}\n",
    "    \n",
    "    # Validate weights\n",
    "    assert set(weights.keys()) == set(kappa_scores.keys()), \\\n",
    "        \"Weights must be provided for all metrics\"\n",
    "    assert abs(sum(weights.values()) - 1.0) < 1e-9, \\\n",
    "        \"Weights must sum to 1\"\n",
    "    \n",
    "    # Calculate weighted average\n",
    "    weighted_score = sum(kappa_scores[metric] * weights[metric] \n",
    "                        for metric in kappa_scores.keys())\n",
    "    \n",
    "    return weighted_score\n",
    "\n",
    "# Example weights (adjust these based on what's most important for your use case)\n",
    "weights = {\n",
    "    'required_keys': 0.3,    # High importance - core functionality\n",
    "    'privacy': 0.3,          # High importance - compliance/safety\n",
    "    'word_limit': 0.2,       # Medium importance - usability\n",
    "    'overall': 0.2           # Medium importance - general quality\n",
    "}\n",
    "\n",
    "# Calculate aggregate score\n",
    "aggregate_score = calculate_weighted_alignment(kappa_scores, weights)\n",
    "print(f\"\\nWeighted Aggregate Alignment Score: {aggregate_score:.3f}\")\n",
    "\n",
    "# You can easily try different weightings:\n",
    "privacy_focused_weights = {\n",
    "    'required_keys': 0.2,\n",
    "    'privacy': 0.5,          # Much higher weight on privacy\n",
    "    'word_limit': 0.15,\n",
    "    'overall': 0.15\n",
    "}\n",
    "\n",
    "privacy_focused_score = calculate_weighted_alignment(kappa_scores, privacy_focused_weights)\n",
    "print(f\"Privacy-Focused Alignment Score: {privacy_focused_score:.3f}\")"
   ]
  }
 ],
 "metadata": {
  "kernelspec": {
   "display_name": ".venv",
   "language": "python",
   "name": "python3"
  },
  "language_info": {
   "codemirror_mode": {
    "name": "ipython",
    "version": 3
   },
   "file_extension": ".py",
   "mimetype": "text/x-python",
   "name": "python",
   "nbconvert_exporter": "python",
   "pygments_lexer": "ipython3",
   "version": "3.10.12"
  }
 },
 "nbformat": 4,
 "nbformat_minor": 2
}
