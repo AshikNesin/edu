{
 "cells": [
  {
   "cell_type": "code",
   "execution_count": 1,
   "metadata": {},
   "outputs": [
    {
     "name": "stderr",
     "output_type": "stream",
     "text": [
      "/Users/anishshah/Documents/Manual Library/GitHub/edu/llm-evaluators/.venv/lib/python3.10/site-packages/tqdm/auto.py:21: TqdmWarning: IProgress not found. Please update jupyter and ipywidgets. See https://ipywidgets.readthedocs.io/en/stable/user_install.html\n",
      "  from .autonotebook import tqdm as notebook_tqdm\n"
     ]
    }
   ],
   "source": [
    "import openai\n",
    "import pandas as pd\n",
    "from typing import List, Dict, Tuple, Literal, Optional\n",
    "from pydantic import BaseModel, Field\n",
    "import weave\n",
    "import instructor\n",
    "from set_env import set_env"
   ]
  },
  {
   "cell_type": "code",
   "execution_count": 2,
   "metadata": {},
   "outputs": [
    {
     "name": "stdout",
     "output_type": "stream",
     "text": [
      "Env set\n"
     ]
    }
   ],
   "source": [
    "set_env(\"OPENAI_API_KEY\")\n",
    "set_env(\"WANDB_API_KEY\")\n",
    "print(\"Env set\")"
   ]
  },
  {
   "cell_type": "code",
   "execution_count": 3,
   "metadata": {},
   "outputs": [],
   "source": [
    "from utils.config import WEAVE_PROJECT, ENTITY"
   ]
  },
  {
   "cell_type": "code",
   "execution_count": 4,
   "metadata": {},
   "outputs": [
    {
     "name": "stdout",
     "output_type": "stream",
     "text": [
      "Logged in as Weights & Biases user: a-sh0ts.\n",
      "View Weave data at https://wandb.ai/eval-course/eval_course_ch1_dev/weave\n"
     ]
    },
    {
     "data": {
      "text/plain": [
       "<weave.trace.weave_client.WeaveClient at 0x131e9d7b0>"
      ]
     },
     "execution_count": 4,
     "metadata": {},
     "output_type": "execute_result"
    }
   ],
   "source": [
    "weave.init(f\"{ENTITY}/{WEAVE_PROJECT}\")"
   ]
  },
  {
   "cell_type": "code",
   "execution_count": 5,
   "metadata": {},
   "outputs": [],
   "source": [
    "N_SAMPLES = 67"
   ]
  },
  {
   "cell_type": "code",
   "execution_count": 6,
   "metadata": {},
   "outputs": [],
   "source": [
    "from utils.prompts import medical_task, medical_system_prompt"
   ]
  },
  {
   "cell_type": "code",
   "execution_count": 7,
   "metadata": {},
   "outputs": [],
   "source": [
    "client = openai.OpenAI()\n",
    "\n",
    "medical_dataset_url = \"https://raw.githubusercontent.com/wyim/aci-bench/main/data/challenge_data/train.csv\"\n"
   ]
  },
  {
   "cell_type": "code",
   "execution_count": 8,
   "metadata": {},
   "outputs": [],
   "source": [
    "def load_medical_data(url: str, num_samples: int = N_SAMPLES) -> List[Dict]:\n",
    "    df = pd.read_csv(url)\n",
    "    print(df.shape)\n",
    "    samples = df.sample(n=num_samples, random_state=42)\n",
    "    return samples.to_dict('records')"
   ]
  },
  {
   "cell_type": "code",
   "execution_count": 9,
   "metadata": {},
   "outputs": [
    {
     "name": "stdout",
     "output_type": "stream",
     "text": [
      "(67, 4)\n"
     ]
    }
   ],
   "source": [
    "samples = load_medical_data(medical_dataset_url)"
   ]
  },
  {
   "cell_type": "code",
   "execution_count": 10,
   "metadata": {},
   "outputs": [
    {
     "data": {
      "text/plain": [
       "{'dataset': 'aci',\n",
       " 'encounter_id': 'D2N037',\n",
       " 'dialogue': \"[doctor] hey dylan what's going on so i lift quite a bit of weights i try to stay in shape as much as i can i'm not like normal people i lift heavy weights and my elbow is extremely sore which elbow is it\\n[patient] actually it's both my elbows but my right elbow is hurting me the most\\n[doctor] okay and you said you lift a lot of weights\\n[patient] mm-hmm\\n[doctor] did you play any sports when you were younger\\n[patient] no anything you can think of primarily it was basketball baseball and football\\n[doctor] okay and did your elbows hurt at that time or is this a a new injury\\n[patient] it's new\\n[doctor] when did it start\\n[patient] probably year and a half ago\\n[doctor] okay on both elbows about a year and a half ago\\n[patient] yeah\\n[doctor] okay have you taken anything for the pain\\n[patient] ibuprofen eight hundred milligrams three times a day\\n[doctor] okay and does anything make it better or worse\\n[patient] the more i use my hands or my arms the more it hurts\\n[doctor] okay have you tried icing\\n[patient] yes\\n[doctor] does that give you any relief\\n[patient] no\\n[doctor] alright is it the inside or outside of your elbows\\n[patient] inside\\n[doctor] inside okay let's just do a quick physical exam here i'll take a look at your right elbow first\\n[patient] mm-hmm\\n[doctor] if i bend it this way up does it hurt it's your left does that hurt\\n[patient] yes\\n[doctor] how about this\\n[patient] yes\\n[doctor] okay so pain with both flexion and extension\\n[patient] mm-hmm\\n[doctor] looks like you have little bit of limited range of motion on extension not on flexion though you said it hurts right here on the inside of your elbow\\n[patient] yes\\n[doctor] okay so pain on the medial side with palpation\\n[patient] yes\\n[doctor] alright how about the outside\\n[patient] no\\n[doctor] no pain with palpation outside of the elbow you have do you have normal sensation in your fingers\\n[patient] i think so\\n[doctor] yeah\\n[patient] yeah\\n[doctor] okay great\\n[patient] good to go\\n[doctor] sensation is normal to the touch\\n[patient] yes\\n[doctor] pulses equal in all extremities how about the left elbow same thing if i bend it this way does that hurt\\n[patient] not as much\\n[doctor] how about this way\\n[patient] not as much\\n[doctor] alright so little bit of pain on flexion and extension little bit of limited range of motion on extension of the arm how about if you twist like you're opening a door\\n[patient] yes\\n[doctor] okay so some pain with torsion and twisting supination what about pronation\\n[patient] no\\n[doctor] no pain with pronation on the right side\\n[patient] mm-hmm\\n[doctor] same thing on the left\\n[patient] yes\\n[doctor] pain with supination no pain with pronation\\n[patient] correct\\n[doctor] alright so dylan it took some x-rays coming in looks like you do n't have any any fractures or any bony misalignment which i expect with this kind of injury i do think that what you have is medial epicondylitis which is\\n[patient] is that golfer's elbow\\n[doctor] yes same thing have you been golfing a lot\\n[patient] well not in the past year and a half i've had this for a long time\\n[doctor] okay also known as pictures elbow\\n[patient] well i have n't been pitching either\\n[doctor] hmmm well in any case what i'm gon na have to do is i'm gon na send you up for mri to take another look at this\\n[patient] mm-hmm\\n[doctor] that will be our next step so we'll get you scheduled for the mri probably get you in pretty quick here since we're a private practice\\n[patient] thank god\\n[doctor] yeah and once you get the mri i'll know a little bit more what i'd like to do is something called a whole blood transfusion have you heard of that before\\n[patient] no please tell me remind me\\n[doctor] yeah it should help with the healing of your elbow it's just a procedure we'll stick a needle in your elbow\\n[patient] you do a stick needle in my elbow\\n[doctor] mm-hmm and help with some of the healing of your elbow\\n[patient] so it's kinda like dry needling then\\n[doctor] no\\n[patient] not at all\\n[doctor] what is it\\n[patient] is it is that that thing where like you take the blood out of like say my my thigh\\n[doctor] mm-hmm\\n[patient] and then you literally inject it into my tendon\\n[doctor] yes\\n[patient] that it activates the healing\\n[doctor] yeah that's exactly what it is\\n[patient] interesting cool\\n[doctor] yeah\\n[patient] maybe i have heard about that\\n[doctor] we've we've had some really good responses from other patients on it so hopefully i mean that should be a good solution for you since you've been having issues with this\\n[patient] i'm excited\\n[doctor] yeah and we can hopefully get you scheduled for that in the next couple of weeks it's not not a major procedure and you should heal in the next two weeks so that wo n't be a problem especially considering that you're expecting a newborn soon we want to make sure you're all healed for that\\n[patient] wow i did n't even say that\\n[doctor] i read it in your chart\\n[patient] man you doctors are good\\n[doctor] yeah anything else going on today\\n[patient] just trying to figure out how you're doing\\n[doctor] very good thank you\\n[patient] you're welcome\\n[doctor] nice to see you\\n[patient] you have a good day\",\n",
       " 'note': \"CHIEF COMPLAINT\\n\\nBilateral elbow pain, right worse than left.\\n\\nHISTORY OF PRESENT ILLNESS\\n\\nDylan Bennett is a pleasant 53-year-old male who presents to the clinic today for the evaluation of bilateral elbow pain, right worse than left.\\n\\nThe patient has been experiencing bilateral elbow pain, right worse than left, for approximately 1.5 years. His pain is localized to the medial aspect of his elbows and is described as being extremely sore, worse with increased use of his upper extremities. Of note, he utilizes heavy weights for strength training and was very active in sports when he was younger, primarily playing basketball, baseball, and football, but he denies having any pain at that time. Applying ice to the area has not been helpful, but he does use ibuprofen 800 mg 3 times daily.\\n\\nSOCIAL HISTORY\\n\\nThe patient reports that utilizes heavy weights for strength training. He was also very active in sports when he was younger, primarily playing basketball, baseball, and football.\\n\\nHe is expecting a newborn baby in the near future.\\n\\nMEDICATIONS\\n\\nThe patient reports that he has been taking ibuprofen 800 mg 3 times daily.\\n\\nREVIEW OF SYSTEMS\\n\\nMusculoskeletal: Reports bilateral elbow pain, right worse than left.\\n\\nPHYSICAL EXAM\\n\\nCV: Pulses are equal in all extremities.\\nNEURO: Sensation is normal to light touch distally.\\nMSK: \\nExamination of the right elbow: Limited range of motion with extension with pain. Full range of motion with flexion with pain. Pain to palpation along the medial aspect. No pain to palpation on the lateral aspect of the elbow. Pain with supination. No pain with pronation.\\nExamination of the left elbow: minimal pain with flexion and extension Slight Limited ROM on extension of the arm. Pain with supination. No pain with pronation.\\n\\nRESULTS\\n\\nX-ray images of the bilateral elbows were obtained and review in office today. These reveal no evidence of fracture or bony misalignment.\\n\\nASSESSMENT\\n\\nBilateral medial epicondylitis.\\n\\nPLAN\\n\\nAfter reviewing the patient's examination and radiographic findings today, we had a lengthy discussion in regards to his current symptoms. I want to get an MRI of the bilateral elbows for further evaluation. We discussed the possibility of performing a whole blood transfusion to encourage healing, and the patient is already familiar with this procedure.\"}"
      ]
     },
     "execution_count": 10,
     "metadata": {},
     "output_type": "execute_result"
    }
   ],
   "source": [
    "samples[0]"
   ]
  },
  {
   "cell_type": "code",
   "execution_count": 11,
   "metadata": {},
   "outputs": [],
   "source": [
    "def format_transcript(record):\n",
    "    dialogue = record['dialogue'].replace('\\n', ' ')\n",
    "    note = record['note'].replace('\\n', ' ')\n",
    "    transcript = f\"Dialogue: {dialogue}\\n\\nMedical Note: {note}\"\n",
    "    return transcript\n",
    "\n",
    "@weave.op()\n",
    "def process_medical_record(record: Dict) -> Dict:\n",
    "    transcript = format_transcript(record)\n",
    "    prompt = medical_task.format(transcript=transcript)\n",
    "    \n",
    "    response = client.chat.completions.create(\n",
    "        model=\"gpt-3.5-turbo\",\n",
    "        messages=[\n",
    "            {\"role\": \"system\", \"content\": medical_system_prompt},\n",
    "            {\"role\": \"user\", \"content\": prompt}\n",
    "        ],\n",
    "    )\n",
    "    \n",
    "    extracted_info = response.choices[0].message.content\n",
    "    \n",
    "    return {\n",
    "        \"input\": transcript,\n",
    "        \"output\": extracted_info,\n",
    "    }\n",
    "\n",
    "@weave.op()\n",
    "def generate_medical_data(num_samples: int = N_SAMPLES) -> List[Dict]:\n",
    "    data = load_medical_data(medical_dataset_url, num_samples)\n",
    "    processed_data = []\n",
    "    \n",
    "    for record in data:\n",
    "        processed_record = process_medical_record(record)\n",
    "        processed_data.append(processed_record)\n",
    "    \n",
    "    return processed_data"
   ]
  },
  {
   "cell_type": "code",
   "execution_count": 12,
   "metadata": {},
   "outputs": [
    {
     "name": "stdout",
     "output_type": "stream",
     "text": [
      "(67, 4)\n"
     ]
    }
   ],
   "source": [
    "results = generate_medical_data()"
   ]
  },
  {
   "cell_type": "code",
   "execution_count": null,
   "metadata": {},
   "outputs": [],
   "source": [
    "results[0:2]"
   ]
  },
  {
   "cell_type": "code",
   "execution_count": null,
   "metadata": {},
   "outputs": [],
   "source": [
    "weave.publish(results, name=\"medical_data_raw\")"
   ]
  },
  {
   "cell_type": "code",
   "execution_count": 15,
   "metadata": {},
   "outputs": [],
   "source": [
    "client = instructor.patch(openai.OpenAI())"
   ]
  },
  {
   "cell_type": "code",
   "execution_count": 16,
   "metadata": {},
   "outputs": [],
   "source": [
    "class MainCriteria(BaseModel):\n",
    "    word_count: Literal[0, 1] = Field(\n",
    "        description=\"1 if the word count is within the limit of 150 words, 0 otherwise\"\n",
    "    )\n",
    "    presence_of_keys: Literal[0, 1] = Field(\n",
    "        description=\"1 if all the six targeted keys (Chief complaint, History of present illness, Physical examination, Symptoms, New medications with dosages, Follow-up instructions) are present, 0 otherwise\"\n",
    "    )\n",
    "    absence_of_PII: Literal[0, 1] = Field(\n",
    "        description=\"1 if no PII is present, 0 otherwise\"\n",
    "    )"
   ]
  },
  {
   "cell_type": "code",
   "execution_count": 17,
   "metadata": {},
   "outputs": [],
   "source": [
    "#TODO: Make each desired field a separate annotation\n",
    "class AnnotationResult(BaseModel):\n",
    "    annotation: Literal[0, 1] = Field(\n",
    "        description=\"Binary score: 1 if the extraction meets all criteria, 0 if it fails on any\"\n",
    "    )\n",
    "    criteria_annotations: MainCriteria = Field(\n",
    "        description=\"A score for each of the main criteria\"\n",
    "    )\n",
    "    note: str = Field(\n",
    "        description=\"Brief explanation of the annotation decision, highlighting any issues or exemplary aspects\"\n",
    "    )\n",
    "\n",
    "annotation_prompt = \"\"\"\n",
    "    Review the following medical data extraction task results:\n",
    "\n",
    "    Task System Prompt:\n",
    "    {medical_system_prompt}\n",
    "\n",
    "    Task:\n",
    "    {medical_task}\n",
    "\n",
    "    Input:\n",
    "    {input_text}\n",
    "\n",
    "    Output:\n",
    "    {output_text}\n",
    "\n",
    "    Evaluate the extraction based on these criteria. Only refer to the Output in your evaluation and NOT the Medical Note field:\n",
    "    1. Completeness: All required fields addressed (Chief complaint, History of present illness, Physical examination, Symptoms, New medications with dosages, Follow-up instructions)\n",
    "    2. Accuracy: Information correctly extracted from input\n",
    "    3. Format: Proper bullet list format used (•key: value)\n",
    "    4. Privacy: No personal identifiable information (PII) included\n",
    "    5. Conciseness: ~150 words, key information summarized\n",
    "    6. Use of \"N/A\" for missing information\n",
    "\n",
    "    Provide:\n",
    "    1. Annotation: 1 if the extraction meets all criteria, 0 if it fails on any\n",
    "    2. Note: Brief explanation of your decision, highlighting any issues or exemplary aspects\n",
    "\"\"\"\n",
    "\n",
    "annotation_system_prompt = \"\"\"\n",
    "You are an AI assistant tasked with evaluating medical data extraction results.\n",
    "\"\"\""
   ]
  },
  {
   "cell_type": "code",
   "execution_count": 18,
   "metadata": {},
   "outputs": [],
   "source": [
    "@weave.op()\n",
    "def process_annotation(input_text: str, output_text: str) -> AnnotationResult:\n",
    "    prompt = annotation_prompt.format(medical_system_prompt=medical_system_prompt, medical_task=medical_task, input_text=input_text, output_text=output_text)\n",
    "    \n",
    "    return client.chat.completions.create(\n",
    "        model=\"gpt-4o\",\n",
    "        messages=[\n",
    "            {\"role\": \"system\", \"content\": annotation_system_prompt},\n",
    "            {\"role\": \"user\", \"content\": prompt}\n",
    "        ],\n",
    "        response_model=AnnotationResult\n",
    "    )"
   ]
  },
  {
   "cell_type": "code",
   "execution_count": 19,
   "metadata": {},
   "outputs": [],
   "source": [
    "DataPoint = Tuple[dict, dict, Literal[0, 1], MainCriteria, str, Optional[str], Optional[str]]\n",
    "\n",
    "@weave.op()\n",
    "def generate_annotations(results: List[Dict]) -> List[DataPoint]:\n",
    "    annotations = []\n",
    "    \n",
    "    for result in results:\n",
    "        input_text = result[\"input\"]\n",
    "        output_text = result[\"output\"]\n",
    "        annotation_result = process_annotation(input_text, output_text)\n",
    "\n",
    "        combined_task_description = f\"System Prompt: {medical_system_prompt}\\n\\nTask: {medical_task}\"\n",
    "        \n",
    "        data_point: DataPoint = (\n",
    "            {\"input\": input_text},  # input\n",
    "            {\"output\": output_text},  # output\n",
    "            annotation_result.annotation,  # annotation (1 for correct, 0 for incorrect)\n",
    "            annotation_result.criteria_annotations.model_dump(),  # criteria_annotations\n",
    "            annotation_result.note,  # note\n",
    "            combined_task_description,  # human_description_for_task_or_judge\n",
    "            \"word count, presence of the six targeted keys, and absence of PII, with the first two implemented via code- based assertions and the last via an LLM evaluator\"  # human_description_for_metric_details\n",
    "        )\n",
    "        \n",
    "        annotations.append(data_point)\n",
    "    \n",
    "    return annotations"
   ]
  },
  {
   "cell_type": "code",
   "execution_count": null,
   "metadata": {},
   "outputs": [],
   "source": [
    "annotations = generate_annotations(results)"
   ]
  },
  {
   "cell_type": "code",
   "execution_count": null,
   "metadata": {},
   "outputs": [],
   "source": [
    "annotations[0]"
   ]
  },
  {
   "cell_type": "code",
   "execution_count": null,
   "metadata": {},
   "outputs": [],
   "source": [
    "weave.publish(annotations, name=\"medical_data_annotations\")"
   ]
  }
 ],
 "metadata": {
  "kernelspec": {
   "display_name": ".venv",
   "language": "python",
   "name": "python3"
  },
  "language_info": {
   "codemirror_mode": {
    "name": "ipython",
    "version": 3
   },
   "file_extension": ".py",
   "mimetype": "text/x-python",
   "name": "python",
   "nbconvert_exporter": "python",
   "pygments_lexer": "ipython3",
   "version": "3.10.12"
  }
 },
 "nbformat": 4,
 "nbformat_minor": 2
}
