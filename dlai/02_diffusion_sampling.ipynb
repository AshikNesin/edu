{
 "cells": [
  {
   "cell_type": "markdown",
   "id": "958524a2-cb56-439e-850e-032dd10478f2",
   "metadata": {},
   "source": [
    "# Sampling from a diffusion model\n",
    "In this notebooks we will sampled from the previously trained diffusion model.\n",
    "- We are going to compare the samples from DDPM and DDIM samplers\n",
    "- Visualize mixing samples with conditional diffusion models"
   ]
  },
  {
   "cell_type": "code",
   "execution_count": null,
   "id": "700e687c",
   "metadata": {
    "tags": []
   },
   "outputs": [],
   "source": [
    "from types import SimpleNamespace\n",
    "from pathlib import Path\n",
    "import torch\n",
    "import torch.nn.functional as F\n",
    "import numpy as np\n",
    "from utilities import *\n",
    "\n",
    "import wandb"
   ]
  },
  {
   "cell_type": "code",
   "execution_count": null,
   "id": "dcaf7a29-782c-4735-991f-4408f5ec6128",
   "metadata": {},
   "outputs": [],
   "source": [
    "wandb.login(anonymous=\"allow\")"
   ]
  },
  {
   "cell_type": "markdown",
   "id": "7c0d229a",
   "metadata": {},
   "source": [
    "# Setting Things Up"
   ]
  },
  {
   "cell_type": "code",
   "execution_count": null,
   "id": "54c3a942",
   "metadata": {
    "tags": []
   },
   "outputs": [],
   "source": [
    "# Wandb Params\n",
    "PROJECT = \"dlai_sprite_diffusion\"\n",
    "MODEL_ARTIFACT = \"deeplearning-ai-temp/model-registry/SpriteGen:latest\" \n",
    "\n",
    "# ddpm sampler hyperparameters\n",
    "timesteps = 500\n",
    "beta1 = 1e-4\n",
    "beta2 = 0.02\n",
    "num_samples = 30\n",
    "height = 16\n",
    "ddim_n = 25\n",
    "\n",
    "device = get_device()\n",
    "\n",
    "# we are storing the parameters in a dictionary to be logged to wandb\n",
    "config = SimpleNamespace(\n",
    "    timesteps=timesteps,\n",
    "    beta1=beta1,\n",
    "    beta2=beta2,\n",
    "    num_samples=num_samples,\n",
    "    height=height,\n",
    "    ddim_n=ddim_n,\n",
    "    device=device,\n",
    ")"
   ]
  },
  {
   "cell_type": "markdown",
   "id": "bb43f98f",
   "metadata": {},
   "source": [
    "In the previous notebook we saved the best model as a wandb Artifact (our way of storing files during runs). We will now load the model from wandb and set up the sampling loop."
   ]
  },
  {
   "cell_type": "code",
   "execution_count": null,
   "id": "8ab66255",
   "metadata": {},
   "outputs": [],
   "source": [
    "def load_model(model_artifact_name):\n",
    "    \"Load the model from wandb artifacts\"\n",
    "    api = wandb.Api()\n",
    "    artifact = api.artifact(model_artifact_name, type=\"model\")\n",
    "    model_path = Path(artifact.download())\n",
    "\n",
    "    # recover model info from the registry\n",
    "    producer_run = artifact.logged_by()\n",
    "\n",
    "    # load the weights dictionary\n",
    "    model_weights = torch.load(model_path/\"context_model.pth\", \n",
    "                               map_location=\"cpu\")\n",
    "\n",
    "    # create the model\n",
    "    model = ContextUnet(in_channels=3, \n",
    "                        n_feat=producer_run.config[\"n_feat\"], \n",
    "                        n_cfeat=producer_run.config[\"n_cfeat\"], \n",
    "                        height=producer_run.config[\"height\"])\n",
    "    \n",
    "    # load the weights into the model\n",
    "    model.load_state_dict(model_weights)\n",
    "\n",
    "    # set the model to eval mode\n",
    "    model.eval()\n",
    "    return model.to(device)"
   ]
  },
  {
   "cell_type": "code",
   "execution_count": null,
   "id": "b47633e2",
   "metadata": {},
   "outputs": [],
   "source": [
    "nn_model = load_model(MODEL_ARTIFACT)"
   ]
  },
  {
   "cell_type": "markdown",
   "id": "fe8eb277",
   "metadata": {},
   "source": [
    "## Sampling"
   ]
  },
  {
   "cell_type": "markdown",
   "id": "45d92c52-8a11-450c-bc78-ffa221af2fa3",
   "metadata": {},
   "source": [
    "We will sample and log the generated samples to wandb."
   ]
  },
  {
   "cell_type": "code",
   "execution_count": null,
   "id": "146424d3",
   "metadata": {},
   "outputs": [],
   "source": [
    "_, sample_ddpm_context = setup_ddpm(beta1, beta2, timesteps, device)"
   ]
  },
  {
   "cell_type": "markdown",
   "id": "00b9ef16-1848-476d-a9dd-09175b8f0e3c",
   "metadata": {},
   "source": [
    "Let's define a set of noises and a context vector to condition on."
   ]
  },
  {
   "cell_type": "code",
   "execution_count": null,
   "id": "d88afdba",
   "metadata": {
    "tags": []
   },
   "outputs": [],
   "source": [
    "# Noise vector\n",
    "# x_T ~ N(0, 1), sample initial noise\n",
    "noises = torch.randn(num_samples, 3, height, height).to(device)  \n",
    "\n",
    "# A fixed context vector to sample from\n",
    "ctx_vector = F.one_hot(torch.tensor([0,0,0,0,0,0,\n",
    "                                     1,1,1,1,1,1,\n",
    "                                     2,2,2,2,2,2,\n",
    "                                     3,3,3,3,3,3,\n",
    "                                     4,4,4,4,4,4]), \n",
    "                       5).to(device=device).float()"
   ]
  },
  {
   "cell_type": "markdown",
   "id": "1cbf9ef8-619a-4052-a138-a88c0f0f8b0b",
   "metadata": {},
   "source": [
    "Let's bring that faster DDIM sampler from the diffusion course."
   ]
  },
  {
   "cell_type": "code",
   "execution_count": null,
   "id": "9c1a945d",
   "metadata": {},
   "outputs": [],
   "source": [
    "sample_ddim_context = setup_ddim(beta1, beta2, timesteps, device)"
   ]
  },
  {
   "cell_type": "markdown",
   "id": "aee10774-ff79-4df7-9b2d-1908561c23e5",
   "metadata": {},
   "source": [
    "Let's create a `wandb.Table` to store our generations"
   ]
  },
  {
   "cell_type": "code",
   "execution_count": null,
   "id": "d7d20ffa-552e-4836-8c98-7655ca92cba2",
   "metadata": {},
   "outputs": [],
   "source": [
    "table = wandb.Table(columns=[\"input_noise\", \"ddpm\", \"ddim\", \"class\"])"
   ]
  },
  {
   "cell_type": "markdown",
   "id": "90b838be-8fa1-4c12-9c4f-e40dfacc08e1",
   "metadata": {},
   "source": [
    "let's compute ddpm samples as before"
   ]
  },
  {
   "cell_type": "code",
   "execution_count": null,
   "id": "89e24210-4885-4559-92e1-db10566ef5ea",
   "metadata": {},
   "outputs": [],
   "source": [
    "ddpm_samples, _ = sample_ddpm_context(nn_model, noises, ctx_vector)"
   ]
  },
  {
   "cell_type": "markdown",
   "id": "836584a1-26b5-45b1-98c9-0c45d639c8f9",
   "metadata": {},
   "source": [
    "For DDIM we can control the step size by the `n` param:"
   ]
  },
  {
   "cell_type": "code",
   "execution_count": null,
   "id": "25b07c26-0ac2-428a-8351-34f8b7228074",
   "metadata": {},
   "outputs": [],
   "source": [
    "ddim_samples, _ = sample_ddim_context(nn_model, noises, ctx_vector, n=ddim_n)"
   ]
  },
  {
   "cell_type": "markdown",
   "id": "e2eb0969",
   "metadata": {},
   "source": [
    "Let's put the class names as a column on the table"
   ]
  },
  {
   "cell_type": "code",
   "execution_count": null,
   "id": "af33d3c4",
   "metadata": {},
   "outputs": [],
   "source": [
    "def ctx_to_classes(ctx_vector):\n",
    "    classes = \"hero,non-hero,food,spell,side-facing\".split(\",\")\n",
    "    return [classes[i] for i in ctx_vector.argmax(dim=1)]"
   ]
  },
  {
   "cell_type": "markdown",
   "id": "daea8275-0356-452e-a9f9-2824ef53f1ea",
   "metadata": {},
   "source": [
    "Let's keep track of the sampling params on a dictionary"
   ]
  },
  {
   "cell_type": "markdown",
   "id": "85be303d-0f0b-4df4-8c87-bd1bfb6145a2",
   "metadata": {},
   "source": [
    "We can add the rows to the table one by one, we also cast images to `wandb.Image` so we can render them correctly in the UI"
   ]
  },
  {
   "cell_type": "code",
   "execution_count": null,
   "id": "481afea1-ae53-4b5b-a3db-1d49be0733a3",
   "metadata": {},
   "outputs": [],
   "source": [
    "for noise, ddpm_sample, ddim_sample, c in zip(noises, ddpm_samples, ddim_samples, ctx_to_classes(ctx_vector)):\n",
    "    table.add_data(wandb.Image(noise), \n",
    "                   wandb.Image(ddpm_sample), \n",
    "                   wandb.Image(ddim_sample),\n",
    "                   c)"
   ]
  },
  {
   "cell_type": "markdown",
   "id": "987cee86-2db1-4a2a-9d14-f70c6248ecb9",
   "metadata": {},
   "source": [
    "we log the table to W&B, we can also use `wandb.init` as a context manager, this way we ensure that the run is finished when exiting the manager."
   ]
  },
  {
   "cell_type": "code",
   "execution_count": null,
   "id": "bbc7a2ca-ae05-4462-9ae3-82eb1a6dbc27",
   "metadata": {},
   "outputs": [],
   "source": [
    "with wandb.init(project=PROJECT, job_type=\"samplers_battle\", anonymous=\"allow\", config=config):\n",
    "    wandb.log({\"samplers_table\":table})"
   ]
  }
 ],
 "metadata": {
  "kernelspec": {
   "display_name": "Python 3",
   "language": "python",
   "name": "python3"
  },
  "language_info": {
   "codemirror_mode": {
    "name": "ipython",
    "version": 3
   },
   "file_extension": ".py",
   "mimetype": "text/x-python",
   "name": "python",
   "nbconvert_exporter": "python",
   "pygments_lexer": "ipython3",
   "version": "3.10.9"
  }
 },
 "nbformat": 4,
 "nbformat_minor": 5
}
