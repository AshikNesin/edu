{
 "cells": [
  {
   "cell_type": "code",
   "execution_count": 1,
   "id": "e9ba792c-2baa-4c19-a132-2ed82a759e79",
   "metadata": {},
   "outputs": [],
   "source": [
    "import math\n",
    "from types import SimpleNamespace\n",
    "\n",
    "import wandb\n",
    "from tqdm.auto import tqdm\n",
    "import torch\n",
    "import torch.nn as nn\n",
    "import torch.nn.functional as F\n",
    "from torch.optim import Adam\n",
    "from torch.utils.data import DataLoader, Subset\n",
    "\n",
    "from utilities import *\n"
   ]
  },
  {
   "cell_type": "code",
   "execution_count": 2,
   "id": "d51a9f7f",
   "metadata": {},
   "outputs": [],
   "source": [
    "# Constants\n",
    "INPUT_SIZE = 3 * 16 * 16\n",
    "OUTPUT_SIZE = 5\n",
    "HIDDEN_SIZE = 256\n",
    "NUM_WORKERS = 2\n",
    "CLASSES = [\"hero\", \"non-hero\", \"food\", \"spell\", \"side-facing\"]\n",
    "\n",
    "# Device\n",
    "device = torch.device(\"cuda\" if torch.cuda.is_available()  else \"cpu\")\n",
    "device = torch.device(\"mps\" if torch.backends.mps.is_built() else \"cpu\")\n",
    "\n",
    "data_dir = './data/'\n",
    "\n",
    "def get_dataloaders(batch_size, slice_size=None, valid_pct=0.2):\n",
    "    dataset = CustomDataset.from_np(data_dir + \"sprites_1788_16x16.npy\", data_dir + \"sprite_labels_nc_1788_16x16.npy\", argmax=True)\n",
    "\n",
    "    if slice_size:\n",
    "        dataset = dataset.subset(slice_size)\n",
    "\n",
    "    train_ds, valid_ds = dataset.split(valid_pct)\n",
    "\n",
    "    train_dl = DataLoader(train_ds, batch_size=batch_size, shuffle=True, num_workers=1)    \n",
    "    valid_dl = DataLoader(valid_ds, batch_size=batch_size, shuffle=False, num_workers=1)\n",
    "\n",
    "    return train_dl, valid_dl\n",
    "\n",
    "def get_model(dropout):\n",
    "    return nn.Sequential(\n",
    "        nn.Flatten(),\n",
    "        nn.Linear(INPUT_SIZE, HIDDEN_SIZE),\n",
    "        nn.BatchNorm1d(HIDDEN_SIZE),\n",
    "        nn.ReLU(),\n",
    "        nn.Dropout(dropout),\n",
    "        nn.Linear(HIDDEN_SIZE, OUTPUT_SIZE)\n",
    "    ).to(device)\n"
   ]
  },
  {
   "cell_type": "code",
   "execution_count": 3,
   "id": "8700b5fa",
   "metadata": {},
   "outputs": [
    {
     "name": "stdout",
     "output_type": "stream",
     "text": [
      "sprite shape: (89400, 16, 16, 3)\n",
      "labels shape: (89400,)\n",
      "sprite shape: (1000, 16, 16, 3)\n",
      "labels shape: (1000,)\n"
     ]
    }
   ],
   "source": [
    "train_dl, valid_dl = get_dataloaders(128, slice_size=1000)"
   ]
  },
  {
   "cell_type": "code",
   "execution_count": 29,
   "id": "8401cf96",
   "metadata": {},
   "outputs": [],
   "source": [
    "def validate_model(model, valid_dl, loss_func, log_images=False, batch_idx=0):\n",
    "    \"Compute the performance of the model on the validation dataset and log a wandb.Table\"\n",
    "    model.eval()\n",
    "    val_loss = 0.0\n",
    "    correct = 0\n",
    "\n",
    "    with torch.inference_mode():\n",
    "        for i, (images, labels) in enumerate(valid_dl):\n",
    "            images, labels = images.to(device), labels.to(device)\n",
    "\n",
    "            # Forward pass\n",
    "            outputs = model(images)\n",
    "            val_loss += loss_func(outputs, labels) * labels.size(0)\n",
    "\n",
    "            # Compute accuracy and accumulate\n",
    "            _, predicted = torch.max(outputs.data, 1)\n",
    "            correct += (predicted == labels).sum().item()\n",
    "\n",
    "            # Log one batch of images to the dashboard, always same batch_idx.\n",
    "            if i == batch_idx and log_images:\n",
    "                log_image_predictions_table(images, predicted, labels, outputs.softmax(dim=1))\n",
    "\n",
    "    return val_loss / len(valid_dl.dataset), correct / len(valid_dl.dataset)\n",
    "\n",
    "\n",
    "def log_image_predictions_table(images, predicted, labels, probs):\n",
    "    \"Create a wandb Table to log images, labels, and predictions\"\n",
    "    table = wandb.Table(columns=[\"image\", \"pred\", \"target\"] + [f\"score_{i}\" for i in range(OUTPUT_SIZE)])\n",
    "    \n",
    "    for img, pred, targ, prob in zip(images.cpu(), predicted.cpu(), labels.cpu(), probs.cpu()):\n",
    "        table.add_data(wandb.Image(img), CLASSES[pred], CLASSES[targ], *prob.numpy())\n",
    "    \n",
    "    wandb.log({\"predictions_table\": table}, commit=False)\n"
   ]
  },
  {
   "cell_type": "code",
   "execution_count": 30,
   "id": "e5492ebb-2dfa-44ce-af6c-24655e45a2ed",
   "metadata": {},
   "outputs": [],
   "source": [
    "def train_model(config):\n",
    "    \"Train a model with a given config\"\n",
    "    wandb.init(\n",
    "        project=\"deeplearningai-intro\",\n",
    "        config=config\n",
    "    )\n",
    "\n",
    "    # Get the data\n",
    "    train_dl, valid_dl = get_dataloaders(config.batch_size, config.slice_size, config.valid_pct)\n",
    "    n_steps_per_epoch = math.ceil(len(train_dl.dataset) / config.batch_size)\n",
    "\n",
    "    # A simple MLP model\n",
    "    model = get_model(config.dropout)\n",
    "\n",
    "    # Make the loss and optimizer\n",
    "    loss_func = nn.CrossEntropyLoss()\n",
    "    optimizer = Adam(model.parameters(), lr=config.lr)\n",
    "\n",
    "    example_ct = 0\n",
    "\n",
    "    for epoch in tqdm(range(config.epochs), total=config.epochs):\n",
    "        model.train()\n",
    "\n",
    "        for step, (images, labels) in enumerate(train_dl):\n",
    "            images, labels = images.to(device), labels.to(device)\n",
    "\n",
    "            outputs = model(images)\n",
    "            train_loss = loss_func(outputs, labels)\n",
    "            optimizer.zero_grad()\n",
    "            train_loss.backward()\n",
    "            optimizer.step()\n",
    "\n",
    "            example_ct += len(images)\n",
    "            metrics = {\n",
    "                \"train/train_loss\": train_loss,\n",
    "                \"train/epoch\": (step + 1 + (n_steps_per_epoch * epoch)) / n_steps_per_epoch,\n",
    "                \"train/example_ct\": example_ct\n",
    "            }\n",
    "\n",
    "            if step + 1 < n_steps_per_epoch:\n",
    "                # Log train metrics to wandb \n",
    "                wandb.log(metrics)\n",
    "                \n",
    "        val_loss, accuracy = validate_model(model, valid_dl, loss_func, log_images=(epoch == (config.epochs - 1)))\n",
    "\n",
    "        # Log train and validation metrics to wandb\n",
    "        val_metrics = {\n",
    "            \"val/val_loss\": val_loss,\n",
    "            \"val/val_accuracy\": accuracy\n",
    "        }\n",
    "        wandb.log({**metrics, **val_metrics})\n",
    "\n",
    "    # If you had a test set, this is how you could log it as a Summary metric\n",
    "    wandb.run.summary['test_accuracy'] = 0.8\n",
    "\n",
    "    wandb.finish()\n"
   ]
  },
  {
   "cell_type": "code",
   "execution_count": 31,
   "id": "f33f739c-d7ef-4954-ae87-d5bdd6bf25ee",
   "metadata": {},
   "outputs": [],
   "source": [
    "config = SimpleNamespace(\n",
    "    epochs = 3,\n",
    "    batch_size = 128,\n",
    "    lr = 1e-3,\n",
    "    dropout = 0.1,\n",
    "    slice_size = 1000,\n",
    "    valid_pct = 0.2,\n",
    ")"
   ]
  },
  {
   "cell_type": "code",
   "execution_count": 32,
   "id": "9423c964-f7e3-4d3b-8a24-e70f7f4414c6",
   "metadata": {},
   "outputs": [
    {
     "data": {
      "text/html": [
       "Tracking run with wandb version 0.15.4"
      ],
      "text/plain": [
       "<IPython.core.display.HTML object>"
      ]
     },
     "metadata": {},
     "output_type": "display_data"
    },
    {
     "data": {
      "text/html": [
       "Run data is saved locally in <code>/Users/tcapelle/work/dlai/wandb/run-20230705_144549-dg3tar8b</code>"
      ],
      "text/plain": [
       "<IPython.core.display.HTML object>"
      ]
     },
     "metadata": {},
     "output_type": "display_data"
    },
    {
     "data": {
      "text/html": [
       "Syncing run <strong><a href='https://wandb.ai/capecape/deeplearningai-intro/runs/dg3tar8b' target=\"_blank\">morning-jazz-7</a></strong> to <a href='https://wandb.ai/capecape/deeplearningai-intro' target=\"_blank\">Weights & Biases</a> (<a href='https://wandb.me/run' target=\"_blank\">docs</a>)<br/>"
      ],
      "text/plain": [
       "<IPython.core.display.HTML object>"
      ]
     },
     "metadata": {},
     "output_type": "display_data"
    },
    {
     "data": {
      "text/html": [
       " View project at <a href='https://wandb.ai/capecape/deeplearningai-intro' target=\"_blank\">https://wandb.ai/capecape/deeplearningai-intro</a>"
      ],
      "text/plain": [
       "<IPython.core.display.HTML object>"
      ]
     },
     "metadata": {},
     "output_type": "display_data"
    },
    {
     "data": {
      "text/html": [
       " View run at <a href='https://wandb.ai/capecape/deeplearningai-intro/runs/dg3tar8b' target=\"_blank\">https://wandb.ai/capecape/deeplearningai-intro/runs/dg3tar8b</a>"
      ],
      "text/plain": [
       "<IPython.core.display.HTML object>"
      ]
     },
     "metadata": {},
     "output_type": "display_data"
    },
    {
     "name": "stdout",
     "output_type": "stream",
     "text": [
      "sprite shape: (89400, 16, 16, 3)\n",
      "labels shape: (89400,)\n",
      "sprite shape: (1000, 16, 16, 3)\n",
      "labels shape: (1000,)\n"
     ]
    },
    {
     "data": {
      "application/vnd.jupyter.widget-view+json": {
       "model_id": "c2a535bd5a0d481e9916ab5f71edbf41",
       "version_major": 2,
       "version_minor": 0
      },
      "text/plain": [
       "  0%|          | 0/3 [00:00<?, ?it/s]"
      ]
     },
     "metadata": {},
     "output_type": "display_data"
    },
    {
     "data": {
      "text/html": [
       "Waiting for W&B process to finish... <strong style=\"color:green\">(success).</strong>"
      ],
      "text/plain": [
       "<IPython.core.display.HTML object>"
      ]
     },
     "metadata": {},
     "output_type": "display_data"
    },
    {
     "data": {
      "application/vnd.jupyter.widget-view+json": {
       "model_id": "70d7c9e0e2fb4edd969b284271d72c6f",
       "version_major": 2,
       "version_minor": 0
      },
      "text/plain": [
       "VBox(children=(Label(value='0.161 MB of 0.161 MB uploaded (0.000 MB deduped)\\r'), FloatProgress(value=1.0, max…"
      ]
     },
     "metadata": {},
     "output_type": "display_data"
    },
    {
     "data": {
      "text/html": [
       "<style>\n",
       "    table.wandb td:nth-child(1) { padding: 0 10px; text-align: left ; width: auto;} td:nth-child(2) {text-align: left ; width: 100%}\n",
       "    .wandb-row { display: flex; flex-direction: row; flex-wrap: wrap; justify-content: flex-start; width: 100% }\n",
       "    .wandb-col { display: flex; flex-direction: column; flex-basis: 100%; flex: 1; padding: 10px; }\n",
       "    </style>\n",
       "<div class=\"wandb-row\"><div class=\"wandb-col\"><h3>Run history:</h3><br/><table class=\"wandb\"><tr><td>train/epoch</td><td>▁▁▂▂▂▃▃▃▄▄▄▅▅▆▆▆▇▇▇██</td></tr><tr><td>train/example_ct</td><td>▁▁▂▂▃▃▃▃▄▄▅▅▅▆▆▆▇▇███</td></tr><tr><td>train/train_loss</td><td>█▆▅▄▃▃▂▂▂▂▂▂▂▁▁▁▁▁▁▁▁</td></tr><tr><td>val/val_accuracy</td><td>▁▆█</td></tr><tr><td>val/val_loss</td><td>█▃▁</td></tr></table><br/></div><div class=\"wandb-col\"><h3>Run summary:</h3><br/><table class=\"wandb\"><tr><td>test_accuracy</td><td>0.8</td></tr><tr><td>train/epoch</td><td>3.0</td></tr><tr><td>train/example_ct</td><td>2400</td></tr><tr><td>train/train_loss</td><td>0.21717</td></tr><tr><td>val/val_accuracy</td><td>0.92</td></tr><tr><td>val/val_loss</td><td>0.32078</td></tr></table><br/></div></div>"
      ],
      "text/plain": [
       "<IPython.core.display.HTML object>"
      ]
     },
     "metadata": {},
     "output_type": "display_data"
    },
    {
     "data": {
      "text/html": [
       " View run <strong style=\"color:#cdcd00\">morning-jazz-7</strong> at: <a href='https://wandb.ai/capecape/deeplearningai-intro/runs/dg3tar8b' target=\"_blank\">https://wandb.ai/capecape/deeplearningai-intro/runs/dg3tar8b</a><br/>Synced 7 W&B file(s), 1 media file(s), 126 artifact file(s) and 2 other file(s)"
      ],
      "text/plain": [
       "<IPython.core.display.HTML object>"
      ]
     },
     "metadata": {},
     "output_type": "display_data"
    },
    {
     "data": {
      "text/html": [
       "Find logs at: <code>./wandb/run-20230705_144549-dg3tar8b/logs</code>"
      ],
      "text/plain": [
       "<IPython.core.display.HTML object>"
      ]
     },
     "metadata": {},
     "output_type": "display_data"
    }
   ],
   "source": [
    "train_model(config)"
   ]
  },
  {
   "attachments": {},
   "cell_type": "markdown",
   "id": "e9ecf01d",
   "metadata": {},
   "source": [
    "Let's try with another value of dropout:"
   ]
  },
  {
   "cell_type": "code",
   "execution_count": 28,
   "id": "4f40520a-66f8-4415-9e36-174dda06aca0",
   "metadata": {},
   "outputs": [
    {
     "data": {
      "text/html": [
       "Tracking run with wandb version 0.15.4"
      ],
      "text/plain": [
       "<IPython.core.display.HTML object>"
      ]
     },
     "metadata": {},
     "output_type": "display_data"
    },
    {
     "data": {
      "text/html": [
       "Run data is saved locally in <code>/Users/tcapelle/work/dlai/wandb/run-20230705_144416-iysb84lz</code>"
      ],
      "text/plain": [
       "<IPython.core.display.HTML object>"
      ]
     },
     "metadata": {},
     "output_type": "display_data"
    },
    {
     "data": {
      "text/html": [
       "Syncing run <strong><a href='https://wandb.ai/capecape/deeplearningai-intro/runs/iysb84lz' target=\"_blank\">icy-water-6</a></strong> to <a href='https://wandb.ai/capecape/deeplearningai-intro' target=\"_blank\">Weights & Biases</a> (<a href='https://wandb.me/run' target=\"_blank\">docs</a>)<br/>"
      ],
      "text/plain": [
       "<IPython.core.display.HTML object>"
      ]
     },
     "metadata": {},
     "output_type": "display_data"
    },
    {
     "data": {
      "text/html": [
       " View project at <a href='https://wandb.ai/capecape/deeplearningai-intro' target=\"_blank\">https://wandb.ai/capecape/deeplearningai-intro</a>"
      ],
      "text/plain": [
       "<IPython.core.display.HTML object>"
      ]
     },
     "metadata": {},
     "output_type": "display_data"
    },
    {
     "data": {
      "text/html": [
       " View run at <a href='https://wandb.ai/capecape/deeplearningai-intro/runs/iysb84lz' target=\"_blank\">https://wandb.ai/capecape/deeplearningai-intro/runs/iysb84lz</a>"
      ],
      "text/plain": [
       "<IPython.core.display.HTML object>"
      ]
     },
     "metadata": {},
     "output_type": "display_data"
    },
    {
     "name": "stdout",
     "output_type": "stream",
     "text": [
      "sprite shape: (89400, 16, 16, 3)\n",
      "labels shape: (89400,)\n",
      "sprite shape: (1000, 16, 16, 3)\n",
      "labels shape: (1000,)\n"
     ]
    },
    {
     "data": {
      "application/vnd.jupyter.widget-view+json": {
       "model_id": "e576d9f253b6400d80f8022dafbdd326",
       "version_major": 2,
       "version_minor": 0
      },
      "text/plain": [
       "  0%|          | 0/3 [00:00<?, ?it/s]"
      ]
     },
     "metadata": {},
     "output_type": "display_data"
    },
    {
     "data": {
      "text/html": [
       "Waiting for W&B process to finish... <strong style=\"color:green\">(success).</strong>"
      ],
      "text/plain": [
       "<IPython.core.display.HTML object>"
      ]
     },
     "metadata": {},
     "output_type": "display_data"
    },
    {
     "data": {
      "application/vnd.jupyter.widget-view+json": {
       "model_id": "7bd6b3a334c94ce58afd7c25e10d8d5a",
       "version_major": 2,
       "version_minor": 0
      },
      "text/plain": [
       "VBox(children=(Label(value='0.161 MB of 0.161 MB uploaded (0.000 MB deduped)\\r'), FloatProgress(value=1.0, max…"
      ]
     },
     "metadata": {},
     "output_type": "display_data"
    },
    {
     "data": {
      "text/html": [
       "<style>\n",
       "    table.wandb td:nth-child(1) { padding: 0 10px; text-align: left ; width: auto;} td:nth-child(2) {text-align: left ; width: 100%}\n",
       "    .wandb-row { display: flex; flex-direction: row; flex-wrap: wrap; justify-content: flex-start; width: 100% }\n",
       "    .wandb-col { display: flex; flex-direction: column; flex-basis: 100%; flex: 1; padding: 10px; }\n",
       "    </style>\n",
       "<div class=\"wandb-row\"><div class=\"wandb-col\"><h3>Run history:</h3><br/><table class=\"wandb\"><tr><td>train/epoch</td><td>▁▁▂▂▂▃▃▃▄▄▄▅▅▆▆▆▇▇▇██</td></tr><tr><td>train/example_ct</td><td>▁▁▂▂▃▃▃▃▄▄▅▅▅▆▆▆▇▇███</td></tr><tr><td>train/train_loss</td><td>█▆▅▄▄▃▃▂▂▂▂▁▂▂▁▁▁▁▁▁▁</td></tr><tr><td>val/val_accuracy</td><td>▁██</td></tr><tr><td>val/val_loss</td><td>█▂▁</td></tr></table><br/></div><div class=\"wandb-col\"><h3>Run summary:</h3><br/><table class=\"wandb\"><tr><td>test_accuracy</td><td>0.8</td></tr><tr><td>train/epoch</td><td>3.0</td></tr><tr><td>train/example_ct</td><td>2400</td></tr><tr><td>train/train_loss</td><td>0.27209</td></tr><tr><td>val/val_accuracy</td><td>0.92</td></tr><tr><td>val/val_loss</td><td>0.32183</td></tr></table><br/></div></div>"
      ],
      "text/plain": [
       "<IPython.core.display.HTML object>"
      ]
     },
     "metadata": {},
     "output_type": "display_data"
    },
    {
     "data": {
      "text/html": [
       " View run <strong style=\"color:#cdcd00\">icy-water-6</strong> at: <a href='https://wandb.ai/capecape/deeplearningai-intro/runs/iysb84lz' target=\"_blank\">https://wandb.ai/capecape/deeplearningai-intro/runs/iysb84lz</a><br/>Synced 7 W&B file(s), 1 media file(s), 126 artifact file(s) and 2 other file(s)"
      ],
      "text/plain": [
       "<IPython.core.display.HTML object>"
      ]
     },
     "metadata": {},
     "output_type": "display_data"
    },
    {
     "data": {
      "text/html": [
       "Find logs at: <code>./wandb/run-20230705_144416-iysb84lz/logs</code>"
      ],
      "text/plain": [
       "<IPython.core.display.HTML object>"
      ]
     },
     "metadata": {},
     "output_type": "display_data"
    }
   ],
   "source": [
    "config.dropout = 0.5\n",
    "train_model(config)"
   ]
  },
  {
   "cell_type": "code",
   "execution_count": null,
   "id": "bba77c03-fcd2-43ef-9a11-8cebef617c23",
   "metadata": {},
   "outputs": [],
   "source": []
  }
 ],
 "metadata": {
  "kernelspec": {
   "display_name": "Python 3",
   "language": "python",
   "name": "python3"
  },
  "language_info": {
   "codemirror_mode": {
    "name": "ipython",
    "version": 3
   },
   "file_extension": ".py",
   "mimetype": "text/x-python",
   "name": "python",
   "nbconvert_exporter": "python",
   "pygments_lexer": "ipython3",
   "version": "3.10.9"
  }
 },
 "nbformat": 4,
 "nbformat_minor": 5
}
