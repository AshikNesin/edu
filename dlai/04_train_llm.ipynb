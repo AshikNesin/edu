{
 "cells": [
  {
   "cell_type": "markdown",
   "id": "1dfae479-9399-492d-acaa-d9751615ee86",
   "metadata": {},
   "source": [
    "# Finetuning a language model\n",
    "Let's see how to finetune a language model to generate character backstories using HuggingFace Trainer with wandb integration. We'll use a tiny language model (`TinyStories-33M`) due to resource constraints, but the lessons you learn here should be applicable to large models too!"
   ]
  },
  {
   "cell_type": "code",
   "execution_count": null,
   "id": "f64e095c-d28b-44aa-a122-4121c5c66a5b",
   "metadata": {},
   "outputs": [],
   "source": [
    "import os\n",
    "\n",
    "from transformers import AutoTokenizer\n",
    "from datasets import load_dataset\n",
    "from transformers import AutoModelForCausalLM\n",
    "from transformers import Trainer, TrainingArguments\n",
    "\n",
    "import wandb"
   ]
  },
  {
   "cell_type": "code",
   "execution_count": null,
   "id": "2286ae41-213d-480d-a4ba-8c4e2e1c4771",
   "metadata": {},
   "outputs": [],
   "source": [
    "model_checkpoint = \"roneneldan/TinyStories-33M\""
   ]
  },
  {
   "cell_type": "markdown",
   "id": "3fd80268-c4a1-4e1a-aed3-cd5c3ab4d48f",
   "metadata": {},
   "source": [
    "### Preparing data\n",
    "\n",
    "We'll start by loading a dataset containing Dungeons and Dragons character biographies from Huggingface. "
   ]
  },
  {
   "cell_type": "code",
   "execution_count": null,
   "id": "a7535b8b-d220-44e8-a56c-97e250c36596",
   "metadata": {},
   "outputs": [],
   "source": [
    "ds = load_dataset('MohamedRashad/characters_backstories')"
   ]
  },
  {
   "cell_type": "code",
   "execution_count": null,
   "id": "13caeb7f-8a07-4ca2-a770-5b627238c2ac",
   "metadata": {},
   "outputs": [],
   "source": [
    "# Let's take a look at one example\n",
    "ds[\"train\"][400]"
   ]
  },
  {
   "cell_type": "code",
   "execution_count": null,
   "id": "7dae9106-8015-43da-a6d9-1124dee4bdde",
   "metadata": {},
   "outputs": [],
   "source": [
    "# As this dataset has no validation split, we will create one\n",
    "ds = ds[\"train\"].train_test_split(test_size=0.2)"
   ]
  },
  {
   "cell_type": "code",
   "execution_count": null,
   "id": "7ea1602d-504b-43de-87ad-fcb35b9e61f7",
   "metadata": {},
   "outputs": [],
   "source": [
    "# We'll create a tokenizer from model checkpoint\n",
    "tokenizer = AutoTokenizer.from_pretrained(model_checkpoint, use_fast=True)\n",
    "\n",
    "# We'll need padding to have same length sequences in a batch\n",
    "tokenizer.pad_token = tokenizer.eos_token\n",
    "\n",
    "# Define a tokenization function that first concatenates text and target\n",
    "def tokenize_function(example):\n",
    "    merged = example[\"text\"] + \" \" + example[\"target\"]\n",
    "    batch = tokenizer(merged, padding='max_length', truncation=True, max_length=128)\n",
    "    batch[\"labels\"] = batch[\"input_ids\"].copy()\n",
    "    return batch\n",
    "\n",
    "# Apply it on our dataset, and remove the text columns\n",
    "tokenized_datasets = ds.map(tokenize_function, remove_columns=[\"text\", \"target\"])"
   ]
  },
  {
   "cell_type": "code",
   "execution_count": null,
   "id": "a42417b8-ffa8-4d96-92ea-d8d949d87d5e",
   "metadata": {},
   "outputs": [],
   "source": [
    "# Let's check out one prepared example\n",
    "print(tokenizer.decode(tokenized_datasets[\"train\"][900]['input_ids']))"
   ]
  },
  {
   "cell_type": "markdown",
   "id": "2e8d6b17-a63d-41f1-92cf-416064b52156",
   "metadata": {},
   "source": [
    "### Training\n",
    "Let's finetune a pretrained language model on our dataset using HF Transformers and their wandb integration. "
   ]
  },
  {
   "cell_type": "code",
   "execution_count": null,
   "id": "b4f131eb-979e-40f6-9e28-19756beaa8e4",
   "metadata": {},
   "outputs": [],
   "source": [
    "# We will train a causal (autoregressive) language model from a pretrained checkpoint\n",
    "model = AutoModelForCausalLM.from_pretrained(model_checkpoint);"
   ]
  },
  {
   "cell_type": "code",
   "execution_count": null,
   "id": "7345ab23-8d12-4d4c-a39d-bb2202bff218",
   "metadata": {},
   "outputs": [],
   "source": [
    "# Start a new wandb run\n",
    "run = wandb.init(project='dlai-lm-tuning', job_type=\"training\", anonymous=\"allow\")"
   ]
  },
  {
   "cell_type": "code",
   "execution_count": null,
   "id": "d74ee155-3c30-4ef2-9c4d-fd8ee222c50c",
   "metadata": {},
   "outputs": [],
   "source": [
    "# Define training arguments\n",
    "model_name = model_checkpoint.split(\"/\")[-1]\n",
    "training_args = TrainingArguments(\n",
    "    f\"{model_name}-finetuned-characters-backstories\",\n",
    "    report_to=\"wandb\", # we need one line to track experiments in wandb\n",
    "    num_train_epochs=1,\n",
    "    logging_steps=1,\n",
    "    evaluation_strategy = \"epoch\",\n",
    "    learning_rate=1e-4,\n",
    "    weight_decay=0.01,\n",
    ")"
   ]
  },
  {
   "cell_type": "code",
   "execution_count": null,
   "id": "af62105f-a478-436f-88a2-5c1d78b9d20a",
   "metadata": {},
   "outputs": [],
   "source": [
    "# We'll use HF Trainer\n",
    "trainer = Trainer(\n",
    "    model=model,\n",
    "    args=training_args,\n",
    "    train_dataset=tokenized_datasets[\"train\"],\n",
    "    eval_dataset=tokenized_datasets[\"test\"],\n",
    ")"
   ]
  },
  {
   "cell_type": "code",
   "execution_count": null,
   "id": "01958a56-c22a-4a27-bc71-41c59fc97f05",
   "metadata": {},
   "outputs": [],
   "source": [
    "# Let's train!\n",
    "trainer.train()"
   ]
  },
  {
   "cell_type": "markdown",
   "id": "0a247e01-35d0-454f-8b7e-5f24cdf66f33",
   "metadata": {},
   "source": [
    "### Generate\n",
    "Let's use our trained model to generate some texts with our provided prompts and save them in W&B Table. The model is tiny, replace it with a bigger one to get better results!"
   ]
  },
  {
   "cell_type": "code",
   "execution_count": null,
   "id": "6f16d43d-445f-4df5-8734-85584f95792f",
   "metadata": {},
   "outputs": [],
   "source": [
    "model = trainer.model\n",
    "device = next(model.parameters()).device"
   ]
  },
  {
   "cell_type": "code",
   "execution_count": null,
   "id": "7911e43f-f4ce-4855-9f68-662438af8d24",
   "metadata": {},
   "outputs": [],
   "source": [
    "prompts = [\n",
    "    \"Generate Backstory based on following information Character Name: Frogger Character Race: Aarakocra Character Class: Ranger Output: \",\n",
    "    \"Generate Backstory based on following information Character Name: Smarty Character Race: Aasimar Character Class: Cleric Output: \",\n",
    "    \"Generate Backstory based on following information Character Name: Volcano Character Race: Android Character Class: Paladin Output: \",\n",
    "]\n",
    "\n",
    "table = wandb.Table(columns=[\"prompt\", \"generation\"])\n",
    "\n",
    "for prompt in prompts:\n",
    "    input_ids = tokenizer.encode(prompt, return_tensors=\"pt\").to(device)\n",
    "    output = model.generate(input_ids, do_sample=True, max_new_tokens=50, top_p=0.3)\n",
    "    output_text = tokenizer.decode(output[0], skip_special_tokens=True)\n",
    "    table.add_data(prompt, output_text)\n",
    "    \n",
    "wandb.log({'tiny_generations': table})"
   ]
  },
  {
   "cell_type": "code",
   "execution_count": null,
   "id": "3083c6a3-fdb8-44ab-a028-c0a222a2fdef",
   "metadata": {},
   "outputs": [],
   "source": [
    "wandb.finish()"
   ]
  },
  {
   "cell_type": "code",
   "execution_count": null,
   "id": "120d5e88-2460-4716-bcba-077ff4630772",
   "metadata": {},
   "outputs": [],
   "source": []
  },
  {
   "cell_type": "code",
   "execution_count": null,
   "id": "976edc1f-418d-47a6-88e2-ca37e3b25366",
   "metadata": {},
   "outputs": [],
   "source": []
  }
 ],
 "metadata": {
  "kernelspec": {
   "display_name": "Python 3",
   "language": "python",
   "name": "python3"
  },
  "language_info": {
   "codemirror_mode": {
    "name": "ipython",
    "version": 3
   },
   "file_extension": ".py",
   "mimetype": "text/x-python",
   "name": "python",
   "nbconvert_exporter": "python",
   "pygments_lexer": "ipython3",
   "version": "3.9.7"
  }
 },
 "nbformat": 4,
 "nbformat_minor": 5
}
