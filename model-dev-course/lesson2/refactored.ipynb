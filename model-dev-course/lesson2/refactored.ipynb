{
 "cells": [
  {
   "cell_type": "code",
   "execution_count": 1,
   "id": "bd96a79d",
   "metadata": {},
   "outputs": [],
   "source": [
    "import os\n",
    "from pathlib import Path\n",
    "import pandas as pd\n",
    "from ml_collections import config_dict\n",
    "\n",
    "import wandb\n",
    "from fastai.vision.all import *\n",
    "from fastai.callback.wandb import WandbCallback"
   ]
  },
  {
   "cell_type": "code",
   "execution_count": 2,
   "id": "b4b2bdfb",
   "metadata": {},
   "outputs": [],
   "source": [
    "cfg = config_dict.ConfigDict()\n",
    "cfg.img_size = 256\n",
    "cfg.target_column = 'mold'\n",
    "cfg.bs = 32\n",
    "cfg.seed = 42\n",
    "cfg.epochs = 2\n",
    "cfg.lr = 2e-3\n",
    "cfg.arch = 'resnet18'\n",
    "cfg.log_model = True\n",
    "cfg.PROJECT_NAME = 'lemon-project'\n",
    "cfg.ENTITY = 'wandb_course'\n",
    "cfg.PROCESSED_DATA_AT = 'lemon_dataset_split_data:latest'\n",
    "\n",
    "set_seed(cfg.seed, reproducible=True)"
   ]
  },
  {
   "cell_type": "code",
   "execution_count": 3,
   "id": "9b37f91c",
   "metadata": {
    "tags": []
   },
   "outputs": [],
   "source": [
    "def prepare_data(PROCESSED_DATA_AT):\n",
    "    \"Get/Download the datasets\"\n",
    "    processed_data_at = wandb.use_artifact(PROCESSED_DATA_AT)\n",
    "    processed_dataset_dir = Path(processed_data_at.download())\n",
    "    df = pd.read_csv(processed_dataset_dir / 'data_split.csv')\n",
    "    df = df[df.stage != 'test'].reset_index(drop=True)\n",
    "    df['valid'] = df.stage == 'valid'\n",
    "    return df, processed_dataset_dir"
   ]
  },
  {
   "cell_type": "markdown",
   "id": "a77448d7-6a1b-4da2-9eef-c26aa6153007",
   "metadata": {
    "jp-MarkdownHeadingCollapsed": true,
    "tags": []
   },
   "source": [
    "A good way of making experimetns reproducible, sets numpy, torch, random and cudnn seeds"
   ]
  },
  {
   "cell_type": "code",
   "execution_count": 4,
   "id": "336d2507-7f56-40ab-8c5e-6db059d3b579",
   "metadata": {},
   "outputs": [],
   "source": [
    "def get_dataloaders(df, path, seed, target_column, img_size, bs):\n",
    "    \"Get train/valid PyTorch Dataloaders\"\n",
    "    dls = ImageDataLoaders.from_df(df, path=path, seed=seed, fn_col='file_name', label_col=target_column, \n",
    "                                   valid_col='valid', item_tfms=Resize(img_size), bs=bs)\n",
    "    return dls"
   ]
  },
  {
   "cell_type": "code",
   "execution_count": 5,
   "id": "6cc69481-df7f-4a17-8ac0-191698afde5d",
   "metadata": {},
   "outputs": [],
   "source": [
    "def log_predictions(learn):\n",
    "    \"Log a wandb.Table with model predictions on the validation dataset\"\n",
    "    inp,preds,targs,out = learn.get_preds(with_input=True, with_decoded=True)\n",
    "    imgs = [wandb.Image(t.permute(1,2,0)) for t in inp]\n",
    "    pred_proba = preds[:,1].numpy().tolist()\n",
    "    targets = targs.numpy().tolist()\n",
    "    predictions = out.numpy().tolist()\n",
    "    df = pd.DataFrame(list(zip(imgs, pred_proba, predictions, targets)),\n",
    "               columns =['image', 'probability', 'prediction', 'target'])\n",
    "    wandb.log({'predictions_table': wandb.Table(dataframe=df)})"
   ]
  },
  {
   "cell_type": "code",
   "execution_count": 6,
   "id": "eae1911d",
   "metadata": {},
   "outputs": [],
   "source": [
    "def train(cfg):\n",
    "    set_seed(cfg.seed)\n",
    "    with wandb.init(project=cfg.PROJECT_NAME, entity=cfg.ENTITY, job_type=\"training\", config=cfg.to_dict()):\n",
    "        cfg = wandb.config\n",
    "        df, path = prepare_data(cfg.PROCESSED_DATA_AT)\n",
    "        dls = get_dataloaders(df, path, cfg.seed, cfg.target_column, cfg.img_size, cfg.bs)\n",
    "        learn = vision_learner(dls, \n",
    "                               cfg.arch,\n",
    "                               metrics=[accuracy, Precision(), Recall(), F1Score()],\n",
    "                               cbs=[WandbCallback(log_preds=False, log_model=cfg.log_model), \n",
    "                                    SaveModelCallback(fname=cfg.arch, monitor='f1_score')])\n",
    "        learn.fine_tune(cfg.epochs)  \n",
    "        if cfg.log_model:\n",
    "            log_predictions(learn)"
   ]
  },
  {
   "cell_type": "markdown",
   "id": "0baa5894-ff0f-4c5e-bf66-78aa1d9811bf",
   "metadata": {},
   "source": [
    "Let's check it works by re-running the baseline"
   ]
  },
  {
   "cell_type": "code",
   "execution_count": 7,
   "id": "bb284be1-2a04-47f3-9724-987c4e360077",
   "metadata": {},
   "outputs": [
    {
     "name": "stderr",
     "output_type": "stream",
     "text": [
      "Failed to detect the name of this notebook, you can set it manually with the WANDB_NOTEBOOK_NAME environment variable to enable code saving.\n",
      "\u001b[34m\u001b[1mwandb\u001b[0m: Currently logged in as: \u001b[33mcapecape\u001b[0m (\u001b[33mwandb_course\u001b[0m). Use \u001b[1m`wandb login --relogin`\u001b[0m to force relogin\n"
     ]
    },
    {
     "data": {
      "text/html": [
       "wandb version 0.12.20 is available!  To upgrade, please run:\n",
       " $ pip install wandb --upgrade"
      ],
      "text/plain": [
       "<IPython.core.display.HTML object>"
      ]
     },
     "metadata": {},
     "output_type": "display_data"
    },
    {
     "data": {
      "text/html": [
       "Tracking run with wandb version 0.12.18"
      ],
      "text/plain": [
       "<IPython.core.display.HTML object>"
      ]
     },
     "metadata": {},
     "output_type": "display_data"
    },
    {
     "data": {
      "text/html": [
       "Run data is saved locally in <code>/home/tcapelle/wandb/edu/model-dev-course/lesson2/wandb/run-20220701_113625-219s90bs</code>"
      ],
      "text/plain": [
       "<IPython.core.display.HTML object>"
      ]
     },
     "metadata": {},
     "output_type": "display_data"
    },
    {
     "data": {
      "text/html": [
       "Syncing run <strong><a href=\"https://wandb.ai/wandb_course/lemon-project/runs/219s90bs\" target=\"_blank\">giddy-pyramid-127</a></strong> to <a href=\"https://wandb.ai/wandb_course/lemon-project\" target=\"_blank\">Weights & Biases</a> (<a href=\"https://wandb.me/run\" target=\"_blank\">docs</a>)<br/>"
      ],
      "text/plain": [
       "<IPython.core.display.HTML object>"
      ]
     },
     "metadata": {},
     "output_type": "display_data"
    },
    {
     "name": "stderr",
     "output_type": "stream",
     "text": [
      "\u001b[34m\u001b[1mwandb\u001b[0m: Downloading large artifact lemon_dataset_split_data:latest, 137.87MB. 2695 files... Done. 0:0:0.3\n"
     ]
    },
    {
     "data": {
      "text/html": [
       "\n",
       "<style>\n",
       "    /* Turns off some styling */\n",
       "    progress {\n",
       "        /* gets rid of default border in Firefox and Opera. */\n",
       "        border: none;\n",
       "        /* Needs to be in here for Safari polyfill so background images work as expected. */\n",
       "        background-size: auto;\n",
       "    }\n",
       "    .progress-bar-interrupted, .progress-bar-interrupted::-webkit-progress-bar {\n",
       "        background: #F44336;\n",
       "    }\n",
       "</style>\n"
      ],
      "text/plain": [
       "<IPython.core.display.HTML object>"
      ]
     },
     "metadata": {},
     "output_type": "display_data"
    },
    {
     "data": {
      "text/html": [
       "<table border=\"1\" class=\"dataframe\">\n",
       "  <thead>\n",
       "    <tr style=\"text-align: left;\">\n",
       "      <th>epoch</th>\n",
       "      <th>train_loss</th>\n",
       "      <th>valid_loss</th>\n",
       "      <th>accuracy</th>\n",
       "      <th>precision_score</th>\n",
       "      <th>recall_score</th>\n",
       "      <th>f1_score</th>\n",
       "      <th>time</th>\n",
       "    </tr>\n",
       "  </thead>\n",
       "  <tbody>\n",
       "    <tr>\n",
       "      <td>0</td>\n",
       "      <td>0.711309</td>\n",
       "      <td>0.346772</td>\n",
       "      <td>0.909524</td>\n",
       "      <td>0.611111</td>\n",
       "      <td>0.814815</td>\n",
       "      <td>0.698413</td>\n",
       "      <td>00:14</td>\n",
       "    </tr>\n",
       "  </tbody>\n",
       "</table>"
      ],
      "text/plain": [
       "<IPython.core.display.HTML object>"
      ]
     },
     "metadata": {},
     "output_type": "display_data"
    },
    {
     "name": "stdout",
     "output_type": "stream",
     "text": [
      "Better model found at epoch 0 with f1_score value: 0.6984126984126984.\n"
     ]
    },
    {
     "data": {
      "text/html": [
       "\n",
       "<style>\n",
       "    /* Turns off some styling */\n",
       "    progress {\n",
       "        /* gets rid of default border in Firefox and Opera. */\n",
       "        border: none;\n",
       "        /* Needs to be in here for Safari polyfill so background images work as expected. */\n",
       "        background-size: auto;\n",
       "    }\n",
       "    .progress-bar-interrupted, .progress-bar-interrupted::-webkit-progress-bar {\n",
       "        background: #F44336;\n",
       "    }\n",
       "</style>\n"
      ],
      "text/plain": [
       "<IPython.core.display.HTML object>"
      ]
     },
     "metadata": {},
     "output_type": "display_data"
    },
    {
     "data": {
      "text/html": [
       "<table border=\"1\" class=\"dataframe\">\n",
       "  <thead>\n",
       "    <tr style=\"text-align: left;\">\n",
       "      <th>epoch</th>\n",
       "      <th>train_loss</th>\n",
       "      <th>valid_loss</th>\n",
       "      <th>accuracy</th>\n",
       "      <th>precision_score</th>\n",
       "      <th>recall_score</th>\n",
       "      <th>f1_score</th>\n",
       "      <th>time</th>\n",
       "    </tr>\n",
       "  </thead>\n",
       "  <tbody>\n",
       "    <tr>\n",
       "      <td>0</td>\n",
       "      <td>0.241471</td>\n",
       "      <td>0.325147</td>\n",
       "      <td>0.957143</td>\n",
       "      <td>0.781250</td>\n",
       "      <td>0.925926</td>\n",
       "      <td>0.847458</td>\n",
       "      <td>00:18</td>\n",
       "    </tr>\n",
       "    <tr>\n",
       "      <td>1</td>\n",
       "      <td>0.136446</td>\n",
       "      <td>0.260904</td>\n",
       "      <td>0.957143</td>\n",
       "      <td>0.821429</td>\n",
       "      <td>0.851852</td>\n",
       "      <td>0.836364</td>\n",
       "      <td>00:18</td>\n",
       "    </tr>\n",
       "  </tbody>\n",
       "</table>"
      ],
      "text/plain": [
       "<IPython.core.display.HTML object>"
      ]
     },
     "metadata": {},
     "output_type": "display_data"
    },
    {
     "name": "stdout",
     "output_type": "stream",
     "text": [
      "Better model found at epoch 0 with f1_score value: 0.847457627118644.\n"
     ]
    },
    {
     "data": {
      "text/html": [
       "Waiting for W&B process to finish... <strong style=\"color:green\">(success).</strong>"
      ],
      "text/plain": [
       "<IPython.core.display.HTML object>"
      ]
     },
     "metadata": {},
     "output_type": "display_data"
    },
    {
     "data": {
      "application/vnd.jupyter.widget-view+json": {
       "model_id": "",
       "version_major": 2,
       "version_minor": 0
      },
      "text/plain": [
       "VBox(children=(Label(value='89.484 MB of 89.484 MB uploaded (0.000 MB deduped)\\r'), FloatProgress(value=1.0, m…"
      ]
     },
     "metadata": {},
     "output_type": "display_data"
    },
    {
     "data": {
      "text/html": [
       "<style>\n",
       "    table.wandb td:nth-child(1) { padding: 0 10px; text-align: left ; width: auto;} td:nth-child(2) {text-align: left ; width: 100%}\n",
       "    .wandb-row { display: flex; flex-direction: row; flex-wrap: wrap; justify-content: flex-start; width: 100% }\n",
       "    .wandb-col { display: flex; flex-direction: column; flex-basis: 100%; flex: 1; padding: 10px; }\n",
       "    </style>\n",
       "<div class=\"wandb-row\"><div class=\"wandb-col\"><h3>Run history:</h3><br/><table class=\"wandb\"><tr><td>accuracy</td><td>▁██</td></tr><tr><td>epoch</td><td>▁▁▁▂▂▂▂▂▂▃▃▃▃▃▃▄▄▄▄▄▅▅▅▅▅▅▆▆▆▆▆▇▇▇▇▇▇███</td></tr><tr><td>eps_0</td><td>▁▁▁▁▁▁▁▁▁▁▁▁▁▁▁▁▁▁▁▁▁▁▁▁▁▁▁▁▁▁▁▁▁▁▁▁▁▁▁▁</td></tr><tr><td>eps_1</td><td>▁▁▁▁▁▁▁▁▁▁▁▁▁▁▁▁▁▁▁▁▁▁▁▁▁▁▁▁▁▁▁▁▁▁▁▁▁▁▁▁</td></tr><tr><td>f1_score</td><td>▁█▇</td></tr><tr><td>lr_0</td><td>▁▁▂▂▃▃▄▅▆▇▇██▁▁▁▁▁▁▁▁▁▁▁▁▁▁▁▁▁▁▁▁▁▁▁▁▁▁▁</td></tr><tr><td>lr_1</td><td>▁▁▂▂▃▃▄▅▆▇▇██▂▂▂▃▃▄▄▄▅▅▄▄▄▄▄▃▃▃▃▂▂▂▁▁▁▁▁</td></tr><tr><td>mom_0</td><td>███▇▇▆▅▄▃▂▂▁▁██▇▆▅▃▂▁▁▁▁▁▂▂▃▃▄▄▅▆▆▇▇▇███</td></tr><tr><td>mom_1</td><td>███▇▇▆▅▄▃▂▂▁▁██▇▆▅▃▂▁▁▁▁▁▂▂▃▃▄▄▅▆▆▇▇▇███</td></tr><tr><td>precision_score</td><td>▁▇█</td></tr><tr><td>raw_loss</td><td>▇▇▅▆█▃▇▄▆▅▂▅▄▃▄▃▄▂▁▂▁▂▂▁▁▂▂▁▂▁▁▁▁▁▁▁▁▁▁▁</td></tr><tr><td>recall_score</td><td>▁█▃</td></tr><tr><td>sqr_mom_0</td><td>▁▁▁▁▁▁▁▁▁▁▁▁▁▁▁▁▁▁▁▁▁▁▁▁▁▁▁▁▁▁▁▁▁▁▁▁▁▁▁▁</td></tr><tr><td>sqr_mom_1</td><td>▁▁▁▁▁▁▁▁▁▁▁▁▁▁▁▁▁▁▁▁▁▁▁▁▁▁▁▁▁▁▁▁▁▁▁▁▁▁▁▁</td></tr><tr><td>train_loss</td><td>▇████▇▇▆▆▆▅▅▅▃▂▂▃▂▂▂▂▂▂▂▂▂▂▂▂▁▁▁▁▁▁▁▁▁▁▁</td></tr><tr><td>train_samples_per_sec</td><td>▇████████████▁▃▃▃▃▃▃▃▃▃▃▃▃▃▃▃▃▃▃▃▃▃▃▃▃▃▃</td></tr><tr><td>valid_loss</td><td>█▆▁</td></tr><tr><td>wd_0</td><td>▁▁▁▁▁▁▁▁▁▁▁▁▁▁▁▁▁▁▁▁▁▁▁▁▁▁▁▁▁▁▁▁▁▁▁▁▁▁▁▁</td></tr><tr><td>wd_1</td><td>▁▁▁▁▁▁▁▁▁▁▁▁▁▁▁▁▁▁▁▁▁▁▁▁▁▁▁▁▁▁▁▁▁▁▁▁▁▁▁▁</td></tr></table><br/></div><div class=\"wandb-col\"><h3>Run summary:</h3><br/><table class=\"wandb\"><tr><td>accuracy</td><td>0.95714</td></tr><tr><td>epoch</td><td>3</td></tr><tr><td>eps_0</td><td>1e-05</td></tr><tr><td>eps_1</td><td>1e-05</td></tr><tr><td>f1_score</td><td>0.83636</td></tr><tr><td>lr_0</td><td>0.0</td></tr><tr><td>lr_1</td><td>0.0</td></tr><tr><td>mom_0</td><td>0.94998</td></tr><tr><td>mom_1</td><td>0.94998</td></tr><tr><td>precision_score</td><td>0.82143</td></tr><tr><td>raw_loss</td><td>0.04848</td></tr><tr><td>recall_score</td><td>0.85185</td></tr><tr><td>sqr_mom_0</td><td>0.99</td></tr><tr><td>sqr_mom_1</td><td>0.99</td></tr><tr><td>train_loss</td><td>0.13645</td></tr><tr><td>train_samples_per_sec</td><td>168.90971</td></tr><tr><td>valid_loss</td><td>0.2609</td></tr><tr><td>wd_0</td><td>0.01</td></tr><tr><td>wd_1</td><td>0.01</td></tr></table><br/></div></div>"
      ],
      "text/plain": [
       "<IPython.core.display.HTML object>"
      ]
     },
     "metadata": {},
     "output_type": "display_data"
    },
    {
     "data": {
      "text/html": [
       "Synced <strong style=\"color:#cdcd00\">giddy-pyramid-127</strong>: <a href=\"https://wandb.ai/wandb_course/lemon-project/runs/219s90bs\" target=\"_blank\">https://wandb.ai/wandb_course/lemon-project/runs/219s90bs</a><br/>Synced 6 W&B file(s), 0 media file(s), 2 artifact file(s) and 0 other file(s)"
      ],
      "text/plain": [
       "<IPython.core.display.HTML object>"
      ]
     },
     "metadata": {},
     "output_type": "display_data"
    },
    {
     "data": {
      "text/html": [
       "Find logs at: <code>./wandb/run-20220701_113625-219s90bs/logs</code>"
      ],
      "text/plain": [
       "<IPython.core.display.HTML object>"
      ]
     },
     "metadata": {},
     "output_type": "display_data"
    }
   ],
   "source": [
    "train(cfg)"
   ]
  }
 ],
 "metadata": {
  "kernelspec": {
   "display_name": "Python 3 (ipykernel)",
   "language": "python",
   "name": "python3"
  },
  "language_info": {
   "codemirror_mode": {
    "name": "ipython",
    "version": 3
   },
   "file_extension": ".py",
   "mimetype": "text/x-python",
   "name": "python",
   "nbconvert_exporter": "python",
   "pygments_lexer": "ipython3",
   "version": "3.8.0"
  }
 },
 "nbformat": 4,
 "nbformat_minor": 5
}
