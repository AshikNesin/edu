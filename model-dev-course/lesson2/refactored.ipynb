{
 "cells": [
  {
   "cell_type": "code",
   "execution_count": null,
   "id": "bd96a79d",
   "metadata": {},
   "outputs": [],
   "source": [
    "import os\n",
    "from pathlib import Path\n",
    "import pandas as pd\n",
    "from ml_collections import config_dict\n",
    "\n",
    "import wandb\n",
    "from fastai.vision.all import *\n",
    "from fastai.callback.wandb import WandbCallback"
   ]
  },
  {
   "cell_type": "code",
   "execution_count": null,
   "id": "b4b2bdfb",
   "metadata": {},
   "outputs": [],
   "source": [
    "cfg = config_dict.ConfigDict()\n",
    "cfg.img_size = 256\n",
    "cfg.target_column = 'mold'\n",
    "cfg.bs = 32\n",
    "cfg.seed = 42\n",
    "cfg.epochs = 2\n",
    "cfg.lr = 2e-3\n",
    "cfg.arch = 'resnet18'\n",
    "cfg.PROJECT_NAME = 'lemon-project'\n",
    "cfg.ENTITY = 'wandb_course'\n",
    "cfg.PROCESSED_DATA_AT = 'lemon_dataset_split_data:latest'"
   ]
  },
  {
   "cell_type": "code",
   "execution_count": null,
   "id": "9b37f91c",
   "metadata": {},
   "outputs": [],
   "source": [
    "def prepare_data(PROCESSED_DATA_AT):\n",
    "    \"Get/Download the datasets\"\n",
    "    processed_data_at = wandb.use_artifact(PROCESSED_DATA_AT)\n",
    "    processed_dataset_dir = Path(processed_data_at.download())\n",
    "    df = pd.read_csv(processed_dataset_dir / 'data_split.csv')\n",
    "    df = df[df.stage != 'test'].reset_index(drop=True)\n",
    "    df['valid'] = df.stage == 'valid'\n",
    "    return df, processed_dataset_dir"
   ]
  },
  {
   "cell_type": "markdown",
   "id": "a77448d7-6a1b-4da2-9eef-c26aa6153007",
   "metadata": {
    "jp-MarkdownHeadingCollapsed": true,
    "tags": []
   },
   "source": [
    "A good way of making experimetns reproducible, sets numpy, torch, random and cudnn seeds"
   ]
  },
  {
   "cell_type": "code",
   "execution_count": null,
   "id": "336d2507-7f56-40ab-8c5e-6db059d3b579",
   "metadata": {},
   "outputs": [],
   "source": [
    "def get_dataloaders(df, path, seed, target_column, img_size, bs):\n",
    "    \"Get train/valid PyTorch Dataloaders\"\n",
    "    set_seed(cfg.seed, reproducible=True)\n",
    "    dls = ImageDataLoaders.from_df(df, path=path, seed=seed, fn_col='file_name', label_col=target_column, \n",
    "                                   valid_col='valid', item_tfms=Resize(img_size), bs=bs)\n",
    "    return dls"
   ]
  },
  {
   "cell_type": "code",
   "execution_count": null,
   "id": "6cc69481-df7f-4a17-8ac0-191698afde5d",
   "metadata": {},
   "outputs": [],
   "source": [
    "def log_predictions(learn):\n",
    "    \"Log a wandb.Table with model predictions on the validation dataset\"\n",
    "    inp,preds,targs,out = learn.get_preds(with_input=True, with_decoded=True)\n",
    "    imgs = [wandb.Image(t.permute(1,2,0)) for t in inp]\n",
    "    pred_proba = preds[:,1].numpy().tolist()\n",
    "    targets = targs.numpy().tolist()\n",
    "    predictions = out.numpy().tolist()\n",
    "    df = pd.DataFrame(list(zip(imgs, pred_proba, predictions, targets)),\n",
    "               columns =['image', 'probability', 'prediction', 'target'])\n",
    "    wandb.log({'predictions_table': wandb.Table(dataframe=df)})"
   ]
  },
  {
   "cell_type": "code",
   "execution_count": null,
   "id": "eae1911d",
   "metadata": {},
   "outputs": [],
   "source": [
    "def main(cfg):\n",
    "    with wandb.init(project=cfg.PROJECT_NAME, entity=cfg.ENTITY, job_type=\"training\", config=cfg.to_dict()):\n",
    "        cfg = wandb.config\n",
    "        df, path = prepare_data(cfg.PROCESSED_DATA_AT)\n",
    "        dls = get_dataloaders(df, path, cfg.seed, cfg.target_column, cfg.img_size, cfg.bs)\n",
    "        learn = vision_learner(dls, \n",
    "                               cfg.arch,\n",
    "                               metrics=[accuracy, Precision(), Recall(), F1Score()],\n",
    "                               cbs=[WandbCallback(log_preds=False), SaveModelCallback(monitor='f1_score')])\n",
    "        learn.fine_tune(cfg.epochs, cfg.lr)   \n",
    "        log_predictions(learn)"
   ]
  },
  {
   "cell_type": "markdown",
   "id": "0baa5894-ff0f-4c5e-bf66-78aa1d9811bf",
   "metadata": {},
   "source": [
    "Let's check it works by re-running the baseline"
   ]
  },
  {
   "cell_type": "code",
   "execution_count": null,
   "id": "bb284be1-2a04-47f3-9724-987c4e360077",
   "metadata": {},
   "outputs": [],
   "source": [
    "main(cfg)"
   ]
  }
 ],
 "metadata": {
  "kernelspec": {
   "display_name": "Python 3 (ipykernel)",
   "language": "python",
   "name": "python3"
  },
  "language_info": {
   "codemirror_mode": {
    "name": "ipython",
    "version": 3
   },
   "file_extension": ".py",
   "mimetype": "text/x-python",
   "name": "python",
   "nbconvert_exporter": "python",
   "pygments_lexer": "ipython3",
   "version": "3.10.4"
  }
 },
 "nbformat": 4,
 "nbformat_minor": 5
}
