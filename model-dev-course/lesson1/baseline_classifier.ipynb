{
 "cells": [
  {
   "cell_type": "markdown",
   "id": "55ca5c18",
   "metadata": {},
   "source": [
    "# Baseline solution"
   ]
  },
  {
   "cell_type": "code",
   "execution_count": null,
   "id": "bd96a79d",
   "metadata": {},
   "outputs": [],
   "source": [
    "import os\n",
    "import pandas as pd\n",
    "\n",
    "import wandb\n",
    "from fastai.vision.all import *\n",
    "\n",
    "PROJECT_NAME = 'lemon-test1'\n",
    "ENTITY = 'wandb_course'\n",
    "PROCESSED_DATA_AT = 'lemon_dataset_split_data'"
   ]
  },
  {
   "cell_type": "code",
   "execution_count": null,
   "id": "841952fc",
   "metadata": {},
   "outputs": [],
   "source": [
    "run = wandb.init(project=PROJECT_NAME, entity=ENTITY, job_type=\"training\")"
   ]
  },
  {
   "cell_type": "code",
   "execution_count": null,
   "id": "c6d36ae4",
   "metadata": {},
   "outputs": [],
   "source": [
    "# find the most recent (\"latest\") version of the processed data\n",
    "processed_data_at = run.use_artifact(f'{PROCESSED_DATA_AT}:latest')\n",
    "\n",
    "# Download the dataset\n",
    "processed_dataset_dir = processed_data_at.download()"
   ]
  },
  {
   "cell_type": "code",
   "execution_count": null,
   "id": "50adfd77",
   "metadata": {},
   "outputs": [],
   "source": [
    "df = pd.read_csv(os.path.join(processed_dataset_dir, 'data_split.csv'))"
   ]
  },
  {
   "cell_type": "code",
   "execution_count": null,
   "id": "03d2a027",
   "metadata": {},
   "outputs": [],
   "source": [
    "# we will not use the hold out dataset stage at this moment\n",
    "df = df[df.stage != 'test'].reset_index(drop=True)\n",
    "\n",
    "# this will tell our trainer how we want to split data between training and validation\n",
    "df['valid'] = df.stage == 'valid'\n",
    "\n",
    "# let's check it visually\n",
    "df.head()"
   ]
  },
  {
   "cell_type": "code",
   "execution_count": null,
   "id": "ca57d526",
   "metadata": {},
   "outputs": [],
   "source": [
    "path = Path(processed_dataset_dir)"
   ]
  },
  {
   "cell_type": "code",
   "execution_count": null,
   "id": "6b5db144",
   "metadata": {},
   "outputs": [],
   "source": [
    "from ml_collections import config_dict\n",
    "\n",
    "cfg = config_dict.ConfigDict()\n",
    "cfg.img_size = 256\n",
    "cfg.target_column = 'mold'\n",
    "cfg.bs = 32\n",
    "cfg.seed = 42\n",
    "cfg.arch = 'resnet18'"
   ]
  },
  {
   "cell_type": "code",
   "execution_count": null,
   "id": "74acc122",
   "metadata": {},
   "outputs": [],
   "source": [
    "wandb.config.update(cfg)"
   ]
  },
  {
   "cell_type": "code",
   "execution_count": null,
   "id": "d9ca26ff",
   "metadata": {},
   "outputs": [],
   "source": [
    "dls = ImageDataLoaders.from_df(df, path=path, seed=cfg.seed, fn_col='file_name', \n",
    "                               label_col=cfg.target_column, valid_col='valid', \n",
    "                               item_tfms=Resize(cfg.img_size), bs=cfg.bs)"
   ]
  },
  {
   "cell_type": "code",
   "execution_count": null,
   "id": "35855a13",
   "metadata": {},
   "outputs": [],
   "source": [
    "dls.show_batch()"
   ]
  },
  {
   "cell_type": "code",
   "execution_count": null,
   "id": "1d30f014",
   "metadata": {},
   "outputs": [],
   "source": [
    "df[df.valid == True]['mold'].value_counts()"
   ]
  },
  {
   "cell_type": "code",
   "execution_count": null,
   "id": "e9df03b8",
   "metadata": {},
   "outputs": [],
   "source": [
    "# baseline accuracy\n",
    "df[df.valid == True]['mold'].value_counts()[0] / len(df[df.valid == True])"
   ]
  },
  {
   "cell_type": "code",
   "execution_count": null,
   "id": "148bebdd",
   "metadata": {},
   "outputs": [],
   "source": [
    "from fastai.callback.wandb import *"
   ]
  },
  {
   "cell_type": "code",
   "execution_count": null,
   "id": "b3a859e0",
   "metadata": {},
   "outputs": [],
   "source": [
    "learn = vision_learner(dls, \n",
    "                       cfg.arch,\n",
    "                       metrics=[accuracy, Precision(), Recall(), F1Score()],\n",
    "                       cbs=[WandbCallback(log_preds=False, log_model=True), SaveModelCallback(monitor='f1_score')])\n",
    "\n",
    "learn.fine_tune(2)"
   ]
  },
  {
   "cell_type": "code",
   "execution_count": null,
   "id": "ac6c35ba",
   "metadata": {},
   "outputs": [],
   "source": [
    "inp,preds,targs,out = learn.get_preds(with_input=True, with_decoded=True)"
   ]
  },
  {
   "cell_type": "code",
   "execution_count": null,
   "id": "569eb12c",
   "metadata": {},
   "outputs": [],
   "source": [
    "inp.shape, preds.shape, targs.shape, out.shape"
   ]
  },
  {
   "cell_type": "code",
   "execution_count": null,
   "id": "cfa85e69",
   "metadata": {},
   "outputs": [],
   "source": [
    "imgs = [wandb.Image(t.permute(1,2,0)) for t in inp]\n",
    "pred_proba = preds[:,1].numpy().tolist()\n",
    "targets = targs.numpy().tolist()\n",
    "predictions = out.numpy().tolist()"
   ]
  },
  {
   "cell_type": "code",
   "execution_count": null,
   "id": "78c90cfb",
   "metadata": {},
   "outputs": [],
   "source": [
    "df = pd.DataFrame(list(zip(imgs, pred_proba, predictions, targets)),\n",
    "               columns =['image', 'probability', 'prediction', 'target'])"
   ]
  },
  {
   "cell_type": "code",
   "execution_count": null,
   "id": "58f41a5e",
   "metadata": {},
   "outputs": [],
   "source": [
    "run.log({'predictions_table': wandb.Table(dataframe=df)})"
   ]
  },
  {
   "cell_type": "code",
   "execution_count": null,
   "id": "a10f3a22",
   "metadata": {},
   "outputs": [],
   "source": [
    "run.finish()"
   ]
  },
  {
   "cell_type": "code",
   "execution_count": null,
   "id": "7a6b75e4",
   "metadata": {},
   "outputs": [],
   "source": []
  }
 ],
 "metadata": {
  "kernelspec": {
   "display_name": "Python 3 (ipykernel)",
   "language": "python",
   "name": "python3"
  },
  "language_info": {
   "codemirror_mode": {
    "name": "ipython",
    "version": 3
   },
   "file_extension": ".py",
   "mimetype": "text/x-python",
   "name": "python",
   "nbconvert_exporter": "python",
   "pygments_lexer": "ipython3",
   "version": "3.8.0"
  }
 },
 "nbformat": 4,
 "nbformat_minor": 5
}
