{
 "cells": [
  {
   "cell_type": "markdown",
   "id": "109531d8",
   "metadata": {},
   "source": [
    "# Data preparation"
   ]
  },
  {
   "cell_type": "code",
   "execution_count": null,
   "id": "13d4ec07",
   "metadata": {},
   "outputs": [],
   "source": [
    "import os\n",
    "import pandas as pd\n",
    "import json\n",
    "\n",
    "import wandb\n",
    "\n",
    "PROJECT_NAME = 'lemon-test1'\n",
    "ENTITY = 'wandb_course'\n",
    "RAW_DATA_FOLDER = 'lemon-dataset/'\n",
    "ANNOTATIONS_FILE = 'lemon-dataset/annotations/instances_default.json'\n",
    "PREFIX = 'lemon_dataset'\n",
    "TOTAL_IMAGES = len(os.listdir(RAW_DATA_FOLDER))"
   ]
  },
  {
   "cell_type": "code",
   "execution_count": null,
   "id": "44089644",
   "metadata": {},
   "outputs": [],
   "source": [
    "RAW_DATA_AT = f'{PREFIX}_raw_data_{str(TOTAL_IMAGES)}'\n",
    "RAW_DATA_AT"
   ]
  },
  {
   "cell_type": "code",
   "execution_count": null,
   "id": "c40275d7",
   "metadata": {},
   "outputs": [],
   "source": [
    "PROCESSED_DATA_AT = f'{PREFIX}_split_data'\n",
    "PROCESSED_DATA_AT"
   ]
  },
  {
   "cell_type": "markdown",
   "id": "78a02d56",
   "metadata": {},
   "source": [
    "## Register raw data as an artifact"
   ]
  },
  {
   "cell_type": "code",
   "execution_count": null,
   "id": "3f3d2fe0",
   "metadata": {},
   "outputs": [],
   "source": [
    "run = wandb.init(project=PROJECT_NAME, entity=ENTITY, job_type=\"upload\")\n",
    "\n",
    "# create an artifact for all the raw data\n",
    "raw_data_at = wandb.Artifact(RAW_DATA_AT, type=\"raw_data\")\n",
    "\n",
    "# add all images in the directory to the artifact\n",
    "raw_data_at.add_dir(RAW_DATA_FOLDER, name='images')\n",
    "\n",
    "# add annotations file to the artifact\n",
    "raw_data_at.add_file(ANNOTATIONS_FILE, name='annotations/instances_default.json')\n",
    "\n",
    "# save artifact to W&B\n",
    "run.log_artifact(raw_data_at)\n",
    "\n",
    "# finalize run\n",
    "run.finish()"
   ]
  },
  {
   "cell_type": "markdown",
   "id": "d8f3ed78",
   "metadata": {},
   "source": [
    "## Pre-process data for binary classification"
   ]
  },
  {
   "cell_type": "code",
   "execution_count": null,
   "id": "ce80631f",
   "metadata": {},
   "outputs": [],
   "source": [
    "run = wandb.init(project=PROJECT_NAME, entity=ENTITY, job_type=\"data_split\")\n",
    "\n",
    "# find the most recent (\"latest\") version of the full raw data\n",
    "raw_data_at = run.use_artifact(f'{RAW_DATA_AT}:latest')\n",
    "\n",
    "# Download the dataset and load annotations file \n",
    "dataset_dir = raw_data_at.download()\n",
    "data = json.load(open(os.path.join(dataset_dir, 'annotations/instances_default.json')))"
   ]
  },
  {
   "cell_type": "code",
   "execution_count": null,
   "id": "9c705f21",
   "metadata": {},
   "outputs": [],
   "source": [
    "annotations = pd.DataFrame.from_dict(data['annotations'])\n",
    "images = pd.DataFrame.from_dict(data['images'])"
   ]
  },
  {
   "cell_type": "code",
   "execution_count": null,
   "id": "c6047891",
   "metadata": {},
   "outputs": [],
   "source": [
    "annotations.head()"
   ]
  },
  {
   "cell_type": "code",
   "execution_count": null,
   "id": "67bd1331",
   "metadata": {},
   "outputs": [],
   "source": [
    "images.head()"
   ]
  },
  {
   "cell_type": "code",
   "execution_count": null,
   "id": "7d09d88d",
   "metadata": {},
   "outputs": [],
   "source": [
    "df = annotations[['image_id', 'category_id']].groupby('image_id')['category_id'].apply(lambda x: list(set(x))).reset_index()\n",
    "df.head()"
   ]
  },
  {
   "cell_type": "code",
   "execution_count": null,
   "id": "23ce08aa",
   "metadata": {},
   "outputs": [],
   "source": [
    "df['mold'] = df['category_id'].apply(lambda x: 4 in x)\n",
    "df['mold'].value_counts()"
   ]
  },
  {
   "cell_type": "code",
   "execution_count": null,
   "id": "b0256708",
   "metadata": {},
   "outputs": [],
   "source": [
    "df = pd.merge(df, images[['id', 'file_name']], left_on='image_id', right_on='id')"
   ]
  },
  {
   "cell_type": "code",
   "execution_count": null,
   "id": "87657133",
   "metadata": {},
   "outputs": [],
   "source": [
    "del df['id']"
   ]
  },
  {
   "cell_type": "code",
   "execution_count": null,
   "id": "a7860fdd",
   "metadata": {},
   "outputs": [],
   "source": [
    "df['fruit_id'] = df['file_name'].apply(lambda x: x.split('/')[1].split('_')[0])"
   ]
  },
  {
   "cell_type": "code",
   "execution_count": null,
   "id": "b005b60a",
   "metadata": {},
   "outputs": [],
   "source": [
    "df.head()"
   ]
  },
  {
   "cell_type": "code",
   "execution_count": null,
   "id": "506f9c73",
   "metadata": {},
   "outputs": [],
   "source": [
    "df['fold'] = -1"
   ]
  },
  {
   "cell_type": "code",
   "execution_count": null,
   "id": "70a84e0c",
   "metadata": {},
   "outputs": [],
   "source": [
    "from sklearn.model_selection import StratifiedGroupKFold\n",
    "\n",
    "X = df.index.values\n",
    "y = df.mold.values\n",
    "groups = df.fruit_id.values\n",
    "\n",
    "cv = StratifiedGroupKFold(n_splits=10, random_state=42, shuffle=True)\n",
    "for i, (train_idxs, test_idxs) in enumerate(cv.split(X, y, groups)):\n",
    "    df['fold'].iloc[test_idxs] = i"
   ]
  },
  {
   "cell_type": "code",
   "execution_count": null,
   "id": "88f146b3",
   "metadata": {},
   "outputs": [],
   "source": [
    "df['stage'] = df['fold'].apply(lambda x: 'test' if x == 0 else ('valid' if x == 1 else 'train'))"
   ]
  },
  {
   "cell_type": "code",
   "execution_count": null,
   "id": "531be5c6",
   "metadata": {},
   "outputs": [],
   "source": [
    "df.to_csv('data_split.csv', index=False)\n",
    "df.head()"
   ]
  },
  {
   "cell_type": "code",
   "execution_count": null,
   "id": "a2cc9835",
   "metadata": {},
   "outputs": [],
   "source": [
    "# create an artifact for all the raw data\n",
    "processed_data_at = wandb.Artifact(PROCESSED_DATA_AT, type=\"split_data\")\n",
    "\n",
    "# add data split file to the artifact\n",
    "processed_data_at.add_file('data_split.csv')\n",
    "\n",
    "# add images to the artifact\n",
    "processed_data_at.add_dir(dataset_dir)\n",
    "\n",
    "# save artifact to W&B\n",
    "run.log_artifact(processed_data_at)\n",
    "\n",
    "# finalize run\n",
    "run.finish()"
   ]
  },
  {
   "cell_type": "code",
   "execution_count": null,
   "id": "d98bdc61",
   "metadata": {},
   "outputs": [],
   "source": []
  },
  {
   "cell_type": "code",
   "execution_count": null,
   "id": "6878e21a",
   "metadata": {},
   "outputs": [],
   "source": []
  }
 ],
 "metadata": {
  "kernelspec": {
   "display_name": "Python 3 (ipykernel)",
   "language": "python",
   "name": "python3"
  },
  "language_info": {
   "codemirror_mode": {
    "name": "ipython",
    "version": 3
   },
   "file_extension": ".py",
   "mimetype": "text/x-python",
   "name": "python",
   "nbconvert_exporter": "python",
   "pygments_lexer": "ipython3",
   "version": "3.8.0"
  }
 },
 "nbformat": 4,
 "nbformat_minor": 5
}
