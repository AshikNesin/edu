{
 "cells": [
  {
   "cell_type": "code",
   "execution_count": null,
   "id": "4d495db3",
   "metadata": {},
   "outputs": [],
   "source": [
    "from pycocotools.coco import COCO\n",
    "import skimage.io as io\n",
    "import numpy as np\n",
    "import pandas as pd\n",
    "import os\n",
    "\n",
    "import wandb"
   ]
  },
  {
   "cell_type": "code",
   "execution_count": null,
   "id": "3d343961",
   "metadata": {},
   "outputs": [],
   "source": [
    "!git clone https://github.com/softwaremill/lemon-dataset.git -qq\n",
    "!unzip -q lemon-dataset/data/lemon-dataset.zip"
   ]
  },
  {
   "cell_type": "code",
   "execution_count": null,
   "id": "faf4527e",
   "metadata": {},
   "outputs": [],
   "source": [
    "PROJECT_NAME = 'lemon-dataset'\n",
    "RAW_DATA_FOLDER = 'lemon-dataset/'\n",
    "ANNOTATIONS_FILE = 'lemon-dataset/annotations/instances_default.json'"
   ]
  },
  {
   "cell_type": "code",
   "execution_count": null,
   "id": "b64173f6",
   "metadata": {},
   "outputs": [],
   "source": [
    "coco = COCO(ANNOTATIONS_FILE)"
   ]
  },
  {
   "cell_type": "code",
   "execution_count": null,
   "id": "38775051",
   "metadata": {},
   "outputs": [],
   "source": [
    "cats = coco.loadCats(coco.getCatIds())\n",
    "catIds = coco.getCatIds()\n",
    "imgIds = coco.getImgIds()\n",
    "imgs = coco.loadImgs(imgIds)"
   ]
  },
  {
   "cell_type": "code",
   "execution_count": null,
   "id": "1e5bd855",
   "metadata": {},
   "outputs": [],
   "source": [
    "def get_anns(img):\n",
    "    annIds = coco.getAnnIds(imgIds=img['id'], catIds=catIds, iscrowd=None)\n",
    "    return coco.loadAnns(annIds)\n",
    "\n",
    "def get_label(ann):\n",
    "    return [cat['name'] for cat in cats if cat['id'] == ann['category_id']][0]"
   ]
  },
  {
   "cell_type": "code",
   "execution_count": null,
   "id": "fd679fa4",
   "metadata": {},
   "outputs": [],
   "source": [
    "def make_wandb_image(img):\n",
    "    pth = os.path.join(RAW_DATA_FOLDER, img['file_name'])\n",
    "    img_array = io.imread(pth)\n",
    "    anns = get_anns(img)\n",
    "\n",
    "    truth_box_data = [{'position': {'minX': ann['bbox'][0],\n",
    "                                  'minY': ann['bbox'][1],\n",
    "                                  'maxX': ann['bbox'][0]+ann['bbox'][2],\n",
    "                                  'maxY': ann['bbox'][1]+ann['bbox'][3]},\n",
    "                      'class_id': ann['category_id'],\n",
    "                      'box_caption': get_label(ann),\n",
    "                      'domain': 'pixel'} for ann in anns]\n",
    "\n",
    "    masks = [coco.annToMask(ann)*ann['category_id'] for ann in anns]\n",
    "    mask = np.stack(masks).max(axis=0)  # arbitrary way to select a label...\n",
    "    return wandb.Image(\n",
    "                    img_array,\n",
    "                    classes=cats,\n",
    "                    boxes={'ground_truth': {'box_data': truth_box_data}},\n",
    "                    masks={'ground_truth': {'mask_data': mask}}\n",
    "                    )"
   ]
  },
  {
   "cell_type": "code",
   "execution_count": null,
   "id": "5749a1fb",
   "metadata": {
    "scrolled": true
   },
   "outputs": [],
   "source": [
    "cats"
   ]
  },
  {
   "cell_type": "code",
   "execution_count": null,
   "id": "5a6891f9",
   "metadata": {},
   "outputs": [],
   "source": [
    "def is_mold(img):\n",
    "    anns = get_anns(img)\n",
    "    # 4 is id of mold category\n",
    "    return 4 in [x['category_id'] for x in anns]\n",
    "\n",
    "is_mold_col = [is_mold(img) for img in imgs]"
   ]
  },
  {
   "cell_type": "code",
   "execution_count": null,
   "id": "15fd1ae3",
   "metadata": {},
   "outputs": [],
   "source": [
    "imgs[0]['file_name']"
   ]
  },
  {
   "cell_type": "code",
   "execution_count": null,
   "id": "5a2bcfd7",
   "metadata": {},
   "outputs": [],
   "source": [
    "img_uris = [t['file_name'].split('/')[1].split('.')[0] for t in imgs]"
   ]
  },
  {
   "cell_type": "code",
   "execution_count": null,
   "id": "89694b25",
   "metadata": {},
   "outputs": [],
   "source": [
    "with wandb.init(project=PROJECT_NAME, job_type=\"EDA\") as run:\n",
    "    df = pd.DataFrame({'imgs': [make_wandb_image(img) for img in imgs]})\n",
    "    df['ids'] = [t.split('_')[0] for t in img_uris]\n",
    "    df['n1'] = [t.split('_')[1] for t in img_uris]\n",
    "    df['n2'] = [t.split('_')[2] for t in img_uris]\n",
    "    df['n3'] = [t.split('_')[3] for t in img_uris]\n",
    "    df['n4'] = [t.split('_')[4] for t in img_uris]   \n",
    "    df['is_mold'] = is_mold_col\n",
    "    run.log({'table_coco': wandb.Table(dataframe=df)})"
   ]
  },
  {
   "cell_type": "code",
   "execution_count": null,
   "id": "a0a49787",
   "metadata": {},
   "outputs": [],
   "source": []
  },
  {
   "cell_type": "code",
   "execution_count": null,
   "id": "5fe0ad2e",
   "metadata": {},
   "outputs": [],
   "source": []
  }
 ],
 "metadata": {
  "kernelspec": {
   "display_name": "Python 3 (ipykernel)",
   "language": "python",
   "name": "python3"
  },
  "language_info": {
   "codemirror_mode": {
    "name": "ipython",
    "version": 3
   },
   "file_extension": ".py",
   "mimetype": "text/x-python",
   "name": "python",
   "nbconvert_exporter": "python",
   "pygments_lexer": "ipython3",
   "version": "3.8.0"
  }
 },
 "nbformat": 4,
 "nbformat_minor": 5
}
