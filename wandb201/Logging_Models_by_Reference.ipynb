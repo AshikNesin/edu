{
  "nbformat": 4,
  "nbformat_minor": 0,
  "metadata": {
    "colab": {
      "provenance": []
    },
    "kernelspec": {
      "name": "python3",
      "display_name": "Python 3"
    },
    "language_info": {
      "name": "python"
    }
  },
  "cells": [
    {
      "cell_type": "code",
      "execution_count": null,
      "metadata": {
        "colab": {
          "base_uri": "https://localhost:8080/"
        },
        "id": "HLsmyBZ9v9ya",
        "outputId": "ba883acd-b29e-49ae-e997-b8668828c842"
      },
      "outputs": [
        {
          "output_type": "stream",
          "name": "stdout",
          "text": [
            "\u001b[2K     \u001b[90m━━━━━━━━━━━━━━━━━━━━━━━━━━━━━━━━━━━━━━━━\u001b[0m \u001b[32m2.1/2.1 MB\u001b[0m \u001b[31m23.7 MB/s\u001b[0m eta \u001b[36m0:00:00\u001b[0m\n",
            "\u001b[2K     \u001b[90m━━━━━━━━━━━━━━━━━━━━━━━━━━━━━━━━━━━━━━\u001b[0m \u001b[32m188.5/188.5 kB\u001b[0m \u001b[31m17.8 MB/s\u001b[0m eta \u001b[36m0:00:00\u001b[0m\n",
            "\u001b[2K     \u001b[90m━━━━━━━━━━━━━━━━━━━━━━━━━━━━━━━━━━━━━━\u001b[0m \u001b[32m215.6/215.6 kB\u001b[0m \u001b[31m20.6 MB/s\u001b[0m eta \u001b[36m0:00:00\u001b[0m\n",
            "\u001b[?25h  Preparing metadata (setup.py) ... \u001b[?25l\u001b[?25hdone\n",
            "\u001b[2K     \u001b[90m━━━━━━━━━━━━━━━━━━━━━━━━━━━━━━━━━━━━━━━━\u001b[0m \u001b[32m62.7/62.7 kB\u001b[0m \u001b[31m6.9 MB/s\u001b[0m eta \u001b[36m0:00:00\u001b[0m\n",
            "\u001b[?25h  Building wheel for pathtools (setup.py) ... \u001b[?25l\u001b[?25hdone\n"
          ]
        }
      ],
      "source": [
        "!pip install -qqq wandb"
      ]
    },
    {
      "cell_type": "code",
      "source": [
        "import os\n",
        "os.environ['WANDB_BASE_URL'] = \"https://staging-aws.wandb.io/\"\n",
        "os.environ['WANDB_API_KEY'] = \"\""
      ],
      "metadata": {
        "id": "Gy82Czm4G_Bs"
      },
      "execution_count": null,
      "outputs": []
    },
    {
      "cell_type": "code",
      "source": [
        "import os\n",
        "import random\n",
        "import string\n",
        "from google.cloud import storage\n",
        "\n",
        "def generate_random_file(filename, size_in_kb=1):\n",
        "    \"\"\"Generate a random file with the given size in KB.\"\"\"\n",
        "    chars = ''.join([random.choice(string.ascii_letters + string.digits) for _ in range(1024)])  # 1 KB\n",
        "    with open(filename, 'w') as f:\n",
        "        for _ in range(size_in_kb):\n",
        "            f.write(chars)\n",
        "\n",
        "random_file_name = \"my_model.ckpt\"\n",
        "generate_random_file(random_file_name, 20)"
      ],
      "metadata": {
        "id": "1ZNax5JJyNYk"
      },
      "execution_count": null,
      "outputs": []
    },
    {
      "cell_type": "markdown",
      "source": [
        "# Log References to Existing Object Stores\n",
        "\n",
        "- If your team manages a dedicated bucket (e.g. s3 or GCS) where all checkpoints are stored, you can have W&B log references to this bucket\n",
        "- W&B does not copy the checkpoints, we just manage a reference\n",
        "- Get all the benefits of an enterprise model registry on top of your existing buckets!"
      ],
      "metadata": {
        "id": "JTX1sLSJwJjg"
      }
    },
    {
      "cell_type": "code",
      "source": [
        "!export GOOGLE_APPLICATION_CREDENTIALS=\"/path/to/my_service_account.json\"\n",
        "!export GOOGLE_CLOUD_PROJECT=\"my_gcp_project\""
      ],
      "metadata": {
        "id": "3RinIIu_45so"
      },
      "execution_count": null,
      "outputs": []
    },
    {
      "cell_type": "code",
      "source": [
        "import wandb\n",
        "\n",
        "wandb.init(project=\"model-registry-walkthrough\", entity='smle-machine', job_type=\"log_gcs_reference\")\n",
        "\n",
        "storage_client = storage.Client()\n",
        "\n",
        "bucket = storage_client.bucket(\"my-checkpoint-demo-bucket\")\n",
        "blob = bucket.blob(\"my_model.ckpt\")\n",
        "blob.upload_from_filename(\"my_model.ckpt\")\n",
        "\n",
        "ref_art = wandb.Artifact(name='my_reference_checkpoint', type='model')\n",
        "ref_art.add_reference(\"gs://my-checkpoint-demo-bucket/my_model.ckpt\")\n",
        "wandb.log_artifact(ref_art)\n",
        "\n",
        "wandb.finish()"
      ],
      "metadata": {
        "id": "OHvGZ3aYwtJ2"
      },
      "execution_count": null,
      "outputs": []
    },
    {
      "cell_type": "markdown",
      "source": [
        "To consume the checkpoints you must have the right GCS/AWS/Azure credentials set\n"
      ],
      "metadata": {
        "id": "l67inaQJxnzL"
      }
    }
  ]
}