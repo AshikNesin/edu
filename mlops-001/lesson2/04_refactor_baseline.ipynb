{
 "cells": [
  {
   "cell_type": "code",
   "execution_count": null,
   "id": "bd96a79d",
   "metadata": {},
   "outputs": [],
   "source": [
    "import wandb\n",
    "import pandas as pd\n",
    "import torchvision.models as tvmodels\n",
    "from fastai.vision.all import *\n",
    "from fastai.callback.wandb import WandbCallback\n",
    "\n",
    "from params import BDD_CLASSES\n",
    "from utils import get_predictions, create_dice_table"
   ]
  },
  {
   "cell_type": "markdown",
   "id": "75c45b3e-8641-421a-b3ab-0b33477e2309",
   "metadata": {},
   "source": [
    "We bring those parameters into the config (this is optional) but helps keep everything organised!"
   ]
  },
  {
   "cell_type": "code",
   "execution_count": null,
   "id": "b4b2bdfb",
   "metadata": {},
   "outputs": [],
   "source": [
    "default_config = SimpleNamespace(\n",
    "    WANDB_PROJECT=\"BDD100k\",\n",
    "    ENTITY = None, # wandb team\n",
    "    RAW_DATA_AT = 'bdd_sample_1k',\n",
    "    PROCESSED_DATA_AT = 'bdd_sample_1k_split',\n",
    "    framework=\"fastai\",\n",
    "    img_size=45, #(45, 80) in 16:9 proportions,\n",
    "    batch_size=2, #8 keep small in Colab to be manageable\n",
    "    augment=True, # use data augmentation\n",
    "    epochs=1, # for brevity, increase for better results :)\n",
    "    lr=2e-3,\n",
    "    pretrained=True,  # whether to use pretrained encoder,\n",
    "    mixed_precision=False, # use automatic mixed precision\n",
    "    arch=\"resnet18\",\n",
    "    seed=42,\n",
    "    log_preds=True,\n",
    ")\n",
    "set_seed(42, reproducible=True)"
   ]
  },
  {
   "cell_type": "code",
   "execution_count": null,
   "id": "5f693d98-3aa0-40a8-97eb-85a1bf44ef4a",
   "metadata": {},
   "outputs": [
    {
     "data": {
      "text/plain": [
       "namespace(WANDB_PROJECT='BDD100k',\n",
       "          ENTITY=None,\n",
       "          RAW_DATA_AT='bdd_sample_1k',\n",
       "          PROCESSED_DATA_AT='bdd_sample_1k_split',\n",
       "          framework='fastai',\n",
       "          img_size=(45, 80),\n",
       "          batch_size=2,\n",
       "          augment=True,\n",
       "          epochs=1,\n",
       "          lr=0.002,\n",
       "          pretrained=True,\n",
       "          mixed_precision=False,\n",
       "          arch='resnet18',\n",
       "          seed=1,\n",
       "          log_preds=True)"
      ]
     },
     "execution_count": null,
     "metadata": {},
     "output_type": "execute_result"
    }
   ],
   "source": [
    "default_config"
   ]
  },
  {
   "cell_type": "code",
   "execution_count": null,
   "id": "028d2847-e889-4118-a39b-60b388fa9a0d",
   "metadata": {},
   "outputs": [
    {
     "name": "stderr",
     "output_type": "stream",
     "text": [
      "\u001b[34m\u001b[1mwandb\u001b[0m: Currently logged in as: \u001b[33mcapecape\u001b[0m. Use \u001b[1m`wandb login --relogin`\u001b[0m to force relogin\n"
     ]
    },
    {
     "data": {
      "text/html": [
       "wandb version 0.13.5 is available!  To upgrade, please run:\n",
       " $ pip install wandb --upgrade"
      ],
      "text/plain": [
       "<IPython.core.display.HTML object>"
      ]
     },
     "metadata": {},
     "output_type": "display_data"
    },
    {
     "data": {
      "text/html": [
       "Tracking run with wandb version 0.13.2"
      ],
      "text/plain": [
       "<IPython.core.display.HTML object>"
      ]
     },
     "metadata": {},
     "output_type": "display_data"
    },
    {
     "data": {
      "text/html": [
       "Run data is saved locally in <code>/Users/tcapelle/wandb/edu/mlops-001/lesson2/wandb/run-20221104_142449-1a7pkwf4</code>"
      ],
      "text/plain": [
       "<IPython.core.display.HTML object>"
      ]
     },
     "metadata": {},
     "output_type": "display_data"
    },
    {
     "data": {
      "text/html": [
       "Syncing run <strong><a href=\"https://wandb.ai/capecape/bdd100k/runs/1a7pkwf4\" target=\"_blank\">distinctive-totem-54</a></strong> to <a href=\"https://wandb.ai/capecape/bdd100k\" target=\"_blank\">Weights & Biases</a> (<a href=\"https://wandb.me/run\" target=\"_blank\">docs</a>)<br/>"
      ],
      "text/plain": [
       "<IPython.core.display.HTML object>"
      ]
     },
     "metadata": {},
     "output_type": "display_data"
    }
   ],
   "source": [
    "run = wandb.init(project=default_config.WANDB_PROJECT, \n",
    "                 entity=default_config.ENTITY, \n",
    "                 job_type=\"training\", \n",
    "                 config=default_config)"
   ]
  },
  {
   "cell_type": "code",
   "execution_count": null,
   "id": "ccbd3778-87b7-45f9-bb7e-e2c8d5254305",
   "metadata": {},
   "outputs": [],
   "source": [
    "def download_dataset(at_name):\n",
    "    \"Grab data from artifact\"\n",
    "    processed_data_at = wandb.run.use_artifact(f'{at_name}:latest')\n",
    "    return Path(processed_data_at.download())"
   ]
  },
  {
   "cell_type": "code",
   "execution_count": null,
   "id": "2a3c3913-0962-469b-a0b4-9cdaf416942f",
   "metadata": {},
   "outputs": [
    {
     "name": "stderr",
     "output_type": "stream",
     "text": [
      "\u001b[34m\u001b[1mwandb\u001b[0m: Downloading large artifact bdd_sample_1k_split:latest, 823.45MB. 4006 files... Done. 0:0:0.2\n"
     ]
    }
   ],
   "source": [
    "processed_dataset_dir = download_dataset(default_config.PROCESSED_DATA_AT)"
   ]
  },
  {
   "cell_type": "code",
   "execution_count": null,
   "id": "63b8a79b-9728-49d0-b7dd-b125bb0fd6c8",
   "metadata": {},
   "outputs": [],
   "source": [
    "def label_func(fname):\n",
    "    return (fname.parent.parent/\"labels\")/f\"{fname.stem}_mask.png\""
   ]
  },
  {
   "cell_type": "code",
   "execution_count": null,
   "id": "53b44108-621e-497a-8cf8-5655dc53fb8b",
   "metadata": {},
   "outputs": [],
   "source": [
    "def prepare_df(processed_dataset_dir, label_func, is_test=False):\n",
    "    \"Set absolute path image names and split\"\n",
    "    df = pd.read_csv(processed_dataset_dir / 'data_split.csv')\n",
    "    if is_test: \n",
    "        # grab the test part of the split\n",
    "        df = df[df.Stage == 'test'].reset_index(drop=True)\n",
    "    else:\n",
    "        df = df[df.Stage != 'test'].reset_index(drop=True)\n",
    "        df['is_valid'] = df.Stage == 'valid'\n",
    "    \n",
    "    # assign paths\n",
    "    df[\"image_fname\"] = [processed_dataset_dir/f'images/{f}' for f in df.File_Name.values]\n",
    "    df[\"label_fname\"] = [label_func(f) for f in df.image_fname.values]\n",
    "    return df"
   ]
  },
  {
   "cell_type": "code",
   "execution_count": null,
   "id": "da1d2aaa-e51f-4d2a-b196-fb25a920576f",
   "metadata": {},
   "outputs": [],
   "source": [
    "proc_df = prepare_df(processed_dataset_dir, label_func)"
   ]
  },
  {
   "cell_type": "code",
   "execution_count": null,
   "id": "9990d880-842d-4559-9d1e-d122a6c3705f",
   "metadata": {},
   "outputs": [
    {
     "data": {
      "text/html": [
       "<div>\n",
       "<style scoped>\n",
       "    .dataframe tbody tr th:only-of-type {\n",
       "        vertical-align: middle;\n",
       "    }\n",
       "\n",
       "    .dataframe tbody tr th {\n",
       "        vertical-align: top;\n",
       "    }\n",
       "\n",
       "    .dataframe thead th {\n",
       "        text-align: right;\n",
       "    }\n",
       "</style>\n",
       "<table border=\"1\" class=\"dataframe\">\n",
       "  <thead>\n",
       "    <tr style=\"text-align: right;\">\n",
       "      <th></th>\n",
       "      <th>File_Name</th>\n",
       "      <th>Stage</th>\n",
       "      <th>is_valid</th>\n",
       "      <th>image_fname</th>\n",
       "      <th>label_fname</th>\n",
       "    </tr>\n",
       "  </thead>\n",
       "  <tbody>\n",
       "    <tr>\n",
       "      <th>0</th>\n",
       "      <td>a59131a5-00000000.jpg</td>\n",
       "      <td>train</td>\n",
       "      <td>False</td>\n",
       "      <td>artifacts/bdd_sample_1k_split:v1/images/a59131a5-00000000.jpg</td>\n",
       "      <td>artifacts/bdd_sample_1k_split:v1/labels/a59131a5-00000000_mask.png</td>\n",
       "    </tr>\n",
       "    <tr>\n",
       "      <th>1</th>\n",
       "      <td>6886b3d9-6ab2b28d.jpg</td>\n",
       "      <td>train</td>\n",
       "      <td>False</td>\n",
       "      <td>artifacts/bdd_sample_1k_split:v1/images/6886b3d9-6ab2b28d.jpg</td>\n",
       "      <td>artifacts/bdd_sample_1k_split:v1/labels/6886b3d9-6ab2b28d_mask.png</td>\n",
       "    </tr>\n",
       "    <tr>\n",
       "      <th>2</th>\n",
       "      <td>115e4aff-00000000.jpg</td>\n",
       "      <td>train</td>\n",
       "      <td>False</td>\n",
       "      <td>artifacts/bdd_sample_1k_split:v1/images/115e4aff-00000000.jpg</td>\n",
       "      <td>artifacts/bdd_sample_1k_split:v1/labels/115e4aff-00000000_mask.png</td>\n",
       "    </tr>\n",
       "    <tr>\n",
       "      <th>3</th>\n",
       "      <td>b803d91d-671b8cff.jpg</td>\n",
       "      <td>train</td>\n",
       "      <td>False</td>\n",
       "      <td>artifacts/bdd_sample_1k_split:v1/images/b803d91d-671b8cff.jpg</td>\n",
       "      <td>artifacts/bdd_sample_1k_split:v1/labels/b803d91d-671b8cff_mask.png</td>\n",
       "    </tr>\n",
       "    <tr>\n",
       "      <th>4</th>\n",
       "      <td>6b293d3e-59d5f868.jpg</td>\n",
       "      <td>train</td>\n",
       "      <td>False</td>\n",
       "      <td>artifacts/bdd_sample_1k_split:v1/images/6b293d3e-59d5f868.jpg</td>\n",
       "      <td>artifacts/bdd_sample_1k_split:v1/labels/6b293d3e-59d5f868_mask.png</td>\n",
       "    </tr>\n",
       "  </tbody>\n",
       "</table>\n",
       "</div>"
      ],
      "text/plain": [
       "               File_Name  Stage  is_valid  \\\n",
       "0  a59131a5-00000000.jpg  train     False   \n",
       "1  6886b3d9-6ab2b28d.jpg  train     False   \n",
       "2  115e4aff-00000000.jpg  train     False   \n",
       "3  b803d91d-671b8cff.jpg  train     False   \n",
       "4  6b293d3e-59d5f868.jpg  train     False   \n",
       "\n",
       "                                                     image_fname  \\\n",
       "0  artifacts/bdd_sample_1k_split:v1/images/a59131a5-00000000.jpg   \n",
       "1  artifacts/bdd_sample_1k_split:v1/images/6886b3d9-6ab2b28d.jpg   \n",
       "2  artifacts/bdd_sample_1k_split:v1/images/115e4aff-00000000.jpg   \n",
       "3  artifacts/bdd_sample_1k_split:v1/images/b803d91d-671b8cff.jpg   \n",
       "4  artifacts/bdd_sample_1k_split:v1/images/6b293d3e-59d5f868.jpg   \n",
       "\n",
       "                                                          label_fname  \n",
       "0  artifacts/bdd_sample_1k_split:v1/labels/a59131a5-00000000_mask.png  \n",
       "1  artifacts/bdd_sample_1k_split:v1/labels/6886b3d9-6ab2b28d_mask.png  \n",
       "2  artifacts/bdd_sample_1k_split:v1/labels/115e4aff-00000000_mask.png  \n",
       "3  artifacts/bdd_sample_1k_split:v1/labels/b803d91d-671b8cff_mask.png  \n",
       "4  artifacts/bdd_sample_1k_split:v1/labels/6b293d3e-59d5f868_mask.png  "
      ]
     },
     "execution_count": null,
     "metadata": {},
     "output_type": "execute_result"
    }
   ],
   "source": [
    "proc_df.head()"
   ]
  },
  {
   "cell_type": "code",
   "execution_count": null,
   "id": "0a279249-2a98-49df-9087-dfe2e40b49d5",
   "metadata": {},
   "outputs": [],
   "source": [
    "def get_data(df, bs=4, img_size=180, augment=True):\n",
    "    block = DataBlock(blocks=(ImageBlock, MaskBlock(codes=BDD_CLASSES)),\n",
    "                  get_x=ColReader(\"image_fname\"),\n",
    "                  get_y=ColReader(\"label_fname\"),\n",
    "                  splitter=ColSplitter(),\n",
    "                  item_tfms=Resize((img_size, int(img_size*16/9)),\n",
    "                  batch_tfms=aug_transforms() if augment else None,\n",
    "                 )\n",
    "    return block.dataloaders(df, bs=bs)"
   ]
  },
  {
   "cell_type": "code",
   "execution_count": null,
   "id": "d4b2ebe7-61d9-4648-a957-745307e679c4",
   "metadata": {},
   "outputs": [],
   "source": [
    "dls = get_data(proc_df)"
   ]
  },
  {
   "cell_type": "code",
   "execution_count": null,
   "id": "6cc69481-df7f-4a17-8ac0-191698afde5d",
   "metadata": {},
   "outputs": [],
   "source": [
    "def log_predictions(learn):\n",
    "    samples, outputs, predictions = get_predictions(learn)\n",
    "    table = create_dice_table(samples, outputs, predictions, BDD_CLASSES)\n",
    "    wandb.log({\"pred_table\":table})"
   ]
  },
  {
   "cell_type": "code",
   "execution_count": null,
   "id": "acf5e551-adb2-4a50-b09e-188a8ef666d2",
   "metadata": {},
   "outputs": [
    {
     "data": {
      "text/html": [
       "Waiting for W&B process to finish... <strong style=\"color:green\">(success).</strong>"
      ],
      "text/plain": [
       "<IPython.core.display.HTML object>"
      ]
     },
     "metadata": {},
     "output_type": "display_data"
    },
    {
     "data": {
      "text/html": [
       "Synced <strong style=\"color:#cdcd00\">distinctive-totem-54</strong>: <a href=\"https://wandb.ai/capecape/bdd100k/runs/1a7pkwf4\" target=\"_blank\">https://wandb.ai/capecape/bdd100k/runs/1a7pkwf4</a><br/>Synced 6 W&B file(s), 0 media file(s), 0 artifact file(s) and 0 other file(s)"
      ],
      "text/plain": [
       "<IPython.core.display.HTML object>"
      ]
     },
     "metadata": {},
     "output_type": "display_data"
    },
    {
     "data": {
      "text/html": [
       "Find logs at: <code>./wandb/run-20221104_142449-1a7pkwf4/logs</code>"
      ],
      "text/plain": [
       "<IPython.core.display.HTML object>"
      ]
     },
     "metadata": {},
     "output_type": "display_data"
    }
   ],
   "source": [
    "wandb.finish()"
   ]
  },
  {
   "cell_type": "markdown",
   "id": "e93ec030-d0e7-404f-8735-4948cfff18af",
   "metadata": {},
   "source": [
    "## Putting everything together..."
   ]
  },
  {
   "cell_type": "code",
   "execution_count": null,
   "id": "eae1911d",
   "metadata": {},
   "outputs": [],
   "source": [
    "def train(config):\n",
    "    set_seed(config.seed)\n",
    "    with wandb.init(project=config.WANDB_PROJECT, entity=config.ENTITY, job_type=\"training\", config=config):\n",
    "        \n",
    "        # good practice to inject params using sweeps\n",
    "        config = wandb.config\n",
    "        \n",
    "        # prepare data\n",
    "        processed_dataset_dir = download_dataset(config.PROCESSED_DATA_AT)\n",
    "        proc_df = prepare_df(processed_dataset_dir, label_func)\n",
    "        dls = get_data(proc_df, bs=config.batch_size, img_size=config.img_size, augment=config.augment)\n",
    "        \n",
    "        cbs = [SaveModelCallback()] + ([MixedPrecision()] if config.mixed_precision else [])\n",
    "        \n",
    "        learn = unet_learner(dls, arch=getattr(tvmodels, config.arch), pretrained=config.pretrained, \n",
    "                             metrics=[foreground_acc, DiceMulti()], cbs=cbs)\n",
    "        \n",
    "        learn.fit_one_cycle(config.epochs, config.lr, cbs=[WandbCallback(log_preds=False, log_model=True)])\n",
    "        if config.log_preds:\n",
    "            log_predictions(learn)"
   ]
  },
  {
   "cell_type": "markdown",
   "id": "0baa5894-ff0f-4c5e-bf66-78aa1d9811bf",
   "metadata": {},
   "source": [
    "Let's check it works by re-running the baseline"
   ]
  },
  {
   "cell_type": "code",
   "execution_count": null,
   "id": "bb284be1-2a04-47f3-9724-987c4e360077",
   "metadata": {},
   "outputs": [
    {
     "data": {
      "text/html": [
       "wandb version 0.13.5 is available!  To upgrade, please run:\n",
       " $ pip install wandb --upgrade"
      ],
      "text/plain": [
       "<IPython.core.display.HTML object>"
      ]
     },
     "metadata": {},
     "output_type": "display_data"
    },
    {
     "data": {
      "text/html": [
       "Tracking run with wandb version 0.13.2"
      ],
      "text/plain": [
       "<IPython.core.display.HTML object>"
      ]
     },
     "metadata": {},
     "output_type": "display_data"
    },
    {
     "data": {
      "text/html": [
       "Run data is saved locally in <code>/Users/tcapelle/wandb/edu/mlops-001/lesson2/wandb/run-20221104_142510-2dvdnwcy</code>"
      ],
      "text/plain": [
       "<IPython.core.display.HTML object>"
      ]
     },
     "metadata": {},
     "output_type": "display_data"
    },
    {
     "data": {
      "text/html": [
       "Syncing run <strong><a href=\"https://wandb.ai/capecape/bdd100k/runs/2dvdnwcy\" target=\"_blank\">restful-disco-55</a></strong> to <a href=\"https://wandb.ai/capecape/bdd100k\" target=\"_blank\">Weights & Biases</a> (<a href=\"https://wandb.me/run\" target=\"_blank\">docs</a>)<br/>"
      ],
      "text/plain": [
       "<IPython.core.display.HTML object>"
      ]
     },
     "metadata": {},
     "output_type": "display_data"
    },
    {
     "name": "stderr",
     "output_type": "stream",
     "text": [
      "\u001b[34m\u001b[1mwandb\u001b[0m: Downloading large artifact bdd_sample_1k_split:latest, 823.45MB. 4006 files... Done. 0:0:0.2\n"
     ]
    },
    {
     "data": {
      "text/html": [
       "\n",
       "<style>\n",
       "    /* Turns off some styling */\n",
       "    progress {\n",
       "        /* gets rid of default border in Firefox and Opera. */\n",
       "        border: none;\n",
       "        /* Needs to be in here for Safari polyfill so background images work as expected. */\n",
       "        background-size: auto;\n",
       "    }\n",
       "    progress:not([value]), progress:not([value])::-webkit-progress-bar {\n",
       "        background: repeating-linear-gradient(45deg, #7e7e7e, #7e7e7e 10px, #5c5c5c 10px, #5c5c5c 20px);\n",
       "    }\n",
       "    .progress-bar-interrupted, .progress-bar-interrupted::-webkit-progress-bar {\n",
       "        background: #F44336;\n",
       "    }\n",
       "</style>\n"
      ],
      "text/plain": [
       "<IPython.core.display.HTML object>"
      ]
     },
     "metadata": {},
     "output_type": "display_data"
    },
    {
     "data": {
      "text/html": [
       "<table border=\"1\" class=\"dataframe\">\n",
       "  <thead>\n",
       "    <tr style=\"text-align: left;\">\n",
       "      <th>epoch</th>\n",
       "      <th>train_loss</th>\n",
       "      <th>valid_loss</th>\n",
       "      <th>foreground_acc</th>\n",
       "      <th>dice_multi</th>\n",
       "      <th>time</th>\n",
       "    </tr>\n",
       "  </thead>\n",
       "  <tbody>\n",
       "    <tr>\n",
       "      <td>0</td>\n",
       "      <td>1.144104</td>\n",
       "      <td>1.069724</td>\n",
       "      <td>0.620211</td>\n",
       "      <td>0.192138</td>\n",
       "      <td>01:17</td>\n",
       "    </tr>\n",
       "  </tbody>\n",
       "</table>"
      ],
      "text/plain": [
       "<IPython.core.display.HTML object>"
      ]
     },
     "metadata": {},
     "output_type": "display_data"
    },
    {
     "name": "stdout",
     "output_type": "stream",
     "text": [
      "Better model found at epoch 0 with valid_loss value: 1.0697239637374878.\n"
     ]
    },
    {
     "data": {
      "text/html": [
       "\n",
       "<style>\n",
       "    /* Turns off some styling */\n",
       "    progress {\n",
       "        /* gets rid of default border in Firefox and Opera. */\n",
       "        border: none;\n",
       "        /* Needs to be in here for Safari polyfill so background images work as expected. */\n",
       "        background-size: auto;\n",
       "    }\n",
       "    progress:not([value]), progress:not([value])::-webkit-progress-bar {\n",
       "        background: repeating-linear-gradient(45deg, #7e7e7e, #7e7e7e 10px, #5c5c5c 10px, #5c5c5c 20px);\n",
       "    }\n",
       "    .progress-bar-interrupted, .progress-bar-interrupted::-webkit-progress-bar {\n",
       "        background: #F44336;\n",
       "    }\n",
       "</style>\n"
      ],
      "text/plain": [
       "<IPython.core.display.HTML object>"
      ]
     },
     "metadata": {},
     "output_type": "display_data"
    },
    {
     "data": {
      "text/html": [],
      "text/plain": [
       "<IPython.core.display.HTML object>"
      ]
     },
     "metadata": {},
     "output_type": "display_data"
    },
    {
     "data": {
      "text/html": [
       "\n",
       "<style>\n",
       "    /* Turns off some styling */\n",
       "    progress {\n",
       "        /* gets rid of default border in Firefox and Opera. */\n",
       "        border: none;\n",
       "        /* Needs to be in here for Safari polyfill so background images work as expected. */\n",
       "        background-size: auto;\n",
       "    }\n",
       "    progress:not([value]), progress:not([value])::-webkit-progress-bar {\n",
       "        background: repeating-linear-gradient(45deg, #7e7e7e, #7e7e7e 10px, #5c5c5c 10px, #5c5c5c 20px);\n",
       "    }\n",
       "    .progress-bar-interrupted, .progress-bar-interrupted::-webkit-progress-bar {\n",
       "        background: #F44336;\n",
       "    }\n",
       "</style>\n"
      ],
      "text/plain": [
       "<IPython.core.display.HTML object>"
      ]
     },
     "metadata": {},
     "output_type": "display_data"
    },
    {
     "data": {
      "text/html": [
       "\n",
       "    <div>\n",
       "      <progress value='100' class='' max='100' style='width:300px; height:20px; vertical-align: middle;'></progress>\n",
       "      100.00% [100/100 00:01&lt;00:00]\n",
       "    </div>\n",
       "    "
      ],
      "text/plain": [
       "<IPython.core.display.HTML object>"
      ]
     },
     "metadata": {},
     "output_type": "display_data"
    },
    {
     "data": {
      "text/html": [
       "Waiting for W&B process to finish... <strong style=\"color:green\">(success).</strong>"
      ],
      "text/plain": [
       "<IPython.core.display.HTML object>"
      ]
     },
     "metadata": {},
     "output_type": "display_data"
    },
    {
     "data": {
      "text/html": [
       "<style>\n",
       "    table.wandb td:nth-child(1) { padding: 0 10px; text-align: left ; width: auto;} td:nth-child(2) {text-align: left ; width: 100%}\n",
       "    .wandb-row { display: flex; flex-direction: row; flex-wrap: wrap; justify-content: flex-start; width: 100% }\n",
       "    .wandb-col { display: flex; flex-direction: column; flex-basis: 100%; flex: 1; padding: 10px; }\n",
       "    </style>\n",
       "<div class=\"wandb-row\"><div class=\"wandb-col\"><h3>Run history:</h3><br/><table class=\"wandb\"><tr><td>dice_multi</td><td>▁</td></tr><tr><td>epoch</td><td>▁▁▁▁▂▂▂▂▂▃▃▃▃▃▃▄▄▄▄▄▅▅▅▅▅▅▆▆▆▆▆▇▇▇▇▇▇███</td></tr><tr><td>eps_0</td><td>▁▁▁▁▁▁▁▁▁▁▁▁▁▁▁▁▁▁▁▁▁▁▁▁▁▁▁▁▁▁▁▁▁▁▁▁▁▁▁▁</td></tr><tr><td>eps_1</td><td>▁▁▁▁▁▁▁▁▁▁▁▁▁▁▁▁▁▁▁▁▁▁▁▁▁▁▁▁▁▁▁▁▁▁▁▁▁▁▁▁</td></tr><tr><td>eps_2</td><td>▁▁▁▁▁▁▁▁▁▁▁▁▁▁▁▁▁▁▁▁▁▁▁▁▁▁▁▁▁▁▁▁▁▁▁▁▁▁▁▁</td></tr><tr><td>foreground_acc</td><td>▁</td></tr><tr><td>lr_0</td><td>▁▁▂▃▄▅▆▇███████▇▇▇▇▆▆▆▅▅▅▄▄▄▃▃▃▂▂▂▂▁▁▁▁▁</td></tr><tr><td>lr_1</td><td>▁▁▂▃▄▅▆▇███████▇▇▇▇▆▆▆▅▅▅▄▄▄▃▃▃▂▂▂▂▁▁▁▁▁</td></tr><tr><td>lr_2</td><td>▁▁▂▃▄▅▆▇███████▇▇▇▇▆▆▆▅▅▅▄▄▄▃▃▃▂▂▂▂▁▁▁▁▁</td></tr><tr><td>mom_0</td><td>██▇▆▅▄▃▂▁▁▁▁▁▁▁▂▂▂▂▃▃▃▄▄▄▅▅▅▆▆▆▇▇▇▇█████</td></tr><tr><td>mom_1</td><td>██▇▆▅▄▃▂▁▁▁▁▁▁▁▂▂▂▂▃▃▃▄▄▄▅▅▅▆▆▆▇▇▇▇█████</td></tr><tr><td>mom_2</td><td>██▇▆▅▄▃▂▁▁▁▁▁▁▁▂▂▂▂▃▃▃▄▄▄▅▅▅▆▆▆▇▇▇▇█████</td></tr><tr><td>raw_loss</td><td>█▆▅▅▂▅▄▂▆▃▄▁▅▅▃▄▄▃▃▃▆▃▃▅▂▃▅▃▃▂▂▂▃▂▃▃▄▁▃▂</td></tr><tr><td>sqr_mom_0</td><td>▁▁▁▁▁▁▁▁▁▁▁▁▁▁▁▁▁▁▁▁▁▁▁▁▁▁▁▁▁▁▁▁▁▁▁▁▁▁▁▁</td></tr><tr><td>sqr_mom_1</td><td>▁▁▁▁▁▁▁▁▁▁▁▁▁▁▁▁▁▁▁▁▁▁▁▁▁▁▁▁▁▁▁▁▁▁▁▁▁▁▁▁</td></tr><tr><td>sqr_mom_2</td><td>▁▁▁▁▁▁▁▁▁▁▁▁▁▁▁▁▁▁▁▁▁▁▁▁▁▁▁▁▁▁▁▁▁▁▁▁▁▁▁▁</td></tr><tr><td>train_loss</td><td>█▇▅▅▄▄▃▃▃▃▃▃▂▃▃▃▃▂▂▂▂▂▂▂▂▂▁▁▁▁▁▁▁▁▁▁▁▁▁▁</td></tr><tr><td>train_samples_per_sec</td><td>█▅▄▄▆▆▄▂▃▄▆▅▅▄▄▆▄▄▆▅▁▄▄█▄▅▃▆▅▅▆▄▅▄▆▅▃▄▃▃</td></tr><tr><td>valid_loss</td><td>▁</td></tr><tr><td>wd_0</td><td>▁▁▁▁▁▁▁▁▁▁▁▁▁▁▁▁▁▁▁▁▁▁▁▁▁▁▁▁▁▁▁▁▁▁▁▁▁▁▁▁</td></tr><tr><td>wd_1</td><td>▁▁▁▁▁▁▁▁▁▁▁▁▁▁▁▁▁▁▁▁▁▁▁▁▁▁▁▁▁▁▁▁▁▁▁▁▁▁▁▁</td></tr><tr><td>wd_2</td><td>▁▁▁▁▁▁▁▁▁▁▁▁▁▁▁▁▁▁▁▁▁▁▁▁▁▁▁▁▁▁▁▁▁▁▁▁▁▁▁▁</td></tr></table><br/></div><div class=\"wandb-col\"><h3>Run summary:</h3><br/><table class=\"wandb\"><tr><td>dice_multi</td><td>0.19214</td></tr><tr><td>epoch</td><td>1</td></tr><tr><td>eps_0</td><td>1e-05</td></tr><tr><td>eps_1</td><td>1e-05</td></tr><tr><td>eps_2</td><td>1e-05</td></tr><tr><td>foreground_acc</td><td>0.62021</td></tr><tr><td>lr_0</td><td>0.0</td></tr><tr><td>lr_1</td><td>0.0</td></tr><tr><td>lr_2</td><td>0.0</td></tr><tr><td>mom_0</td><td>0.95</td></tr><tr><td>mom_1</td><td>0.95</td></tr><tr><td>mom_2</td><td>0.95</td></tr><tr><td>raw_loss</td><td>0.87002</td></tr><tr><td>sqr_mom_0</td><td>0.99</td></tr><tr><td>sqr_mom_1</td><td>0.99</td></tr><tr><td>sqr_mom_2</td><td>0.99</td></tr><tr><td>train_loss</td><td>1.1441</td></tr><tr><td>train_samples_per_sec</td><td>13.5574</td></tr><tr><td>valid_loss</td><td>1.06972</td></tr><tr><td>wd_0</td><td>0.01</td></tr><tr><td>wd_1</td><td>0.01</td></tr><tr><td>wd_2</td><td>0.01</td></tr></table><br/></div></div>"
      ],
      "text/plain": [
       "<IPython.core.display.HTML object>"
      ]
     },
     "metadata": {},
     "output_type": "display_data"
    },
    {
     "data": {
      "text/html": [
       "Synced <strong style=\"color:#cdcd00\">restful-disco-55</strong>: <a href=\"https://wandb.ai/capecape/bdd100k/runs/2dvdnwcy\" target=\"_blank\">https://wandb.ai/capecape/bdd100k/runs/2dvdnwcy</a><br/>Synced 6 W&B file(s), 1 media file(s), 302 artifact file(s) and 0 other file(s)"
      ],
      "text/plain": [
       "<IPython.core.display.HTML object>"
      ]
     },
     "metadata": {},
     "output_type": "display_data"
    },
    {
     "data": {
      "text/html": [
       "Find logs at: <code>./wandb/run-20221104_142510-2dvdnwcy/logs</code>"
      ],
      "text/plain": [
       "<IPython.core.display.HTML object>"
      ]
     },
     "metadata": {},
     "output_type": "display_data"
    }
   ],
   "source": [
    "train(default_config)"
   ]
  },
  {
   "cell_type": "code",
   "execution_count": null,
   "id": "a90d67e2-871d-4f17-867c-309d4c0207ba",
   "metadata": {},
   "outputs": [],
   "source": []
  }
 ],
 "metadata": {
  "kernelspec": {
   "display_name": "Python 3 (ipykernel)",
   "language": "python",
   "name": "python3"
  }
 },
 "nbformat": 4,
 "nbformat_minor": 5
}
