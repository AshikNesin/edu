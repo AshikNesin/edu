{
 "cells": [
  {
   "cell_type": "code",
   "execution_count": 1,
   "id": "c07c4313-a116-4400-9af1-2617fde0da3b",
   "metadata": {},
   "outputs": [],
   "source": [
    "import params\n",
    "from train import *"
   ]
  },
  {
   "cell_type": "code",
   "execution_count": 2,
   "id": "9b42caba-072b-4475-a665-7286af1d969f",
   "metadata": {},
   "outputs": [],
   "source": [
    "config = default_config"
   ]
  },
  {
   "cell_type": "code",
   "execution_count": 3,
   "id": "cdcaf779-a7c6-4418-aa36-8c7d2e57c65d",
   "metadata": {},
   "outputs": [],
   "source": [
    "config.batch_size=8\n",
    "config.img_size=240\n",
    "config.log_preds=False\n",
    "config.lr=0.0007973010330496756"
   ]
  },
  {
   "cell_type": "code",
   "execution_count": 4,
   "id": "1687224d-7732-464a-b9e2-371b0fdfda82",
   "metadata": {},
   "outputs": [
    {
     "name": "stderr",
     "output_type": "stream",
     "text": [
      "Failed to detect the name of this notebook, you can set it manually with the WANDB_NOTEBOOK_NAME environment variable to enable code saving.\n",
      "\u001b[34m\u001b[1mwandb\u001b[0m: Currently logged in as: \u001b[33mcapecape\u001b[0m. Use \u001b[1m`wandb login --relogin`\u001b[0m to force relogin\n"
     ]
    },
    {
     "data": {
      "text/html": [
       "Tracking run with wandb version 0.13.5"
      ],
      "text/plain": [
       "<IPython.core.display.HTML object>"
      ]
     },
     "metadata": {},
     "output_type": "display_data"
    },
    {
     "data": {
      "text/html": [
       "Run data is saved locally in <code>/home/tcapelle/wandb/edu/mlops-001/lesson2/wandb/run-20221123_143715-2it5hr19</code>"
      ],
      "text/plain": [
       "<IPython.core.display.HTML object>"
      ]
     },
     "metadata": {},
     "output_type": "display_data"
    },
    {
     "data": {
      "text/html": [
       "Syncing run <strong><a href=\"https://wandb.ai/capecape/course_debug/runs/2it5hr19\" target=\"_blank\">valiant-silence-3</a></strong> to <a href=\"https://wandb.ai/capecape/course_debug\" target=\"_blank\">Weights & Biases</a> (<a href=\"https://wandb.me/run\" target=\"_blank\">docs</a>)<br/>"
      ],
      "text/plain": [
       "<IPython.core.display.HTML object>"
      ]
     },
     "metadata": {},
     "output_type": "display_data"
    },
    {
     "name": "stderr",
     "output_type": "stream",
     "text": [
      "\u001b[34m\u001b[1mwandb\u001b[0m: Downloading large artifact bdd_simple_1k_split:latest, 813.24MB. 4010 files... \n",
      "\u001b[34m\u001b[1mwandb\u001b[0m:   4010 of 4010 files downloaded.  \n",
      "Done. 0:0:0.6\n"
     ]
    },
    {
     "data": {
      "text/html": [
       "\n",
       "<style>\n",
       "    /* Turns off some styling */\n",
       "    progress {\n",
       "        /* gets rid of default border in Firefox and Opera. */\n",
       "        border: none;\n",
       "        /* Needs to be in here for Safari polyfill so background images work as expected. */\n",
       "        background-size: auto;\n",
       "    }\n",
       "    progress:not([value]), progress:not([value])::-webkit-progress-bar {\n",
       "        background: repeating-linear-gradient(45deg, #7e7e7e, #7e7e7e 10px, #5c5c5c 10px, #5c5c5c 20px);\n",
       "    }\n",
       "    .progress-bar-interrupted, .progress-bar-interrupted::-webkit-progress-bar {\n",
       "        background: #F44336;\n",
       "    }\n",
       "</style>\n"
      ],
      "text/plain": [
       "<IPython.core.display.HTML object>"
      ]
     },
     "metadata": {},
     "output_type": "display_data"
    },
    {
     "data": {
      "text/html": [
       "<table border=\"1\" class=\"dataframe\">\n",
       "  <thead>\n",
       "    <tr style=\"text-align: left;\">\n",
       "      <th>epoch</th>\n",
       "      <th>train_loss</th>\n",
       "      <th>valid_loss</th>\n",
       "      <th>miou</th>\n",
       "      <th>background_iou</th>\n",
       "      <th>road_iou</th>\n",
       "      <th>traffic_light_iou</th>\n",
       "      <th>traffic_sign_iou</th>\n",
       "      <th>person_iou</th>\n",
       "      <th>vehicle_iou</th>\n",
       "      <th>bicycle_iou</th>\n",
       "      <th>time</th>\n",
       "    </tr>\n",
       "  </thead>\n",
       "  <tbody>\n",
       "    <tr>\n",
       "      <td>0</td>\n",
       "      <td>0.515155</td>\n",
       "      <td>0.418262</td>\n",
       "      <td>0.296839</td>\n",
       "      <td>0.818853</td>\n",
       "      <td>0.662946</td>\n",
       "      <td>0.000000</td>\n",
       "      <td>0.000000</td>\n",
       "      <td>0.000000</td>\n",
       "      <td>0.596073</td>\n",
       "      <td>0.000000</td>\n",
       "      <td>00:19</td>\n",
       "    </tr>\n",
       "    <tr>\n",
       "      <td>1</td>\n",
       "      <td>0.386973</td>\n",
       "      <td>0.343248</td>\n",
       "      <td>0.335863</td>\n",
       "      <td>0.888760</td>\n",
       "      <td>0.787141</td>\n",
       "      <td>0.000000</td>\n",
       "      <td>0.000000</td>\n",
       "      <td>0.000000</td>\n",
       "      <td>0.675138</td>\n",
       "      <td>0.000000</td>\n",
       "      <td>00:15</td>\n",
       "    </tr>\n",
       "    <tr>\n",
       "      <td>2</td>\n",
       "      <td>0.314943</td>\n",
       "      <td>0.268625</td>\n",
       "      <td>0.344038</td>\n",
       "      <td>0.898275</td>\n",
       "      <td>0.800011</td>\n",
       "      <td>0.000000</td>\n",
       "      <td>0.000000</td>\n",
       "      <td>0.000000</td>\n",
       "      <td>0.709979</td>\n",
       "      <td>0.000000</td>\n",
       "      <td>00:14</td>\n",
       "    </tr>\n",
       "    <tr>\n",
       "      <td>3</td>\n",
       "      <td>0.277079</td>\n",
       "      <td>0.244932</td>\n",
       "      <td>0.350016</td>\n",
       "      <td>0.903860</td>\n",
       "      <td>0.806253</td>\n",
       "      <td>0.000000</td>\n",
       "      <td>0.000000</td>\n",
       "      <td>0.000000</td>\n",
       "      <td>0.739999</td>\n",
       "      <td>0.000000</td>\n",
       "      <td>00:14</td>\n",
       "    </tr>\n",
       "    <tr>\n",
       "      <td>4</td>\n",
       "      <td>0.271980</td>\n",
       "      <td>0.251401</td>\n",
       "      <td>0.358115</td>\n",
       "      <td>0.913878</td>\n",
       "      <td>0.834959</td>\n",
       "      <td>0.020116</td>\n",
       "      <td>0.000000</td>\n",
       "      <td>0.000000</td>\n",
       "      <td>0.737854</td>\n",
       "      <td>0.000000</td>\n",
       "      <td>00:14</td>\n",
       "    </tr>\n",
       "    <tr>\n",
       "      <td>5</td>\n",
       "      <td>0.237291</td>\n",
       "      <td>0.233968</td>\n",
       "      <td>0.373437</td>\n",
       "      <td>0.916962</td>\n",
       "      <td>0.824694</td>\n",
       "      <td>0.124572</td>\n",
       "      <td>0.000000</td>\n",
       "      <td>0.000000</td>\n",
       "      <td>0.747830</td>\n",
       "      <td>0.000000</td>\n",
       "      <td>00:14</td>\n",
       "    </tr>\n",
       "    <tr>\n",
       "      <td>6</td>\n",
       "      <td>0.209146</td>\n",
       "      <td>0.203995</td>\n",
       "      <td>0.384149</td>\n",
       "      <td>0.925775</td>\n",
       "      <td>0.860155</td>\n",
       "      <td>0.132936</td>\n",
       "      <td>0.000000</td>\n",
       "      <td>0.000000</td>\n",
       "      <td>0.770178</td>\n",
       "      <td>0.000000</td>\n",
       "      <td>00:15</td>\n",
       "    </tr>\n",
       "    <tr>\n",
       "      <td>7</td>\n",
       "      <td>0.183490</td>\n",
       "      <td>0.203358</td>\n",
       "      <td>0.380567</td>\n",
       "      <td>0.929143</td>\n",
       "      <td>0.865715</td>\n",
       "      <td>0.087085</td>\n",
       "      <td>0.000151</td>\n",
       "      <td>0.000000</td>\n",
       "      <td>0.781873</td>\n",
       "      <td>0.000000</td>\n",
       "      <td>00:14</td>\n",
       "    </tr>\n",
       "    <tr>\n",
       "      <td>8</td>\n",
       "      <td>0.173932</td>\n",
       "      <td>0.202937</td>\n",
       "      <td>0.386216</td>\n",
       "      <td>0.929320</td>\n",
       "      <td>0.865572</td>\n",
       "      <td>0.123021</td>\n",
       "      <td>0.000604</td>\n",
       "      <td>0.000000</td>\n",
       "      <td>0.784993</td>\n",
       "      <td>0.000000</td>\n",
       "      <td>00:15</td>\n",
       "    </tr>\n",
       "    <tr>\n",
       "      <td>9</td>\n",
       "      <td>0.162763</td>\n",
       "      <td>0.201506</td>\n",
       "      <td>0.391280</td>\n",
       "      <td>0.929316</td>\n",
       "      <td>0.866574</td>\n",
       "      <td>0.157592</td>\n",
       "      <td>0.001356</td>\n",
       "      <td>0.000000</td>\n",
       "      <td>0.784120</td>\n",
       "      <td>0.000000</td>\n",
       "      <td>00:14</td>\n",
       "    </tr>\n",
       "  </tbody>\n",
       "</table>"
      ],
      "text/plain": [
       "<IPython.core.display.HTML object>"
      ]
     },
     "metadata": {},
     "output_type": "display_data"
    },
    {
     "name": "stdout",
     "output_type": "stream",
     "text": [
      "Better model found at epoch 0 with miou value: 0.2968387334206581.\n",
      "Better model found at epoch 1 with miou value: 0.3358627074584826.\n",
      "Better model found at epoch 2 with miou value: 0.34403774217582866.\n",
      "Better model found at epoch 3 with miou value: 0.35001605669994973.\n",
      "Better model found at epoch 4 with miou value: 0.35811536459532656.\n",
      "Better model found at epoch 5 with miou value: 0.3734368071193299.\n",
      "Better model found at epoch 6 with miou value: 0.38414912063548395.\n",
      "Better model found at epoch 8 with miou value: 0.38621555895827936.\n",
      "Better model found at epoch 9 with miou value: 0.3912798539746145.\n"
     ]
    }
   ],
   "source": [
    "set_seed(config.seed)\n",
    "run = wandb.init(project=\"course_debug\", entity=None, job_type=\"training\", config=config)\n",
    "\n",
    "# good practice to inject params using sweeps\n",
    "config = wandb.config\n",
    "\n",
    "# prepare data\n",
    "processed_dataset_dir = download_data()\n",
    "proc_df = get_df(processed_dataset_dir)\n",
    "dls = get_data(proc_df, bs=config.batch_size, img_size=config.img_size, augment=config.augment)\n",
    "\n",
    "metrics = [MIOU(), BackgroundIOU(), RoadIOU(), TrafficLightIOU(),\n",
    "           TrafficSignIOU(), PersonIOU(), VehicleIOU(), BicycleIOU()]\n",
    "\n",
    "cbs = [WandbCallback(log_preds=False, log_model=True), \n",
    "       SaveModelCallback(monitor='miou'),] + ([MixedPrecision()] if config.mixed_precision else [])\n",
    "\n",
    "learn = unet_learner(dls, arch=getattr(tvmodels, config.arch), pretrained=config.pretrained, \n",
    "                     metrics=metrics)\n",
    "\n",
    "learn.fit_one_cycle(config.epochs, config.lr, cbs=cbs)"
   ]
  },
  {
   "cell_type": "code",
   "execution_count": 5,
   "id": "3620ae2f-8334-4cde-a4a5-7b99b9d38545",
   "metadata": {},
   "outputs": [
    {
     "data": {
      "text/html": [
       "\n",
       "<style>\n",
       "    /* Turns off some styling */\n",
       "    progress {\n",
       "        /* gets rid of default border in Firefox and Opera. */\n",
       "        border: none;\n",
       "        /* Needs to be in here for Safari polyfill so background images work as expected. */\n",
       "        background-size: auto;\n",
       "    }\n",
       "    progress:not([value]), progress:not([value])::-webkit-progress-bar {\n",
       "        background: repeating-linear-gradient(45deg, #7e7e7e, #7e7e7e 10px, #5c5c5c 10px, #5c5c5c 20px);\n",
       "    }\n",
       "    .progress-bar-interrupted, .progress-bar-interrupted::-webkit-progress-bar {\n",
       "        background: #F44336;\n",
       "    }\n",
       "</style>\n"
      ],
      "text/plain": [
       "<IPython.core.display.HTML object>"
      ]
     },
     "metadata": {},
     "output_type": "display_data"
    },
    {
     "data": {
      "text/html": [],
      "text/plain": [
       "<IPython.core.display.HTML object>"
      ]
     },
     "metadata": {},
     "output_type": "display_data"
    }
   ],
   "source": [
    "scores = learn.validate()"
   ]
  },
  {
   "cell_type": "code",
   "execution_count": 6,
   "id": "4373b990-f81e-46ae-9914-933efe104c47",
   "metadata": {},
   "outputs": [
    {
     "data": {
      "text/plain": [
       "(#9) [0.20155881345272064,0.39130715261627863,0.9292930238040242,0.866520402172688,0.15786954738137562,0.0013940170296134428,0.0,0.7840730779262495,0.0]"
      ]
     },
     "execution_count": 6,
     "metadata": {},
     "output_type": "execute_result"
    }
   ],
   "source": [
    "scores"
   ]
  },
  {
   "cell_type": "code",
   "execution_count": 9,
   "id": "fea9790c-db9b-42e1-a611-170c75757722",
   "metadata": {},
   "outputs": [
    {
     "data": {
      "text/plain": [
       "['miou',\n",
       " 'background_iou',\n",
       " 'road_iou',\n",
       " 'traffic_light_iou',\n",
       " 'traffic_sign_iou',\n",
       " 'person_iou',\n",
       " 'vehicle_iou',\n",
       " 'bicycle_iou']"
      ]
     },
     "execution_count": 9,
     "metadata": {},
     "output_type": "execute_result"
    }
   ],
   "source": [
    "m = [m.name for m in learn.metrics]\n",
    "m"
   ]
  },
  {
   "cell_type": "code",
   "execution_count": null,
   "id": "1287824c-79a7-4723-8d6f-a643722fdcbf",
   "metadata": {},
   "outputs": [],
   "source": [
    "final_metrics(learn)"
   ]
  },
  {
   "cell_type": "code",
   "execution_count": null,
   "id": "6cc14338-bf33-48e3-9e38-2ec62ed95e8a",
   "metadata": {},
   "outputs": [],
   "source": []
  }
 ],
 "metadata": {
  "kernelspec": {
   "display_name": "Python 3 (ipykernel)",
   "language": "python",
   "name": "python3"
  },
  "language_info": {
   "codemirror_mode": {
    "name": "ipython",
    "version": 3
   },
   "file_extension": ".py",
   "mimetype": "text/x-python",
   "name": "python",
   "nbconvert_exporter": "python",
   "pygments_lexer": "ipython3",
   "version": "3.8.13"
  }
 },
 "nbformat": 4,
 "nbformat_minor": 5
}
