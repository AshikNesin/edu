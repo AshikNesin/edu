{
 "cells": [
  {
   "cell_type": "code",
   "execution_count": 6,
   "id": "5122ae9e-6cca-48f3-b282-5034a4fd563d",
   "metadata": {},
   "outputs": [],
   "source": [
    "from fastai.vision.all import *\n",
    "from config import WANDB_PROJECT, ENTITY\n",
    "\n",
    "import wandb"
   ]
  },
  {
   "cell_type": "code",
   "execution_count": 8,
   "id": "a787579f-e82a-4bb2-8d74-e7d7be57c8af",
   "metadata": {},
   "outputs": [],
   "source": [
    "path = Path('/home/darek/.fastai/data/bdd_sample_1k/')"
   ]
  },
  {
   "cell_type": "code",
   "execution_count": 9,
   "id": "eba8c6e9-f052-4ebe-901b-49e0b461315c",
   "metadata": {},
   "outputs": [
    {
     "data": {
      "text/plain": [
       "(#3) [Path('/home/darek/.fastai/data/bdd_sample_1k/labels'),Path('/home/darek/.fastai/data/bdd_sample_1k/LICENSE.txt'),Path('/home/darek/.fastai/data/bdd_sample_1k/images')]"
      ]
     },
     "execution_count": 9,
     "metadata": {},
     "output_type": "execute_result"
    }
   ],
   "source": [
    "path.ls()"
   ]
  },
  {
   "cell_type": "code",
   "execution_count": 10,
   "id": "e8e67e44-4b80-4ad7-8f15-0cef1da0c65c",
   "metadata": {},
   "outputs": [
    {
     "name": "stderr",
     "output_type": "stream",
     "text": [
      "\u001b[34m\u001b[1mwandb\u001b[0m: Currently logged in as: \u001b[33mdarek\u001b[0m. Use \u001b[1m`wandb login --relogin`\u001b[0m to force relogin\n"
     ]
    },
    {
     "data": {
      "text/html": [
       "Tracking run with wandb version 0.13.4"
      ],
      "text/plain": [
       "<IPython.core.display.HTML object>"
      ]
     },
     "metadata": {},
     "output_type": "display_data"
    },
    {
     "data": {
      "text/html": [
       "Run data is saved locally in <code>/home/darek/projects/course/wandb/run-20221025_084740-12103edj</code>"
      ],
      "text/plain": [
       "<IPython.core.display.HTML object>"
      ]
     },
     "metadata": {},
     "output_type": "display_data"
    },
    {
     "data": {
      "text/html": [
       "Syncing run <strong><a href=\"https://wandb.ai/darek/BDD100k/runs/12103edj\" target=\"_blank\">blooming-microwave-12</a></strong> to <a href=\"https://wandb.ai/darek/BDD100k\" target=\"_blank\">Weights & Biases</a> (<a href=\"https://wandb.me/run\" target=\"_blank\">docs</a>)<br/>"
      ],
      "text/plain": [
       "<IPython.core.display.HTML object>"
      ]
     },
     "metadata": {},
     "output_type": "display_data"
    }
   ],
   "source": [
    "run = wandb.init(project=WANDB_PROJECT, entity=ENTITY, job_type=\"upload\")\n",
    "raw_data_at = wandb.Artifact('bdd_sample_1k', type=\"raw_data\")"
   ]
  },
  {
   "cell_type": "code",
   "execution_count": 11,
   "id": "2dcbbe28-9074-44f5-b1c0-763e74575da1",
   "metadata": {},
   "outputs": [
    {
     "data": {
      "text/plain": [
       "<ManifestEntry digest: X+6ZFkDOlnKesJCNt20yRg==>"
      ]
     },
     "execution_count": 11,
     "metadata": {},
     "output_type": "execute_result"
    }
   ],
   "source": [
    "raw_data_at.add_file(path/'LICENSE.txt', name='LICENSE.txt')"
   ]
  },
  {
   "cell_type": "code",
   "execution_count": 12,
   "id": "23e69db0-ee97-4b80-90bc-1854fbc3986e",
   "metadata": {},
   "outputs": [
    {
     "name": "stderr",
     "output_type": "stream",
     "text": [
      "\u001b[34m\u001b[1mwandb\u001b[0m: Adding directory to artifact (/home/darek/.fastai/data/bdd_sample_1k/images)... Done. 1.1s\n"
     ]
    }
   ],
   "source": [
    "raw_data_at.add_dir(path/'images', name='images')"
   ]
  },
  {
   "cell_type": "code",
   "execution_count": 13,
   "id": "bf6ef470-369e-424c-ae82-fd76932615c0",
   "metadata": {},
   "outputs": [
    {
     "name": "stderr",
     "output_type": "stream",
     "text": [
      "\u001b[34m\u001b[1mwandb\u001b[0m: Adding directory to artifact (/home/darek/.fastai/data/bdd_sample_1k/labels)... Done. 0.1s\n"
     ]
    }
   ],
   "source": [
    "raw_data_at.add_dir(path/'labels', name='labels')"
   ]
  },
  {
   "cell_type": "code",
   "execution_count": 14,
   "id": "d6ca5cb6-85f3-4c53-8c40-7c210d0423f8",
   "metadata": {},
   "outputs": [
    {
     "data": {
      "text/html": [
       "Waiting for W&B process to finish... <strong style=\"color:green\">(success).</strong>"
      ],
      "text/plain": [
       "<IPython.core.display.HTML object>"
      ]
     },
     "metadata": {},
     "output_type": "display_data"
    },
    {
     "data": {
      "text/html": [
       "Synced <strong style=\"color:#cdcd00\">blooming-microwave-12</strong>: <a href=\"https://wandb.ai/darek/BDD100k/runs/12103edj\" target=\"_blank\">https://wandb.ai/darek/BDD100k/runs/12103edj</a><br/>Synced 6 W&B file(s), 0 media file(s), 2001 artifact file(s) and 1 other file(s)"
      ],
      "text/plain": [
       "<IPython.core.display.HTML object>"
      ]
     },
     "metadata": {},
     "output_type": "display_data"
    },
    {
     "data": {
      "text/html": [
       "Find logs at: <code>./wandb/run-20221025_084740-12103edj/logs</code>"
      ],
      "text/plain": [
       "<IPython.core.display.HTML object>"
      ]
     },
     "metadata": {},
     "output_type": "display_data"
    }
   ],
   "source": [
    "run.log_artifact(raw_data_at)\n",
    "run.finish()"
   ]
  },
  {
   "cell_type": "code",
   "execution_count": null,
   "id": "4dce0039-93cb-4dc9-9972-f5070c963fcb",
   "metadata": {},
   "outputs": [],
   "source": []
  },
  {
   "cell_type": "code",
   "execution_count": null,
   "id": "7a24ef68-f137-4b44-81be-cf55f54c9e1a",
   "metadata": {},
   "outputs": [],
   "source": []
  },
  {
   "cell_type": "code",
   "execution_count": null,
   "id": "73a81b57-709c-4709-92b3-151adfd19f67",
   "metadata": {},
   "outputs": [],
   "source": []
  },
  {
   "cell_type": "code",
   "execution_count": null,
   "id": "770286d6-7024-4f5f-b85a-06baa35c7997",
   "metadata": {},
   "outputs": [],
   "source": []
  },
  {
   "cell_type": "code",
   "execution_count": null,
   "id": "c578ebd7-f2f4-4d62-b59c-bbae0095bc5d",
   "metadata": {},
   "outputs": [],
   "source": []
  },
  {
   "cell_type": "code",
   "execution_count": null,
   "id": "51f40e1d-e468-4225-9093-897b5f809a93",
   "metadata": {},
   "outputs": [],
   "source": []
  }
 ],
 "metadata": {
  "kernelspec": {
   "display_name": "Python 3 (ipykernel)",
   "language": "python",
   "name": "python3"
  },
  "language_info": {
   "codemirror_mode": {
    "name": "ipython",
    "version": 3
   },
   "file_extension": ".py",
   "mimetype": "text/x-python",
   "name": "python",
   "nbconvert_exporter": "python",
   "pygments_lexer": "ipython3",
   "version": "3.10.6"
  }
 },
 "nbformat": 4,
 "nbformat_minor": 5
}
