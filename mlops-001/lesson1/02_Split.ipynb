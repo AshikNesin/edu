{
 "cells": [
  {
   "cell_type": "code",
   "execution_count": 1,
   "id": "c8018ee4-8f0f-4e1d-a39d-d005bc9b4591",
   "metadata": {},
   "outputs": [],
   "source": [
    "import os\n",
    "from fastai.vision.all import *\n",
    "import pandas as pd\n",
    "from sklearn.model_selection import StratifiedGroupKFold\n",
    "import wandb\n",
    "import warnings\n",
    "from config import WANDB_PROJECT, ENTITY, RAW_DATA_AT\n",
    "warnings.filterwarnings('ignore')"
   ]
  },
  {
   "cell_type": "code",
   "execution_count": 2,
   "id": "423709e6-1f8c-4b90-8a7b-6ed6c05492ca",
   "metadata": {},
   "outputs": [
    {
     "name": "stderr",
     "output_type": "stream",
     "text": [
      "\u001b[34m\u001b[1mwandb\u001b[0m: Currently logged in as: \u001b[33mdarek\u001b[0m. Use \u001b[1m`wandb login --relogin`\u001b[0m to force relogin\n"
     ]
    },
    {
     "data": {
      "text/html": [
       "Tracking run with wandb version 0.13.4"
      ],
      "text/plain": [
       "<IPython.core.display.HTML object>"
      ]
     },
     "metadata": {},
     "output_type": "display_data"
    },
    {
     "data": {
      "text/html": [
       "Run data is saved locally in <code>/home/darek/projects/edu/mlops-001/lesson1/wandb/run-20221025_121737-2bdmho63</code>"
      ],
      "text/plain": [
       "<IPython.core.display.HTML object>"
      ]
     },
     "metadata": {},
     "output_type": "display_data"
    },
    {
     "data": {
      "text/html": [
       "Syncing run <strong><a href=\"https://wandb.ai/darek/BDD100k/runs/2bdmho63\" target=\"_blank\">twilight-sea-20</a></strong> to <a href=\"https://wandb.ai/darek/BDD100k\" target=\"_blank\">Weights & Biases</a> (<a href=\"https://wandb.me/run\" target=\"_blank\">docs</a>)<br/>"
      ],
      "text/plain": [
       "<IPython.core.display.HTML object>"
      ]
     },
     "metadata": {},
     "output_type": "display_data"
    }
   ],
   "source": [
    "run = wandb.init(project=WANDB_PROJECT, entity=ENTITY, job_type=\"data_split\")"
   ]
  },
  {
   "cell_type": "code",
   "execution_count": 3,
   "id": "7841e7a1-188e-4021-9c2b-b662b7a13a08",
   "metadata": {},
   "outputs": [
    {
     "name": "stderr",
     "output_type": "stream",
     "text": [
      "\u001b[34m\u001b[1mwandb\u001b[0m: Downloading large artifact bdd_sample_1k:latest, 856.80MB. 4003 files... \n",
      "\u001b[34m\u001b[1mwandb\u001b[0m:   4003 of 4003 files downloaded.  \n",
      "Done. 0:0:1.0\n"
     ]
    }
   ],
   "source": [
    "raw_data_at = run.use_artifact(f'{RAW_DATA_AT}:latest')\n",
    "path = Path(raw_data_at.download())"
   ]
  },
  {
   "cell_type": "code",
   "execution_count": 4,
   "id": "160fcb5d-3a3b-40a6-b131-60b33ea3b530",
   "metadata": {},
   "outputs": [
    {
     "data": {
      "text/plain": [
       "(#5) [Path('artifacts/bdd_sample_1k:v1/media'),Path('artifacts/bdd_sample_1k:v1/eda_table.table.json'),Path('artifacts/bdd_sample_1k:v1/labels'),Path('artifacts/bdd_sample_1k:v1/LICENSE.txt'),Path('artifacts/bdd_sample_1k:v1/images')]"
      ]
     },
     "execution_count": 4,
     "metadata": {},
     "output_type": "execute_result"
    }
   ],
   "source": [
    "path.ls()"
   ]
  },
  {
   "cell_type": "code",
   "execution_count": 5,
   "id": "156ac385-610f-43c8-ab3a-8ab91a1cbc06",
   "metadata": {},
   "outputs": [],
   "source": [
    "fnames = os.listdir(path/'images')\n",
    "groups = [s.split('-')[0] for s in fnames]"
   ]
  },
  {
   "cell_type": "code",
   "execution_count": 6,
   "id": "42d93918-c51e-4501-9b2a-9ea87ae1184a",
   "metadata": {},
   "outputs": [
    {
     "name": "stderr",
     "output_type": "stream",
     "text": [
      "\u001b[34m\u001b[1mwandb\u001b[0m: Downloading large artifact bdd_sample_1k:latest, 856.80MB. 4003 files... \n",
      "\u001b[34m\u001b[1mwandb\u001b[0m:   4003 of 4003 files downloaded.  \n",
      "Done. 0:0:0.3\n"
     ]
    }
   ],
   "source": [
    "orig_eda_table = raw_data_at.get(\"eda_table\")"
   ]
  },
  {
   "cell_type": "code",
   "execution_count": 7,
   "id": "6a31eef6-725a-4eaa-9bb4-bec9aeaf4414",
   "metadata": {},
   "outputs": [],
   "source": [
    "y = orig_eda_table.get_column('train')"
   ]
  },
  {
   "cell_type": "code",
   "execution_count": 8,
   "id": "1af79361-0aea-4ecd-bfaf-3bc034286cf5",
   "metadata": {},
   "outputs": [],
   "source": [
    "df = pd.DataFrame()\n",
    "df['File_Name'] = fnames\n",
    "df['fold'] = -1"
   ]
  },
  {
   "cell_type": "code",
   "execution_count": 9,
   "id": "f09ceb74-d7dc-4a3b-9bca-7a30f3a1de23",
   "metadata": {},
   "outputs": [],
   "source": [
    "cv = StratifiedGroupKFold(n_splits=10)\n",
    "for i, (train_idxs, test_idxs) in enumerate(cv.split(fnames, y, groups)):\n",
    "    df.loc[test_idxs, ['fold']] = i"
   ]
  },
  {
   "cell_type": "code",
   "execution_count": 10,
   "id": "ced2899d-dc7e-4769-92e5-f0eaf585a4cf",
   "metadata": {},
   "outputs": [
    {
     "data": {
      "text/plain": [
       "train    800\n",
       "valid    100\n",
       "test     100\n",
       "Name: Stage, dtype: int64"
      ]
     },
     "execution_count": 10,
     "metadata": {},
     "output_type": "execute_result"
    }
   ],
   "source": [
    "df['Stage'] = 'train'\n",
    "df.loc[df.fold == 0, ['Stage']] = 'test'\n",
    "df.loc[df.fold == 1, ['Stage']] = 'valid'\n",
    "del df['fold']\n",
    "df.Stage.value_counts()"
   ]
  },
  {
   "cell_type": "code",
   "execution_count": 11,
   "id": "3b322c8d-dab6-4f21-8b0b-22fac2de3aae",
   "metadata": {},
   "outputs": [],
   "source": [
    "df.to_csv('data_split.csv', index=False)"
   ]
  },
  {
   "cell_type": "code",
   "execution_count": 12,
   "id": "7369b2a4-6c0b-44fb-8850-c8bfebd105ef",
   "metadata": {},
   "outputs": [],
   "source": [
    "processed_data_at = wandb.Artifact(\"bdd_sample_1k_split\", type=\"split_data\")"
   ]
  },
  {
   "cell_type": "code",
   "execution_count": 13,
   "id": "b264b216-ef03-4417-88df-6fc27865c1f5",
   "metadata": {},
   "outputs": [
    {
     "name": "stderr",
     "output_type": "stream",
     "text": [
      "\u001b[34m\u001b[1mwandb\u001b[0m: Adding directory to artifact (./artifacts/bdd_sample_1k:v1)... Done. 0.6s\n"
     ]
    }
   ],
   "source": [
    "processed_data_at.add_file('data_split.csv')\n",
    "processed_data_at.add_dir(path)"
   ]
  },
  {
   "cell_type": "code",
   "execution_count": 14,
   "id": "818a359a-6b54-4f65-b5d9-732bbe5eb91a",
   "metadata": {},
   "outputs": [],
   "source": [
    "data_split_table = wandb.Table(dataframe=df[['File_Name', 'Stage']])"
   ]
  },
  {
   "cell_type": "code",
   "execution_count": 15,
   "id": "eedc9255-2ee3-4015-bdd3-a8449a120895",
   "metadata": {},
   "outputs": [],
   "source": [
    "join_table = wandb.JoinedTable(orig_eda_table, data_split_table, \"File_Name\")"
   ]
  },
  {
   "cell_type": "code",
   "execution_count": 16,
   "id": "42157919-05b2-4e28-8dc4-350160c0ae53",
   "metadata": {},
   "outputs": [
    {
     "data": {
      "text/plain": [
       "<ManifestEntry digest: Vt6JPzWbyCwbq+h1eHGn7Q==>"
      ]
     },
     "execution_count": 16,
     "metadata": {},
     "output_type": "execute_result"
    }
   ],
   "source": [
    "processed_data_at.add(join_table, \"eda_table_data_split\")"
   ]
  },
  {
   "cell_type": "code",
   "execution_count": 17,
   "id": "1a6745c3-1ab6-4ebf-8f89-07d6da09fe65",
   "metadata": {},
   "outputs": [
    {
     "data": {
      "text/html": [
       "Waiting for W&B process to finish... <strong style=\"color:green\">(success).</strong>"
      ],
      "text/plain": [
       "<IPython.core.display.HTML object>"
      ]
     },
     "metadata": {},
     "output_type": "display_data"
    },
    {
     "data": {
      "text/html": [
       "Synced <strong style=\"color:#cdcd00\">twilight-sea-20</strong>: <a href=\"https://wandb.ai/darek/BDD100k/runs/2bdmho63\" target=\"_blank\">https://wandb.ai/darek/BDD100k/runs/2bdmho63</a><br/>Synced 7 W&B file(s), 0 media file(s), 3005 artifact file(s) and 2 other file(s)"
      ],
      "text/plain": [
       "<IPython.core.display.HTML object>"
      ]
     },
     "metadata": {},
     "output_type": "display_data"
    },
    {
     "data": {
      "text/html": [
       "Find logs at: <code>./wandb/run-20221025_121737-2bdmho63/logs</code>"
      ],
      "text/plain": [
       "<IPython.core.display.HTML object>"
      ]
     },
     "metadata": {},
     "output_type": "display_data"
    }
   ],
   "source": [
    "run.log_artifact(processed_data_at)\n",
    "run.finish()"
   ]
  },
  {
   "cell_type": "code",
   "execution_count": null,
   "id": "e9853b1a-7645-4e77-9c40-caa4c0d0d556",
   "metadata": {},
   "outputs": [],
   "source": []
  }
 ],
 "metadata": {
  "kernelspec": {
   "display_name": "Python 3 (ipykernel)",
   "language": "python",
   "name": "python3"
  },
  "language_info": {
   "codemirror_mode": {
    "name": "ipython",
    "version": 3
   },
   "file_extension": ".py",
   "mimetype": "text/x-python",
   "name": "python",
   "nbconvert_exporter": "python",
   "pygments_lexer": "ipython3",
   "version": "3.10.6"
  }
 },
 "nbformat": 4,
 "nbformat_minor": 5
}
