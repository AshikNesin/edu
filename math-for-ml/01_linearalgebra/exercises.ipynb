{
 "cells": [
  {
   "cell_type": "markdown",
   "metadata": {},
   "source": [
    "# Math4ML Part I: Linear Algebra"
   ]
  },
  {
   "cell_type": "markdown",
   "metadata": {
    "colab_type": "text",
    "id": "6nF_N9U9pXRN"
   },
   "source": [
    "# Setup Code"
   ]
  },
  {
   "cell_type": "markdown",
   "metadata": {
    "colab_type": "text",
    "id": "KFEk1hwsvjh-"
   },
   "source": [
    "This section includes setup code for the remaining sections."
   ]
  },
  {
   "cell_type": "code",
   "execution_count": null,
   "metadata": {},
   "outputs": [],
   "source": [
    "!pip install --upgrade --user -qq wandb"
   ]
  },
  {
   "cell_type": "code",
   "execution_count": null,
   "metadata": {
    "colab": {
     "base_uri": "https://localhost:8080/",
     "height": 34
    },
    "colab_type": "code",
    "id": "OGWHqVCZGuGk",
    "outputId": "4b3030f0-dff8-49de-bbb1-c3006a008206"
   },
   "outputs": [],
   "source": [
    "# importing from standard library\n",
    "import random\n",
    "import sys\n",
    "\n",
    "# importing libraries\n",
    "from IPython.display import HTML\n",
    "import matplotlib.animation as animation\n",
    "import matplotlib.pyplot as plt\n",
    "import numpy as np\n",
    "import wandb\n",
    "\n",
    "if 'google.colab' in str(get_ipython()):\n",
    "    !git clone --branch \"math4ml\" \"https://github.com/wandb/edu.git\"\n",
    "    %cd \"math-for-ml/01_linearalgebra\"\n",
    "else:\n",
    "    pass\n",
    "\n",
    "if \"../\" not in sys.path:\n",
    "    sys.path.append(\"../\")\n",
    "\n",
    "# importing course-specific modules\n",
    "import autograder\n",
    "import utils"
   ]
  },
  {
   "cell_type": "markdown",
   "metadata": {
    "colab_type": "text",
    "id": "1o1BANRBep-E"
   },
   "source": [
    "### Automated Feedback"
   ]
  },
  {
   "cell_type": "markdown",
   "metadata": {
    "colab_type": "text",
    "id": "qOZ6bEO5pvdp"
   },
   "source": [
    "This cell sets up an automatic feedback system, or \"autograder\",\n",
    "and (anonymously) reports your progress to the\n",
    "[Weights & Biases](http://wandb.com/)\n",
    "project page that appears in the output."
   ]
  },
  {
   "cell_type": "code",
   "execution_count": null,
   "metadata": {
    "colab": {},
    "colab_type": "code",
    "id": "PfrciZac2HBk"
   },
   "outputs": [],
   "source": [
    "try:\n",
    "    grader\n",
    "except NameError:\n",
    "    grader = autograder.WandbTrackedOK(\n",
    "        \"wandb\", \"utils/config\", \"linearalgebra\", \"utils/wandb\")"
   ]
  },
  {
   "cell_type": "markdown",
   "metadata": {
    "colab_type": "text",
    "id": "G1HeCVWFWXNu"
   },
   "source": [
    "Throughout this notebook, you will see cells like the one below.\n",
    "\n",
    "They immediately follow exercises and will run some tests to check\n",
    "whether your solutions are correct.\n",
    "They are included because quick, specific feedback has been\n",
    "[shown to improve learning](https://files.eric.ed.gov/fulltext/EJ786608.pdf).\n",
    "\n",
    "Run the cell below to see an example of the grader output\n",
    "for an incorrect question.\n",
    "The output will include some setup code,\n",
    "then a series of tests and, towards the bottom, the lines\n",
    "```\n",
    "# Error: expected\n",
    "# x\n",
    "# but got\n",
    "# y\n",
    "```\n",
    "where `x` is the output the autograder expected,\n",
    "and the lines `y` following show what was produced by your code.\n",
    "\n",
    "This particular test is failing because the `dimensions` variable is not defined.\n",
    "Try defining `dimensions = []` and `dimensions = {}`\n",
    "and see how the output changes.\n",
    "You'll see how to correctly answer this question in the following section.\n"
   ]
  },
  {
   "cell_type": "code",
   "execution_count": null,
   "metadata": {
    "colab": {
     "base_uri": "https://localhost:8080/",
     "height": 663
    },
    "colab_type": "code",
    "id": "iqlc51lX1uwC",
    "outputId": "f1a314f3-b21c-4fc8-e19b-ea1e8b747964"
   },
   "outputs": [],
   "source": [
    "grader.grade(\"q01\")"
   ]
  },
  {
   "cell_type": "markdown",
   "metadata": {
    "colab_type": "text",
    "id": "qOvkwqdHHKQ2"
   },
   "source": [
    "# Section 1. Programming with Arrays: Shapes, Dimensions, and Composition"
   ]
  },
  {
   "cell_type": "markdown",
   "metadata": {
    "colab_type": "text",
    "id": "eBYIeXLWualG"
   },
   "source": [
    "This section includes a series of exercises on working with linear algebra in Python.\n",
    "\n",
    "See [this 20 min talk](https://www.youtube.com/watch?v=F3lG9_SxCXk),\n",
    "\"Linear Algebra is Not Like Algebra\",\n",
    "for an introduction to the approach taken in this section."
   ]
  },
  {
   "cell_type": "markdown",
   "metadata": {
    "colab_type": "text",
    "id": "cbqP4KXFcXyU"
   },
   "source": [
    "## Shapes and Dimensions"
   ]
  },
  {
   "cell_type": "markdown",
   "metadata": {
    "colab_type": "text",
    "id": "XHwmdRqD7v9C"
   },
   "source": [
    "_Note_: The primary library for working with arrays in Python is `numpy`,\n",
    "which is typically `import`ed `as np` (see above).\n",
    "This notebook is not a full introduction to `numpy`.\n",
    "If you'd like a more in-depth tutorial,\n",
    "check out\n",
    "[this online tutorial](https://cs231n.github.io/python-numpy-tutorial/)\n",
    "from a Stanford course on neural networks.\n",
    "\n",
    "The cell below creates four arrays, then prints them out.\n",
    "\n",
    "After reviewing the code and the printed arrays,\n",
    "store the _dimensions_ of these arrays in a dictionary\n",
    "called `dimensions`.\n",
    "Use the variable names as keys.\n",
    "Then execute the cell with `grader.grade` to check your answer.\n",
    "\n",
    "This is an exercise.\n",
    "Exercises in this notebook will be indicated with the format below:\n",
    "\n",
    "#### Store the dimensions of these arrays in a dictionary called `dimensions`.\n",
    "\n",
    "Remember that you can add new cells to this notebook,\n",
    "where you can write additional code.\n",
    "This is particularly helpful when you get stuck."
   ]
  },
  {
   "cell_type": "code",
   "execution_count": null,
   "metadata": {
    "colab": {},
    "colab_type": "code",
    "id": "fcUS8_AV7w3a"
   },
   "outputs": [],
   "source": [
    "A = np.array([1])\n",
    "B = np.array([[1, 2]])\n",
    "C = np.array([[1, 0], [0, 1]])\n",
    "D = np.array([[3], [2]])"
   ]
  },
  {
   "cell_type": "code",
   "execution_count": null,
   "metadata": {
    "colab": {
     "base_uri": "https://localhost:8080/",
     "height": 119
    },
    "colab_type": "code",
    "id": "KyQcljVn8Fwz",
    "outputId": "75b121fc-c7c2-40d0-93b5-2998a4221809"
   },
   "outputs": [],
   "source": [
    "print(A, \"\\n\"), print(B, \"\\n\"), print(C, \"\\n\"), print(D);"
   ]
  },
  {
   "cell_type": "code",
   "execution_count": null,
   "metadata": {
    "colab": {},
    "colab_type": "code",
    "id": "R1iY2vOj7_wj"
   },
   "outputs": [],
   "source": [
    "dimensions = {}"
   ]
  },
  {
   "cell_type": "code",
   "execution_count": null,
   "metadata": {
    "colab": {
     "base_uri": "https://localhost:8080/",
     "height": 663
    },
    "colab_type": "code",
    "id": "EQfzesJH8RDe",
    "outputId": "ab014b62-897e-4883-e19d-0d9be641d3cf"
   },
   "outputs": [],
   "source": [
    "grader.grade(\"q01\")"
   ]
  },
  {
   "cell_type": "markdown",
   "metadata": {
    "colab_type": "text",
    "id": "b5ZrMzCOvHA5"
   },
   "source": [
    "#### Now, do the same with the _shapes_ of the arrays in a dictionary called `shapes`.\n",
    "\n",
    "The shape of an array is an ordered collection of the number of entries in each dimension.\n",
    "\n",
    "_Note_: shapes are usually represented with tuples in Python: e.g. `(x, y, z)`\n",
    "for an array of three dimensions."
   ]
  },
  {
   "cell_type": "code",
   "execution_count": null,
   "metadata": {
    "colab": {},
    "colab_type": "code",
    "id": "-pgtWZnT8Zzk"
   },
   "outputs": [],
   "source": [
    "shapes = {}"
   ]
  },
  {
   "cell_type": "code",
   "execution_count": null,
   "metadata": {
    "colab": {},
    "colab_type": "code",
    "id": "dqYpS3a189kT"
   },
   "outputs": [],
   "source": [
    "grader.grade(\"q02\")"
   ]
  },
  {
   "cell_type": "markdown",
   "metadata": {
    "colab_type": "text",
    "id": "NXhW-Ge2u11n"
   },
   "source": [
    "Heads up:\n",
    "if you want to know the dimension and shape of an array,\n",
    "use the `.ndim` and `.shape` attributes.\n",
    "Very handy to put in `print`s or `assert`s while debugging!"
   ]
  },
  {
   "cell_type": "code",
   "execution_count": null,
   "metadata": {
    "colab": {},
    "colab_type": "code",
    "id": "kK6JOk9N8MXS"
   },
   "outputs": [],
   "source": [
    "A.ndim, B.ndim, C.ndim, D.ndim"
   ]
  },
  {
   "cell_type": "code",
   "execution_count": null,
   "metadata": {
    "colab": {},
    "colab_type": "code",
    "id": "UpCi_eQT8gt8"
   },
   "outputs": [],
   "source": [
    "A.shape, B.shape, C.shape, D.shape"
   ]
  },
  {
   "cell_type": "markdown",
   "metadata": {
    "colab_type": "text",
    "id": "nRTdEBjqvybL"
   },
   "source": [
    "The _transpose_ is a common matrix operation.\n",
    "It's so common, it gets represented as an attribute _and_\n",
    "as a single-letter to boot!\n",
    "\n",
    "The transpose of a matrix `M` is written in `numpy` as `M.T`.\n",
    "\n",
    "The cell below prints the transposes of three of the matrices above."
   ]
  },
  {
   "cell_type": "code",
   "execution_count": null,
   "metadata": {
    "colab": {},
    "colab_type": "code",
    "id": "yFtVyBUw8-d2"
   },
   "outputs": [],
   "source": [
    "print(B.T), print(C.T), print(D.T);"
   ]
  },
  {
   "cell_type": "markdown",
   "metadata": {
    "colab_type": "text",
    "id": "nRTdEBjqvybL"
   },
   "source": [
    "#### Q Can you describe, in your own words, what the transpose does?\n",
    "\n",
    "_Note_: this is an \"in-line\" question.\n",
    "These discussion-style questions will be inter-mingled with coding exercises,\n",
    "but they do not have any attached automatic grading, for obvious reasons."
   ]
  },
  {
   "cell_type": "markdown",
   "metadata": {
    "colab_type": "text",
    "id": "iNBzmLANwcg5"
   },
   "source": [
    "Transposition is closely related to matrix shape.\n",
    "\n",
    "#### Define a function, `shape_of_transpose`, that takes in a `matrix` and returns the shape of the transpose of the matrix.\n",
    "\n",
    "Try doing this two ways: with and without transposing `matrix` inside the body of the function.\n",
    "\n",
    "Then, execute the `grader.grade` cell to check your answer."
   ]
  },
  {
   "cell_type": "code",
   "execution_count": null,
   "metadata": {
    "colab": {},
    "colab_type": "code",
    "id": "tFRGECsywLRj"
   },
   "outputs": [],
   "source": [
    "# define the function here"
   ]
  },
  {
   "cell_type": "code",
   "execution_count": null,
   "metadata": {
    "colab": {},
    "colab_type": "code",
    "id": "IUeIApHh9A-U"
   },
   "outputs": [],
   "source": [
    "grader.grade(\"q03\")"
   ]
  },
  {
   "cell_type": "markdown",
   "metadata": {
    "colab_type": "text",
    "id": "zoMQZ1BWwekZ"
   },
   "source": [
    "Fun fact: the transpose is also a linear operation,\n",
    "and so can be represented by a tensor!\n",
    "That fact is not useful for implementations of transposition,\n",
    "but it is incredibly useful for linear algebra."
   ]
  },
  {
   "cell_type": "markdown",
   "metadata": {
    "colab_type": "text",
    "id": "FoSQY_IGyyh7"
   },
   "source": [
    "## Composition and Decomposition"
   ]
  },
  {
   "cell_type": "markdown",
   "metadata": {
    "colab_type": "text",
    "id": "dG-0ZLv-A-EK"
   },
   "source": [
    "You're looking through a fellow developer's code and notice that in\n",
    "`their_pipeline`, which appears below,\n",
    "a large amount of data is being passed through four successive matrix operations: in order, the data vectors are multiplied by `W`, then `X`, then `Y`, and finally by `Z`.\n",
    "\n",
    "For simplicity's sake, you want to collapse these four multiplications\n",
    "into one operation, call it `V`.\n",
    "\n",
    "#### Use `np.matmul` to define `V`.\n",
    "\n",
    "_Note_: the `@` symbol can be used, in later versions of Python 3,\n",
    "to represent `np.matmul` just like `*` represents multiplication."
   ]
  },
  {
   "cell_type": "code",
   "execution_count": null,
   "metadata": {
    "colab": {},
    "colab_type": "code",
    "id": "O64lKhHVAPfv"
   },
   "outputs": [],
   "source": [
    "W = np.array([[1, 2], [-1, 1]])\n",
    "X = np.array([[1/10, 1/5], [1/4, 1]])\n",
    "Y = np.array([[3, 1], [0.1, 0]])\n",
    "Z = np.array([[1, 0], [0, 1]])"
   ]
  },
  {
   "cell_type": "code",
   "execution_count": null,
   "metadata": {
    "colab": {},
    "colab_type": "code",
    "id": "UWCXh9W7zIqy"
   },
   "outputs": [],
   "source": [
    "def their_pipeline(v):\n",
    "    after_W = np.matmul(W, v)\n",
    "    after_X = np.matmul(X, after_W)\n",
    "    after_Y = Y @ after_X\n",
    "    after_Z = Z @ after_Y\n",
    "    return after_Z"
   ]
  },
  {
   "cell_type": "code",
   "execution_count": null,
   "metadata": {
    "colab": {},
    "colab_type": "code",
    "id": "6yIcpYfrzTuI"
   },
   "outputs": [],
   "source": [
    "# define V here"
   ]
  },
  {
   "cell_type": "markdown",
   "metadata": {
    "colab_type": "text",
    "id": "dG-0ZLv-A-EK"
   },
   "source": [
    "Run the `grader.grade` cell to check your answer."
   ]
  },
  {
   "cell_type": "code",
   "execution_count": null,
   "metadata": {
    "colab": {},
    "colab_type": "code",
    "id": "XtaQdiPh9DTc"
   },
   "outputs": [],
   "source": [
    "grader.grade(\"q04\")"
   ]
  }
 ],
 "metadata": {
  "colab": {
   "collapsed_sections": [
    "qOvkwqdHHKQ2",
    "K4j53wEQC0zr",
    "K9_uzirotQfB",
    "SHT_SNmveatz",
    "uyNkycl7i5BG",
    "a91oDtxhHgfk",
    "5TGAGS-PQo58",
    "bQvtXRy4ikzd",
    "G8tj7fcAU0d3",
    "LvLeej95irfN",
    "Esyf8eKJLd3n",
    "uOkWFWvwXSvQ",
    "G91rcKr8a9TJ",
    "BUH035ymisyY",
    "m_3uZoUqwMiE",
    "5Y62sVtpv7f0",
    "o6XqzwF6wZ_T"
   ],
   "name": "Colab - Math4ML I: Linear Algebra",
   "provenance": []
  },
  "kernelspec": {
   "display_name": "Python 3",
   "language": "python",
   "name": "python3"
  },
  "language_info": {
   "codemirror_mode": {
    "name": "ipython",
    "version": 3
   },
   "file_extension": ".py",
   "mimetype": "text/x-python",
   "name": "python",
   "nbconvert_exporter": "python",
   "pygments_lexer": "ipython3",
   "version": "3.7.3"
  }
 },
 "nbformat": 4,
 "nbformat_minor": 4
}
